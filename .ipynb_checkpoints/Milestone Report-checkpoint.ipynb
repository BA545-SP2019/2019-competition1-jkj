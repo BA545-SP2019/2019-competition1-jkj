{
 "cells": [
  {
   "cell_type": "markdown",
   "metadata": {},
   "source": [
    "## Team JKJ - Competition #1 Methodlogy\n",
    "*Juliana Hoffmann, Kendall Stopa & Jonathan Uy*\n",
    "\n",
    "While each person was assigned a section to work on the project, we equally worked on each section in an effort to better understand the data as a whole.\n",
    "\n",
    "Also, as a note, we need to still include our comments about the data within our notebooks and want to clean up our data a little further before end of competition."
   ]
  },
  {
   "cell_type": "markdown",
   "metadata": {},
   "source": [
    "**1. Descriptive Statistics** - Jonathan\n",
    "\n",
    "**2. Imputation** - Jonathan\n",
    "\n",
    "Done together once in the Notebook [Descriptive Statsitcs & Imputation](https://ba-lab.fairfield.edu/user/jhoffmann/lab/tree/2019-competition1-jkj/Descriptive%20and%20Impute.ipynb). This DataFrame was saved into the CSV filed titled [WorkingDataFrame](https://ba-lab.fairfield.edu/user/jhoffmann/lab/tree/2019-competition1-jkj/WorkingDataFrame).\n",
    "We mostly used the median to impute with the exception of the binary variable, C2 where we used the mode. We also created the new columns - Y1, Y2, C3', C4' and C6'.\n",
    "\n",
    "We have not imputed our data another way for now."
   ]
  },
  {
   "cell_type": "markdown",
   "metadata": {},
   "source": [
    "**3. Normalization** - Juliana \n",
    "\n",
    "We have done normalization two ways:\n",
    "\n",
    "First, [Normalization before Standardization](https://ba-lab.fairfield.edu/user/jhoffmann/lab/tree/2019-competition1-jkj/Normalization.ipynb) where the imputated data was put right into the function we defined. Here, the DataFrame was saved into the CSV file titled [NormDF](https://ba-lab.fairfield.edu/user/jhoffmann/lab/tree/2019-competition1-jkj/NormDF). \n",
    "\n",
    "Here, we transformed the T1-T5 and S1-S3 into ratios instead of numbers to better work with these variables for the model as noted in the class hints. \n",
    "\n",
    "Second, we tried [Normalization after Standardization](https://ba-lab.fairfield.edu/user/jhoffmann/lab/tree/2019-competition1-jkj/Normalization%20after%20Standardization.ipynb) where the imputated data was standardization before being normalized. Here, the DataFrame was saved into the CSV file titled [NormDF2](https://ba-lab.fairfield.edu/user/jhoffmann/lab/tree/2019-competition1-jkj/NormDF2). We ended up hiding this since it did not give us any observable differences."
   ]
  },
  {
   "cell_type": "markdown",
   "metadata": {},
   "source": [
    "**4. Correlation** - Kendall\n",
    "\n",
    "Right now, we have run 3 correlations - 1 with the imputed data, 1 with the imputed and normalzied data then a third with the imputed, normalized and standardized data. \n",
    "There was no difference between the three correlations. \n",
    "\n",
    "[Correlation with Imputed Values](https://ba-lab.fairfield.edu/user/jhoffmann/lab/tree/2019-competition1-jkj/Correlation%20Analysis%20-%20Imputed-KS.ipynb)\n",
    "\n",
    "[Correlation with Imputed, Normalized Values](https://ba-lab.fairfield.edu/user/jhoffmann/lab/tree/2019-competition1-jkj/Correlation%20Analysis%20-%20Normalization.ipynb)\n",
    "\n",
    "[Correlation with Imputed, Normalized, Standardized Values](https://ba-lab.fairfield.edu/user/jhoffmann/lab/tree/2019-competition1-jkj/Correlation%20Analysis%20-%20Standardizaton.ipynb)"
   ]
  },
  {
   "cell_type": "markdown",
   "metadata": {},
   "source": [
    "**5. Standardization** - Juliana\n",
    "\n",
    "We have done standardiztation two different ways as implied through our Normalization section. \n",
    "\n",
    "First [Standardization](https://ba-lab.fairfield.edu/user/jhoffmann/lab/tree/2019-competition1-jkj/Standardization.ipynb) where the normalized data was put right into the Standardization function from preprocessing from sklearn. Here, the DataFrame was saved into the CSV filed titled [StandDF](https://ba-lab.fairfield.edu/user/jhoffmann/lab/tree/2019-competition1-jkj/StandDF). \n",
    "\n",
    "Second, we tried [Standardization before Normalization](https://ba-lab.fairfield.edu/user/jhoffmann/lab/tree/2019-competition1-jkj/Standardization%20before%20Norm.ipynb) where the imputatd data was standardized before being normalized. Here the DataFrame was saved into the CSV filed titled [StandDF2](https://ba-lab.fairfield.edu/user/jhoffmann/lab/tree/2019-competition1-jkj/StandDF2). We ended up hiding this since it did not give us any observable differences.\n",
    "\n",
    "Here, when we re-plotted the columns using histograms and altered the range of the data from [-2,2], we observed that the central tendancy of the data was solved. For now, we are still trying to determine how to handle the outliers in our dataset once the data is now Normalized and Standardized."
   ]
  },
  {
   "cell_type": "markdown",
   "metadata": {},
   "source": [
    "**6. Recoding** - Kendall \n",
    "\n",
    "*This is in progress*"
   ]
  },
  {
   "cell_type": "markdown",
   "metadata": {},
   "source": [
    "**Questions moving Forward**"
   ]
  },
  {
   "cell_type": "markdown",
   "metadata": {},
   "source": [
    "**7. Extra Credit** - All working together\n",
    "\n",
    "*Starting soon*"
   ]
  },
  {
   "cell_type": "markdown",
   "metadata": {},
   "source": [
    "1. How to Handle outliers in data that make data not normalized \n",
    "2. Correlation - Which variables to drop? \n",
    "3. ID Variables - Do we drop the 8 missing OR do we find them online? How should we handle the fields with multi-identifiers? Should the variables be binned or grouped by type in order to eliminate the features - Maybe use a mean for each group? \n",
    "4. Recoding - Is recoding even necessary?\n",
    "5. Do new ratio variables allow the original variables to be dropped. "
   ]
  },
  {
   "cell_type": "code",
   "execution_count": null,
   "metadata": {},
   "outputs": [],
   "source": []
  }
 ],
 "metadata": {
  "kernelspec": {
   "display_name": "Python 3",
   "language": "python",
   "name": "python3"
  },
  "language_info": {
   "codemirror_mode": {
    "name": "ipython",
    "version": 3
   },
   "file_extension": ".py",
   "mimetype": "text/x-python",
   "name": "python",
   "nbconvert_exporter": "python",
   "pygments_lexer": "ipython3",
   "version": "3.6.5"
  }
 },
 "nbformat": 4,
 "nbformat_minor": 2
}
