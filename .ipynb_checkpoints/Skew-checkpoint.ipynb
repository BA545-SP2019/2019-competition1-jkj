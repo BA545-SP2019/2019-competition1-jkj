{
 "cells": [
  {
   "cell_type": "code",
   "execution_count": 1,
   "metadata": {},
   "outputs": [],
   "source": [
    "# Fixing Skewness BEFORE Outlier Handling & Skewness"
   ]
  },
  {
   "cell_type": "code",
   "execution_count": 2,
   "metadata": {},
   "outputs": [],
   "source": [
    "import numpy as np \n",
    "import pandas as pd\n",
    "import matplotlib.pyplot as plt\n",
    "from sklearn import preprocessing\n",
    "import math"
   ]
  },
  {
   "cell_type": "code",
   "execution_count": 3,
   "metadata": {},
   "outputs": [],
   "source": [
    "# Uploading imputed data to df from CSV WorkingDataFrame\n",
    "df = pd.read_csv('WorkingDataFrame', index_col=0)"
   ]
  },
  {
   "cell_type": "code",
   "execution_count": 4,
   "metadata": {},
   "outputs": [
    {
     "data": {
      "text/plain": [
       "I3          0.230978\n",
       "P(IPO)      3.403623\n",
       "P(H)        9.285471\n",
       "P(L)        7.162031\n",
       "P(1Day)    12.522598\n",
       "C1          5.747573\n",
       "C2         -2.123926\n",
       "C3         21.158769\n",
       "C4         -0.491134\n",
       "C5         13.659056\n",
       "C6         12.613291\n",
       "C7         12.348960\n",
       "T1          1.740888\n",
       "T2          1.640243\n",
       "T3          1.617719\n",
       "T4          1.420602\n",
       "T5         12.772389\n",
       "S1          2.312775\n",
       "S2          3.737864\n",
       "S3          3.440281\n",
       "Y1         -0.052921\n",
       "Y2         -0.894757\n",
       "C3'        -0.117764\n",
       "C5'        10.648354\n",
       "P(mid)      8.292727\n",
       "C6'         4.396060\n",
       "dtype: float64"
      ]
     },
     "execution_count": 4,
     "metadata": {},
     "output_type": "execute_result"
    }
   ],
   "source": [
    "# Checking Skew of DataFrame\n",
    "df.skew()\n",
    "\n",
    "# Ignoring I3, since it is a categorical variable, \n",
    "# Not going to skew C2 because it is a binary variable,\n",
    "# C4, Y1, Y2 are already skewed properly, \n",
    "# Ignoring P(mid) since it was only used for calculation purposes "
   ]
  },
  {
   "cell_type": "code",
   "execution_count": 5,
   "metadata": {},
   "outputs": [
    {
     "data": {
      "text/plain": [
       "(array([ 12.,  12.,  73., 127., 238., 192.,  20.,   5.,   2.,   1.]),\n",
       " array([0.47712125, 0.62235102, 0.76758079, 0.91281056, 1.05804032,\n",
       "        1.20327009, 1.34849986, 1.49372962, 1.63895939, 1.78418916,\n",
       "        1.92941893]),\n",
       " <a list of 10 Patch objects>)"
      ]
     },
     "execution_count": 5,
     "metadata": {},
     "output_type": "execute_result"
    },
    {
     "data": {
      "image/png": "[encoded data removed]",
      "text/plain": [
       "<Figure size 432x288 with 1 Axes>"
      ]
     },
     "metadata": {},
     "output_type": "display_data"
    }
   ],
   "source": [
    "# Fixing Positive Skew of P(IPO)\n",
    "df['P(IPO)'] = np.log10(df['P(IPO)'])\n",
    "plt.hist(df['P(IPO)'])"
   ]
  },
  {
   "cell_type": "code",
   "execution_count": 6,
   "metadata": {},
   "outputs": [
    {
     "data": {
      "text/plain": [
       "(array([  1.,   0.,   1.,  31., 431., 209.,   8.,   0.,   0.,   1.]),\n",
       " array([0.        , 0.51299278, 1.02598557, 1.53897835, 2.05197114,\n",
       "        2.56496392, 3.0779567 , 3.59094949, 4.10394227, 4.61693506,\n",
       "        5.12992784]),\n",
       " <a list of 10 Patch objects>)"
      ]
     },
     "execution_count": 6,
     "metadata": {},
     "output_type": "execute_result"
    },
    {
     "data": {
      "image/png": "[encoded data removed]",
      "text/plain": [
       "<Figure size 432x288 with 1 Axes>"
      ]
     },
     "metadata": {},
     "output_type": "display_data"
    }
   ],
   "source": [
    "df['P(H)'] = np.cbrt(df['P(H)'])\n",
    "plt.hist(df['P(H)'])"
   ]
  },
  {
   "cell_type": "code",
   "execution_count": 7,
   "metadata": {},
   "outputs": [
    {
     "data": {
      "text/plain": [
       "(array([  6.,  20.,  50., 209., 335.,  51.,   5.,   5.,   0.,   1.]),\n",
       " array([0.47712125, 0.6327515 , 0.78838175, 0.944012  , 1.09964226,\n",
       "        1.25527251, 1.41090276, 1.56653301, 1.72216326, 1.87779351,\n",
       "        2.03342376]),\n",
       " <a list of 10 Patch objects>)"
      ]
     },
     "execution_count": 7,
     "metadata": {},
     "output_type": "execute_result"
    },
    {
     "data": {
      "image/png": "[encoded data removed]",
      "text/plain": [
       "<Figure size 432x288 with 1 Axes>"
      ]
     },
     "metadata": {},
     "output_type": "display_data"
    }
   ],
   "source": [
    "# Fixing Positive Skew of P(L)\n",
    "df['P(L)'] = np.log10(df['P(L)'])\n",
    "plt.hist(df['P(L)'])"
   ]
  },
  {
   "cell_type": "code",
   "execution_count": 8,
   "metadata": {},
   "outputs": [
    {
     "data": {
      "text/plain": [
       "(array([  4.,   0.,   1.,   9., 444., 188.,  23.,   8.,   3.,   2.]),\n",
       " array([0.        , 0.3241105 , 0.64822099, 0.97233149, 1.29644199,\n",
       "        1.62055249, 1.94466298, 2.26877348, 2.59288398, 2.91699448,\n",
       "        3.24110497]),\n",
       " <a list of 10 Patch objects>)"
      ]
     },
     "execution_count": 8,
     "metadata": {},
     "output_type": "execute_result"
    },
    {
     "data": {
      "image/png": "[encoded data removed]",
      "text/plain": [
       "<Figure size 432x288 with 1 Axes>"
      ]
     },
     "metadata": {},
     "output_type": "display_data"
    }
   ],
   "source": [
    "# Fixing Positive Skew of P(1Day)\n",
    "df['P(1Day)'] = np.sqrt(np.cbrt(df['P(1Day)']))\n",
    "plt.hist(df['P(1Day)'])"
   ]
  },
  {
   "cell_type": "code",
   "execution_count": 9,
   "metadata": {},
   "outputs": [
    {
     "data": {
      "text/plain": [
       "(array([ 11.,   9.,  22., 121., 327., 120.,  40.,  25.,   4.,   3.]),\n",
       " array([1.        , 1.23195224, 1.46390449, 1.69585673, 1.92780898,\n",
       "        2.15976122, 2.39171347, 2.62366571, 2.85561796, 3.0875702 ,\n",
       "        3.31952245]),\n",
       " <a list of 10 Patch objects>)"
      ]
     },
     "execution_count": 9,
     "metadata": {},
     "output_type": "execute_result"
    },
    {
     "data": {
      "image/png": "[encoded data removed]",
      "text/plain": [
       "<Figure size 432x288 with 1 Axes>"
      ]
     },
     "metadata": {},
     "output_type": "display_data"
    }
   ],
   "source": [
    "# Fixing Positive Skew of C1\n",
    "df['C1'] = np.log10(df['C1'])\n",
    "plt.hist(df['C1'])"
   ]
  },
  {
   "cell_type": "code",
   "execution_count": 10,
   "metadata": {},
   "outputs": [
    {
     "data": {
      "text/plain": [
       "(array([  4.,   7.,  49., 447., 165.,   8.,   0.,   1.,   0.,   1.]),\n",
       " array([-9.2296421 , -6.73740754, -4.24517297, -1.75293841,  0.73929616,\n",
       "         3.23153072,  5.72376529,  8.21599985, 10.70823442, 13.20046898,\n",
       "        15.69270355]),\n",
       " <a list of 10 Patch objects>)"
      ]
     },
     "execution_count": 10,
     "metadata": {},
     "output_type": "execute_result"
    },
    {
     "data": {
      "image/png": "[encoded data removed]",
      "text/plain": [
       "<Figure size 432x288 with 1 Axes>"
      ]
     },
     "metadata": {},
     "output_type": "display_data"
    }
   ],
   "source": [
    "# Fixing Positive Skew of C3\n",
    "df['C3'] = np.cbrt(df['C3'])\n",
    "# Leaving as Moderatly Skewed \n",
    "plt.hist(df['C3'])"
   ]
  },
  {
   "cell_type": "code",
   "execution_count": 11,
   "metadata": {},
   "outputs": [
    {
     "data": {
      "text/plain": [
       "(array([ 11.,  43., 169., 233., 135.,  58.,  21.,   9.,   2.,   1.]),\n",
       " array([1.87268453, 1.89593651, 1.9191885 , 1.94244049, 1.96569247,\n",
       "        1.98894446, 2.01219645, 2.03544844, 2.05870042, 2.08195241,\n",
       "        2.1052044 ]),\n",
       " <a list of 10 Patch objects>)"
      ]
     },
     "execution_count": 11,
     "metadata": {},
     "output_type": "execute_result"
    },
    {
     "data": {
      "image/png": "[encoded data removed]",
      "text/plain": [
       "<Figure size 432x288 with 1 Axes>"
      ]
     },
     "metadata": {},
     "output_type": "display_data"
    }
   ],
   "source": [
    "# Fixing Positive Skew of C5\n",
    "df['C5'] = np.cbrt(np.log10(df['C5']))\n",
    "# Leaving as Moderatly Skewed \n",
    "plt.hist(df['C5'])"
   ]
  },
  {
   "cell_type": "code",
   "execution_count": 12,
   "metadata": {},
   "outputs": [
    {
     "data": {
      "text/plain": [
       "(array([  5.,   5.,  37., 209., 253., 104.,  50.,  15.,   2.,   2.]),\n",
       " array([1.78841941, 1.81465198, 1.84088456, 1.86711713, 1.89334971,\n",
       "        1.91958228, 1.94581486, 1.97204743, 1.99828001, 2.02451259,\n",
       "        2.05074516]),\n",
       " <a list of 10 Patch objects>)"
      ]
     },
     "execution_count": 12,
     "metadata": {},
     "output_type": "execute_result"
    },
    {
     "data": {
      "image/png": "[encoded data removed]",
      "text/plain": [
       "<Figure size 432x288 with 1 Axes>"
      ]
     },
     "metadata": {},
     "output_type": "display_data"
    }
   ],
   "source": [
    "# Fixing Positive Skew of C6\n",
    "df['C6'] = np.cbrt(np.log10(df['C6']))\n",
    "plt.hist(df['C6'])"
   ]
  },
  {
   "cell_type": "code",
   "execution_count": 13,
   "metadata": {},
   "outputs": [
    {
     "data": {
      "text/plain": [
       "(array([  6.,  12.,  22.,  36., 111., 258., 144.,  65.,  24.,   4.]),\n",
       " array([-1.13076828, -0.56900167, -0.00723506,  0.55453155,  1.11629816,\n",
       "         1.67806477,  2.23983138,  2.80159799,  3.3633646 ,  3.92513121,\n",
       "         4.48689782]),\n",
       " <a list of 10 Patch objects>)"
      ]
     },
     "execution_count": 13,
     "metadata": {},
     "output_type": "execute_result"
    },
    {
     "data": {
      "image/png": "[encoded data removed]",
      "text/plain": [
       "<Figure size 432x288 with 1 Axes>"
      ]
     },
     "metadata": {},
     "output_type": "display_data"
    }
   ],
   "source": [
    "# Fixing Positive Skew of C7\n",
    "df['C7'] = np.log10(df['C7'])\n",
    "# Leaving as Moderatly Skewed \n",
    "plt.hist(df['C7'])"
   ]
  },
  {
   "cell_type": "code",
   "execution_count": 14,
   "metadata": {},
   "outputs": [
    {
     "data": {
      "text/plain": [
       "(array([ 13.,  54., 130., 215., 177.,  67.,  17.,   4.,   3.,   2.]),\n",
       " array([ 5.09164337,  5.78755016,  6.48345696,  7.17936376,  7.87527055,\n",
       "         8.57117735,  9.26708414,  9.96299094, 10.65889773, 11.35480453,\n",
       "        12.05071132]),\n",
       " <a list of 10 Patch objects>)"
      ]
     },
     "execution_count": 14,
     "metadata": {},
     "output_type": "execute_result"
    },
    {
     "data": {
      "image/png": "[encoded data removed]",
      "text/plain": [
       "<Figure size 432x288 with 1 Axes>"
      ]
     },
     "metadata": {},
     "output_type": "display_data"
    }
   ],
   "source": [
    "# Fixing Positive Skew of T1\n",
    "df['T1'] = np.cbrt(df['T1'])\n",
    "plt.hist(df['T1'])"
   ]
  },
  {
   "cell_type": "code",
   "execution_count": 15,
   "metadata": {},
   "outputs": [
    {
     "data": {
      "text/plain": [
       "(array([  2.,   1.,   9.,  90., 251., 230.,  78.,  16.,   2.,   3.]),\n",
       " array([  0.        ,  22.14858912,  44.29717824,  66.44576736,\n",
       "         88.59435648, 110.7429456 , 132.89153472, 155.04012384,\n",
       "        177.18871296, 199.33730208, 221.4858912 ]),\n",
       " <a list of 10 Patch objects>)"
      ]
     },
     "execution_count": 15,
     "metadata": {},
     "output_type": "execute_result"
    },
    {
     "data": {
      "image/png": "[encoded data removed]",
      "text/plain": [
       "<Figure size 432x288 with 1 Axes>"
      ]
     },
     "metadata": {},
     "output_type": "display_data"
    }
   ],
   "source": [
    "# Fixing Positive Skew of T1\n",
    "df['T2'] = np.sqrt(df['T2'])\n",
    "plt.hist(df['T2'])"
   ]
  },
  {
   "cell_type": "code",
   "execution_count": 16,
   "metadata": {},
   "outputs": [
    {
     "data": {
      "text/plain": [
       "(array([  3.,   0.,   8.,  92., 252., 232.,  75.,  15.,   2.,   3.]),\n",
       " array([  0.        ,  20.96473229,  41.92946458,  62.89419687,\n",
       "         83.85892916, 104.82366145, 125.78839374, 146.75312603,\n",
       "        167.71785832, 188.68259061, 209.6473229 ]),\n",
       " <a list of 10 Patch objects>)"
      ]
     },
     "execution_count": 16,
     "metadata": {},
     "output_type": "execute_result"
    },
    {
     "data": {
      "image/png": "[encoded data removed]",
      "text/plain": [
       "<Figure size 432x288 with 1 Axes>"
      ]
     },
     "metadata": {},
     "output_type": "display_data"
    }
   ],
   "source": [
    "# Fixing Positive Skew of T3\n",
    "df['T3'] = np.sqrt(df['T3'])\n",
    "plt.hist(df['T3'])"
   ]
  },
  {
   "cell_type": "code",
   "execution_count": 17,
   "metadata": {},
   "outputs": [
    {
     "data": {
      "text/plain": [
       "(array([  2.,   0.,   6.,  74., 217., 259.,  95.,  22.,   4.,   3.]),\n",
       " array([ 0.        ,  3.25269119,  6.50538239,  9.75807358, 13.01076477,\n",
       "        16.26345597, 19.51614716, 22.76883835, 26.02152955, 29.27422074,\n",
       "        32.52691193]),\n",
       " <a list of 10 Patch objects>)"
      ]
     },
     "execution_count": 17,
     "metadata": {},
     "output_type": "execute_result"
    },
    {
     "data": {
      "image/png": "[encoded data removed]",
      "text/plain": [
       "<Figure size 432x288 with 1 Axes>"
      ]
     },
     "metadata": {},
     "output_type": "display_data"
    }
   ],
   "source": [
    "# Fixing Positive Skew of T4\n",
    "df['T4'] = np.sqrt(df['T4'])\n",
    "plt.hist(df['T4'])"
   ]
  },
  {
   "cell_type": "code",
   "execution_count": 18,
   "metadata": {},
   "outputs": [
    {
     "name": "stderr",
     "output_type": "stream",
     "text": [
      "/opt/tljh/user/lib/python3.6/site-packages/ipykernel_launcher.py:2: RuntimeWarning: invalid value encountered in log10\n",
      "  \n",
      "/opt/tljh/user/lib/python3.6/site-packages/numpy/lib/function_base.py:780: RuntimeWarning: invalid value encountered in greater_equal\n",
      "  keep = (tmp_a >= first_edge)\n",
      "/opt/tljh/user/lib/python3.6/site-packages/numpy/lib/function_base.py:781: RuntimeWarning: invalid value encountered in less_equal\n",
      "  keep &= (tmp_a <= last_edge)\n"
     ]
    },
    {
     "data": {
      "text/plain": [
       "(array([ 10.,  78., 196., 267., 111.,  14.,   4.,   0.,   0.,   1.]),\n",
       " array([2.22271647, 2.40163146, 2.58054645, 2.75946144, 2.93837643,\n",
       "        3.11729141, 3.2962064 , 3.47512139, 3.65403638, 3.83295137,\n",
       "        4.01186636]),\n",
       " <a list of 10 Patch objects>)"
      ]
     },
     "execution_count": 18,
     "metadata": {},
     "output_type": "execute_result"
    },
    {
     "data": {
      "image/png": "[encoded data removed]",
      "text/plain": [
       "<Figure size 432x288 with 1 Axes>"
      ]
     },
     "metadata": {},
     "output_type": "display_data"
    }
   ],
   "source": [
    "# Fixing Positive Skew of T5\n",
    "df['T5'] = np.log10(df['T5'])\n",
    "plt.hist(df['T5'])"
   ]
  },
  {
   "cell_type": "code",
   "execution_count": 19,
   "metadata": {},
   "outputs": [
    {
     "data": {
      "text/plain": [
       "(array([  1.,   0.,   0.,   2.,  26., 182., 314., 135.,  14.,   8.]),\n",
       " array([-1.        , -0.22393857,  0.55212286,  1.32818429,  2.10424572,\n",
       "         2.88030715,  3.65636858,  4.43243001,  5.20849144,  5.98455287,\n",
       "         6.7606143 ]),\n",
       " <a list of 10 Patch objects>)"
      ]
     },
     "execution_count": 19,
     "metadata": {},
     "output_type": "execute_result"
    },
    {
     "data": {
      "image/png": "[encoded data removed]",
      "text/plain": [
       "<Figure size 432x288 with 1 Axes>"
      ]
     },
     "metadata": {},
     "output_type": "display_data"
    }
   ],
   "source": [
    "# Fixing Positive Skew of S1\n",
    "df['S1'] = np.cbrt(df['S1'])\n",
    "plt.hist(df['S1'])"
   ]
  },
  {
   "cell_type": "code",
   "execution_count": 20,
   "metadata": {},
   "outputs": [
    {
     "data": {
      "text/plain": [
       "(array([  8.,  31.,  84., 183., 192., 120.,  42.,  14.,   5.,   3.]),\n",
       " array([1.30103   , 1.4684242 , 1.6358184 , 1.8032126 , 1.9706068 ,\n",
       "        2.13800099, 2.30539519, 2.47278939, 2.64018359, 2.80757779,\n",
       "        2.97497199]),\n",
       " <a list of 10 Patch objects>)"
      ]
     },
     "execution_count": 20,
     "metadata": {},
     "output_type": "execute_result"
    },
    {
     "data": {
      "image/png": "[encoded data removed]",
      "text/plain": [
       "<Figure size 432x288 with 1 Axes>"
      ]
     },
     "metadata": {},
     "output_type": "display_data"
    }
   ],
   "source": [
    "# Fixing Positive Skew of S2\n",
    "df['S2'] = np.log10(df['S2'])\n",
    "plt.hist(df['S2'])"
   ]
  },
  {
   "cell_type": "code",
   "execution_count": 21,
   "metadata": {},
   "outputs": [
    {
     "data": {
      "text/plain": [
       "(array([  1.,   8.,  43., 150., 218., 191.,  57.,  11.,   1.,   2.]),\n",
       " array([1.41497335, 1.56807208, 1.72117082, 1.87426955, 2.02736829,\n",
       "        2.18046703, 2.33356576, 2.4866645 , 2.63976323, 2.79286197,\n",
       "        2.9459607 ]),\n",
       " <a list of 10 Patch objects>)"
      ]
     },
     "execution_count": 21,
     "metadata": {},
     "output_type": "execute_result"
    },
    {
     "data": {
      "image/png": "[encoded data removed]",
      "text/plain": [
       "<Figure size 432x288 with 1 Axes>"
      ]
     },
     "metadata": {},
     "output_type": "display_data"
    }
   ],
   "source": [
    "# Fixing Positive Skew of S3\n",
    "df['S3'] = np.log10(df['S3'])\n",
    "plt.hist(df['S3'])"
   ]
  },
  {
   "cell_type": "code",
   "execution_count": 22,
   "metadata": {},
   "outputs": [
    {
     "data": {
      "text/plain": [
       "(array([  3.,   2.,  20., 168., 362., 102.,  18.,   2.,   1.,   4.]),\n",
       " array([-0.5478714 , -0.29317675, -0.0384821 ,  0.21621255,  0.47090719,\n",
       "         0.72560184,  0.98029649,  1.23499113,  1.48968578,  1.74438043,\n",
       "         1.99907508]),\n",
       " <a list of 10 Patch objects>)"
      ]
     },
     "execution_count": 22,
     "metadata": {},
     "output_type": "execute_result"
    },
    {
     "data": {
      "image/png": "[encoded data removed]",
      "text/plain": [
       "<Figure size 432x288 with 1 Axes>"
      ]
     },
     "metadata": {},
     "output_type": "display_data"
    }
   ],
   "source": [
    "# Fixing Positive Skew of S3\n",
    "df[\"C5'\"] = np.log10(df[\"C5'\"])\n",
    "plt.hist(df[\"C5'\"])"
   ]
  },
  {
   "cell_type": "code",
   "execution_count": 23,
   "metadata": {},
   "outputs": [
    {
     "data": {
      "text/plain": [
       "(array([  5.,   5.,  37., 209., 253., 104.,  50.,  15.,   2.,   2.]),\n",
       " array([1.78841941, 1.81465198, 1.84088456, 1.86711713, 1.89334971,\n",
       "        1.91958228, 1.94581486, 1.97204743, 1.99828001, 2.02451259,\n",
       "        2.05074516]),\n",
       " <a list of 10 Patch objects>)"
      ]
     },
     "execution_count": 23,
     "metadata": {},
     "output_type": "execute_result"
    },
    {
     "data": {
      "image/png": "[encoded data removed]",
      "text/plain": [
       "<Figure size 432x288 with 1 Axes>"
      ]
     },
     "metadata": {},
     "output_type": "display_data"
    }
   ],
   "source": [
    "# Fixing Positive Skew of S3\n",
    "df[\"C6'\"] = np.cbrt(np.cbrt(df[\"C6'\"]))\n",
    "plt.hist(df['C6'])"
   ]
  },
  {
   "cell_type": "code",
   "execution_count": 24,
   "metadata": {},
   "outputs": [
    {
     "data": {
      "text/plain": [
       "I3         0.230978\n",
       "P(IPO)    -0.386128\n",
       "P(H)       0.337216\n",
       "P(L)      -0.100027\n",
       "P(1Day)    0.446491\n",
       "C1         0.146560\n",
       "C2        -2.123926\n",
       "C3         0.671344\n",
       "C4        -0.491134\n",
       "C5         0.662765\n",
       "C6         0.483658\n",
       "C7        -0.640897\n",
       "T1         0.384746\n",
       "T2         0.259836\n",
       "T3         0.170438\n",
       "T4         0.186136\n",
       "T5         0.424152\n",
       "S1         0.025788\n",
       "S2         0.257575\n",
       "S3         0.092696\n",
       "Y1        -0.052921\n",
       "Y2        -0.894757\n",
       "C3'       -0.117764\n",
       "C5'        0.825354\n",
       "P(mid)     8.292727\n",
       "C6'        0.551889\n",
       "dtype: float64"
      ]
     },
     "execution_count": 24,
     "metadata": {},
     "output_type": "execute_result"
    }
   ],
   "source": [
    "# Checking Skew of DataFrame\n",
    "df.skew()"
   ]
  },
  {
   "cell_type": "code",
   "execution_count": 26,
   "metadata": {},
   "outputs": [],
   "source": [
    "# Exporting DataFrame as CSV \n",
    "df.to_csv('SkewDF', ',')"
   ]
  }
 ],
 "metadata": {
  "kernelspec": {
   "display_name": "Python 3",
   "language": "python",
   "name": "python3"
  },
  "language_info": {
   "codemirror_mode": {
    "name": "ipython",
    "version": 3
   },
   "file_extension": ".py",
   "mimetype": "text/x-python",
   "name": "python",
   "nbconvert_exporter": "python",
   "pygments_lexer": "ipython3",
   "version": "3.6.5"
  }
 },
 "nbformat": 4,
 "nbformat_minor": 2
}
