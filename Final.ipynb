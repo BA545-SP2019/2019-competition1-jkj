{
 "cells": [
  {
   "cell_type": "markdown",
   "metadata": {},
   "source": [
    "# Final Notebook"
   ]
  },
  {
   "cell_type": "markdown",
   "metadata": {},
   "source": [
    "**Competition #1 - Juliana Hoffmann, Kendall Stopa & Jonathan Uy**"
   ]
  },
  {
   "cell_type": "markdown",
   "metadata": {},
   "source": [
    "# Descriptive Statistics - Part 1"
   ]
  },
  {
   "cell_type": "markdown",
   "metadata": {},
   "source": [
    "**Data Exploration in Excel**\n",
    "\n",
    "To handle our data in Jupyter Lab, we first wanted to explore the data in Excel. \n",
    "Here we discovered many missing values scattered across the Excel that we would handle within the notebook through imputation. \n",
    "The missing values we did handle were the 8 missing values in the the I3 columns. The numbers listed here are SIC codes which we looked up through SICCODE.com to fill in the blanks and manually type them in the speadsheet. Next, in the I3 column, we discovered a handful of NAICS codes which we translated to the SIC code equivalent. Lastly, for the values in the I3 column that had multiple SIC codes per row, we used SIC Code to determine the primary SIC Code and imputated those manually in Excel. \n",
    "\n",
    "Later on through our competition notebooks, we discovered that there were -1 values that could not be ignored to calculate the ratio values later on in the notebook. In T5 (Row 7) and S1 (Row 134) we manually imputed those in the Excel using Jupyter to calculate the median of each column which wasused in place of the -1. \n",
    "\n",
    "Lastly, the names of the columns such as P(IPO) used parantheses in the title. We ran into issues creating new columns from these columns that containted parantheses in the title. To avoid such issues, we alter the names from P(IPO) to P_IPO, P(H) to P_H, P(L) to P_L and lastly P(1Day) to P_1DAY. \n",
    "\n",
    "These are the only changes that we manually made to the Excel file. These changes are reflected in the CSV: [Competition1_raw_data_fixed](https://ba-lab.fairfield.edu/user/jhoffmann/lab/tree/2019-competition1-jkj/Competition1_raw_data_fixed.xlsx)"
   ]
  },
  {
   "cell_type": "markdown",
   "metadata": {},
   "source": [
    "**Data Exploration in Jupyter Lab**"
   ]
  },
  {
   "cell_type": "markdown",
   "metadata": {},
   "source": [
    "Once we imported our CSV file as DataFrame, we began to explore the data within Jupyter Lab. Using .info() we found the the '-' used to identify a null value in the DataFrame was not being recognized as a null entry. To resolve this issue, we replaced the '-' with NaN. Once running the .info() again, the NaN entries were being identified as null values. \n",
    "We imputed the missing values using the Median except for using Mode for C2 as that was binary. \n",
    "We also imputed T2 with the median when there were \"0\" because to create the new ratio values, this column could not have 0 since it is the denominator. "
   ]
  },
  {
   "cell_type": "markdown",
   "metadata": {},
   "source": [
    "**Creation of New Columns**\n",
    "\n",
    "After fully imputing missing values, zeros in T2 and -1 in T5 and S1, we were ready to create our new ratio values which included C3', C5', C6', T3', T4', T5', S1', S2' and S3'. Once created we dropped C3, C5, C6, T1-T5 and S1-S3. \n",
    "\n",
    "After including some visuals of the histrograms and box plots of the columns, we saved the DataFrame into the CSV titled [WorkingDataFrame](https://ba-lab.fairfield.edu/user/jhoffmann/lab/tree/2019-competition1-jkj/Pipeline%201%20(Z-Score)/WorkingDataFrame) in our [Pipeline 1](https://ba-lab.fairfield.edu/user/jhoffmann/lab/tree/2019-competition1-jkj/Pipeline%201%20(Z-Score)) Folder. "
   ]
  },
  {
   "cell_type": "markdown",
   "metadata": {},
   "source": [
    "# Handling Skewness - Part 2 "
   ]
  },
  {
   "cell_type": "markdown",
   "metadata": {},
   "source": [
    "Before handling the skewness, we removed the 'target' variables from the DataFrame to make our Data Cleaning process easier. These are moved into its own DataFrame titled [Targets](https://ba-lab.fairfield.edu/user/jhoffmann/lab/tree/2019-competition1-jkj/Pipeline%201%20(Z-Score)/Targets). "
   ]
  },
  {
   "cell_type": "markdown",
   "metadata": {},
   "source": [
    "After checking the original skewness of the imputed data, we can determine which columns need to be alter and which can remain unchanged. We immediately know we can avoid changing C2 and C3' variables as they are binary. We also see that C4 and T4' are already properly skewed and will not require any changes. \n",
    "\n",
    "Otherwise, each columns' skewness was fixed on a column by column basis whether that required ths use of log, square root, cube root, exponents or a combination of a couple different methods chained together. \n",
    "\n",
    "Our goal is to get every skewness within a range of (-0.5, 0.5). For some cases, we were only able to get the the data within a range of (-1, 1).\n"
   ]
  },
  {
   "cell_type": "code",
   "execution_count": null,
   "metadata": {},
   "outputs": [],
   "source": []
  }
 ],
 "metadata": {
  "kernelspec": {
   "display_name": "Python 3",
   "language": "python",
   "name": "python3"
  },
  "language_info": {
   "codemirror_mode": {
    "name": "ipython",
    "version": 3
   },
   "file_extension": ".py",
   "mimetype": "text/x-python",
   "name": "python",
   "nbconvert_exporter": "python",
   "pygments_lexer": "ipython3",
   "version": "3.6.5"
  }
 },
 "nbformat": 4,
 "nbformat_minor": 2
}
