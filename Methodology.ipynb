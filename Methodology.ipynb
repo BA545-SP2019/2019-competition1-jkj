{
 "cells": [
  {
   "cell_type": "markdown",
   "metadata": {},
   "source": [
    "## Team JKJ - Competition #1 Methodlogy"
   ]
  },
  {
   "cell_type": "markdown",
   "metadata": {},
   "source": [
    "**1. Descriptive Statistics**\n",
    "\n",
    "**2. Imputation**\n",
    "\n",
    "Done together once in the Notebook [Descriptive Statsitcs & Imputation](https://ba-lab.fairfield.edu/user/jhoffmann/lab/tree/2019-competition1-jkj/Descriptive%20and%20Impute.ipynb). This DataFrame was saved into the CSV filed titled [WorkingDataFrame](https://ba-lab.fairfield.edu/user/jhoffmann/lab/tree/2019-competition1-jkj/WorkingDataFrame).\n",
    "\n",
    "We have not imputed our data another way for now"
   ]
  },
  {
   "cell_type": "markdown",
   "metadata": {},
   "source": [
    "**3. Normalization** \n",
    "\n",
    "We have done normalization two ways. \n",
    "\n",
    "First, [Normalization before Standardization](https://ba-lab.fairfield.edu/user/jhoffmann/lab/tree/2019-competition1-jkj/Normalization.ipynb) where the imputated data was put right into the function we defined. Here, the DataFrame was saved into the CSV file titled [NormDF](https://ba-lab.fairfield.edu/user/jhoffmann/lab/tree/2019-competition1-jkj/NormDF). \n",
    "\n",
    "Second, we tried [Normalization after Standardization](https://ba-lab.fairfield.edu/user/jhoffmann/lab/tree/2019-competition1-jkj/Normalization%20after%20Standardization.ipynb) where the imputated data was standardization before being normalized. Here, the DataFrame was saved into the CSV file titled [NormDF2](https://ba-lab.fairfield.edu/user/jhoffmann/lab/tree/2019-competition1-jkj/NormDF2). "
   ]
  },
  {
   "cell_type": "markdown",
   "metadata": {},
   "source": [
    "**5. Standardization**\n",
    "\n",
    "We have done standardiztation two different ways as implied through our Normalization section. \n",
    "\n",
    "First [Standardization](https://ba-lab.fairfield.edu/user/jhoffmann/lab/tree/2019-competition1-jkj/Standardization.ipynb) where the normalized data was put right into the Standardization function. Here, the DataFrame was saved into the CSV filed titled [StandDF](https://ba-lab.fairfield.edu/user/jhoffmann/lab/tree/2019-competition1-jkj/StandDF). \n",
    "\n",
    "Second, we tried [Standardization before Normalization](https://ba-lab.fairfield.edu/user/jhoffmann/lab/tree/2019-competition1-jkj/Standardization%20before%20Norm.ipynb) where the imputatd data was standardized before being normalized. Here the DataFrame was saved into the CSV filed titled [StandDF2](https://ba-lab.fairfield.edu/user/jhoffmann/lab/tree/2019-competition1-jkj/StandDF2). \n",
    "\n",
    "Here, when we re-plotted the columns using histograms and altered the range of the data from [-2,2], we observed that the central tendancy of the data was solved. For now, we are still trying to determine how to handle the outliers in our dataset once the data is now Normalized and Standardized."
   ]
  },
  {
   "cell_type": "markdown",
   "metadata": {},
   "source": [
    "**4. Correlation**\n",
    "\n",
    "Right now, we have run 3 correlations - 1 with the imputed data, 1 with the imputed and normalzied data then a third with the imputed, normalized and standardized data. \n",
    "There was no difference between the three correlations. "
   ]
  },
  {
   "cell_type": "markdown",
   "metadata": {},
   "source": [
    "**Questions moving Forward**"
   ]
  },
  {
   "cell_type": "markdown",
   "metadata": {},
   "source": [
    "1. How to Handle Outliers in data that make data not normalized \n",
    "2. Correlation - Which variables to drop? \n",
    "3. ID Variables - Do we drop the 8 missing OR do we find them online? How should we handle the fields with multi-identifiers? Should the variables be binned or grouped by type in order to eliminate the features - Maybe use a mean for each group? \n",
    "4. Recoding - Is recoding even necessary? "
   ]
  }
 ],
 "metadata": {
  "kernelspec": {
   "display_name": "Python 3",
   "language": "python",
   "name": "python3"
  },
  "language_info": {
   "codemirror_mode": {
    "name": "ipython",
    "version": 3
   },
   "file_extension": ".py",
   "mimetype": "text/x-python",
   "name": "python",
   "nbconvert_exporter": "python",
   "pygments_lexer": "ipython3",
   "version": "3.6.5"
  }
 },
 "nbformat": 4,
 "nbformat_minor": 2
}
