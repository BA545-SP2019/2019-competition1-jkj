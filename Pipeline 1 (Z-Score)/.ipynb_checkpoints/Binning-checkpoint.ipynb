{
 "cells": [
  {
   "cell_type": "markdown",
   "metadata": {},
   "source": [
    "# Binning by SIC Division Code Ranges "
   ]
  },
  {
   "cell_type": "markdown",
   "metadata": {},
   "source": [
    "![SIC Division](SIC_Division1.png)"
   ]
  },
  {
   "cell_type": "code",
   "execution_count": 1,
   "metadata": {},
   "outputs": [],
   "source": [
    "import numpy as np \n",
    "import pandas as pd\n",
    "import matplotlib.pyplot as plt\n",
    "from sklearn import preprocessing\n",
    "%matplotlib inline\n",
    "plt.style.use('ggplot')"
   ]
  },
  {
   "cell_type": "code",
   "execution_count": 2,
   "metadata": {},
   "outputs": [
    {
     "data": {
      "text/html": [
       "<div>\n",
       "<style scoped>\n",
       "    .dataframe tbody tr th:only-of-type {\n",
       "        vertical-align: middle;\n",
       "    }\n",
       "\n",
       "    .dataframe tbody tr th {\n",
       "        vertical-align: top;\n",
       "    }\n",
       "\n",
       "    .dataframe thead th {\n",
       "        text-align: right;\n",
       "    }\n",
       "</style>\n",
       "<table border=\"1\" class=\"dataframe\">\n",
       "  <thead>\n",
       "    <tr style=\"text-align: right;\">\n",
       "      <th></th>\n",
       "      <th>I1</th>\n",
       "      <th>I2</th>\n",
       "      <th>I3</th>\n",
       "      <th>P_IPO</th>\n",
       "      <th>P_H</th>\n",
       "      <th>P_L</th>\n",
       "      <th>P_1DAY</th>\n",
       "      <th>Y1</th>\n",
       "      <th>Y2</th>\n",
       "    </tr>\n",
       "  </thead>\n",
       "  <tbody>\n",
       "    <tr>\n",
       "      <th>0</th>\n",
       "      <td>AATI</td>\n",
       "      <td>ADVANCED ANALOGIC TECHNOLOGIES INC</td>\n",
       "      <td>3674.0</td>\n",
       "      <td>10.0</td>\n",
       "      <td>9.5</td>\n",
       "      <td>8.5</td>\n",
       "      <td>11.87</td>\n",
       "      <td>0</td>\n",
       "      <td>1</td>\n",
       "    </tr>\n",
       "    <tr>\n",
       "      <th>1</th>\n",
       "      <td>ABPI</td>\n",
       "      <td>ACCENTIA BIOPHARMACEUTICALS INC</td>\n",
       "      <td>2834.0</td>\n",
       "      <td>8.0</td>\n",
       "      <td>10.0</td>\n",
       "      <td>8.0</td>\n",
       "      <td>7.25</td>\n",
       "      <td>1</td>\n",
       "      <td>0</td>\n",
       "    </tr>\n",
       "  </tbody>\n",
       "</table>\n",
       "</div>"
      ],
      "text/plain": [
       "     I1                                  I2      I3  P_IPO   P_H  P_L  P_1DAY  \\\n",
       "0  AATI  ADVANCED ANALOGIC TECHNOLOGIES INC  3674.0   10.0   9.5  8.5   11.87   \n",
       "1  ABPI     ACCENTIA BIOPHARMACEUTICALS INC  2834.0    8.0  10.0  8.0    7.25   \n",
       "\n",
       "   Y1  Y2  \n",
       "0   0   1  \n",
       "1   1   0  "
      ]
     },
     "execution_count": 2,
     "metadata": {},
     "output_type": "execute_result"
    }
   ],
   "source": [
    "# Using Target table with \"Y\" values beacuse we are dealing with categorical data \n",
    "df = pd.read_csv('Targets', index_col=0)\n",
    "df.head(2)"
   ]
  },
  {
   "cell_type": "code",
   "execution_count": 6,
   "metadata": {},
   "outputs": [
    {
     "name": "stdout",
     "output_type": "stream",
     "text": [
      "I1        2\n",
      "I2        2\n",
      "I3        2\n",
      "P_IPO     2\n",
      "P_H       2\n",
      "P_L       2\n",
      "P_1DAY    2\n",
      "Y1        2\n",
      "Y2        2\n",
      "dtype: int64\n"
     ]
    }
   ],
   "source": [
    "Agriculture = df[df.I3 < 999].count() \n",
    "print(Agriculture)\n",
    "# 2 attributes fall within the Agriculture, Forestry and Fishing\n",
    "# Division "
   ]
  },
  {
   "cell_type": "code",
   "execution_count": 7,
   "metadata": {},
   "outputs": [
    {
     "name": "stdout",
     "output_type": "stream",
     "text": [
      "I1        31\n",
      "I2        31\n",
      "I3        31\n",
      "P_IPO     31\n",
      "P_H       31\n",
      "P_L       31\n",
      "P_1DAY    31\n",
      "Y1        31\n",
      "Y2        31\n",
      "dtype: int64\n"
     ]
    }
   ],
   "source": [
    "Mining = df.loc[(df['I3'] >= 1000) & (df['I3'] <= 1499)].count()\n",
    "print(Mining)\n",
    "# 31 attributes fall within Mining "
   ]
  },
  {
   "cell_type": "code",
   "execution_count": 8,
   "metadata": {},
   "outputs": [
    {
     "name": "stdout",
     "output_type": "stream",
     "text": [
      "I1        2\n",
      "I2        2\n",
      "I3        2\n",
      "P_IPO     2\n",
      "P_H       2\n",
      "P_L       2\n",
      "P_1DAY    2\n",
      "Y1        2\n",
      "Y2        2\n",
      "dtype: int64\n"
     ]
    }
   ],
   "source": [
    "Construction = df.loc[(df['I3'] >= 1500) & (df['I3'] <= 1799)].count()\n",
    "print(Construction)\n",
    "# 2 attributes fall within Construction "
   ]
  },
  {
   "cell_type": "code",
   "execution_count": 9,
   "metadata": {},
   "outputs": [
    {
     "name": "stdout",
     "output_type": "stream",
     "text": [
      "I1        0\n",
      "I2        0\n",
      "I3        0\n",
      "P_IPO     0\n",
      "P_H       0\n",
      "P_L       0\n",
      "P_1DAY    0\n",
      "Y1        0\n",
      "Y2        0\n",
      "dtype: int64\n"
     ]
    }
   ],
   "source": [
    "NotUsed = df.loc[(df['I3'] >= 1800) & (df['I3'] <= 1999)].count()\n",
    "print(NotUsed)\n",
    "# This range of SIC code is not used\n",
    "# Therefore, we want to see 0 attributes here "
   ]
  },
  {
   "cell_type": "code",
   "execution_count": 10,
   "metadata": {},
   "outputs": [
    {
     "name": "stdout",
     "output_type": "stream",
     "text": [
      "I1        308\n",
      "I2        308\n",
      "I3        308\n",
      "P_IPO     308\n",
      "P_H       308\n",
      "P_L       308\n",
      "P_1DAY    308\n",
      "Y1        308\n",
      "Y2        308\n",
      "dtype: int64\n"
     ]
    }
   ],
   "source": [
    "Manufacturing = df.loc[(df['I3'] >= 2000) & (df['I3'] <= 3999)].count()\n",
    "print(Manufacturing)\n",
    "# 308 attributes all within Manufacturing \n",
    "# This will become its own bin"
   ]
  },
  {
   "cell_type": "code",
   "execution_count": 12,
   "metadata": {},
   "outputs": [
    {
     "name": "stdout",
     "output_type": "stream",
     "text": [
      "I1        60\n",
      "I2        60\n",
      "I3        60\n",
      "P_IPO     60\n",
      "P_H       60\n",
      "P_L       60\n",
      "P_1DAY    60\n",
      "Y1        60\n",
      "Y2        60\n",
      "dtype: int64\n"
     ]
    }
   ],
   "source": [
    "Transportation = df.loc[(df['I3'] >= 4000) & (df['I3'] <= 4999)].count()\n",
    "print(Transportation)\n",
    "# 60 Attributes fall within Transportation"
   ]
  },
  {
   "cell_type": "code",
   "execution_count": 13,
   "metadata": {},
   "outputs": [
    {
     "name": "stdout",
     "output_type": "stream",
     "text": [
      "I1        14\n",
      "I2        14\n",
      "I3        14\n",
      "P_IPO     14\n",
      "P_H       14\n",
      "P_L       14\n",
      "P_1DAY    14\n",
      "Y1        14\n",
      "Y2        14\n",
      "dtype: int64\n"
     ]
    }
   ],
   "source": [
    "Wholesale = df.loc[(df['I3'] >= 5000) & (df['I3'] <= 5199)].count()\n",
    "print(Wholesale)\n",
    "# 14 Attributes fall within Wholesale Trade"
   ]
  },
  {
   "cell_type": "code",
   "execution_count": 14,
   "metadata": {},
   "outputs": [
    {
     "name": "stdout",
     "output_type": "stream",
     "text": [
      "I1        50\n",
      "I2        50\n",
      "I3        50\n",
      "P_IPO     50\n",
      "P_H       50\n",
      "P_L       50\n",
      "P_1DAY    50\n",
      "Y1        50\n",
      "Y2        50\n",
      "dtype: int64\n"
     ]
    }
   ],
   "source": [
    "Retail = df.loc[(df['I3'] >= 5200) & (df['I3'] <= 5999)].count()\n",
    "print(Retail)\n",
    "# 50 Attributes fall within Retail Trade"
   ]
  },
  {
   "cell_type": "code",
   "execution_count": 15,
   "metadata": {},
   "outputs": [
    {
     "name": "stdout",
     "output_type": "stream",
     "text": [
      "I1        6\n",
      "I2        6\n",
      "I3        6\n",
      "P_IPO     6\n",
      "P_H       6\n",
      "P_L       6\n",
      "P_1DAY    6\n",
      "Y1        6\n",
      "Y2        6\n",
      "dtype: int64\n"
     ]
    }
   ],
   "source": [
    "Finance = df.loc[(df['I3'] >= 6000) & (df['I3'] <= 6799)].count()\n",
    "print(Finance)\n",
    "# 6 Attributes fall within Finance, Insurance & Real Estate"
   ]
  },
  {
   "cell_type": "code",
   "execution_count": 16,
   "metadata": {},
   "outputs": [
    {
     "name": "stdout",
     "output_type": "stream",
     "text": [
      "I1        209\n",
      "I2        209\n",
      "I3        209\n",
      "P_IPO     209\n",
      "P_H       209\n",
      "P_L       209\n",
      "P_1DAY    209\n",
      "Y1        209\n",
      "Y2        209\n",
      "dtype: int64\n"
     ]
    }
   ],
   "source": [
    "Services = df.loc[(df['I3'] >= 7000) & (df['I3'] <= 8999)].count()\n",
    "print(Services)\n",
    "# 209 Attributes fall within Services\n",
    "# This will become its own bin "
   ]
  },
  {
   "cell_type": "code",
   "execution_count": 17,
   "metadata": {},
   "outputs": [
    {
     "name": "stdout",
     "output_type": "stream",
     "text": [
      "I1        0\n",
      "I2        0\n",
      "I3        0\n",
      "P_IPO     0\n",
      "P_H       0\n",
      "P_L       0\n",
      "P_1DAY    0\n",
      "Y1        0\n",
      "Y2        0\n",
      "dtype: int64\n"
     ]
    }
   ],
   "source": [
    "PublicAdmin = df.loc[(df['I3'] >= 9000) & (df['I3'] <= 9729)].count()\n",
    "print(PublicAdmin)\n",
    "# 0 Attributes fall within Public Admin"
   ]
  },
  {
   "cell_type": "code",
   "execution_count": 18,
   "metadata": {},
   "outputs": [
    {
     "name": "stdout",
     "output_type": "stream",
     "text": [
      "I1        0\n",
      "I2        0\n",
      "I3        0\n",
      "P_IPO     0\n",
      "P_H       0\n",
      "P_L       0\n",
      "P_1DAY    0\n",
      "Y1        0\n",
      "Y2        0\n",
      "dtype: int64\n"
     ]
    }
   ],
   "source": [
    "Nonclass = df.loc[(df['I3'] >= 9900) & (df['I3'] <= 9999)].count()\n",
    "print(Nonclass)\n",
    "# 0 Attributes fall within Nonclassifiable"
   ]
  },
  {
   "cell_type": "code",
   "execution_count": 19,
   "metadata": {},
   "outputs": [
    {
     "data": {
      "text/plain": [
       "Text(0.5, 1.0, 'Distribution of SIC Codes')"
      ]
     },
     "execution_count": 19,
     "metadata": {},
     "output_type": "execute_result"
    },
    {
     "data": {
      "image/png": "[encoded data removed]",
      "text/plain": [
       "<Figure size 432x288 with 1 Axes>"
      ]
     },
     "metadata": {},
     "output_type": "display_data"
    }
   ],
   "source": [
    "df['I3'].hist()\n",
    "plt.title(\"Distribution of SIC Codes\", color='white')\n",
    "# Looking at the Distribution of the SIC Codes before Binning "
   ]
  },
  {
   "cell_type": "code",
   "execution_count": 20,
   "metadata": {},
   "outputs": [
    {
     "data": {
      "text/plain": [
       "count     682.000000\n",
       "mean     4871.668622\n",
       "std      2072.423003\n",
       "min       100.000000\n",
       "25%      3288.750000\n",
       "50%      3990.000000\n",
       "75%      7371.750000\n",
       "max      8748.000000\n",
       "Name: I3, dtype: float64"
      ]
     },
     "execution_count": 20,
     "metadata": {},
     "output_type": "execute_result"
    }
   ],
   "source": [
    "# Descriptive Statistics\n",
    "df['I3'].describe()"
   ]
  },
  {
   "cell_type": "code",
   "execution_count": 21,
   "metadata": {},
   "outputs": [
    {
     "data": {
      "text/html": [
       "<div>\n",
       "<style scoped>\n",
       "    .dataframe tbody tr th:only-of-type {\n",
       "        vertical-align: middle;\n",
       "    }\n",
       "\n",
       "    .dataframe tbody tr th {\n",
       "        vertical-align: top;\n",
       "    }\n",
       "\n",
       "    .dataframe thead th {\n",
       "        text-align: right;\n",
       "    }\n",
       "</style>\n",
       "<table border=\"1\" class=\"dataframe\">\n",
       "  <thead>\n",
       "    <tr style=\"text-align: right;\">\n",
       "      <th></th>\n",
       "      <th>I1</th>\n",
       "      <th>I2</th>\n",
       "      <th>I3</th>\n",
       "      <th>P_IPO</th>\n",
       "      <th>P_H</th>\n",
       "      <th>P_L</th>\n",
       "      <th>P_1DAY</th>\n",
       "      <th>Y1</th>\n",
       "      <th>Y2</th>\n",
       "      <th>I3_Bins</th>\n",
       "    </tr>\n",
       "  </thead>\n",
       "  <tbody>\n",
       "    <tr>\n",
       "      <th>0</th>\n",
       "      <td>AATI</td>\n",
       "      <td>ADVANCED ANALOGIC TECHNOLOGIES INC</td>\n",
       "      <td>3674.0</td>\n",
       "      <td>10.0</td>\n",
       "      <td>9.5</td>\n",
       "      <td>8.5</td>\n",
       "      <td>11.870000</td>\n",
       "      <td>0</td>\n",
       "      <td>1</td>\n",
       "      <td>2</td>\n",
       "    </tr>\n",
       "    <tr>\n",
       "      <th>1</th>\n",
       "      <td>ABPI</td>\n",
       "      <td>ACCENTIA BIOPHARMACEUTICALS INC</td>\n",
       "      <td>2834.0</td>\n",
       "      <td>8.0</td>\n",
       "      <td>10.0</td>\n",
       "      <td>8.0</td>\n",
       "      <td>7.250000</td>\n",
       "      <td>1</td>\n",
       "      <td>0</td>\n",
       "      <td>2</td>\n",
       "    </tr>\n",
       "    <tr>\n",
       "      <th>2</th>\n",
       "      <td>ACAD</td>\n",
       "      <td>ACADIA PHARMACEUTICALS INC</td>\n",
       "      <td>2834.0</td>\n",
       "      <td>7.0</td>\n",
       "      <td>14.0</td>\n",
       "      <td>12.0</td>\n",
       "      <td>6.700000</td>\n",
       "      <td>1</td>\n",
       "      <td>0</td>\n",
       "      <td>2</td>\n",
       "    </tr>\n",
       "    <tr>\n",
       "      <th>3</th>\n",
       "      <td>ACHN</td>\n",
       "      <td>ACHILLION PHARMACEUTICALS INC</td>\n",
       "      <td>2834.0</td>\n",
       "      <td>11.5</td>\n",
       "      <td>16.0</td>\n",
       "      <td>14.0</td>\n",
       "      <td>12.390000</td>\n",
       "      <td>1</td>\n",
       "      <td>1</td>\n",
       "      <td>2</td>\n",
       "    </tr>\n",
       "    <tr>\n",
       "      <th>4</th>\n",
       "      <td>ACLI</td>\n",
       "      <td>AMERICAN COMMERCIAL LINES INC.</td>\n",
       "      <td>4492.0</td>\n",
       "      <td>21.0</td>\n",
       "      <td>21.0</td>\n",
       "      <td>19.0</td>\n",
       "      <td>56.599998</td>\n",
       "      <td>0</td>\n",
       "      <td>1</td>\n",
       "      <td>1</td>\n",
       "    </tr>\n",
       "    <tr>\n",
       "      <th>5</th>\n",
       "      <td>ACOM</td>\n",
       "      <td>Ancestry.com Inc.</td>\n",
       "      <td>7379.0</td>\n",
       "      <td>13.5</td>\n",
       "      <td>14.5</td>\n",
       "      <td>12.5</td>\n",
       "      <td>14.200000</td>\n",
       "      <td>0</td>\n",
       "      <td>1</td>\n",
       "      <td>3</td>\n",
       "    </tr>\n",
       "    <tr>\n",
       "      <th>6</th>\n",
       "      <td>ACOR</td>\n",
       "      <td>ACORDA THERAPEUTICS INC</td>\n",
       "      <td>2836.0</td>\n",
       "      <td>6.0</td>\n",
       "      <td>13.0</td>\n",
       "      <td>11.0</td>\n",
       "      <td>6.720000</td>\n",
       "      <td>1</td>\n",
       "      <td>1</td>\n",
       "      <td>2</td>\n",
       "    </tr>\n",
       "    <tr>\n",
       "      <th>7</th>\n",
       "      <td>ACRX</td>\n",
       "      <td>ACELRX PHARMACEUTICALS INC</td>\n",
       "      <td>2834.0</td>\n",
       "      <td>5.0</td>\n",
       "      <td>14.0</td>\n",
       "      <td>12.0</td>\n",
       "      <td>4.550000</td>\n",
       "      <td>1</td>\n",
       "      <td>0</td>\n",
       "      <td>2</td>\n",
       "    </tr>\n",
       "    <tr>\n",
       "      <th>8</th>\n",
       "      <td>ACTV</td>\n",
       "      <td>ACTIVE NETWORK INC</td>\n",
       "      <td>7372.0</td>\n",
       "      <td>15.0</td>\n",
       "      <td>18.0</td>\n",
       "      <td>16.0</td>\n",
       "      <td>15.900000</td>\n",
       "      <td>1</td>\n",
       "      <td>1</td>\n",
       "      <td>3</td>\n",
       "    </tr>\n",
       "    <tr>\n",
       "      <th>9</th>\n",
       "      <td>ACW</td>\n",
       "      <td>ACCURIDE CORP</td>\n",
       "      <td>3714.0</td>\n",
       "      <td>9.0</td>\n",
       "      <td>19.0</td>\n",
       "      <td>17.0</td>\n",
       "      <td>0.000000</td>\n",
       "      <td>1</td>\n",
       "      <td>0</td>\n",
       "      <td>2</td>\n",
       "    </tr>\n",
       "    <tr>\n",
       "      <th>10</th>\n",
       "      <td>ADKU</td>\n",
       "      <td>ADCARE HEALTH SYSTEMS, INC</td>\n",
       "      <td>8748.0</td>\n",
       "      <td>13.5</td>\n",
       "      <td>15.0</td>\n",
       "      <td>13.0</td>\n",
       "      <td>14.845000</td>\n",
       "      <td>1</td>\n",
       "      <td>1</td>\n",
       "      <td>3</td>\n",
       "    </tr>\n",
       "    <tr>\n",
       "      <th>11</th>\n",
       "      <td>ADLS</td>\n",
       "      <td>Advanced Life Sciences Holdings, Inc.</td>\n",
       "      <td>2854.0</td>\n",
       "      <td>5.0</td>\n",
       "      <td>9.0</td>\n",
       "      <td>8.0</td>\n",
       "      <td>6.000000</td>\n",
       "      <td>1</td>\n",
       "      <td>1</td>\n",
       "      <td>2</td>\n",
       "    </tr>\n",
       "    <tr>\n",
       "      <th>12</th>\n",
       "      <td>ADZA</td>\n",
       "      <td>ADEZA BIOMEDICAL CORP</td>\n",
       "      <td>2835.0</td>\n",
       "      <td>16.0</td>\n",
       "      <td>16.0</td>\n",
       "      <td>14.0</td>\n",
       "      <td>19.700001</td>\n",
       "      <td>0</td>\n",
       "      <td>1</td>\n",
       "      <td>2</td>\n",
       "    </tr>\n",
       "    <tr>\n",
       "      <th>13</th>\n",
       "      <td>AFFY</td>\n",
       "      <td>AFFYMAX INC</td>\n",
       "      <td>2834.0</td>\n",
       "      <td>25.0</td>\n",
       "      <td>24.0</td>\n",
       "      <td>22.0</td>\n",
       "      <td>33.880001</td>\n",
       "      <td>0</td>\n",
       "      <td>1</td>\n",
       "      <td>2</td>\n",
       "    </tr>\n",
       "    <tr>\n",
       "      <th>14</th>\n",
       "      <td>AGAM</td>\n",
       "      <td>AGA Medical Holdings, Inc.</td>\n",
       "      <td>3845.0</td>\n",
       "      <td>14.5</td>\n",
       "      <td>16.0</td>\n",
       "      <td>15.0</td>\n",
       "      <td>14.600000</td>\n",
       "      <td>1</td>\n",
       "      <td>1</td>\n",
       "      <td>2</td>\n",
       "    </tr>\n",
       "  </tbody>\n",
       "</table>\n",
       "</div>"
      ],
      "text/plain": [
       "      I1                                     I2      I3  P_IPO   P_H   P_L  \\\n",
       "0   AATI     ADVANCED ANALOGIC TECHNOLOGIES INC  3674.0   10.0   9.5   8.5   \n",
       "1   ABPI        ACCENTIA BIOPHARMACEUTICALS INC  2834.0    8.0  10.0   8.0   \n",
       "2   ACAD             ACADIA PHARMACEUTICALS INC  2834.0    7.0  14.0  12.0   \n",
       "3   ACHN          ACHILLION PHARMACEUTICALS INC  2834.0   11.5  16.0  14.0   \n",
       "4   ACLI        AMERICAN COMMERCIAL LINES INC.   4492.0   21.0  21.0  19.0   \n",
       "5   ACOM                     Ancestry.com Inc.   7379.0   13.5  14.5  12.5   \n",
       "6   ACOR                ACORDA THERAPEUTICS INC  2836.0    6.0  13.0  11.0   \n",
       "7   ACRX             ACELRX PHARMACEUTICALS INC  2834.0    5.0  14.0  12.0   \n",
       "8   ACTV                     ACTIVE NETWORK INC  7372.0   15.0  18.0  16.0   \n",
       "9    ACW                          ACCURIDE CORP  3714.0    9.0  19.0  17.0   \n",
       "10  ADKU             ADCARE HEALTH SYSTEMS, INC  8748.0   13.5  15.0  13.0   \n",
       "11  ADLS  Advanced Life Sciences Holdings, Inc.  2854.0    5.0   9.0   8.0   \n",
       "12  ADZA                  ADEZA BIOMEDICAL CORP  2835.0   16.0  16.0  14.0   \n",
       "13  AFFY                            AFFYMAX INC  2834.0   25.0  24.0  22.0   \n",
       "14  AGAM            AGA Medical Holdings, Inc.   3845.0   14.5  16.0  15.0   \n",
       "\n",
       "       P_1DAY  Y1  Y2  I3_Bins  \n",
       "0   11.870000   0   1        2  \n",
       "1    7.250000   1   0        2  \n",
       "2    6.700000   1   0        2  \n",
       "3   12.390000   1   1        2  \n",
       "4   56.599998   0   1        1  \n",
       "5   14.200000   0   1        3  \n",
       "6    6.720000   1   1        2  \n",
       "7    4.550000   1   0        2  \n",
       "8   15.900000   1   1        3  \n",
       "9    0.000000   1   0        2  \n",
       "10  14.845000   1   1        3  \n",
       "11   6.000000   1   1        2  \n",
       "12  19.700001   0   1        2  \n",
       "13  33.880001   0   1        2  \n",
       "14  14.600000   1   1        2  "
      ]
     },
     "execution_count": 21,
     "metadata": {},
     "output_type": "execute_result"
    }
   ],
   "source": [
    "def binning(I3):\n",
    "    if I3 < 2000:                \n",
    "        return(1)\n",
    "    # A bin for all small-scale divisons - \"Other\"\n",
    "    if I3 >= 2000 and I3 <= 3999:        \n",
    "        return(2)\n",
    "    # A \"Manufacturing\" division bin\n",
    "    if I3 >= 4000 and I3 <= 6999:      \n",
    "        return(1)\n",
    "    # The rest of the \"Other\" values \n",
    "    if I3 >= 7000:      \n",
    "        return(3)\n",
    "    # The third and final bin - \"Services\" division\n",
    "df['I3_Bins'] = df['I3'].apply(binning)\n",
    "df.head(15)"
   ]
  },
  {
   "cell_type": "code",
   "execution_count": 23,
   "metadata": {},
   "outputs": [
    {
     "data": {
      "text/plain": [
       "Text(0.5, 1.0, 'Distribution of SIC Codes - Binned')"
      ]
     },
     "execution_count": 23,
     "metadata": {},
     "output_type": "execute_result"
    },
    {
     "data": {
      "image/png": "[encoded data removed]",
      "text/plain": [
       "<Figure size 432x288 with 1 Axes>"
      ]
     },
     "metadata": {},
     "output_type": "display_data"
    }
   ],
   "source": [
    "# Distribution of I3 post-Binning\n",
    "df['I3_Bins'].hist()\n",
    "plt.title(\"Distribution of SIC Codes - Binned\", color='white')"
   ]
  },
  {
   "cell_type": "code",
   "execution_count": 24,
   "metadata": {},
   "outputs": [],
   "source": [
    "# Exporting DataFrame as CSV \n",
    "df.to_csv('Binning', ',')"
   ]
  }
 ],
 "metadata": {
  "kernelspec": {
   "display_name": "Python 3",
   "language": "python",
   "name": "python3"
  },
  "language_info": {
   "codemirror_mode": {
    "name": "ipython",
    "version": 3
   },
   "file_extension": ".py",
   "mimetype": "text/x-python",
   "name": "python",
   "nbconvert_exporter": "python",
   "pygments_lexer": "ipython3",
   "version": "3.6.5"
  }
 },
 "nbformat": 4,
 "nbformat_minor": 2
}
