{
 "cells": [
  {
   "cell_type": "markdown",
   "metadata": {},
   "source": [
    "![SIC Division](SIC_Division1.png)"
   ]
  },
  {
   "cell_type": "code",
   "execution_count": 5,
   "metadata": {},
   "outputs": [],
   "source": [
    "import numpy as np \n",
    "import pandas as pd\n",
    "import matplotlib.pyplot as plt\n",
    "from sklearn import preprocessing\n",
    "%matplotlib inline\n",
    "plt.style.use('ggplot')"
   ]
  },
  {
   "cell_type": "code",
   "execution_count": 7,
   "metadata": {},
   "outputs": [
    {
     "data": {
      "text/html": [
       "<div>\n",
       "<style scoped>\n",
       "    .dataframe tbody tr th:only-of-type {\n",
       "        vertical-align: middle;\n",
       "    }\n",
       "\n",
       "    .dataframe tbody tr th {\n",
       "        vertical-align: top;\n",
       "    }\n",
       "\n",
       "    .dataframe thead th {\n",
       "        text-align: right;\n",
       "    }\n",
       "</style>\n",
       "<table border=\"1\" class=\"dataframe\">\n",
       "  <thead>\n",
       "    <tr style=\"text-align: right;\">\n",
       "      <th></th>\n",
       "      <th>I1</th>\n",
       "      <th>I2</th>\n",
       "      <th>I3</th>\n",
       "      <th>P_IPO</th>\n",
       "      <th>P_H</th>\n",
       "      <th>P_L</th>\n",
       "      <th>P_1DAY</th>\n",
       "      <th>Y1</th>\n",
       "      <th>Y2</th>\n",
       "    </tr>\n",
       "  </thead>\n",
       "  <tbody>\n",
       "    <tr>\n",
       "      <th>0</th>\n",
       "      <td>AATI</td>\n",
       "      <td>ADVANCED ANALOGIC TECHNOLOGIES INC</td>\n",
       "      <td>3674</td>\n",
       "      <td>10.0</td>\n",
       "      <td>9.5</td>\n",
       "      <td>8.5</td>\n",
       "      <td>11.87</td>\n",
       "      <td>0</td>\n",
       "      <td>1</td>\n",
       "    </tr>\n",
       "    <tr>\n",
       "      <th>1</th>\n",
       "      <td>ABPI</td>\n",
       "      <td>ACCENTIA BIOPHARMACEUTICALS INC</td>\n",
       "      <td>2834</td>\n",
       "      <td>8.0</td>\n",
       "      <td>10.0</td>\n",
       "      <td>8.0</td>\n",
       "      <td>7.25</td>\n",
       "      <td>1</td>\n",
       "      <td>0</td>\n",
       "    </tr>\n",
       "  </tbody>\n",
       "</table>\n",
       "</div>"
      ],
      "text/plain": [
       "     I1                                  I2    I3  P_IPO   P_H  P_L  P_1DAY  \\\n",
       "0  AATI  ADVANCED ANALOGIC TECHNOLOGIES INC  3674   10.0   9.5  8.5   11.87   \n",
       "1  ABPI     ACCENTIA BIOPHARMACEUTICALS INC  2834    8.0  10.0  8.0    7.25   \n",
       "\n",
       "   Y1  Y2  \n",
       "0   0   1  \n",
       "1   1   0  "
      ]
     },
     "execution_count": 7,
     "metadata": {},
     "output_type": "execute_result"
    }
   ],
   "source": [
    "df = pd.read_csv('Targets', index_col=0)\n",
    "df.head(2)"
   ]
  },
  {
   "cell_type": "code",
   "execution_count": 24,
   "metadata": {},
   "outputs": [
    {
     "name": "stdout",
     "output_type": "stream",
     "text": [
      "I1        2\n",
      "I2        2\n",
      "I3        2\n",
      "P_IPO     2\n",
      "P_H       2\n",
      "P_L       2\n",
      "P_1DAY    2\n",
      "Y1        2\n",
      "Y2        2\n",
      "dtype: int64\n"
     ]
    }
   ],
   "source": [
    "Div1 = df[df.I3 < 999].count() \n",
    "print(Div1)\n",
    "# 2 attributes fall within the Agriculture, Forestry and Fishing\n",
    "# Division "
   ]
  },
  {
   "cell_type": "code",
   "execution_count": 27,
   "metadata": {},
   "outputs": [
    {
     "name": "stdout",
     "output_type": "stream",
     "text": [
      "I1        31\n",
      "I2        31\n",
      "I3        31\n",
      "P_IPO     31\n",
      "P_H       31\n",
      "P_L       31\n",
      "P_1DAY    31\n",
      "Y1        31\n",
      "Y2        31\n",
      "dtype: int64\n"
     ]
    }
   ],
   "source": [
    "Div2 = df.loc[(df['I3'] >= 1000) & (df['I3'] <= 1499)].count()\n",
    "print(Div2)\n",
    "# 31 attributes fall within Mining "
   ]
  },
  {
   "cell_type": "code",
   "execution_count": 28,
   "metadata": {},
   "outputs": [
    {
     "name": "stdout",
     "output_type": "stream",
     "text": [
      "I1        2\n",
      "I2        2\n",
      "I3        2\n",
      "P_IPO     2\n",
      "P_H       2\n",
      "P_L       2\n",
      "P_1DAY    2\n",
      "Y1        2\n",
      "Y2        2\n",
      "dtype: int64\n"
     ]
    }
   ],
   "source": [
    "Div3 = df.loc[(df['I3'] >= 1500) & (df['I3'] <= 1799)].count()\n",
    "print(Div3)\n",
    "# 2 attributes fall within Construction "
   ]
  },
  {
   "cell_type": "code",
   "execution_count": 31,
   "metadata": {},
   "outputs": [
    {
     "name": "stdout",
     "output_type": "stream",
     "text": [
      "I1        0\n",
      "I2        0\n",
      "I3        0\n",
      "P_IPO     0\n",
      "P_H       0\n",
      "P_L       0\n",
      "P_1DAY    0\n",
      "Y1        0\n",
      "Y2        0\n",
      "dtype: int64\n"
     ]
    }
   ],
   "source": [
    "Div4 = df.loc[(df['I3'] >= 1800) & (df['I3'] <= 1999)].count()\n",
    "print(Div4)\n",
    "# This range of SIC code is not used\n",
    "# Therefore, we want to see 0 attributes here "
   ]
  },
  {
   "cell_type": "code",
   "execution_count": 32,
   "metadata": {},
   "outputs": [
    {
     "name": "stdout",
     "output_type": "stream",
     "text": [
      "I1        308\n",
      "I2        308\n",
      "I3        308\n",
      "P_IPO     308\n",
      "P_H       308\n",
      "P_L       308\n",
      "P_1DAY    308\n",
      "Y1        308\n",
      "Y2        308\n",
      "dtype: int64\n"
     ]
    }
   ],
   "source": [
    "Div5 = df.loc[(df['I3'] >= 2000) & (df['I3'] <= 3999)].count()\n",
    "print(Div5)\n",
    "# 308 attributes all within Manufacturing "
   ]
  },
  {
   "cell_type": "code",
   "execution_count": 33,
   "metadata": {},
   "outputs": [
    {
     "name": "stdout",
     "output_type": "stream",
     "text": [
      "I1        60\n",
      "I2        60\n",
      "I3        60\n",
      "P_IPO     60\n",
      "P_H       60\n",
      "P_L       60\n",
      "P_1DAY    60\n",
      "Y1        60\n",
      "Y2        60\n",
      "dtype: int64\n"
     ]
    }
   ],
   "source": [
    "Div6 = df.loc[(df['I3'] >= 4000) & (df['I3'] <= 4999)].count()\n",
    "print(Div6)\n",
    "# 60 Attributes fall within Transportation"
   ]
  },
  {
   "cell_type": "code",
   "execution_count": 34,
   "metadata": {},
   "outputs": [
    {
     "name": "stdout",
     "output_type": "stream",
     "text": [
      "I1        14\n",
      "I2        14\n",
      "I3        14\n",
      "P_IPO     14\n",
      "P_H       14\n",
      "P_L       14\n",
      "P_1DAY    14\n",
      "Y1        14\n",
      "Y2        14\n",
      "dtype: int64\n"
     ]
    }
   ],
   "source": [
    "Div7 = df.loc[(df['I3'] >= 5000) & (df['I3'] <= 5199)].count()\n",
    "print(Div7)\n",
    "# 14 Attributes fall within Wholesale Trade"
   ]
  },
  {
   "cell_type": "code",
   "execution_count": 35,
   "metadata": {},
   "outputs": [
    {
     "name": "stdout",
     "output_type": "stream",
     "text": [
      "I1        50\n",
      "I2        50\n",
      "I3        50\n",
      "P_IPO     50\n",
      "P_H       50\n",
      "P_L       50\n",
      "P_1DAY    50\n",
      "Y1        50\n",
      "Y2        50\n",
      "dtype: int64\n"
     ]
    }
   ],
   "source": [
    "Div8 = df.loc[(df['I3'] >= 5200) & (df['I3'] <= 5999)].count()\n",
    "print(Div8)\n",
    "# 50 Attributes fall within Retail Trade"
   ]
  },
  {
   "cell_type": "code",
   "execution_count": 36,
   "metadata": {},
   "outputs": [
    {
     "name": "stdout",
     "output_type": "stream",
     "text": [
      "I1        6\n",
      "I2        6\n",
      "I3        6\n",
      "P_IPO     6\n",
      "P_H       6\n",
      "P_L       6\n",
      "P_1DAY    6\n",
      "Y1        6\n",
      "Y2        6\n",
      "dtype: int64\n"
     ]
    }
   ],
   "source": [
    "Div9 = df.loc[(df['I3'] >= 6000) & (df['I3'] <= 6799)].count()\n",
    "print(Div9)\n",
    "# 6 Attributes fall within Finance, Insurance & Real Estate"
   ]
  },
  {
   "cell_type": "code",
   "execution_count": 37,
   "metadata": {},
   "outputs": [
    {
     "name": "stdout",
     "output_type": "stream",
     "text": [
      "I1        209\n",
      "I2        209\n",
      "I3        209\n",
      "P_IPO     209\n",
      "P_H       209\n",
      "P_L       209\n",
      "P_1DAY    209\n",
      "Y1        209\n",
      "Y2        209\n",
      "dtype: int64\n"
     ]
    }
   ],
   "source": [
    "Div10 = df.loc[(df['I3'] >= 7000) & (df['I3'] <= 8999)].count()\n",
    "print(Div10)\n",
    "# 209 Attributes fall within Services"
   ]
  },
  {
   "cell_type": "code",
   "execution_count": 39,
   "metadata": {},
   "outputs": [
    {
     "name": "stdout",
     "output_type": "stream",
     "text": [
      "I1        0\n",
      "I2        0\n",
      "I3        0\n",
      "P_IPO     0\n",
      "P_H       0\n",
      "P_L       0\n",
      "P_1DAY    0\n",
      "Y1        0\n",
      "Y2        0\n",
      "dtype: int64\n"
     ]
    }
   ],
   "source": [
    "Div11 = df.loc[(df['I3'] >= 9000) & (df['I3'] <= 9729)].count()\n",
    "print(Div11)\n",
    "# 0 Attributes fall within Public Admin"
   ]
  },
  {
   "cell_type": "code",
   "execution_count": 40,
   "metadata": {},
   "outputs": [
    {
     "name": "stdout",
     "output_type": "stream",
     "text": [
      "I1        0\n",
      "I2        0\n",
      "I3        0\n",
      "P_IPO     0\n",
      "P_H       0\n",
      "P_L       0\n",
      "P_1DAY    0\n",
      "Y1        0\n",
      "Y2        0\n",
      "dtype: int64\n"
     ]
    }
   ],
   "source": [
    "Div12 = df.loc[(df['I3'] >= 9900) & (df['I3'] <= 9999)].count()\n",
    "print(Div12)\n",
    "# 0 Attributes fall within Nonclassifiable"
   ]
  },
  {
   "cell_type": "code",
   "execution_count": 41,
   "metadata": {},
   "outputs": [
    {
     "data": {
      "text/plain": [
       "<matplotlib.axes._subplots.AxesSubplot at 0x7f48be385a20>"
      ]
     },
     "execution_count": 41,
     "metadata": {},
     "output_type": "execute_result"
    },
    {
     "data": {
      "image/png": "[encoded data removed]",
      "text/plain": [
       "<Figure size 432x288 with 1 Axes>"
      ]
     },
     "metadata": {},
     "output_type": "display_data"
    }
   ],
   "source": [
    "df['I3'].hist()\n",
    "# Looking at the Distribution of the SIC Codes "
   ]
  },
  {
   "cell_type": "code",
   "execution_count": 42,
   "metadata": {},
   "outputs": [
    {
     "data": {
      "text/plain": [
       "count     682.000000\n",
       "mean     4871.668622\n",
       "std      2072.423003\n",
       "min       100.000000\n",
       "25%      3288.750000\n",
       "50%      3990.000000\n",
       "75%      7371.750000\n",
       "max      8748.000000\n",
       "Name: I3, dtype: float64"
      ]
     },
     "execution_count": 42,
     "metadata": {},
     "output_type": "execute_result"
    }
   ],
   "source": [
    "df['I3'].describe()"
   ]
  },
  {
   "cell_type": "code",
   "execution_count": 46,
   "metadata": {},
   "outputs": [
    {
     "data": {
      "text/html": [
       "<div>\n",
       "<style scoped>\n",
       "    .dataframe tbody tr th:only-of-type {\n",
       "        vertical-align: middle;\n",
       "    }\n",
       "\n",
       "    .dataframe tbody tr th {\n",
       "        vertical-align: top;\n",
       "    }\n",
       "\n",
       "    .dataframe thead th {\n",
       "        text-align: right;\n",
       "    }\n",
       "</style>\n",
       "<table border=\"1\" class=\"dataframe\">\n",
       "  <thead>\n",
       "    <tr style=\"text-align: right;\">\n",
       "      <th></th>\n",
       "      <th>I1</th>\n",
       "      <th>I2</th>\n",
       "      <th>I3</th>\n",
       "      <th>P_IPO</th>\n",
       "      <th>P_H</th>\n",
       "      <th>P_L</th>\n",
       "      <th>P_1DAY</th>\n",
       "      <th>Y1</th>\n",
       "      <th>Y2</th>\n",
       "      <th>I3_Bins</th>\n",
       "    </tr>\n",
       "  </thead>\n",
       "  <tbody>\n",
       "    <tr>\n",
       "      <th>0</th>\n",
       "      <td>AATI</td>\n",
       "      <td>ADVANCED ANALOGIC TECHNOLOGIES INC</td>\n",
       "      <td>3674</td>\n",
       "      <td>10.0</td>\n",
       "      <td>9.5</td>\n",
       "      <td>8.5</td>\n",
       "      <td>11.87</td>\n",
       "      <td>0</td>\n",
       "      <td>1</td>\n",
       "      <td>3</td>\n",
       "    </tr>\n",
       "    <tr>\n",
       "      <th>1</th>\n",
       "      <td>ABPI</td>\n",
       "      <td>ACCENTIA BIOPHARMACEUTICALS INC</td>\n",
       "      <td>2834</td>\n",
       "      <td>8.0</td>\n",
       "      <td>10.0</td>\n",
       "      <td>8.0</td>\n",
       "      <td>7.25</td>\n",
       "      <td>1</td>\n",
       "      <td>0</td>\n",
       "      <td>2</td>\n",
       "    </tr>\n",
       "  </tbody>\n",
       "</table>\n",
       "</div>"
      ],
      "text/plain": [
       "     I1                                  I2    I3  P_IPO   P_H  P_L  P_1DAY  \\\n",
       "0  AATI  ADVANCED ANALOGIC TECHNOLOGIES INC  3674   10.0   9.5  8.5   11.87   \n",
       "1  ABPI     ACCENTIA BIOPHARMACEUTICALS INC  2834    8.0  10.0  8.0    7.25   \n",
       "\n",
       "   Y1  Y2  I3_Bins  \n",
       "0   0   1        3  \n",
       "1   1   0        2  "
      ]
     },
     "execution_count": 46,
     "metadata": {},
     "output_type": "execute_result"
    }
   ],
   "source": [
    "def binning(I3):\n",
    "    if I3 < 1730:                \n",
    "        return(1)\n",
    "    if I3 >= 1730 and I3 <= 3460:        \n",
    "        return(2)\n",
    "    if I3 >= 3461 and I3 <= 5190:      \n",
    "        return(3)\n",
    "    if I3 >= 5191 and I3 <= 6920:      \n",
    "        return(4)\n",
    "    if I3 >= 6921:                   \n",
    "        return(5)\n",
    "df['I3_Bins'] = df['I3'].apply(binning)\n",
    "df.head(2)"
   ]
  },
  {
   "cell_type": "code",
   "execution_count": 45,
   "metadata": {},
   "outputs": [
    {
     "data": {
      "text/plain": [
       "<matplotlib.axes._subplots.AxesSubplot at 0x7f48bc2c3da0>"
      ]
     },
     "execution_count": 45,
     "metadata": {},
     "output_type": "execute_result"
    },
    {
     "data": {
      "image/png": "[encoded data removed]",
      "text/plain": [
       "<Figure size 432x288 with 1 Axes>"
      ]
     },
     "metadata": {},
     "output_type": "display_data"
    }
   ],
   "source": [
    "df['I3_Bins'].hist()"
   ]
  },
  {
   "cell_type": "code",
   "execution_count": null,
   "metadata": {},
   "outputs": [],
   "source": []
  }
 ],
 "metadata": {
  "kernelspec": {
   "display_name": "Python 3",
   "language": "python",
   "name": "python3"
  },
  "language_info": {
   "codemirror_mode": {
    "name": "ipython",
    "version": 3
   },
   "file_extension": ".py",
   "mimetype": "text/x-python",
   "name": "python",
   "nbconvert_exporter": "python",
   "pygments_lexer": "ipython3",
   "version": "3.6.5"
  }
 },
 "nbformat": 4,
 "nbformat_minor": 2
}
