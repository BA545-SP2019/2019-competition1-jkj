{
 "cells": [
  {
   "cell_type": "markdown",
   "metadata": {},
   "source": [
    "**Standardization**"
   ]
  },
  {
   "cell_type": "code",
   "execution_count": 1,
   "metadata": {},
   "outputs": [],
   "source": [
    "import numpy as np \n",
    "import pandas as pd\n",
    "import matplotlib.pyplot as plt\n",
    "from sklearn import preprocessing\n",
    "%matplotlib inline\n",
    "plt.style.use('ggplot')"
   ]
  },
  {
   "cell_type": "code",
   "execution_count": 2,
   "metadata": {},
   "outputs": [
    {
     "data": {
      "text/html": [
       "<div>\n",
       "<style scoped>\n",
       "    .dataframe tbody tr th:only-of-type {\n",
       "        vertical-align: middle;\n",
       "    }\n",
       "\n",
       "    .dataframe tbody tr th {\n",
       "        vertical-align: top;\n",
       "    }\n",
       "\n",
       "    .dataframe thead th {\n",
       "        text-align: right;\n",
       "    }\n",
       "</style>\n",
       "<table border=\"1\" class=\"dataframe\">\n",
       "  <thead>\n",
       "    <tr style=\"text-align: right;\">\n",
       "      <th></th>\n",
       "      <th>C1</th>\n",
       "      <th>C2</th>\n",
       "      <th>C4</th>\n",
       "      <th>C7</th>\n",
       "      <th>C3'</th>\n",
       "      <th>C5'</th>\n",
       "      <th>C6'</th>\n",
       "      <th>T4'</th>\n",
       "      <th>T3'</th>\n",
       "      <th>T5'</th>\n",
       "      <th>S1'</th>\n",
       "      <th>S2'</th>\n",
       "      <th>S3'</th>\n",
       "    </tr>\n",
       "  </thead>\n",
       "  <tbody>\n",
       "    <tr>\n",
       "      <th>0</th>\n",
       "      <td>2.08636</td>\n",
       "      <td>1.0</td>\n",
       "      <td>0.029074</td>\n",
       "      <td>1.710498</td>\n",
       "      <td>1</td>\n",
       "      <td>1.351792</td>\n",
       "      <td>1.306758</td>\n",
       "      <td>0.640426</td>\n",
       "      <td>0.979660</td>\n",
       "      <td>-1.241958</td>\n",
       "      <td>0.172661</td>\n",
       "      <td>-2.012621</td>\n",
       "      <td>-1.937792</td>\n",
       "    </tr>\n",
       "    <tr>\n",
       "      <th>1</th>\n",
       "      <td>2.41330</td>\n",
       "      <td>0.0</td>\n",
       "      <td>-0.013352</td>\n",
       "      <td>1.413903</td>\n",
       "      <td>0</td>\n",
       "      <td>2.487306</td>\n",
       "      <td>0.000000</td>\n",
       "      <td>0.644753</td>\n",
       "      <td>1.275142</td>\n",
       "      <td>-1.031589</td>\n",
       "      <td>0.180641</td>\n",
       "      <td>-1.696991</td>\n",
       "      <td>-1.706058</td>\n",
       "    </tr>\n",
       "  </tbody>\n",
       "</table>\n",
       "</div>"
      ],
      "text/plain": [
       "        C1   C2        C4        C7  C3'       C5'       C6'       T4'  \\\n",
       "0  2.08636  1.0  0.029074  1.710498    1  1.351792  1.306758  0.640426   \n",
       "1  2.41330  0.0 -0.013352  1.413903    0  2.487306  0.000000  0.644753   \n",
       "\n",
       "        T3'       T5'       S1'       S2'       S3'  \n",
       "0  0.979660 -1.241958  0.172661 -2.012621 -1.937792  \n",
       "1  1.275142 -1.031589  0.180641 -1.696991 -1.706058  "
      ]
     },
     "execution_count": 2,
     "metadata": {},
     "output_type": "execute_result"
    }
   ],
   "source": [
    "# Creating DataFrame norm_df from CSV NormDF\n",
    "df = pd.read_csv('OutlierFix1', index_col=0)\n",
    "\n",
    "# Displaying first five results \n",
    "df.head(2)"
   ]
  },
  {
   "cell_type": "code",
   "execution_count": 3,
   "metadata": {},
   "outputs": [
    {
     "name": "stdout",
     "output_type": "stream",
     "text": [
      "[0, 0, 0, 0, 0, 0, 0, 0, 0, 0, 0, 0, 0]\n"
     ]
    }
   ],
   "source": [
    "# checking for null values \n",
    "print(df.isnull().sum(axis=0).tolist())"
   ]
  },
  {
   "cell_type": "code",
   "execution_count": 4,
   "metadata": {},
   "outputs": [],
   "source": [
    "# Column Names \n",
    "norm_names = df.columns\n",
    "\n",
    "# Scaler function from Preprocessing \n",
    "scaler = preprocessing.StandardScaler()\n",
    "\n",
    "# Transforming norm_df\n",
    "stand_df = scaler.fit_transform(df)\n",
    "\n",
    "# Making DataFrame from Standardized data \n",
    "# Using column names defined earlier \n",
    "stand_df = pd.DataFrame(stand_df, columns=norm_names)"
   ]
  },
  {
   "cell_type": "code",
   "execution_count": 5,
   "metadata": {},
   "outputs": [
    {
     "name": "stdout",
     "output_type": "stream",
     "text": [
      "           C1        C2        C4        C7       C3'       C5'       C6'  \\\n",
      "0    0.061864  0.397360  0.669354 -0.338864  0.942972  0.073941  1.286365   \n",
      "1    1.363203 -2.516611 -0.661906 -0.698536 -1.060477  2.663906 -0.769239   \n",
      "2   -0.464011  0.397360  0.407053 -1.360611 -1.060477 -0.238850 -0.769239   \n",
      "3    0.992418  0.397360  0.385343 -1.284447 -1.060477 -0.286349 -0.769239   \n",
      "4   -0.667616  0.397360 -1.337894  0.983461  0.942972 -0.009048  1.111842   \n",
      "5   -0.388840  0.397360 -2.048972  0.370875  0.942972  0.970198 -0.769239   \n",
      "6    0.144855  0.397360 -0.114127 -1.550356 -1.060477 -0.176110 -0.769239   \n",
      "7   -0.444910 -2.516611  1.031641  0.032016 -1.060477 -0.992180 -0.769239   \n",
      "8   -0.281880  0.397360 -1.162840  0.553709 -1.060477  0.576359 -0.769239   \n",
      "9   -0.181153  0.397360 -1.025062  0.853477  0.942972 -0.460893 -0.769239   \n",
      "10  -0.164921  0.397360  0.043364  0.032016  0.942972 -0.023104 -0.769239   \n",
      "11  -0.299253  0.397360  0.243010 -3.013224 -1.060477 -0.877182 -0.769239   \n",
      "12   0.117632  0.397360  0.376179 -0.687226  0.942972  0.284082  1.172942   \n",
      "13   0.299763  0.397360 -0.441126 -3.784383 -1.060477  0.075884  1.231135   \n",
      "14   2.458280  0.397360  0.487372  0.281960  0.942972 -0.063590 -0.769239   \n",
      "15   1.180330  0.397360 -2.924385  0.870454  0.942972  2.002664 -0.769239   \n",
      "16   0.103857  0.397360 -0.234955  0.929934  0.942972 -1.358578 -0.769239   \n",
      "17  -0.733687  0.397360 -0.441126  0.691863  0.942972 -1.100896 -0.769239   \n",
      "18  -0.426017  0.397360  0.912742  0.292501  0.942972  1.627070 -0.769239   \n",
      "19   0.975797  0.397360 -0.641219  0.160414  0.942972  0.041150  1.313444   \n",
      "20   0.675593  0.397360  1.177320  0.032016 -1.060477  0.540096 -0.769239   \n",
      "21  -0.711382  0.397360  1.452740  1.506674  0.942972  0.386288  1.172942   \n",
      "22  -0.948555  0.397360 -0.163074 -0.217870 -1.060477 -0.523584 -0.769239   \n",
      "23  -0.444910  0.397360  0.881267 -3.328078 -1.060477  0.069404 -0.769239   \n",
      "24  -0.264679  0.397360 -0.297739 -1.699075 -1.060477 -0.503319 -0.769239   \n",
      "25  -0.756285  0.397360 -0.367144 -1.990755 -1.060477  0.218685 -0.769239   \n",
      "26   2.458280  0.397360 -1.407579 -0.016256  0.942972  0.327247 -0.769239   \n",
      "27  -1.865825  0.397360  0.565474  0.664895 -1.060477 -1.016778  1.122594   \n",
      "28  -0.070608  0.397360  0.875451  0.778574  0.942972  0.493990 -0.769239   \n",
      "29  -0.779181  0.397360 -0.743353 -0.872417 -1.060477 -1.192521 -0.769239   \n",
      "..        ...       ...       ...       ...       ...       ...       ...   \n",
      "652 -0.181153 -2.516611 -0.137800 -0.220977  0.942972 -1.907681 -0.769239   \n",
      "653  0.287371  0.397360  0.681732  1.248553  0.942972  0.686495  1.328432   \n",
      "654 -0.214081  0.397360  0.687697  0.875653 -1.060477 -0.120232 -0.769239   \n",
      "655 -1.740808  0.397360 -1.542970  0.032016  0.942972  1.443897  1.304018   \n",
      "656 -0.117122  0.397360  0.950892 -0.102555  0.942972  0.935290  1.057797   \n",
      "657 -0.214081 -2.516611  0.906501 -0.196644 -1.060477 -1.095031 -0.769239   \n",
      "658 -0.689361  0.397360 -1.302275  1.410677  0.942972  0.827804 -0.769239   \n",
      "659  0.004237  0.397360 -0.677733  0.106139  0.942972 -2.501825  1.028977   \n",
      "660  0.348460  0.397360 -0.199713  0.854057 -1.060477 -0.895432 -0.769239   \n",
      "661 -1.136344  0.397360  0.689803  1.874933 -1.060477  0.448337 -0.769239   \n",
      "662 -0.055378  0.397360  0.399925  1.870415  0.942972 -0.539530  1.159064   \n",
      "663  0.103857  0.397360  1.124010 -0.376277 -1.060477 -1.415162  1.159064   \n",
      "664  0.089973 -2.516611 -0.191031 -0.941215 -1.060477 -0.420591 -0.769239   \n",
      "665 -0.164921  0.397360  0.290471  1.120789  0.942972  0.107223 -0.769239   \n",
      "666  1.435104  0.397360 -0.983350  0.868927  0.942972  0.756659  1.227939   \n",
      "667  0.508847 -2.516611 -1.180583 -3.346346 -1.060477 -0.140756 -0.769239   \n",
      "668 -0.197538  0.397360 -1.827313 -0.833757 -1.060477 -0.155460 -0.769239   \n",
      "669 -0.646142  0.397360  1.569327  0.165178 -1.060477 -0.709810  1.328432   \n",
      "670  2.066333  0.397360  0.311588  0.944126 -1.060477 -0.307191 -0.769239   \n",
      "671  0.714883  0.397360 -0.216474  0.032016 -1.060477  0.592256 -0.769239   \n",
      "672 -0.779181 -2.516611  2.401872  0.032016  0.942972  0.701474  1.292809   \n",
      "673 -0.407329  0.397360  0.760916 -0.613738 -1.060477 -0.700121  1.680359   \n",
      "674  1.187733 -2.516611  0.643512  0.900748 -1.060477 -0.849438 -0.769239   \n",
      "675 -0.164921  0.397360  0.043364  0.032016  0.942972 -1.014951 -0.769239   \n",
      "676  0.018825  0.397360 -1.659841  0.856035  0.942972  1.427353 -0.769239   \n",
      "677  1.712517  0.397360 -0.096426  0.339323 -1.060477  0.131942  1.425097   \n",
      "678 -0.316803  0.397360  1.598615 -0.708271 -1.060477  0.510608 -0.769239   \n",
      "679 -0.085974 -2.516611  0.711747 -0.298537  0.942972 -0.041551 -0.769239   \n",
      "680 -0.711382  0.397360  0.770080  0.098737  0.942972  0.273504  1.409418   \n",
      "681  1.504134  0.397360  0.531699  1.427625  0.942972 -0.327635  1.172942   \n",
      "\n",
      "          T4'       T3'       T5'       S1'       S2'       S3'  \n",
      "0    0.168436  0.167675  0.312555  0.016990  0.293370  0.130419  \n",
      "1    0.230670  1.823140  1.541652  0.305474  1.684954  1.496631  \n",
      "2    0.116530 -1.789733 -1.597768 -0.016751 -2.130087 -2.020675  \n",
      "3   -1.280920 -0.878252 -0.459433  0.570501 -1.017550 -0.468705  \n",
      "4   -0.593878  0.538766  0.420545  0.180462  0.756308  0.600309  \n",
      "5    0.207430  0.704961  0.735023  0.016990 -0.085420  0.806433  \n",
      "6    1.969227  0.709068  0.341805  0.626663  0.104316  0.055657  \n",
      "7    2.841945 -0.201809  0.057441 -0.227358  0.341848 -0.203597  \n",
      "8   -1.271020  0.602240  1.034231 -0.120238  0.404633  1.464013  \n",
      "9   -1.645424 -0.724587 -0.721795  0.598697 -0.208997  0.273698  \n",
      "10  -1.720912 -1.127810 -2.134863 -0.376425 -0.832105 -1.483700  \n",
      "11  -1.197224 -1.639785 -1.167887 -1.379610 -1.714459 -1.625983  \n",
      "12   0.801727 -1.724652 -2.173751 -1.873848 -1.623262 -1.284085  \n",
      "13  -1.055815 -0.258373  0.441603  0.598697  0.309666  0.111932  \n",
      "14  -0.283825  1.230613  1.011998  1.046088  1.792640  0.675844  \n",
      "15   1.093811  1.092119  0.157116  1.046088 -0.166912  0.409381  \n",
      "16  -1.556839 -1.471264 -1.513309 -1.017502 -2.130087 -1.189825  \n",
      "17   0.043160 -0.322089 -0.029422  0.335990  0.553139  0.017441  \n",
      "18  -0.244020  0.370694 -0.390585 -0.263929 -0.558100 -0.310743  \n",
      "19  -1.541909 -0.168067 -0.893306 -0.338448 -0.483002 -0.954217  \n",
      "20  -0.041979  0.386468  0.584305  0.148435  0.581506  0.820540  \n",
      "21  -0.451804  0.367717  0.256785 -0.155525 -0.609854 -1.040049  \n",
      "22  -1.361216 -1.403490 -1.734091 -1.379610 -0.146212 -0.790729  \n",
      "23  -0.343294 -1.374329 -1.174486 -0.120238 -1.810217 -0.712741  \n",
      "24   1.019634 -0.852226 -0.645558  0.050369 -1.296554 -0.898553  \n",
      "25  -0.379561 -1.039860 -0.755182 -1.017502 -0.318442 -0.267345  \n",
      "26   0.670651  0.404703  0.613868  0.868678 -0.252027  1.496631  \n",
      "27   0.072818 -0.019501  0.716274 -0.574159  1.128827  0.600309  \n",
      "28   0.740199  1.235584  0.981105  1.660452  0.939973  0.848523  \n",
      "29   0.985852  0.042321  0.065561  1.167698  0.030662  0.522479  \n",
      "..        ...       ...       ...       ...       ...       ...  \n",
      "652 -2.295075 -0.690132 -0.959216 -0.227358  0.450406 -1.011118  \n",
      "653 -0.783356 -0.206647  0.077692 -0.533506  0.067843  0.538235  \n",
      "654  0.926830  1.574033  1.387540  0.868678  1.310362  1.374946  \n",
      "655  0.784919  0.320104  0.427584 -0.155525 -0.690205 -0.060747  \n",
      "656 -1.092284 -0.304396 -0.076137 -0.969726 -0.364034 -0.080672  \n",
      "657  0.276996 -1.002285 -1.214446 -2.169770 -0.953718 -1.381947  \n",
      "658 -1.997581 -0.622533 -0.576761  0.180462  0.209742 -0.637057  \n",
      "659 -1.504812 -0.915953 -1.128648  0.455304 -0.065578 -0.764468  \n",
      "660  1.065169 -0.667116 -0.794697 -1.166365 -0.007256  0.166997  \n",
      "661  1.340480  2.135140  1.860573  1.488510  2.503066  1.518147  \n",
      "662 -0.999233 -0.200028 -0.221675 -0.533506 -0.364034 -0.515687  \n",
      "663 -2.213469  0.041592 -0.101985  1.070736 -0.187839 -0.982509  \n",
      "664 -0.019207 -1.366084 -1.135146 -1.217985 -0.802871 -1.449331  \n",
      "665  0.341187  0.361300  0.459018  0.243572  0.794477  0.553896  \n",
      "666 -1.664285 -0.143346  0.085747  0.180462  0.243633  0.166997  \n",
      "667 -0.481349 -1.873378 -1.621299 -2.091769 -1.579243 -1.738136  \n",
      "668 -1.458674 -0.561912 -0.434629 -1.217985  0.553139 -0.224670  \n",
      "669  0.142134 -1.063667 -1.102822 -2.250893 -1.494128 -0.926234  \n",
      "670 -0.559661  0.267891  0.527508  1.422013  1.096825  0.690687  \n",
      "671 -1.406384 -1.364108 -1.359480 -0.786795 -0.774077 -0.445534  \n",
      "672 -0.604950  0.333255  0.820733  0.116083  0.623285  0.705445  \n",
      "673  0.662971  0.042321  0.367125  0.816325 -0.273910  0.660914  \n",
      "674  0.531469 -0.735941 -1.109254 -0.922803 -0.985368 -2.063709  \n",
      "675  1.230527  1.039074  0.655970  0.305474  0.717362  0.930683  \n",
      "676 -0.923123 -0.454698 -0.561146 -0.155525 -0.341102 -0.422570  \n",
      "677 -0.230784  0.341315  0.260542  0.763183  0.104316  0.690687  \n",
      "678  0.265526  0.389892  0.636625  0.274670  0.435270  0.690687  \n",
      "679  0.273921 -0.736225 -0.858064 -0.922803 -0.387243 -0.982509  \n",
      "680  1.182381 -1.222729 -1.750622 -0.493425 -1.859955 -0.712741  \n",
      "681  0.603806 -0.079068  0.105774  0.945787  0.049343  0.458465  \n",
      "\n",
      "[682 rows x 13 columns]\n"
     ]
    }
   ],
   "source": [
    "# Printing new DataFrame to check the outcome \n",
    "print(stand_df)"
   ]
  },
  {
   "cell_type": "code",
   "execution_count": 6,
   "metadata": {},
   "outputs": [
    {
     "data": {
      "text/plain": [
       "C1    -1.513940e-16\n",
       "C2    -6.788314e-17\n",
       "C4     1.904635e-17\n",
       "C7    -6.511572e-18\n",
       "C3'    2.086959e-16\n",
       "C5'    1.628707e-16\n",
       "C6'   -4.232522e-18\n",
       "T4'    2.840673e-16\n",
       "T3'   -3.202473e-16\n",
       "T5'    1.078683e-16\n",
       "S1'   -3.304623e-16\n",
       "S2'    6.816802e-19\n",
       "S3'    2.098273e-15\n",
       "dtype: float64"
      ]
     },
     "execution_count": 6,
     "metadata": {},
     "output_type": "execute_result"
    }
   ],
   "source": [
    "# Checking mean for standardized \n",
    "# Want to see mean very close to 0 \n",
    "stand_df.mean()"
   ]
  },
  {
   "cell_type": "code",
   "execution_count": 7,
   "metadata": {},
   "outputs": [
    {
     "data": {
      "text/plain": [
       "C1     1.000734\n",
       "C2     1.000734\n",
       "C4     1.000734\n",
       "C7     1.000734\n",
       "C3'    1.000734\n",
       "C5'    1.000734\n",
       "C6'    1.000734\n",
       "T4'    1.000734\n",
       "T3'    1.000734\n",
       "T5'    1.000734\n",
       "S1'    1.000734\n",
       "S2'    1.000734\n",
       "S3'    1.000734\n",
       "dtype: float64"
      ]
     },
     "execution_count": 7,
     "metadata": {},
     "output_type": "execute_result"
    }
   ],
   "source": [
    "# Checking standard deviation of standardized data\n",
    "# Want std dev of each column close to 1 \n",
    "stand_df.std()"
   ]
  },
  {
   "cell_type": "code",
   "execution_count": 8,
   "metadata": {},
   "outputs": [],
   "source": [
    "# Exporting DataFrame as CSV named StandDF\n",
    "stand_df.to_csv('StandDF', ',')"
   ]
  },
  {
   "cell_type": "code",
   "execution_count": 9,
   "metadata": {},
   "outputs": [
    {
     "data": {
      "text/plain": [
       "<matplotlib.axes._subplots.AxesSubplot at 0x7f2b8d2c9128>"
      ]
     },
     "execution_count": 9,
     "metadata": {},
     "output_type": "execute_result"
    },
    {
     "data": {
      "image/png": "[encoded data removed]",
      "text/plain": [
       "<Figure size 432x288 with 1 Axes>"
      ]
     },
     "metadata": {},
     "output_type": "display_data"
    }
   ],
   "source": [
    "stand_df['C1'].hist(range=(-2,2))"
   ]
  },
  {
   "cell_type": "code",
   "execution_count": 10,
   "metadata": {},
   "outputs": [
    {
     "data": {
      "text/plain": [
       "<matplotlib.axes._subplots.AxesSubplot at 0x7f2b8b205710>"
      ]
     },
     "execution_count": 10,
     "metadata": {},
     "output_type": "execute_result"
    },
    {
     "data": {
      "image/png": "[encoded data removed]",
      "text/plain": [
       "<Figure size 432x288 with 1 Axes>"
      ]
     },
     "metadata": {},
     "output_type": "display_data"
    }
   ],
   "source": [
    "stand_df['C4'].hist(range=(-2,2))"
   ]
  },
  {
   "cell_type": "code",
   "execution_count": 11,
   "metadata": {},
   "outputs": [
    {
     "data": {
      "text/plain": [
       "<matplotlib.axes._subplots.AxesSubplot at 0x7f2b8b191080>"
      ]
     },
     "execution_count": 11,
     "metadata": {},
     "output_type": "execute_result"
    },
    {
     "data": {
      "image/png": "[encoded data removed]",
      "text/plain": [
       "<Figure size 432x288 with 1 Axes>"
      ]
     },
     "metadata": {},
     "output_type": "display_data"
    }
   ],
   "source": [
    "stand_df[\"C5'\"].hist(range=(-2,2))"
   ]
  },
  {
   "cell_type": "code",
   "execution_count": 12,
   "metadata": {},
   "outputs": [
    {
     "data": {
      "text/plain": [
       "<matplotlib.axes._subplots.AxesSubplot at 0x7f2b8b09ea90>"
      ]
     },
     "execution_count": 12,
     "metadata": {},
     "output_type": "execute_result"
    },
    {
     "data": {
      "image/png": "[encoded data removed]",
      "text/plain": [
       "<Figure size 432x288 with 1 Axes>"
      ]
     },
     "metadata": {},
     "output_type": "display_data"
    }
   ],
   "source": [
    "stand_df[\"C6'\"].hist(range=(-2,2))"
   ]
  },
  {
   "cell_type": "code",
   "execution_count": 13,
   "metadata": {},
   "outputs": [
    {
     "data": {
      "text/plain": [
       "<matplotlib.axes._subplots.AxesSubplot at 0x7f2b8b0966a0>"
      ]
     },
     "execution_count": 13,
     "metadata": {},
     "output_type": "execute_result"
    },
    {
     "data": {
      "image/png": "[encoded data removed]",
      "text/plain": [
       "<Figure size 432x288 with 1 Axes>"
      ]
     },
     "metadata": {},
     "output_type": "display_data"
    }
   ],
   "source": [
    "stand_df['C7'].hist(range=(-2,2))"
   ]
  },
  {
   "cell_type": "code",
   "execution_count": 14,
   "metadata": {},
   "outputs": [
    {
     "data": {
      "text/plain": [
       "<matplotlib.axes._subplots.AxesSubplot at 0x7f2b8afa62b0>"
      ]
     },
     "execution_count": 14,
     "metadata": {},
     "output_type": "execute_result"
    },
    {
     "data": {
      "image/png": "[encoded data removed]",
      "text/plain": [
       "<Figure size 432x288 with 1 Axes>"
      ]
     },
     "metadata": {},
     "output_type": "display_data"
    }
   ],
   "source": [
    "stand_df[\"T3'\"].hist(range=(-2,2))"
   ]
  },
  {
   "cell_type": "code",
   "execution_count": 15,
   "metadata": {},
   "outputs": [
    {
     "data": {
      "text/plain": [
       "<matplotlib.axes._subplots.AxesSubplot at 0x7f2b8afa6358>"
      ]
     },
     "execution_count": 15,
     "metadata": {},
     "output_type": "execute_result"
    },
    {
     "data": {
      "image/png": "[encoded data removed]",
      "text/plain": [
       "<Figure size 432x288 with 1 Axes>"
      ]
     },
     "metadata": {},
     "output_type": "display_data"
    }
   ],
   "source": [
    "stand_df[\"T4'\"].hist(range=(-2,2))"
   ]
  },
  {
   "cell_type": "code",
   "execution_count": 16,
   "metadata": {},
   "outputs": [
    {
     "data": {
      "text/plain": [
       "<matplotlib.axes._subplots.AxesSubplot at 0x7f2b8aea3f60>"
      ]
     },
     "execution_count": 16,
     "metadata": {},
     "output_type": "execute_result"
    },
    {
     "data": {
      "image/png": "[encoded data removed]",
      "text/plain": [
       "<Figure size 432x288 with 1 Axes>"
      ]
     },
     "metadata": {},
     "output_type": "display_data"
    }
   ],
   "source": [
    "stand_df[\"T5'\"].hist(range=(-2,2))"
   ]
  },
  {
   "cell_type": "code",
   "execution_count": 17,
   "metadata": {},
   "outputs": [
    {
     "data": {
      "text/plain": [
       "<matplotlib.axes._subplots.AxesSubplot at 0x7f2b8af2c978>"
      ]
     },
     "execution_count": 17,
     "metadata": {},
     "output_type": "execute_result"
    },
    {
     "data": {
      "image/png": "[encoded data removed]",
      "text/plain": [
       "<Figure size 432x288 with 1 Axes>"
      ]
     },
     "metadata": {},
     "output_type": "display_data"
    }
   ],
   "source": [
    "stand_df[\"S1'\"].hist(range=(-2,2))"
   ]
  },
  {
   "cell_type": "code",
   "execution_count": 18,
   "metadata": {},
   "outputs": [
    {
     "data": {
      "text/plain": [
       "<matplotlib.axes._subplots.AxesSubplot at 0x7f2b8ae28b38>"
      ]
     },
     "execution_count": 18,
     "metadata": {},
     "output_type": "execute_result"
    },
    {
     "data": {
      "image/png": "[encoded data removed]",
      "text/plain": [
       "<Figure size 432x288 with 1 Axes>"
      ]
     },
     "metadata": {},
     "output_type": "display_data"
    }
   ],
   "source": [
    "stand_df[\"S2'\"].hist(range=(-2,2))"
   ]
  },
  {
   "cell_type": "code",
   "execution_count": 19,
   "metadata": {},
   "outputs": [
    {
     "data": {
      "text/plain": [
       "<matplotlib.axes._subplots.AxesSubplot at 0x7f2b8ad767f0>"
      ]
     },
     "execution_count": 19,
     "metadata": {},
     "output_type": "execute_result"
    },
    {
     "data": {
      "image/png": "[encoded data removed]",
      "text/plain": [
       "<Figure size 432x288 with 1 Axes>"
      ]
     },
     "metadata": {},
     "output_type": "display_data"
    }
   ],
   "source": [
    "stand_df[\"S3'\"].hist(range=(-2,2))"
   ]
  },
  {
   "cell_type": "code",
   "execution_count": 21,
   "metadata": {},
   "outputs": [],
   "source": [
    "# Exporting DataFrame as CSV named CompDF1\n",
    "df.to_csv('CompDF1', ',')"
   ]
  }
 ],
 "metadata": {
  "kernelspec": {
   "display_name": "Python 3",
   "language": "python",
   "name": "python3"
  },
  "language_info": {
   "codemirror_mode": {
    "name": "ipython",
    "version": 3
   },
   "file_extension": ".py",
   "mimetype": "text/x-python",
   "name": "python",
   "nbconvert_exporter": "python",
   "pygments_lexer": "ipython3",
   "version": "3.6.5"
  }
 },
 "nbformat": 4,
 "nbformat_minor": 2
}
