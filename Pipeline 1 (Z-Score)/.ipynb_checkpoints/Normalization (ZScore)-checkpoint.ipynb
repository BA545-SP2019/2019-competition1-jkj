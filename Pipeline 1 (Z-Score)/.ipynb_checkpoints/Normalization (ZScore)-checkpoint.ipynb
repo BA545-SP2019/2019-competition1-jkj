{
 "cells": [
  {
   "cell_type": "markdown",
   "metadata": {},
   "source": [
    "**Standardization**"
   ]
  },
  {
   "cell_type": "code",
   "execution_count": 5,
   "metadata": {},
   "outputs": [],
   "source": [
    "import numpy as np \n",
    "import pandas as pd\n",
    "import matplotlib.pyplot as plt\n",
    "from sklearn import preprocessing\n",
    "%matplotlib inline\n",
    "plt.style.use('ggplot')"
   ]
  },
  {
   "cell_type": "code",
   "execution_count": 6,
   "metadata": {},
   "outputs": [
    {
     "data": {
      "text/html": [
       "<div>\n",
       "<style scoped>\n",
       "    .dataframe tbody tr th:only-of-type {\n",
       "        vertical-align: middle;\n",
       "    }\n",
       "\n",
       "    .dataframe tbody tr th {\n",
       "        vertical-align: top;\n",
       "    }\n",
       "\n",
       "    .dataframe thead th {\n",
       "        text-align: right;\n",
       "    }\n",
       "</style>\n",
       "<table border=\"1\" class=\"dataframe\">\n",
       "  <thead>\n",
       "    <tr style=\"text-align: right;\">\n",
       "      <th></th>\n",
       "      <th>I1</th>\n",
       "      <th>I2</th>\n",
       "      <th>I3</th>\n",
       "      <th>P_IPO</th>\n",
       "      <th>P_H</th>\n",
       "      <th>P_L</th>\n",
       "      <th>P_1DAY</th>\n",
       "      <th>C1</th>\n",
       "      <th>C2</th>\n",
       "      <th>C3</th>\n",
       "      <th>...</th>\n",
       "      <th>T5</th>\n",
       "      <th>S1</th>\n",
       "      <th>S2</th>\n",
       "      <th>S3</th>\n",
       "      <th>Y1</th>\n",
       "      <th>Y2</th>\n",
       "      <th>C3'</th>\n",
       "      <th>C5'</th>\n",
       "      <th>P(mid)</th>\n",
       "      <th>C6'</th>\n",
       "    </tr>\n",
       "  </thead>\n",
       "  <tbody>\n",
       "    <tr>\n",
       "      <th>0</th>\n",
       "      <td>AATI</td>\n",
       "      <td>ADVANCED ANALOGIC TECHNOLOGIES INC</td>\n",
       "      <td>3674</td>\n",
       "      <td>1.000000</td>\n",
       "      <td>2.117912</td>\n",
       "      <td>0.929419</td>\n",
       "      <td>1.510341</td>\n",
       "      <td>2.086360</td>\n",
       "      <td>1.0</td>\n",
       "      <td>1.508104</td>\n",
       "      <td>...</td>\n",
       "      <td>2.838849</td>\n",
       "      <td>3.957892</td>\n",
       "      <td>2.068186</td>\n",
       "      <td>2.143015</td>\n",
       "      <td>0</td>\n",
       "      <td>1</td>\n",
       "      <td>1</td>\n",
       "      <td>0.587076</td>\n",
       "      <td>9.0</td>\n",
       "      <td>1.306758</td>\n",
       "    </tr>\n",
       "    <tr>\n",
       "      <th>1</th>\n",
       "      <td>ABPI</td>\n",
       "      <td>ACCENTIA BIOPHARMACEUTICALS INC</td>\n",
       "      <td>2834</td>\n",
       "      <td>0.903090</td>\n",
       "      <td>2.154435</td>\n",
       "      <td>0.903090</td>\n",
       "      <td>1.391200</td>\n",
       "      <td>2.413300</td>\n",
       "      <td>0.0</td>\n",
       "      <td>-1.174460</td>\n",
       "      <td>...</td>\n",
       "      <td>3.049218</td>\n",
       "      <td>4.140818</td>\n",
       "      <td>2.383815</td>\n",
       "      <td>2.374748</td>\n",
       "      <td>1</td>\n",
       "      <td>0</td>\n",
       "      <td>0</td>\n",
       "      <td>1.080223</td>\n",
       "      <td>9.0</td>\n",
       "      <td>0.000000</td>\n",
       "    </tr>\n",
       "    <tr>\n",
       "      <th>2</th>\n",
       "      <td>ACAD</td>\n",
       "      <td>ACADIA PHARMACEUTICALS INC</td>\n",
       "      <td>2834</td>\n",
       "      <td>0.845098</td>\n",
       "      <td>2.410142</td>\n",
       "      <td>1.079181</td>\n",
       "      <td>1.373027</td>\n",
       "      <td>1.954243</td>\n",
       "      <td>1.0</td>\n",
       "      <td>-1.074337</td>\n",
       "      <td>...</td>\n",
       "      <td>2.511883</td>\n",
       "      <td>3.936497</td>\n",
       "      <td>1.518514</td>\n",
       "      <td>1.778151</td>\n",
       "      <td>1</td>\n",
       "      <td>0</td>\n",
       "      <td>0</td>\n",
       "      <td>0.527518</td>\n",
       "      <td>13.0</td>\n",
       "      <td>0.000000</td>\n",
       "    </tr>\n",
       "    <tr>\n",
       "      <th>3</th>\n",
       "      <td>ACHN</td>\n",
       "      <td>ACHILLION PHARMACEUTICALS INC</td>\n",
       "      <td>2834</td>\n",
       "      <td>1.060698</td>\n",
       "      <td>2.519842</td>\n",
       "      <td>1.146128</td>\n",
       "      <td>1.521173</td>\n",
       "      <td>2.320146</td>\n",
       "      <td>1.0</td>\n",
       "      <td>-0.969052</td>\n",
       "      <td>...</td>\n",
       "      <td>2.706718</td>\n",
       "      <td>4.308869</td>\n",
       "      <td>1.770852</td>\n",
       "      <td>2.041393</td>\n",
       "      <td>1</td>\n",
       "      <td>1</td>\n",
       "      <td>0</td>\n",
       "      <td>0.518474</td>\n",
       "      <td>15.0</td>\n",
       "      <td>0.000000</td>\n",
       "    </tr>\n",
       "    <tr>\n",
       "      <th>4</th>\n",
       "      <td>ACLI</td>\n",
       "      <td>AMERICAN COMMERCIAL LINES INC.</td>\n",
       "      <td>4492</td>\n",
       "      <td>1.322219</td>\n",
       "      <td>2.758924</td>\n",
       "      <td>1.278754</td>\n",
       "      <td>1.959459</td>\n",
       "      <td>1.903090</td>\n",
       "      <td>1.0</td>\n",
       "      <td>0.412129</td>\n",
       "      <td>...</td>\n",
       "      <td>2.857332</td>\n",
       "      <td>4.061548</td>\n",
       "      <td>2.173186</td>\n",
       "      <td>2.222716</td>\n",
       "      <td>0</td>\n",
       "      <td>1</td>\n",
       "      <td>1</td>\n",
       "      <td>0.571274</td>\n",
       "      <td>20.0</td>\n",
       "      <td>1.195813</td>\n",
       "    </tr>\n",
       "  </tbody>\n",
       "</table>\n",
       "<p>5 rows × 28 columns</p>\n",
       "</div>"
      ],
      "text/plain": [
       "     I1                                  I2    I3     P_IPO       P_H  \\\n",
       "0  AATI  ADVANCED ANALOGIC TECHNOLOGIES INC  3674  1.000000  2.117912   \n",
       "1  ABPI     ACCENTIA BIOPHARMACEUTICALS INC  2834  0.903090  2.154435   \n",
       "2  ACAD          ACADIA PHARMACEUTICALS INC  2834  0.845098  2.410142   \n",
       "3  ACHN       ACHILLION PHARMACEUTICALS INC  2834  1.060698  2.519842   \n",
       "4  ACLI     AMERICAN COMMERCIAL LINES INC.   4492  1.322219  2.758924   \n",
       "\n",
       "        P_L    P_1DAY        C1   C2        C3    ...           T5        S1  \\\n",
       "0  0.929419  1.510341  2.086360  1.0  1.508104    ...     2.838849  3.957892   \n",
       "1  0.903090  1.391200  2.413300  0.0 -1.174460    ...     3.049218  4.140818   \n",
       "2  1.079181  1.373027  1.954243  1.0 -1.074337    ...     2.511883  3.936497   \n",
       "3  1.146128  1.521173  2.320146  1.0 -0.969052    ...     2.706718  4.308869   \n",
       "4  1.278754  1.959459  1.903090  1.0  0.412129    ...     2.857332  4.061548   \n",
       "\n",
       "         S2        S3  Y1  Y2  C3'       C5'  P(mid)       C6'  \n",
       "0  2.068186  2.143015   0   1    1  0.587076     9.0  1.306758  \n",
       "1  2.383815  2.374748   1   0    0  1.080223     9.0  0.000000  \n",
       "2  1.518514  1.778151   1   0    0  0.527518    13.0  0.000000  \n",
       "3  1.770852  2.041393   1   1    0  0.518474    15.0  0.000000  \n",
       "4  2.173186  2.222716   0   1    1  0.571274    20.0  1.195813  \n",
       "\n",
       "[5 rows x 28 columns]"
      ]
     },
     "execution_count": 6,
     "metadata": {},
     "output_type": "execute_result"
    }
   ],
   "source": [
    "# Creating DataFrame norm_df from CSV NormDF\n",
    "norm_df = pd.read_csv('OutlierFix1', index_col=0)\n",
    "\n",
    "# Displaying first five results \n",
    "norm_df.head()"
   ]
  },
  {
   "cell_type": "code",
   "execution_count": 7,
   "metadata": {},
   "outputs": [
    {
     "name": "stdout",
     "output_type": "stream",
     "text": [
      "[0, 0, 0, 0, 0, 0, 0, 0, 0, 0, 0, 0, 0, 0, 0, 0, 0, 0, 1, 0, 0, 0, 0, 0, 0, 0, 0, 0]\n"
     ]
    }
   ],
   "source": [
    "# checking for null values \n",
    "print(norm_df.isnull().sum(axis=0).tolist())\n",
    "# T5 has NULL value, fixing NULL "
   ]
  },
  {
   "cell_type": "code",
   "execution_count": 8,
   "metadata": {},
   "outputs": [],
   "source": [
    "norm_df['T5'].fillna(norm_df['T5'].median(), inplace=True)"
   ]
  },
  {
   "cell_type": "code",
   "execution_count": 9,
   "metadata": {},
   "outputs": [
    {
     "name": "stdout",
     "output_type": "stream",
     "text": [
      "[0, 0, 0, 0, 0, 0, 0, 0, 0, 0, 0, 0, 0, 0, 0, 0, 0, 0, 0, 0, 0, 0, 0, 0, 0, 0, 0, 0]\n"
     ]
    }
   ],
   "source": [
    "# checking for null values \n",
    "print(norm_df.isnull().sum(axis=0).tolist())"
   ]
  },
  {
   "cell_type": "code",
   "execution_count": 10,
   "metadata": {},
   "outputs": [
    {
     "data": {
      "text/html": [
       "<div>\n",
       "<style scoped>\n",
       "    .dataframe tbody tr th:only-of-type {\n",
       "        vertical-align: middle;\n",
       "    }\n",
       "\n",
       "    .dataframe tbody tr th {\n",
       "        vertical-align: top;\n",
       "    }\n",
       "\n",
       "    .dataframe thead th {\n",
       "        text-align: right;\n",
       "    }\n",
       "</style>\n",
       "<table border=\"1\" class=\"dataframe\">\n",
       "  <thead>\n",
       "    <tr style=\"text-align: right;\">\n",
       "      <th></th>\n",
       "      <th>I1</th>\n",
       "      <th>I2</th>\n",
       "      <th>I3</th>\n",
       "    </tr>\n",
       "  </thead>\n",
       "  <tbody>\n",
       "    <tr>\n",
       "      <th>0</th>\n",
       "      <td>AATI</td>\n",
       "      <td>ADVANCED ANALOGIC TECHNOLOGIES INC</td>\n",
       "      <td>3674</td>\n",
       "    </tr>\n",
       "    <tr>\n",
       "      <th>1</th>\n",
       "      <td>ABPI</td>\n",
       "      <td>ACCENTIA BIOPHARMACEUTICALS INC</td>\n",
       "      <td>2834</td>\n",
       "    </tr>\n",
       "    <tr>\n",
       "      <th>2</th>\n",
       "      <td>ACAD</td>\n",
       "      <td>ACADIA PHARMACEUTICALS INC</td>\n",
       "      <td>2834</td>\n",
       "    </tr>\n",
       "    <tr>\n",
       "      <th>3</th>\n",
       "      <td>ACHN</td>\n",
       "      <td>ACHILLION PHARMACEUTICALS INC</td>\n",
       "      <td>2834</td>\n",
       "    </tr>\n",
       "    <tr>\n",
       "      <th>4</th>\n",
       "      <td>ACLI</td>\n",
       "      <td>AMERICAN COMMERCIAL LINES INC.</td>\n",
       "      <td>4492</td>\n",
       "    </tr>\n",
       "  </tbody>\n",
       "</table>\n",
       "</div>"
      ],
      "text/plain": [
       "     I1                                  I2    I3\n",
       "0  AATI  ADVANCED ANALOGIC TECHNOLOGIES INC  3674\n",
       "1  ABPI     ACCENTIA BIOPHARMACEUTICALS INC  2834\n",
       "2  ACAD          ACADIA PHARMACEUTICALS INC  2834\n",
       "3  ACHN       ACHILLION PHARMACEUTICALS INC  2834\n",
       "4  ACLI     AMERICAN COMMERCIAL LINES INC.   4492"
      ]
     },
     "execution_count": 10,
     "metadata": {},
     "output_type": "execute_result"
    }
   ],
   "source": [
    "# Taking catagorical variables and putting them in df_I\n",
    "# This way, they do not interfere with Standardization\n",
    "df_I = norm_df.iloc[:,:3]\n",
    "\n",
    "# Checking df_I \n",
    "df_I.head()"
   ]
  },
  {
   "cell_type": "code",
   "execution_count": 11,
   "metadata": {},
   "outputs": [
    {
     "data": {
      "text/html": [
       "<div>\n",
       "<style scoped>\n",
       "    .dataframe tbody tr th:only-of-type {\n",
       "        vertical-align: middle;\n",
       "    }\n",
       "\n",
       "    .dataframe tbody tr th {\n",
       "        vertical-align: top;\n",
       "    }\n",
       "\n",
       "    .dataframe thead th {\n",
       "        text-align: right;\n",
       "    }\n",
       "</style>\n",
       "<table border=\"1\" class=\"dataframe\">\n",
       "  <thead>\n",
       "    <tr style=\"text-align: right;\">\n",
       "      <th></th>\n",
       "      <th>P_IPO</th>\n",
       "      <th>P_H</th>\n",
       "      <th>P_L</th>\n",
       "      <th>P_1DAY</th>\n",
       "      <th>C1</th>\n",
       "      <th>C2</th>\n",
       "      <th>C3</th>\n",
       "      <th>C4</th>\n",
       "      <th>C5</th>\n",
       "      <th>C6</th>\n",
       "      <th>...</th>\n",
       "      <th>T5</th>\n",
       "      <th>S1</th>\n",
       "      <th>S2</th>\n",
       "      <th>S3</th>\n",
       "      <th>Y1</th>\n",
       "      <th>Y2</th>\n",
       "      <th>C3'</th>\n",
       "      <th>C5'</th>\n",
       "      <th>P(mid)</th>\n",
       "      <th>C6'</th>\n",
       "    </tr>\n",
       "  </thead>\n",
       "  <tbody>\n",
       "    <tr>\n",
       "      <th>0</th>\n",
       "      <td>1.000000</td>\n",
       "      <td>2.117912</td>\n",
       "      <td>0.929419</td>\n",
       "      <td>1.510341</td>\n",
       "      <td>2.086360</td>\n",
       "      <td>1.0</td>\n",
       "      <td>1.508104</td>\n",
       "      <td>0.029074</td>\n",
       "      <td>1.967162</td>\n",
       "      <td>1.915234</td>\n",
       "      <td>...</td>\n",
       "      <td>2.838849</td>\n",
       "      <td>3.957892</td>\n",
       "      <td>2.068186</td>\n",
       "      <td>2.143015</td>\n",
       "      <td>0</td>\n",
       "      <td>1</td>\n",
       "      <td>1</td>\n",
       "      <td>0.587076</td>\n",
       "      <td>9.0</td>\n",
       "      <td>1.306758</td>\n",
       "    </tr>\n",
       "    <tr>\n",
       "      <th>1</th>\n",
       "      <td>0.903090</td>\n",
       "      <td>2.154435</td>\n",
       "      <td>0.903090</td>\n",
       "      <td>1.391200</td>\n",
       "      <td>2.413300</td>\n",
       "      <td>0.0</td>\n",
       "      <td>-1.174460</td>\n",
       "      <td>-0.013352</td>\n",
       "      <td>1.953986</td>\n",
       "      <td>1.854720</td>\n",
       "      <td>...</td>\n",
       "      <td>3.049218</td>\n",
       "      <td>4.140818</td>\n",
       "      <td>2.383815</td>\n",
       "      <td>2.374748</td>\n",
       "      <td>1</td>\n",
       "      <td>0</td>\n",
       "      <td>0</td>\n",
       "      <td>1.080223</td>\n",
       "      <td>9.0</td>\n",
       "      <td>0.000000</td>\n",
       "    </tr>\n",
       "    <tr>\n",
       "      <th>2</th>\n",
       "      <td>0.845098</td>\n",
       "      <td>2.410142</td>\n",
       "      <td>1.079181</td>\n",
       "      <td>1.373027</td>\n",
       "      <td>1.954243</td>\n",
       "      <td>1.0</td>\n",
       "      <td>-1.074337</td>\n",
       "      <td>0.020715</td>\n",
       "      <td>1.933344</td>\n",
       "      <td>1.885107</td>\n",
       "      <td>...</td>\n",
       "      <td>2.511883</td>\n",
       "      <td>3.936497</td>\n",
       "      <td>1.518514</td>\n",
       "      <td>1.778151</td>\n",
       "      <td>1</td>\n",
       "      <td>0</td>\n",
       "      <td>0</td>\n",
       "      <td>0.527518</td>\n",
       "      <td>13.0</td>\n",
       "      <td>0.000000</td>\n",
       "    </tr>\n",
       "    <tr>\n",
       "      <th>3</th>\n",
       "      <td>1.060698</td>\n",
       "      <td>2.519842</td>\n",
       "      <td>1.146128</td>\n",
       "      <td>1.521173</td>\n",
       "      <td>2.320146</td>\n",
       "      <td>1.0</td>\n",
       "      <td>-0.969052</td>\n",
       "      <td>0.020023</td>\n",
       "      <td>1.928444</td>\n",
       "      <td>1.880805</td>\n",
       "      <td>...</td>\n",
       "      <td>2.706718</td>\n",
       "      <td>4.308869</td>\n",
       "      <td>1.770852</td>\n",
       "      <td>2.041393</td>\n",
       "      <td>1</td>\n",
       "      <td>1</td>\n",
       "      <td>0</td>\n",
       "      <td>0.518474</td>\n",
       "      <td>15.0</td>\n",
       "      <td>0.000000</td>\n",
       "    </tr>\n",
       "    <tr>\n",
       "      <th>4</th>\n",
       "      <td>1.322219</td>\n",
       "      <td>2.758924</td>\n",
       "      <td>1.278754</td>\n",
       "      <td>1.959459</td>\n",
       "      <td>1.903090</td>\n",
       "      <td>1.0</td>\n",
       "      <td>0.412129</td>\n",
       "      <td>-0.034895</td>\n",
       "      <td>1.956366</td>\n",
       "      <td>1.905290</td>\n",
       "      <td>...</td>\n",
       "      <td>2.857332</td>\n",
       "      <td>4.061548</td>\n",
       "      <td>2.173186</td>\n",
       "      <td>2.222716</td>\n",
       "      <td>0</td>\n",
       "      <td>1</td>\n",
       "      <td>1</td>\n",
       "      <td>0.571274</td>\n",
       "      <td>20.0</td>\n",
       "      <td>1.195813</td>\n",
       "    </tr>\n",
       "  </tbody>\n",
       "</table>\n",
       "<p>5 rows × 25 columns</p>\n",
       "</div>"
      ],
      "text/plain": [
       "      P_IPO       P_H       P_L    P_1DAY        C1   C2        C3        C4  \\\n",
       "0  1.000000  2.117912  0.929419  1.510341  2.086360  1.0  1.508104  0.029074   \n",
       "1  0.903090  2.154435  0.903090  1.391200  2.413300  0.0 -1.174460 -0.013352   \n",
       "2  0.845098  2.410142  1.079181  1.373027  1.954243  1.0 -1.074337  0.020715   \n",
       "3  1.060698  2.519842  1.146128  1.521173  2.320146  1.0 -0.969052  0.020023   \n",
       "4  1.322219  2.758924  1.278754  1.959459  1.903090  1.0  0.412129 -0.034895   \n",
       "\n",
       "         C5        C6    ...           T5        S1        S2        S3  Y1  \\\n",
       "0  1.967162  1.915234    ...     2.838849  3.957892  2.068186  2.143015   0   \n",
       "1  1.953986  1.854720    ...     3.049218  4.140818  2.383815  2.374748   1   \n",
       "2  1.933344  1.885107    ...     2.511883  3.936497  1.518514  1.778151   1   \n",
       "3  1.928444  1.880805    ...     2.706718  4.308869  1.770852  2.041393   1   \n",
       "4  1.956366  1.905290    ...     2.857332  4.061548  2.173186  2.222716   0   \n",
       "\n",
       "   Y2  C3'       C5'  P(mid)       C6'  \n",
       "0   1    1  0.587076     9.0  1.306758  \n",
       "1   0    0  1.080223     9.0  0.000000  \n",
       "2   0    0  0.527518    13.0  0.000000  \n",
       "3   1    0  0.518474    15.0  0.000000  \n",
       "4   1    1  0.571274    20.0  1.195813  \n",
       "\n",
       "[5 rows x 25 columns]"
      ]
     },
     "execution_count": 11,
     "metadata": {},
     "output_type": "execute_result"
    }
   ],
   "source": [
    "# Temporarily dropping catagorical variables from \n",
    "# norm_df DataFrame \n",
    "norm_df=norm_df.drop(['I1', 'I2', 'I3'], axis=1)\n",
    "norm_df.head()"
   ]
  },
  {
   "cell_type": "code",
   "execution_count": 12,
   "metadata": {},
   "outputs": [
    {
     "data": {
      "text/html": [
       "<div>\n",
       "<style scoped>\n",
       "    .dataframe tbody tr th:only-of-type {\n",
       "        vertical-align: middle;\n",
       "    }\n",
       "\n",
       "    .dataframe tbody tr th {\n",
       "        vertical-align: top;\n",
       "    }\n",
       "\n",
       "    .dataframe thead th {\n",
       "        text-align: right;\n",
       "    }\n",
       "</style>\n",
       "<table border=\"1\" class=\"dataframe\">\n",
       "  <thead>\n",
       "    <tr style=\"text-align: right;\">\n",
       "      <th></th>\n",
       "      <th>T1</th>\n",
       "      <th>T2</th>\n",
       "    </tr>\n",
       "  </thead>\n",
       "  <tbody>\n",
       "    <tr>\n",
       "      <th>0</th>\n",
       "      <td>7.774980</td>\n",
       "      <td>112.778544</td>\n",
       "    </tr>\n",
       "    <tr>\n",
       "      <th>1</th>\n",
       "      <td>9.248234</td>\n",
       "      <td>147.621137</td>\n",
       "    </tr>\n",
       "    <tr>\n",
       "      <th>2</th>\n",
       "      <td>5.857766</td>\n",
       "      <td>72.539644</td>\n",
       "    </tr>\n",
       "    <tr>\n",
       "      <th>3</th>\n",
       "      <td>6.896434</td>\n",
       "      <td>90.879040</td>\n",
       "    </tr>\n",
       "    <tr>\n",
       "      <th>4</th>\n",
       "      <td>8.301031</td>\n",
       "      <td>121.778487</td>\n",
       "    </tr>\n",
       "  </tbody>\n",
       "</table>\n",
       "</div>"
      ],
      "text/plain": [
       "         T1          T2\n",
       "0  7.774980  112.778544\n",
       "1  9.248234  147.621137\n",
       "2  5.857766   72.539644\n",
       "3  6.896434   90.879040\n",
       "4  8.301031  121.778487"
      ]
     },
     "execution_count": 12,
     "metadata": {},
     "output_type": "execute_result"
    }
   ],
   "source": [
    "# Taking target variables and putting them in df_T\n",
    "# This way, they do not interfere with Normalization\n",
    "df_T = norm_df.iloc[:,11:13]\n",
    "df_T.head()"
   ]
  },
  {
   "cell_type": "code",
   "execution_count": 13,
   "metadata": {},
   "outputs": [
    {
     "data": {
      "text/html": [
       "<div>\n",
       "<style scoped>\n",
       "    .dataframe tbody tr th:only-of-type {\n",
       "        vertical-align: middle;\n",
       "    }\n",
       "\n",
       "    .dataframe tbody tr th {\n",
       "        vertical-align: top;\n",
       "    }\n",
       "\n",
       "    .dataframe thead th {\n",
       "        text-align: right;\n",
       "    }\n",
       "</style>\n",
       "<table border=\"1\" class=\"dataframe\">\n",
       "  <thead>\n",
       "    <tr style=\"text-align: right;\">\n",
       "      <th></th>\n",
       "      <th>P_IPO</th>\n",
       "      <th>P_H</th>\n",
       "      <th>P_L</th>\n",
       "      <th>P_1DAY</th>\n",
       "      <th>C1</th>\n",
       "      <th>C2</th>\n",
       "      <th>C3</th>\n",
       "      <th>C4</th>\n",
       "      <th>C5</th>\n",
       "      <th>C6</th>\n",
       "      <th>...</th>\n",
       "      <th>T3</th>\n",
       "      <th>T4</th>\n",
       "      <th>T5</th>\n",
       "      <th>S1</th>\n",
       "      <th>S2</th>\n",
       "      <th>S3</th>\n",
       "      <th>C3'</th>\n",
       "      <th>C5'</th>\n",
       "      <th>P(mid)</th>\n",
       "      <th>C6'</th>\n",
       "    </tr>\n",
       "  </thead>\n",
       "  <tbody>\n",
       "    <tr>\n",
       "      <th>0</th>\n",
       "      <td>1.000000</td>\n",
       "      <td>2.117912</td>\n",
       "      <td>0.929419</td>\n",
       "      <td>1.510341</td>\n",
       "      <td>2.086360</td>\n",
       "      <td>1.0</td>\n",
       "      <td>1.508104</td>\n",
       "      <td>0.029074</td>\n",
       "      <td>1.967162</td>\n",
       "      <td>1.915234</td>\n",
       "      <td>...</td>\n",
       "      <td>107.517440</td>\n",
       "      <td>17.349352</td>\n",
       "      <td>2.838849</td>\n",
       "      <td>3.957892</td>\n",
       "      <td>2.068186</td>\n",
       "      <td>2.143015</td>\n",
       "      <td>1</td>\n",
       "      <td>0.587076</td>\n",
       "      <td>9.0</td>\n",
       "      <td>1.306758</td>\n",
       "    </tr>\n",
       "    <tr>\n",
       "      <th>1</th>\n",
       "      <td>0.903090</td>\n",
       "      <td>2.154435</td>\n",
       "      <td>0.903090</td>\n",
       "      <td>1.391200</td>\n",
       "      <td>2.413300</td>\n",
       "      <td>0.0</td>\n",
       "      <td>-1.174460</td>\n",
       "      <td>-0.013352</td>\n",
       "      <td>1.953986</td>\n",
       "      <td>1.854720</td>\n",
       "      <td>...</td>\n",
       "      <td>139.946418</td>\n",
       "      <td>22.583180</td>\n",
       "      <td>3.049218</td>\n",
       "      <td>4.140818</td>\n",
       "      <td>2.383815</td>\n",
       "      <td>2.374748</td>\n",
       "      <td>0</td>\n",
       "      <td>1.080223</td>\n",
       "      <td>9.0</td>\n",
       "      <td>0.000000</td>\n",
       "    </tr>\n",
       "    <tr>\n",
       "      <th>2</th>\n",
       "      <td>0.845098</td>\n",
       "      <td>2.410142</td>\n",
       "      <td>1.079181</td>\n",
       "      <td>1.373027</td>\n",
       "      <td>1.954243</td>\n",
       "      <td>1.0</td>\n",
       "      <td>-1.074337</td>\n",
       "      <td>0.020715</td>\n",
       "      <td>1.933344</td>\n",
       "      <td>1.885107</td>\n",
       "      <td>...</td>\n",
       "      <td>69.173694</td>\n",
       "      <td>11.313708</td>\n",
       "      <td>2.511883</td>\n",
       "      <td>3.936497</td>\n",
       "      <td>1.518514</td>\n",
       "      <td>1.778151</td>\n",
       "      <td>0</td>\n",
       "      <td>0.527518</td>\n",
       "      <td>13.0</td>\n",
       "      <td>0.000000</td>\n",
       "    </tr>\n",
       "    <tr>\n",
       "      <th>3</th>\n",
       "      <td>1.060698</td>\n",
       "      <td>2.519842</td>\n",
       "      <td>1.146128</td>\n",
       "      <td>1.521173</td>\n",
       "      <td>2.320146</td>\n",
       "      <td>1.0</td>\n",
       "      <td>-0.969052</td>\n",
       "      <td>0.020023</td>\n",
       "      <td>1.928444</td>\n",
       "      <td>1.880805</td>\n",
       "      <td>...</td>\n",
       "      <td>87.028731</td>\n",
       "      <td>13.304135</td>\n",
       "      <td>2.706718</td>\n",
       "      <td>4.308869</td>\n",
       "      <td>1.770852</td>\n",
       "      <td>2.041393</td>\n",
       "      <td>0</td>\n",
       "      <td>0.518474</td>\n",
       "      <td>15.0</td>\n",
       "      <td>0.000000</td>\n",
       "    </tr>\n",
       "    <tr>\n",
       "      <th>4</th>\n",
       "      <td>1.322219</td>\n",
       "      <td>2.758924</td>\n",
       "      <td>1.278754</td>\n",
       "      <td>1.959459</td>\n",
       "      <td>1.903090</td>\n",
       "      <td>1.0</td>\n",
       "      <td>0.412129</td>\n",
       "      <td>-0.034895</td>\n",
       "      <td>1.956366</td>\n",
       "      <td>1.905290</td>\n",
       "      <td>...</td>\n",
       "      <td>114.786759</td>\n",
       "      <td>18.330303</td>\n",
       "      <td>2.857332</td>\n",
       "      <td>4.061548</td>\n",
       "      <td>2.173186</td>\n",
       "      <td>2.222716</td>\n",
       "      <td>1</td>\n",
       "      <td>0.571274</td>\n",
       "      <td>20.0</td>\n",
       "      <td>1.195813</td>\n",
       "    </tr>\n",
       "  </tbody>\n",
       "</table>\n",
       "<p>5 rows × 23 columns</p>\n",
       "</div>"
      ],
      "text/plain": [
       "      P_IPO       P_H       P_L    P_1DAY        C1   C2        C3        C4  \\\n",
       "0  1.000000  2.117912  0.929419  1.510341  2.086360  1.0  1.508104  0.029074   \n",
       "1  0.903090  2.154435  0.903090  1.391200  2.413300  0.0 -1.174460 -0.013352   \n",
       "2  0.845098  2.410142  1.079181  1.373027  1.954243  1.0 -1.074337  0.020715   \n",
       "3  1.060698  2.519842  1.146128  1.521173  2.320146  1.0 -0.969052  0.020023   \n",
       "4  1.322219  2.758924  1.278754  1.959459  1.903090  1.0  0.412129 -0.034895   \n",
       "\n",
       "         C5        C6    ...             T3         T4        T5        S1  \\\n",
       "0  1.967162  1.915234    ...     107.517440  17.349352  2.838849  3.957892   \n",
       "1  1.953986  1.854720    ...     139.946418  22.583180  3.049218  4.140818   \n",
       "2  1.933344  1.885107    ...      69.173694  11.313708  2.511883  3.936497   \n",
       "3  1.928444  1.880805    ...      87.028731  13.304135  2.706718  4.308869   \n",
       "4  1.956366  1.905290    ...     114.786759  18.330303  2.857332  4.061548   \n",
       "\n",
       "         S2        S3  C3'       C5'  P(mid)       C6'  \n",
       "0  2.068186  2.143015    1  0.587076     9.0  1.306758  \n",
       "1  2.383815  2.374748    0  1.080223     9.0  0.000000  \n",
       "2  1.518514  1.778151    0  0.527518    13.0  0.000000  \n",
       "3  1.770852  2.041393    0  0.518474    15.0  0.000000  \n",
       "4  2.173186  2.222716    1  0.571274    20.0  1.195813  \n",
       "\n",
       "[5 rows x 23 columns]"
      ]
     },
     "execution_count": 13,
     "metadata": {},
     "output_type": "execute_result"
    }
   ],
   "source": [
    "# Temporarily dropping catagorical variables from \n",
    "# norm_df DataFrame \n",
    "norm_df=norm_df.drop(['Y1','Y2'], axis=1)\n",
    "norm_df.head()"
   ]
  },
  {
   "cell_type": "code",
   "execution_count": 14,
   "metadata": {},
   "outputs": [
    {
     "data": {
      "text/html": [
       "<div>\n",
       "<style scoped>\n",
       "    .dataframe tbody tr th:only-of-type {\n",
       "        vertical-align: middle;\n",
       "    }\n",
       "\n",
       "    .dataframe tbody tr th {\n",
       "        vertical-align: top;\n",
       "    }\n",
       "\n",
       "    .dataframe thead th {\n",
       "        text-align: right;\n",
       "    }\n",
       "</style>\n",
       "<table border=\"1\" class=\"dataframe\">\n",
       "  <thead>\n",
       "    <tr style=\"text-align: right;\">\n",
       "      <th></th>\n",
       "      <th>I1</th>\n",
       "      <th>I2</th>\n",
       "      <th>I3</th>\n",
       "      <th>T1</th>\n",
       "      <th>T2</th>\n",
       "    </tr>\n",
       "  </thead>\n",
       "  <tbody>\n",
       "    <tr>\n",
       "      <th>0</th>\n",
       "      <td>AATI</td>\n",
       "      <td>ADVANCED ANALOGIC TECHNOLOGIES INC</td>\n",
       "      <td>3674</td>\n",
       "      <td>7.774980</td>\n",
       "      <td>112.778544</td>\n",
       "    </tr>\n",
       "    <tr>\n",
       "      <th>1</th>\n",
       "      <td>ABPI</td>\n",
       "      <td>ACCENTIA BIOPHARMACEUTICALS INC</td>\n",
       "      <td>2834</td>\n",
       "      <td>9.248234</td>\n",
       "      <td>147.621137</td>\n",
       "    </tr>\n",
       "    <tr>\n",
       "      <th>2</th>\n",
       "      <td>ACAD</td>\n",
       "      <td>ACADIA PHARMACEUTICALS INC</td>\n",
       "      <td>2834</td>\n",
       "      <td>5.857766</td>\n",
       "      <td>72.539644</td>\n",
       "    </tr>\n",
       "    <tr>\n",
       "      <th>3</th>\n",
       "      <td>ACHN</td>\n",
       "      <td>ACHILLION PHARMACEUTICALS INC</td>\n",
       "      <td>2834</td>\n",
       "      <td>6.896434</td>\n",
       "      <td>90.879040</td>\n",
       "    </tr>\n",
       "    <tr>\n",
       "      <th>4</th>\n",
       "      <td>ACLI</td>\n",
       "      <td>AMERICAN COMMERCIAL LINES INC.</td>\n",
       "      <td>4492</td>\n",
       "      <td>8.301031</td>\n",
       "      <td>121.778487</td>\n",
       "    </tr>\n",
       "  </tbody>\n",
       "</table>\n",
       "</div>"
      ],
      "text/plain": [
       "     I1                                  I2    I3        T1          T2\n",
       "0  AATI  ADVANCED ANALOGIC TECHNOLOGIES INC  3674  7.774980  112.778544\n",
       "1  ABPI     ACCENTIA BIOPHARMACEUTICALS INC  2834  9.248234  147.621137\n",
       "2  ACAD          ACADIA PHARMACEUTICALS INC  2834  5.857766   72.539644\n",
       "3  ACHN       ACHILLION PHARMACEUTICALS INC  2834  6.896434   90.879040\n",
       "4  ACLI     AMERICAN COMMERCIAL LINES INC.   4492  8.301031  121.778487"
      ]
     },
     "execution_count": 14,
     "metadata": {},
     "output_type": "execute_result"
    }
   ],
   "source": [
    "drop_df = pd.concat([df_I, df_T], axis=1, join_axes=[norm_df.index])\n",
    "drop_df.head()"
   ]
  },
  {
   "cell_type": "code",
   "execution_count": 15,
   "metadata": {},
   "outputs": [],
   "source": [
    "# Column Names \n",
    "norm_names = norm_df.columns\n",
    "\n",
    "# Scaler function from Preprocessing \n",
    "scaler = preprocessing.StandardScaler()\n",
    "\n",
    "# Transforming norm_df\n",
    "stand_df = scaler.fit_transform(norm_df)\n",
    "\n",
    "# Making DataFrame from Standardized data \n",
    "# Using column names defined earlier \n",
    "stand_df = pd.DataFrame(stand_df, columns=norm_names)"
   ]
  },
  {
   "cell_type": "code",
   "execution_count": 16,
   "metadata": {},
   "outputs": [
    {
     "name": "stdout",
     "output_type": "stream",
     "text": [
      "        P_IPO       P_H       P_L    P_1DAY        C1        C2        C3  \\\n",
      "0   -0.657417 -1.536646 -1.353286 -0.448017  0.061864  0.397360  1.341329   \n",
      "1   -1.248445 -1.369829 -1.557354 -1.192796  1.363203 -2.516611 -0.868273   \n",
      "2   -1.602123 -0.201891 -0.192519 -1.306401 -0.464011  0.397360 -0.785803   \n",
      "3   -0.287236  0.299161  0.326368 -0.380307  0.992418  0.397360 -0.699081   \n",
      "4    1.307714  1.391162  1.354312  2.359522 -0.667616  0.397360  0.438584   \n",
      "5    0.137455 -0.072370 -0.055108 -0.161732 -0.388840  0.397360  0.421582   \n",
      "6   -2.010414 -0.470493 -0.485407 -1.302136  0.144855  0.397360 -0.915676   \n",
      "7   -2.493319 -0.201891 -0.192519 -1.842509 -0.444910 -2.516611 -0.645913   \n",
      "8    0.416518  0.760016  0.775848  0.023338 -0.281880  0.397360 -0.558975   \n",
      "9   -0.936479  0.977703  0.979916 -0.089445 -0.181153  0.397360  1.039908   \n",
      "10   0.137455  0.054207  0.076913 -0.089445 -0.164921  0.397360  0.276577   \n",
      "11  -2.493319 -1.709425 -1.557354 -1.462813 -0.299253  0.397360  0.276577   \n",
      "12   0.587457  0.299161  0.326368  0.383790  0.117632  0.397360  0.631494   \n",
      "13   1.769515  1.964723  1.847794  1.355406  0.299763  0.397360 -0.970541   \n",
      "14   0.326724  0.299161  0.558604 -0.116589  2.458280  0.397360  0.564191   \n",
      "15  -0.174511  0.299161  0.326368 -0.237403  1.180330  0.397360  0.555414   \n",
      "16  -0.404973 -0.753248 -0.806231 -0.372648  0.103857  0.397360  0.656583   \n",
      "17   0.137455  0.299161  0.326368 -0.151484 -0.733687  0.397360  0.526819   \n",
      "18  -1.602123 -1.369829 -1.557354 -1.208864 -0.426017  0.397360  0.969529   \n",
      "19   0.899423  0.534109  0.558604  0.807061  0.975797  0.397360  0.805236   \n",
      "20  -0.404973  0.534109  0.558604 -0.567040  0.675593  0.397360 -0.828870   \n",
      "21   0.587457  0.299161  0.326368  0.158895 -0.711382  0.397360  0.819875   \n",
      "22   0.037494 -0.201891 -0.192519  0.084725 -0.948555  0.397360 -0.684185   \n",
      "23  -2.010414 -2.075206 -2.525720 -1.460474 -0.444910  0.397360 -2.450000   \n",
      "24   0.416518  0.299161  0.326368  0.116707 -0.264679  0.397360 -0.820136   \n",
      "25  -1.248445 -0.753248 -0.806231  3.221031 -0.756285  0.397360 -2.106503   \n",
      "26  -2.010414 -1.052182 -1.160885 -1.448827  2.458280  0.397360  0.695730   \n",
      "27   1.178486  1.187880  1.172317  0.418266 -1.865825  0.397360 -0.512798   \n",
      "28  -0.657417  0.299161  0.326368 -0.688143 -0.070608  0.397360  0.752881   \n",
      "29  -2.493319  0.760016  0.775848 -1.690682 -0.779181  0.397360 -0.704886   \n",
      "..        ...       ...       ...       ...       ...       ...       ...   \n",
      "652 -0.793274 -1.052182 -1.160885 -0.943465 -0.181153 -2.516611  0.805236   \n",
      "653  0.748031  0.299161  0.326368  0.368961  0.287371  0.397360  0.816271   \n",
      "654  0.416518  0.977703  0.979916 -0.077926 -0.214081  0.397360 -1.067342   \n",
      "655  2.069682  2.320972  2.140683  2.056026 -1.740808  0.397360  0.276577   \n",
      "656  0.137455 -0.201891 -0.192519 -0.417769 -0.117122  0.397360  0.748494   \n",
      "657 -0.657417 -1.052182 -1.160885 -0.630252 -0.214081 -2.516611 -0.390477   \n",
      "658  0.326724  0.869840  0.879428 -1.177866 -0.689361  0.397360  0.650523   \n",
      "659  0.503366  0.299161  0.326368 -1.024244  0.004237  0.397360  0.276577   \n",
      "660  0.587457  0.760016  0.775848  0.031633  0.348460  0.397360 -0.575749   \n",
      "661  0.748031  1.964723  1.847794  0.074624 -1.136344  0.397360 -1.432560   \n",
      "662  0.748031  0.534109  0.558604  0.284969 -0.055378  0.397360  1.371955   \n",
      "663  0.748031  0.534109  0.558604  0.493792  0.103857  0.397360 -0.348050   \n",
      "664 -1.087872 -1.709425 -1.557354 -0.867009  0.089973 -2.516611 -0.684185   \n",
      "665  1.178486  2.145223  1.847794  0.309450 -0.164921  0.397360  1.768177   \n",
      "666  1.042628  0.869840  0.879428  0.276742  1.435104  0.397360  1.262834   \n",
      "667 -1.248445  0.054207  0.076913 -0.089445  0.508847 -2.516611 -1.807386   \n",
      "668 -1.602123 -1.052182 -1.160885 -1.143518 -0.197538  0.397360 -2.566438   \n",
      "669  0.748031  0.299161  0.326368  0.496263 -0.646142  0.397360 -0.824524   \n",
      "670 -0.174511  0.299161  0.326368 -0.089445  2.066333  0.397360 -2.301311   \n",
      "671  0.587457  0.760016  0.775848  0.082709  0.714883  0.397360 -0.864276   \n",
      "672  1.111428  0.869840  0.879428 -0.965002 -0.779181 -2.516611  0.276577   \n",
      "673  1.178486 -0.201891 -0.192519  1.457606 -0.407329  0.397360 -0.567467   \n",
      "674 -2.010414 -2.686080 -2.818609  1.067666  1.187733 -2.516611 -0.595609   \n",
      "675 -3.084348 -0.201891 -0.192519 -0.089445 -0.164921  0.397360  0.276577   \n",
      "676  0.899423  1.187880  1.172317  0.285881  0.018825  0.397360  1.246087   \n",
      "677  0.899423  0.299161  0.326368  1.003769  1.712517  0.397360 -0.492214   \n",
      "678  0.037494  0.299161  0.326368 -0.018668 -0.316803  0.397360 -0.512798   \n",
      "679 -1.248445 -1.888727 -1.774597 -1.139635 -0.085974 -2.516611  0.793845   \n",
      "680  1.042628  0.534109  0.558604 -0.374559 -0.711382  0.397360  0.580815   \n",
      "681  0.587457  0.299161  0.326368 -0.987373  1.504134  0.397360  0.850802   \n",
      "\n",
      "           C4        C5        C6    ...           T3        T4        T5  \\\n",
      "0    0.663539  0.351712  0.343297    ...     0.167675  0.189744  0.312555   \n",
      "1   -0.631805 -0.078843 -1.631795    ...     1.823140  1.855214  1.541652   \n",
      "2    0.408314 -0.753332 -0.639998    ...    -1.789733 -1.730874 -1.597768   \n",
      "3    0.387190 -0.913428 -0.780407    ...    -0.878252 -1.097495 -0.459433   \n",
      "4   -1.289555 -0.001077  0.018761    ...     0.538766  0.501895  0.420545   \n",
      "5   -1.981450  0.393943 -0.121780    ...     0.704961  0.432037  0.735023   \n",
      "6   -0.098805 -0.598284 -0.513532    ...     0.709068  0.863900  0.341805   \n",
      "7    1.016051 -0.577002 -0.021317    ...    -0.201809 -0.044494  0.057441   \n",
      "8   -1.119225  0.664724  0.390974    ...     0.602240  0.493208  1.034231   \n",
      "9   -0.985164  0.109446  0.390974    ...    -0.724587 -0.853390 -0.721795   \n",
      "10   0.054437 -0.143613 -0.123318    ...    -1.127810 -1.194275 -2.134863   \n",
      "11   0.248697 -0.681772 -0.195834    ...    -1.639785 -1.592887 -1.167887   \n",
      "12   0.378273 -0.827342 -1.024907    ...    -1.724652 -1.552473 -2.173751   \n",
      "13  -0.416981 -0.960438 -1.042985    ...    -0.258373 -0.494626  0.441603   \n",
      "14   0.486466  0.595128  0.676663    ...     1.230613  0.872067  1.011998   \n",
      "15  -2.833244  1.300082  0.268150    ...     1.092119  1.135806  0.157116   \n",
      "16  -0.216373 -0.291333  0.481137    ...    -1.471264 -1.565896 -1.513309   \n",
      "17  -0.416981 -0.356928  0.268150    ...    -0.322089 -0.329935 -0.029422   \n",
      "18   0.900360  0.880719  0.026625    ...     0.370694  0.387942 -0.390585   \n",
      "19  -0.611677 -0.598356 -0.639998    ...    -0.168067 -0.131402 -0.893306   \n",
      "20   1.157800  0.011295 -0.283041    ...     0.386468  0.143698  0.584305   \n",
      "21   1.425790  0.471862  0.293709    ...     0.367717  0.647633  0.256785   \n",
      "22  -0.146431 -1.196814 -0.938135    ...    -1.403490 -1.446759 -1.734091   \n",
      "23   0.869735 -0.582760 -0.639998    ...    -1.374329 -1.433746 -1.174486   \n",
      "24  -0.277463 -0.475480 -0.195834    ...    -0.852226 -1.014593 -0.645558   \n",
      "25  -0.344995 -0.381053 -0.513532    ...    -1.039860 -1.356565 -0.755182   \n",
      "26  -1.357360 -0.213137 -0.398530    ...     0.404703  0.510568  0.613868   \n",
      "27   0.562461  1.031648  1.655633    ...    -0.019501  0.484509  0.716274   \n",
      "28   0.864075  0.334918  0.087337    ...     1.235584  1.313436  0.981105   \n",
      "29  -0.711055 -0.179764  0.502684    ...     0.042321  0.003177  0.065561   \n",
      "..        ...       ...       ...    ...          ...       ...       ...   \n",
      "652 -0.121839 -0.935938  0.131809    ...    -0.690132 -0.774928 -0.959216   \n",
      "653  0.675582  0.229408 -0.134924    ...    -0.206647 -0.170497  0.077692   \n",
      "654  0.681387  2.493361  2.696119    ...     1.574033  1.763033  1.387540   \n",
      "655 -1.489099  1.977969  1.311956    ...     0.320104  0.316675  0.427584   \n",
      "656  0.937481  0.068656 -0.450138    ...    -0.304396 -0.391051 -0.076137   \n",
      "657  0.894287 -1.939890 -1.372972    ...    -1.002285 -0.741711 -1.214446   \n",
      "658 -1.254898  0.878828  0.477295    ...    -0.622533 -0.654288 -0.576761   \n",
      "659 -0.647205 -0.618890  0.787363    ...    -0.915953 -0.876062 -1.128648   \n",
      "660 -0.182082  0.282800  0.814643    ...    -0.667116 -0.536682 -0.794697   \n",
      "661  0.683436  1.888621  1.758172    ...     2.135140  2.152034  1.860573   \n",
      "662  0.401379  0.937621  1.298150    ...    -0.200028  0.069208 -0.221675   \n",
      "663  1.105929 -0.109572  0.699619    ...     0.041592 -0.073304 -0.101985   \n",
      "664 -0.173634 -0.854330 -0.639998    ...    -1.366084 -1.243524 -1.135146   \n",
      "665  0.294878  1.209657  1.228115    ...     0.361300  0.370209  0.459018   \n",
      "666 -0.944577  0.929030  0.570747    ...    -0.143346 -0.229703  0.085747   \n",
      "667 -1.136489 -0.919993 -0.872700    ...    -1.873378 -1.773314 -1.621299   \n",
      "668 -1.765770 -0.928196 -0.872700    ...    -0.561912 -0.484169 -0.434629   \n",
      "669  1.539231 -0.502511 -0.105542    ...    -1.063667 -1.038116 -1.102822   \n",
      "670  0.315425  0.433805  0.643712    ...     0.267891  0.289717  0.527508   \n",
      "671 -0.198391 -0.372801 -0.722379    ...    -1.364108 -1.486061 -1.359480   \n",
      "672  2.349315 -1.214376 -1.686724    ...     0.333255  0.405621  0.820733   \n",
      "673  0.752630 -1.482852 -1.132687    ...     0.042321 -0.044494  0.367125   \n",
      "674  0.638394 -1.616991 -1.183904    ...    -0.735941 -0.579111 -1.109254   \n",
      "675  0.054437  0.107287  0.699619    ...     1.039074  0.789903  0.655970   \n",
      "676 -1.602817  0.124767 -0.675866    ...    -0.454698 -0.350224 -0.561146   \n",
      "677 -0.081582  0.272233  0.226676    ...     0.341315  0.440815  0.260542   \n",
      "678  1.567729  0.077343 -0.195834    ...     0.389892  0.370209  0.636625   \n",
      "679  0.704788 -1.242440 -1.271378    ...    -0.736225 -0.643474 -0.858064   \n",
      "680  0.761547 -1.065396 -1.271378    ...    -1.222729 -1.038116 -1.750622   \n",
      "681  0.529598  1.309518  1.570266    ...    -0.079068 -0.034925  0.105774   \n",
      "\n",
      "           S1        S2        S3       C3'       C5'    P(mid)       C6'  \n",
      "0    0.016990  0.295829  0.130419  0.942972  0.073941 -0.888512  1.286365  \n",
      "1    0.305474  1.677794  1.496631 -1.060477  2.663906 -0.888512 -0.769239  \n",
      "2   -0.016751 -2.110875 -2.020675 -1.060477 -0.238850 -0.241240 -0.769239  \n",
      "3    0.570501 -1.006028 -0.468705 -1.060477 -0.286349  0.082395 -0.769239  \n",
      "4    0.180462  0.755567  0.600309  0.942972 -0.009048  0.891485  1.111842  \n",
      "5    0.016990 -0.080342  0.806433  0.942972  0.970198 -0.160331 -0.769239  \n",
      "6    0.626663  0.108082  0.055657 -1.060477 -0.176110 -0.403058 -0.769239  \n",
      "7   -0.227358  0.343972 -0.203597 -1.060477 -0.992180 -0.241240 -0.769239  \n",
      "8   -0.120238  0.406323  1.464013 -1.060477  0.576359  0.406031 -0.769239  \n",
      "9    0.598697 -0.203065  0.273698  0.942972 -0.460893  0.567849 -0.769239  \n",
      "10  -0.376425 -0.821865 -1.483700  0.942972 -0.023104 -0.079422 -0.769239  \n",
      "11  -1.379610 -1.698120 -1.625983 -1.060477 -0.877182 -0.969421 -0.769239  \n",
      "12  -1.873848 -1.607554 -1.284085  0.942972  0.284082  0.082395  1.172942  \n",
      "13   0.598697  0.312013  0.111932 -1.060477  0.075884  1.376939  1.231135  \n",
      "14   1.046088  1.784735  0.675844  0.942972 -0.063590  0.163304 -0.769239  \n",
      "15   1.046088 -0.161271  0.409381  0.942972  2.002664  0.082395 -0.769239  \n",
      "16  -1.017502 -2.110875 -1.189825  0.942972 -1.358578 -0.564876 -0.769239  \n",
      "17   0.335990  0.553802  0.017441  0.942972 -1.100896  0.082395 -0.769239  \n",
      "18  -0.263929 -0.549755 -0.310743  0.942972  1.627070 -0.888512 -0.769239  \n",
      "19  -0.338448 -0.475175 -0.954217  0.942972  0.041150  0.244213  1.313444  \n",
      "20   0.148435  0.581974  0.820540 -1.060477  0.540096  0.244213 -0.769239  \n",
      "21  -0.155525 -0.601151 -1.040049  0.942972  0.386288  0.082395  1.172942  \n",
      "22  -1.379610 -0.140714 -0.790729 -1.060477 -0.523584 -0.241240 -0.769239  \n",
      "23  -0.120238 -1.793217 -0.712741 -1.060477  0.069404 -1.212148 -0.769239  \n",
      "24   0.050369 -1.283104 -0.898553 -1.060477 -0.503319  0.082395 -0.769239  \n",
      "25  -1.017502 -0.311753 -0.267345 -1.060477  0.218685 -0.564876 -0.769239  \n",
      "26   0.868678 -0.245797  1.496631  0.942972  0.327247 -0.726694 -0.769239  \n",
      "27  -0.574159  1.125512  0.600309 -1.060477 -1.016778  0.729667  1.122594  \n",
      "28   1.660452  0.937962  0.848523  0.942972  0.493990  0.082395 -0.769239  \n",
      "29   1.167698  0.034937  0.522479 -1.060477 -1.192521  0.406031 -0.769239  \n",
      "..        ...       ...       ...       ...       ...       ...       ...  \n",
      "652 -0.227358  0.451780 -1.011118  0.942972 -1.907681 -0.726694 -0.769239  \n",
      "653 -0.533506  0.071861  0.538235  0.942972  0.686495  0.082395  1.328432  \n",
      "654  0.868678  1.305792  1.374946 -1.060477 -0.120232  0.567849 -0.769239  \n",
      "655 -0.155525 -0.680947 -0.060747  0.942972  1.443897  1.700575  1.304018  \n",
      "656 -0.969726 -0.357030 -0.080672  0.942972  0.935290 -0.241240  1.057797  \n",
      "657 -2.169770 -0.942638 -1.381947 -1.060477 -1.095031 -0.726694 -0.769239  \n",
      "658  0.180462  0.212780 -0.637057  0.942972  0.827804  0.486940 -0.769239  \n",
      "659  0.455304 -0.060637 -0.764468  0.942972 -2.501825  0.082395  1.028977  \n",
      "660 -1.166365 -0.002718  0.166997 -1.060477 -0.895432  0.406031 -0.769239  \n",
      "661  1.488510  2.490250  1.518147 -1.060477  0.448337  1.376939 -0.769239  \n",
      "662 -0.533506 -0.357030 -0.515687  0.942972 -0.539530  0.244213  1.159064  \n",
      "663  1.070736 -0.182053 -0.982509 -1.060477 -1.415162  0.244213  1.159064  \n",
      "664 -1.217985 -0.792834 -1.449331 -1.060477 -0.420591 -0.969421 -0.769239  \n",
      "665  0.243572  0.793473  0.553896  0.942972  0.107223  1.457848 -0.769239  \n",
      "666  0.180462  0.246436  0.166997  0.942972  0.756659  0.486940  1.227939  \n",
      "667 -2.091769 -1.563839 -1.738136 -1.060477 -0.140756 -0.079422 -0.769239  \n",
      "668 -1.217985  0.553802 -0.224670 -1.060477 -0.155460 -0.726694 -0.769239  \n",
      "669 -2.250893 -1.479312 -0.926234 -1.060477 -0.709810  0.082395  1.328432  \n",
      "670  1.422013  1.093730  0.690687 -1.060477 -0.307191  0.082395 -0.769239  \n",
      "671 -0.786795 -0.764239 -0.445534 -1.060477  0.592256  0.406031 -0.769239  \n",
      "672  0.116083  0.623463  0.705445  0.942972  0.701474  0.486940  1.292809  \n",
      "673  0.816325 -0.267529  0.660914 -1.060477 -0.700121 -0.241240  1.680359  \n",
      "674 -0.922803 -0.974069 -2.063709 -1.060477 -0.849438 -1.373966 -0.769239  \n",
      "675  0.305474  0.716891  0.930683  0.942972 -1.014951 -0.241240 -0.769239  \n",
      "676 -0.155525 -0.334257 -0.422570  0.942972  1.427353  0.729667 -0.769239  \n",
      "677  0.763183  0.108082  0.690687 -1.060477  0.131942  0.082395  1.425097  \n",
      "678  0.274670  0.436748  0.690687 -1.060477  0.510608  0.082395 -0.769239  \n",
      "679 -0.922803 -0.380079 -0.982509  0.942972 -0.041551 -1.050330 -0.769239  \n",
      "680 -0.493425 -1.842610 -0.712741  0.942972  0.273504  0.244213  1.409418  \n",
      "681  0.945787  0.053489  0.458465  0.942972 -0.327635  0.082395  1.172942  \n",
      "\n",
      "[682 rows x 23 columns]\n"
     ]
    }
   ],
   "source": [
    "# Printing new DataFrame to check the outcome \n",
    "print(stand_df)"
   ]
  },
  {
   "cell_type": "code",
   "execution_count": 17,
   "metadata": {},
   "outputs": [
    {
     "data": {
      "text/html": [
       "<div>\n",
       "<style scoped>\n",
       "    .dataframe tbody tr th:only-of-type {\n",
       "        vertical-align: middle;\n",
       "    }\n",
       "\n",
       "    .dataframe tbody tr th {\n",
       "        vertical-align: top;\n",
       "    }\n",
       "\n",
       "    .dataframe thead th {\n",
       "        text-align: right;\n",
       "    }\n",
       "</style>\n",
       "<table border=\"1\" class=\"dataframe\">\n",
       "  <thead>\n",
       "    <tr style=\"text-align: right;\">\n",
       "      <th></th>\n",
       "      <th>I1</th>\n",
       "      <th>I2</th>\n",
       "      <th>I3</th>\n",
       "      <th>P_IPO</th>\n",
       "      <th>P_H</th>\n",
       "      <th>P_L</th>\n",
       "      <th>P_1DAY</th>\n",
       "      <th>C1</th>\n",
       "      <th>C2</th>\n",
       "      <th>C3</th>\n",
       "      <th>...</th>\n",
       "      <th>T3</th>\n",
       "      <th>T4</th>\n",
       "      <th>T5</th>\n",
       "      <th>S1</th>\n",
       "      <th>S2</th>\n",
       "      <th>S3</th>\n",
       "      <th>C3'</th>\n",
       "      <th>C5'</th>\n",
       "      <th>P(mid)</th>\n",
       "      <th>C6'</th>\n",
       "    </tr>\n",
       "  </thead>\n",
       "  <tbody>\n",
       "    <tr>\n",
       "      <th>0</th>\n",
       "      <td>AATI</td>\n",
       "      <td>ADVANCED ANALOGIC TECHNOLOGIES INC</td>\n",
       "      <td>3674</td>\n",
       "      <td>-0.657417</td>\n",
       "      <td>-1.536646</td>\n",
       "      <td>-1.353286</td>\n",
       "      <td>-0.448017</td>\n",
       "      <td>0.061864</td>\n",
       "      <td>0.397360</td>\n",
       "      <td>1.341329</td>\n",
       "      <td>...</td>\n",
       "      <td>0.167675</td>\n",
       "      <td>0.189744</td>\n",
       "      <td>0.312555</td>\n",
       "      <td>0.016990</td>\n",
       "      <td>0.295829</td>\n",
       "      <td>0.130419</td>\n",
       "      <td>0.942972</td>\n",
       "      <td>0.073941</td>\n",
       "      <td>-0.888512</td>\n",
       "      <td>1.286365</td>\n",
       "    </tr>\n",
       "    <tr>\n",
       "      <th>1</th>\n",
       "      <td>ABPI</td>\n",
       "      <td>ACCENTIA BIOPHARMACEUTICALS INC</td>\n",
       "      <td>2834</td>\n",
       "      <td>-1.248445</td>\n",
       "      <td>-1.369829</td>\n",
       "      <td>-1.557354</td>\n",
       "      <td>-1.192796</td>\n",
       "      <td>1.363203</td>\n",
       "      <td>-2.516611</td>\n",
       "      <td>-0.868273</td>\n",
       "      <td>...</td>\n",
       "      <td>1.823140</td>\n",
       "      <td>1.855214</td>\n",
       "      <td>1.541652</td>\n",
       "      <td>0.305474</td>\n",
       "      <td>1.677794</td>\n",
       "      <td>1.496631</td>\n",
       "      <td>-1.060477</td>\n",
       "      <td>2.663906</td>\n",
       "      <td>-0.888512</td>\n",
       "      <td>-0.769239</td>\n",
       "    </tr>\n",
       "    <tr>\n",
       "      <th>2</th>\n",
       "      <td>ACAD</td>\n",
       "      <td>ACADIA PHARMACEUTICALS INC</td>\n",
       "      <td>2834</td>\n",
       "      <td>-1.602123</td>\n",
       "      <td>-0.201891</td>\n",
       "      <td>-0.192519</td>\n",
       "      <td>-1.306401</td>\n",
       "      <td>-0.464011</td>\n",
       "      <td>0.397360</td>\n",
       "      <td>-0.785803</td>\n",
       "      <td>...</td>\n",
       "      <td>-1.789733</td>\n",
       "      <td>-1.730874</td>\n",
       "      <td>-1.597768</td>\n",
       "      <td>-0.016751</td>\n",
       "      <td>-2.110875</td>\n",
       "      <td>-2.020675</td>\n",
       "      <td>-1.060477</td>\n",
       "      <td>-0.238850</td>\n",
       "      <td>-0.241240</td>\n",
       "      <td>-0.769239</td>\n",
       "    </tr>\n",
       "    <tr>\n",
       "      <th>3</th>\n",
       "      <td>ACHN</td>\n",
       "      <td>ACHILLION PHARMACEUTICALS INC</td>\n",
       "      <td>2834</td>\n",
       "      <td>-0.287236</td>\n",
       "      <td>0.299161</td>\n",
       "      <td>0.326368</td>\n",
       "      <td>-0.380307</td>\n",
       "      <td>0.992418</td>\n",
       "      <td>0.397360</td>\n",
       "      <td>-0.699081</td>\n",
       "      <td>...</td>\n",
       "      <td>-0.878252</td>\n",
       "      <td>-1.097495</td>\n",
       "      <td>-0.459433</td>\n",
       "      <td>0.570501</td>\n",
       "      <td>-1.006028</td>\n",
       "      <td>-0.468705</td>\n",
       "      <td>-1.060477</td>\n",
       "      <td>-0.286349</td>\n",
       "      <td>0.082395</td>\n",
       "      <td>-0.769239</td>\n",
       "    </tr>\n",
       "    <tr>\n",
       "      <th>4</th>\n",
       "      <td>ACLI</td>\n",
       "      <td>AMERICAN COMMERCIAL LINES INC.</td>\n",
       "      <td>4492</td>\n",
       "      <td>1.307714</td>\n",
       "      <td>1.391162</td>\n",
       "      <td>1.354312</td>\n",
       "      <td>2.359522</td>\n",
       "      <td>-0.667616</td>\n",
       "      <td>0.397360</td>\n",
       "      <td>0.438584</td>\n",
       "      <td>...</td>\n",
       "      <td>0.538766</td>\n",
       "      <td>0.501895</td>\n",
       "      <td>0.420545</td>\n",
       "      <td>0.180462</td>\n",
       "      <td>0.755567</td>\n",
       "      <td>0.600309</td>\n",
       "      <td>0.942972</td>\n",
       "      <td>-0.009048</td>\n",
       "      <td>0.891485</td>\n",
       "      <td>1.111842</td>\n",
       "    </tr>\n",
       "  </tbody>\n",
       "</table>\n",
       "<p>5 rows × 26 columns</p>\n",
       "</div>"
      ],
      "text/plain": [
       "     I1                                  I2    I3     P_IPO       P_H  \\\n",
       "0  AATI  ADVANCED ANALOGIC TECHNOLOGIES INC  3674 -0.657417 -1.536646   \n",
       "1  ABPI     ACCENTIA BIOPHARMACEUTICALS INC  2834 -1.248445 -1.369829   \n",
       "2  ACAD          ACADIA PHARMACEUTICALS INC  2834 -1.602123 -0.201891   \n",
       "3  ACHN       ACHILLION PHARMACEUTICALS INC  2834 -0.287236  0.299161   \n",
       "4  ACLI     AMERICAN COMMERCIAL LINES INC.   4492  1.307714  1.391162   \n",
       "\n",
       "        P_L    P_1DAY        C1        C2        C3    ...           T3  \\\n",
       "0 -1.353286 -0.448017  0.061864  0.397360  1.341329    ...     0.167675   \n",
       "1 -1.557354 -1.192796  1.363203 -2.516611 -0.868273    ...     1.823140   \n",
       "2 -0.192519 -1.306401 -0.464011  0.397360 -0.785803    ...    -1.789733   \n",
       "3  0.326368 -0.380307  0.992418  0.397360 -0.699081    ...    -0.878252   \n",
       "4  1.354312  2.359522 -0.667616  0.397360  0.438584    ...     0.538766   \n",
       "\n",
       "         T4        T5        S1        S2        S3       C3'       C5'  \\\n",
       "0  0.189744  0.312555  0.016990  0.295829  0.130419  0.942972  0.073941   \n",
       "1  1.855214  1.541652  0.305474  1.677794  1.496631 -1.060477  2.663906   \n",
       "2 -1.730874 -1.597768 -0.016751 -2.110875 -2.020675 -1.060477 -0.238850   \n",
       "3 -1.097495 -0.459433  0.570501 -1.006028 -0.468705 -1.060477 -0.286349   \n",
       "4  0.501895  0.420545  0.180462  0.755567  0.600309  0.942972 -0.009048   \n",
       "\n",
       "     P(mid)       C6'  \n",
       "0 -0.888512  1.286365  \n",
       "1 -0.888512 -0.769239  \n",
       "2 -0.241240 -0.769239  \n",
       "3  0.082395 -0.769239  \n",
       "4  0.891485  1.111842  \n",
       "\n",
       "[5 rows x 26 columns]"
      ]
     },
     "execution_count": 17,
     "metadata": {},
     "output_type": "execute_result"
    }
   ],
   "source": [
    "# Adding the three catagorical values back into the DataFrame \n",
    "stand_df = pd.concat([df_I, stand_df], axis=1, join_axes=[stand_df.index])\n",
    "stand_df.head()"
   ]
  },
  {
   "cell_type": "code",
   "execution_count": 18,
   "metadata": {},
   "outputs": [
    {
     "data": {
      "text/plain": [
       "I3        4.871669e+03\n",
       "P_IPO     2.083703e-16\n",
       "P_H      -6.370759e-16\n",
       "P_L      -2.654280e-16\n",
       "P_1DAY   -1.991564e-15\n",
       "C1       -1.513940e-16\n",
       "C2       -6.788314e-17\n",
       "C3       -7.406913e-17\n",
       "C4        7.162729e-18\n",
       "C5        4.602054e-15\n",
       "C6        8.944946e-15\n",
       "C7       -6.511572e-18\n",
       "T1        2.772709e-16\n",
       "T2        7.510081e-16\n",
       "T3       -2.334195e-16\n",
       "T4       -7.927330e-16\n",
       "T5       -8.404812e-16\n",
       "S1        7.180636e-16\n",
       "S2       -4.147973e-16\n",
       "S3       -1.397546e-16\n",
       "C3'       2.086959e-16\n",
       "C5'       6.356922e-17\n",
       "P(mid)   -1.997628e-16\n",
       "C6'      -4.232522e-18\n",
       "dtype: float64"
      ]
     },
     "execution_count": 18,
     "metadata": {},
     "output_type": "execute_result"
    }
   ],
   "source": [
    "# Checking mean for standardized \n",
    "# Want to see mean very close to 0 \n",
    "stand_df.mean()"
   ]
  },
  {
   "cell_type": "code",
   "execution_count": 19,
   "metadata": {},
   "outputs": [
    {
     "data": {
      "text/plain": [
       "I3        2072.423003\n",
       "P_IPO        1.000734\n",
       "P_H          1.000734\n",
       "P_L          1.000734\n",
       "P_1DAY       1.000734\n",
       "C1           1.000734\n",
       "C2           1.000734\n",
       "C3           1.000734\n",
       "C4           1.000734\n",
       "C5           1.000734\n",
       "C6           1.000734\n",
       "C7           1.000734\n",
       "T1           1.000734\n",
       "T2           1.000734\n",
       "T3           1.000734\n",
       "T4           1.000734\n",
       "T5           1.000734\n",
       "S1           1.000734\n",
       "S2           1.000734\n",
       "S3           1.000734\n",
       "C3'          1.000734\n",
       "C5'          1.000734\n",
       "P(mid)       1.000734\n",
       "C6'          1.000734\n",
       "dtype: float64"
      ]
     },
     "execution_count": 19,
     "metadata": {},
     "output_type": "execute_result"
    }
   ],
   "source": [
    "# Checking standard deviation of standardized data\n",
    "# Want std dev of each column close to 1 \n",
    "stand_df.std()"
   ]
  },
  {
   "cell_type": "code",
   "execution_count": 20,
   "metadata": {},
   "outputs": [],
   "source": [
    "# Exporting DataFrame as CSV named StandDF\n",
    "stand_df.to_csv('StandDF', ',')"
   ]
  },
  {
   "cell_type": "code",
   "execution_count": 22,
   "metadata": {},
   "outputs": [
    {
     "data": {
      "text/plain": [
       "<matplotlib.axes._subplots.AxesSubplot at 0x7f728e7aeeb8>"
      ]
     },
     "execution_count": 22,
     "metadata": {},
     "output_type": "execute_result"
    },
    {
     "data": {
      "image/png": "[encoded data removed]",
      "text/plain": [
       "<Figure size 432x288 with 1 Axes>"
      ]
     },
     "metadata": {},
     "output_type": "display_data"
    }
   ],
   "source": [
    "# Looking at Central Tendancy \n",
    "stand_df['P_IPO'].hist(range=(-2,2))\n",
    "# Central Tendancy of Data is Normal\n",
    "# if the range is [-2,2] and does not take into accounts \n",
    "# outliers. "
   ]
  },
  {
   "cell_type": "code",
   "execution_count": 23,
   "metadata": {},
   "outputs": [
    {
     "data": {
      "text/plain": [
       "<matplotlib.axes._subplots.AxesSubplot at 0x7f728c5d3080>"
      ]
     },
     "execution_count": 23,
     "metadata": {},
     "output_type": "execute_result"
    },
    {
     "data": {
      "image/png": "[encoded data removed]",
      "text/plain": [
       "<Figure size 432x288 with 1 Axes>"
      ]
     },
     "metadata": {},
     "output_type": "display_data"
    }
   ],
   "source": [
    "stand_df['P_H'].hist(range=(-2,2))\n",
    "# Central Tendancy of Data is Normal "
   ]
  },
  {
   "cell_type": "code",
   "execution_count": 24,
   "metadata": {},
   "outputs": [
    {
     "data": {
      "text/plain": [
       "<matplotlib.axes._subplots.AxesSubplot at 0x7f728e7ae400>"
      ]
     },
     "execution_count": 24,
     "metadata": {},
     "output_type": "execute_result"
    },
    {
     "data": {
      "image/png": "[encoded data removed]",
      "text/plain": [
       "<Figure size 432x288 with 1 Axes>"
      ]
     },
     "metadata": {},
     "output_type": "display_data"
    }
   ],
   "source": [
    "stand_df['P_L'].hist(range=(-2,2))"
   ]
  },
  {
   "cell_type": "code",
   "execution_count": 25,
   "metadata": {},
   "outputs": [
    {
     "data": {
      "text/plain": [
       "<matplotlib.axes._subplots.AxesSubplot at 0x7f728c479588>"
      ]
     },
     "execution_count": 25,
     "metadata": {},
     "output_type": "execute_result"
    },
    {
     "data": {
      "image/png": "[encoded data removed]",
      "text/plain": [
       "<Figure size 432x288 with 1 Axes>"
      ]
     },
     "metadata": {},
     "output_type": "display_data"
    }
   ],
   "source": [
    "stand_df['P_1DAY'].hist(range=(-2,2))"
   ]
  },
  {
   "cell_type": "code",
   "execution_count": 26,
   "metadata": {},
   "outputs": [
    {
     "data": {
      "text/plain": [
       "<matplotlib.axes._subplots.AxesSubplot at 0x7f728c523908>"
      ]
     },
     "execution_count": 26,
     "metadata": {},
     "output_type": "execute_result"
    },
    {
     "data": {
      "image/png": "[encoded data removed]",
      "text/plain": [
       "<Figure size 432x288 with 1 Axes>"
      ]
     },
     "metadata": {},
     "output_type": "display_data"
    }
   ],
   "source": [
    "stand_df['C1'].hist(range=(-2,2))"
   ]
  },
  {
   "cell_type": "code",
   "execution_count": 28,
   "metadata": {},
   "outputs": [
    {
     "data": {
      "text/plain": [
       "<matplotlib.axes._subplots.AxesSubplot at 0x7f728c39ae10>"
      ]
     },
     "execution_count": 28,
     "metadata": {},
     "output_type": "execute_result"
    },
    {
     "data": {
      "image/png": "[encoded data removed]",
      "text/plain": [
       "<Figure size 432x288 with 1 Axes>"
      ]
     },
     "metadata": {},
     "output_type": "display_data"
    }
   ],
   "source": [
    "stand_df['C3'].hist(range=(-2,2))"
   ]
  },
  {
   "cell_type": "code",
   "execution_count": 29,
   "metadata": {},
   "outputs": [
    {
     "data": {
      "text/plain": [
       "<matplotlib.axes._subplots.AxesSubplot at 0x7f728c27fc18>"
      ]
     },
     "execution_count": 29,
     "metadata": {},
     "output_type": "execute_result"
    },
    {
     "data": {
      "image/png": "[encoded data removed]",
      "text/plain": [
       "<Figure size 432x288 with 1 Axes>"
      ]
     },
     "metadata": {},
     "output_type": "display_data"
    }
   ],
   "source": [
    "stand_df['C4'].hist(range=(-2,2))"
   ]
  },
  {
   "cell_type": "code",
   "execution_count": 30,
   "metadata": {},
   "outputs": [
    {
     "data": {
      "text/plain": [
       "<matplotlib.axes._subplots.AxesSubplot at 0x7f728c206ba8>"
      ]
     },
     "execution_count": 30,
     "metadata": {},
     "output_type": "execute_result"
    },
    {
     "data": {
      "image/png": "[encoded data removed]",
      "text/plain": [
       "<Figure size 432x288 with 1 Axes>"
      ]
     },
     "metadata": {},
     "output_type": "display_data"
    }
   ],
   "source": [
    "stand_df['C5'].hist(range=(-2,2))"
   ]
  },
  {
   "cell_type": "code",
   "execution_count": 31,
   "metadata": {},
   "outputs": [
    {
     "data": {
      "text/plain": [
       "<matplotlib.axes._subplots.AxesSubplot at 0x7f728c1845c0>"
      ]
     },
     "execution_count": 31,
     "metadata": {},
     "output_type": "execute_result"
    },
    {
     "data": {
      "image/png": "[encoded data removed]",
      "text/plain": [
       "<Figure size 432x288 with 1 Axes>"
      ]
     },
     "metadata": {},
     "output_type": "display_data"
    }
   ],
   "source": [
    "stand_df['C6'].hist(range=(-2,2))"
   ]
  },
  {
   "cell_type": "code",
   "execution_count": 32,
   "metadata": {},
   "outputs": [
    {
     "data": {
      "text/plain": [
       "<matplotlib.axes._subplots.AxesSubplot at 0x7f728c101ac8>"
      ]
     },
     "execution_count": 32,
     "metadata": {},
     "output_type": "execute_result"
    },
    {
     "data": {
      "image/png": "[encoded data removed]",
      "text/plain": [
       "<Figure size 432x288 with 1 Axes>"
      ]
     },
     "metadata": {},
     "output_type": "display_data"
    }
   ],
   "source": [
    "stand_df['C7'].hist(range=(-2,2))"
   ]
  },
  {
   "cell_type": "code",
   "execution_count": 33,
   "metadata": {},
   "outputs": [
    {
     "data": {
      "text/plain": [
       "<matplotlib.axes._subplots.AxesSubplot at 0x7f728c148a90>"
      ]
     },
     "execution_count": 33,
     "metadata": {},
     "output_type": "execute_result"
    },
    {
     "data": {
      "image/png": "[encoded data removed]",
      "text/plain": [
       "<Figure size 432x288 with 1 Axes>"
      ]
     },
     "metadata": {},
     "output_type": "display_data"
    }
   ],
   "source": [
    "stand_df['T1'].hist(range=(-2,2))"
   ]
  },
  {
   "cell_type": "code",
   "execution_count": 34,
   "metadata": {},
   "outputs": [
    {
     "data": {
      "text/plain": [
       "<matplotlib.axes._subplots.AxesSubplot at 0x7f728c0e6cf8>"
      ]
     },
     "execution_count": 34,
     "metadata": {},
     "output_type": "execute_result"
    },
    {
     "data": {
      "image/png": "[encoded data removed]",
      "text/plain": [
       "<Figure size 432x288 with 1 Axes>"
      ]
     },
     "metadata": {},
     "output_type": "display_data"
    }
   ],
   "source": [
    "stand_df['T2'].hist(range=(-2,2))"
   ]
  },
  {
   "cell_type": "code",
   "execution_count": 35,
   "metadata": {},
   "outputs": [
    {
     "data": {
      "text/plain": [
       "<matplotlib.axes._subplots.AxesSubplot at 0x7f728bfe92b0>"
      ]
     },
     "execution_count": 35,
     "metadata": {},
     "output_type": "execute_result"
    },
    {
     "data": {
      "image/png": "[encoded data removed]",
      "text/plain": [
       "<Figure size 432x288 with 1 Axes>"
      ]
     },
     "metadata": {},
     "output_type": "display_data"
    }
   ],
   "source": [
    "stand_df['T3'].hist(range=(-2,2))"
   ]
  },
  {
   "cell_type": "code",
   "execution_count": 36,
   "metadata": {},
   "outputs": [
    {
     "data": {
      "text/plain": [
       "<matplotlib.axes._subplots.AxesSubplot at 0x7f728bef57b8>"
      ]
     },
     "execution_count": 36,
     "metadata": {},
     "output_type": "execute_result"
    },
    {
     "data": {
      "image/png": "[encoded data removed]",
      "text/plain": [
       "<Figure size 432x288 with 1 Axes>"
      ]
     },
     "metadata": {},
     "output_type": "display_data"
    }
   ],
   "source": [
    "stand_df['T4'].hist(range=(-2,2))"
   ]
  },
  {
   "cell_type": "code",
   "execution_count": 37,
   "metadata": {},
   "outputs": [
    {
     "data": {
      "text/plain": [
       "<matplotlib.axes._subplots.AxesSubplot at 0x7f728be7cc50>"
      ]
     },
     "execution_count": 37,
     "metadata": {},
     "output_type": "execute_result"
    },
    {
     "data": {
      "image/png": "[encoded data removed]",
      "text/plain": [
       "<Figure size 432x288 with 1 Axes>"
      ]
     },
     "metadata": {},
     "output_type": "display_data"
    }
   ],
   "source": [
    "stand_df['T5'].hist(range=(-2,2))"
   ]
  },
  {
   "cell_type": "code",
   "execution_count": 38,
   "metadata": {},
   "outputs": [
    {
     "data": {
      "text/plain": [
       "<matplotlib.axes._subplots.AxesSubplot at 0x7f728be40908>"
      ]
     },
     "execution_count": 38,
     "metadata": {},
     "output_type": "execute_result"
    },
    {
     "data": {
      "image/png": "[encoded data removed]",
      "text/plain": [
       "<Figure size 432x288 with 1 Axes>"
      ]
     },
     "metadata": {},
     "output_type": "display_data"
    }
   ],
   "source": [
    "stand_df['S1'].hist(range=(-2,2))"
   ]
  },
  {
   "cell_type": "code",
   "execution_count": 39,
   "metadata": {},
   "outputs": [
    {
     "data": {
      "text/plain": [
       "<matplotlib.axes._subplots.AxesSubplot at 0x7f728bd79ac8>"
      ]
     },
     "execution_count": 39,
     "metadata": {},
     "output_type": "execute_result"
    },
    {
     "data": {
      "image/png": "[encoded data removed]",
      "text/plain": [
       "<Figure size 432x288 with 1 Axes>"
      ]
     },
     "metadata": {},
     "output_type": "display_data"
    }
   ],
   "source": [
    "stand_df['S2'].hist(range=(-2,2))"
   ]
  },
  {
   "cell_type": "code",
   "execution_count": 40,
   "metadata": {},
   "outputs": [
    {
     "data": {
      "text/plain": [
       "<matplotlib.axes._subplots.AxesSubplot at 0x7f728be50ef0>"
      ]
     },
     "execution_count": 40,
     "metadata": {},
     "output_type": "execute_result"
    },
    {
     "data": {
      "image/png": "[encoded data removed]",
      "text/plain": [
       "<Figure size 432x288 with 1 Axes>"
      ]
     },
     "metadata": {},
     "output_type": "display_data"
    }
   ],
   "source": [
    "stand_df['S3'].hist(range=(-2,2))"
   ]
  },
  {
   "cell_type": "code",
   "execution_count": 41,
   "metadata": {},
   "outputs": [
    {
     "data": {
      "text/plain": [
       "<matplotlib.axes._subplots.AxesSubplot at 0x7f728bd6dba8>"
      ]
     },
     "execution_count": 41,
     "metadata": {},
     "output_type": "execute_result"
    },
    {
     "data": {
      "image/png": "[encoded data removed]",
      "text/plain": [
       "<Figure size 432x288 with 1 Axes>"
      ]
     },
     "metadata": {},
     "output_type": "display_data"
    }
   ],
   "source": [
    "stand_df[\"C3'\"].hist(range=(-2,2))"
   ]
  },
  {
   "cell_type": "code",
   "execution_count": 42,
   "metadata": {},
   "outputs": [
    {
     "data": {
      "text/plain": [
       "<matplotlib.axes._subplots.AxesSubplot at 0x7f728bbf3208>"
      ]
     },
     "execution_count": 42,
     "metadata": {},
     "output_type": "execute_result"
    },
    {
     "data": {
      "image/png": "[encoded data removed]",
      "text/plain": [
       "<Figure size 432x288 with 1 Axes>"
      ]
     },
     "metadata": {},
     "output_type": "display_data"
    }
   ],
   "source": [
    "stand_df[\"C5'\"].hist(range=(-2,2))"
   ]
  }
 ],
 "metadata": {
  "kernelspec": {
   "display_name": "Python 3",
   "language": "python",
   "name": "python3"
  },
  "language_info": {
   "codemirror_mode": {
    "name": "ipython",
    "version": 3
   },
   "file_extension": ".py",
   "mimetype": "text/x-python",
   "name": "python",
   "nbconvert_exporter": "python",
   "pygments_lexer": "ipython3",
   "version": "3.6.5"
  }
 },
 "nbformat": 4,
 "nbformat_minor": 2
}
