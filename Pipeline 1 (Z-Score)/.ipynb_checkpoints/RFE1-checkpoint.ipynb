{
 "cells": [
  {
   "cell_type": "code",
   "execution_count": 35,
   "metadata": {},
   "outputs": [],
   "source": [
    "import numpy as np \n",
    "import pandas as pd\n",
    "import matplotlib.pyplot as plt\n",
    "from sklearn import preprocessing\n",
    "import seaborn as sns\n",
    "%matplotlib inline\n",
    "plt.style.use('ggplot')"
   ]
  },
  {
   "cell_type": "code",
   "execution_count": 36,
   "metadata": {},
   "outputs": [
    {
     "data": {
      "text/html": [
       "<div>\n",
       "<style scoped>\n",
       "    .dataframe tbody tr th:only-of-type {\n",
       "        vertical-align: middle;\n",
       "    }\n",
       "\n",
       "    .dataframe tbody tr th {\n",
       "        vertical-align: top;\n",
       "    }\n",
       "\n",
       "    .dataframe thead th {\n",
       "        text-align: right;\n",
       "    }\n",
       "</style>\n",
       "<table border=\"1\" class=\"dataframe\">\n",
       "  <thead>\n",
       "    <tr style=\"text-align: right;\">\n",
       "      <th></th>\n",
       "      <th>Y1</th>\n",
       "      <th>Y2</th>\n",
       "      <th>C1</th>\n",
       "      <th>C2</th>\n",
       "      <th>C4</th>\n",
       "      <th>C7</th>\n",
       "      <th>C3'</th>\n",
       "      <th>C5'</th>\n",
       "      <th>C6'</th>\n",
       "      <th>T4'</th>\n",
       "      <th>T3'</th>\n",
       "      <th>T5'</th>\n",
       "      <th>S1'</th>\n",
       "      <th>S2'</th>\n",
       "      <th>S3'</th>\n",
       "    </tr>\n",
       "  </thead>\n",
       "  <tbody>\n",
       "    <tr>\n",
       "      <th>0</th>\n",
       "      <td>0</td>\n",
       "      <td>1</td>\n",
       "      <td>2.086360</td>\n",
       "      <td>1.0</td>\n",
       "      <td>0.029074</td>\n",
       "      <td>1.710498</td>\n",
       "      <td>1</td>\n",
       "      <td>1.351792</td>\n",
       "      <td>1.306758</td>\n",
       "      <td>0.640426</td>\n",
       "      <td>0.979660</td>\n",
       "      <td>-1.241958</td>\n",
       "      <td>0.172661</td>\n",
       "      <td>-2.012621</td>\n",
       "      <td>-1.937792</td>\n",
       "    </tr>\n",
       "    <tr>\n",
       "      <th>1</th>\n",
       "      <td>1</td>\n",
       "      <td>0</td>\n",
       "      <td>2.413300</td>\n",
       "      <td>0.0</td>\n",
       "      <td>-0.013352</td>\n",
       "      <td>1.413903</td>\n",
       "      <td>0</td>\n",
       "      <td>2.487306</td>\n",
       "      <td>0.000000</td>\n",
       "      <td>0.644753</td>\n",
       "      <td>1.275142</td>\n",
       "      <td>-1.031589</td>\n",
       "      <td>0.180641</td>\n",
       "      <td>-1.696991</td>\n",
       "      <td>-1.706058</td>\n",
       "    </tr>\n",
       "    <tr>\n",
       "      <th>2</th>\n",
       "      <td>1</td>\n",
       "      <td>0</td>\n",
       "      <td>1.954243</td>\n",
       "      <td>1.0</td>\n",
       "      <td>0.020715</td>\n",
       "      <td>0.867939</td>\n",
       "      <td>0</td>\n",
       "      <td>1.214656</td>\n",
       "      <td>0.000000</td>\n",
       "      <td>0.636816</td>\n",
       "      <td>0.630286</td>\n",
       "      <td>-1.568923</td>\n",
       "      <td>0.171728</td>\n",
       "      <td>-2.562293</td>\n",
       "      <td>-2.302656</td>\n",
       "    </tr>\n",
       "    <tr>\n",
       "      <th>3</th>\n",
       "      <td>1</td>\n",
       "      <td>1</td>\n",
       "      <td>2.320146</td>\n",
       "      <td>1.0</td>\n",
       "      <td>0.020023</td>\n",
       "      <td>0.930745</td>\n",
       "      <td>0</td>\n",
       "      <td>1.193831</td>\n",
       "      <td>0.000000</td>\n",
       "      <td>0.539634</td>\n",
       "      <td>0.792975</td>\n",
       "      <td>-1.374089</td>\n",
       "      <td>0.187973</td>\n",
       "      <td>-2.309955</td>\n",
       "      <td>-2.039414</td>\n",
       "    </tr>\n",
       "    <tr>\n",
       "      <th>4</th>\n",
       "      <td>0</td>\n",
       "      <td>1</td>\n",
       "      <td>1.903090</td>\n",
       "      <td>1.0</td>\n",
       "      <td>-0.034895</td>\n",
       "      <td>2.800922</td>\n",
       "      <td>1</td>\n",
       "      <td>1.315407</td>\n",
       "      <td>1.195813</td>\n",
       "      <td>0.587413</td>\n",
       "      <td>1.045896</td>\n",
       "      <td>-1.223474</td>\n",
       "      <td>0.177183</td>\n",
       "      <td>-1.907621</td>\n",
       "      <td>-1.858090</td>\n",
       "    </tr>\n",
       "  </tbody>\n",
       "</table>\n",
       "</div>"
      ],
      "text/plain": [
       "   Y1  Y2        C1   C2        C4        C7  C3'       C5'       C6'  \\\n",
       "0   0   1  2.086360  1.0  0.029074  1.710498    1  1.351792  1.306758   \n",
       "1   1   0  2.413300  0.0 -0.013352  1.413903    0  2.487306  0.000000   \n",
       "2   1   0  1.954243  1.0  0.020715  0.867939    0  1.214656  0.000000   \n",
       "3   1   1  2.320146  1.0  0.020023  0.930745    0  1.193831  0.000000   \n",
       "4   0   1  1.903090  1.0 -0.034895  2.800922    1  1.315407  1.195813   \n",
       "\n",
       "        T4'       T3'       T5'       S1'       S2'       S3'  \n",
       "0  0.640426  0.979660 -1.241958  0.172661 -2.012621 -1.937792  \n",
       "1  0.644753  1.275142 -1.031589  0.180641 -1.696991 -1.706058  \n",
       "2  0.636816  0.630286 -1.568923  0.171728 -2.562293 -2.302656  \n",
       "3  0.539634  0.792975 -1.374089  0.187973 -2.309955 -2.039414  \n",
       "4  0.587413  1.045896 -1.223474  0.177183 -1.907621 -1.858090  "
      ]
     },
     "execution_count": 36,
     "metadata": {},
     "output_type": "execute_result"
    }
   ],
   "source": [
    "# Creating DataFrame df from CSV StandDF\n",
    "df = pd.read_csv('ReadyDF1', index_col=0)\n",
    "\n",
    "# Displaying first five results \n",
    "df.head()"
   ]
  },
  {
   "cell_type": "code",
   "execution_count": 37,
   "metadata": {},
   "outputs": [],
   "source": [
    "## Separating target variables \n",
    "## Turn dataframe into Array \n",
    "\n",
    "y1 =df.loc[:, ['Y1']].values.ravel()\n",
    "y2 =df.loc[:, ['Y2']].values.ravel()\n",
    "\n",
    "df = df.drop(['Y1','Y2'], axis=1)\n",
    "df1 = df.drop([\"C6'\"], axis=1)"
   ]
  },
  {
   "cell_type": "code",
   "execution_count": 38,
   "metadata": {},
   "outputs": [
    {
     "name": "stdout",
     "output_type": "stream",
     "text": [
      "[[ 2.08635983  1.          0.02907427 ...  0.17266128 -2.01262094\n",
      "  -1.937792  ]\n",
      " [ 2.41329976  0.         -0.01335164 ...  0.18064135 -1.69699144\n",
      "  -1.70605846]\n",
      " [ 1.95424251  1.          0.020715   ...  0.17172796 -2.56229286\n",
      "  -2.30265555]\n",
      " ...\n",
      " [ 2.04921802  0.          0.03042531 ...  0.1466647  -2.16699295\n",
      "  -2.12656429]\n",
      " [ 1.8920946   1.          0.0322843  ...  0.15854217 -2.50102321\n",
      "  -2.0808068 ]\n",
      " [ 2.44870632  1.          0.02468735 ...  0.19835372 -2.06796958\n",
      "  -1.88214972]]\n"
     ]
    }
   ],
   "source": [
    "# Turn DF in an array\n",
    "\n",
    "df = df.values\n",
    "print(df)"
   ]
  },
  {
   "cell_type": "code",
   "execution_count": 39,
   "metadata": {},
   "outputs": [
    {
     "name": "stdout",
     "output_type": "stream",
     "text": [
      "[False False  True False False False  True False False False  True False]\n",
      "[ 6  4  1  9  5  7  1  8  2  3  1 10]\n"
     ]
    }
   ],
   "source": [
    "#Based off of code snip Tao provided \n",
    "# Recursive Feature Elimination for Y1 target \n",
    "from sklearn import datasets\n",
    "from sklearn.feature_selection import RFE\n",
    "from sklearn.linear_model import LogisticRegression\n",
    "# create a base classifier used to evaluate a subset of attributes\n",
    "model = LogisticRegression()\n",
    "# create the RFE model and select 3 attributes\n",
    "rfe = RFE(model, 3)\n",
    "rfe = rfe.fit(df1, y1)\n",
    "# summarize the selection of the attributes\n",
    "print(rfe.support_)\n",
    "print(rfe.ranking_)"
   ]
  },
  {
   "cell_type": "code",
   "execution_count": 40,
   "metadata": {},
   "outputs": [
    {
     "name": "stdout",
     "output_type": "stream",
     "text": [
      "[False False  True False False False  True False False False False  True\n",
      " False]\n",
      "[ 9  4  1  8 11  6  1  5  3  7 10  1  2]\n"
     ]
    }
   ],
   "source": [
    "#Based off of code snip Tao provided \n",
    "# Recursive Feature Elimination for Y2 target \n",
    "from sklearn import datasets\n",
    "from sklearn.feature_selection import RFE\n",
    "from sklearn.linear_model import LogisticRegression\n",
    "# create a base classifier used to evaluate a subset of attributes\n",
    "model = LogisticRegression()\n",
    "# create the RFE model and select 3 attributes\n",
    "rfe = RFE(model, 3)\n",
    "rfe = rfe.fit(df, y2)\n",
    "# summarize the selection of the attributes\n",
    "print(rfe.support_)\n",
    "print(rfe.ranking_)"
   ]
  },
  {
   "cell_type": "code",
   "execution_count": 23,
   "metadata": {},
   "outputs": [
    {
     "name": "stdout",
     "output_type": "stream",
     "text": [
      "15\n"
     ]
    }
   ],
   "source": [
    "# Checking how many features this dataset have\n",
    "\n",
    "\n",
    "print(len(df[0]))\n",
    "\n"
   ]
  },
  {
   "cell_type": "code",
   "execution_count": 41,
   "metadata": {},
   "outputs": [
    {
     "name": "stdout",
     "output_type": "stream",
     "text": [
      "1\n",
      "Model with the best 1 features\n",
      "[False False False False False False  True False False False False False\n",
      " False]\n",
      "[13  8 11  7  9 10  1  5  2  3  6  4 12]\n",
      "2\n",
      "Model with the best 2 features\n",
      "[False False False False False False  True False  True False False False\n",
      " False]\n",
      "[12  7 10  6  8  9  1  4  1  2  5  3 11]\n",
      "3\n",
      "Model with the best 3 features\n",
      "[False False False False False False  True False  True  True False False\n",
      " False]\n",
      "[11  6  9  5  7  8  1  3  1  1  4  2 10]\n",
      "4\n",
      "Model with the best 4 features\n",
      "[False False False False False False  True False  True  True False  True\n",
      " False]\n",
      "[10  5  8  4  6  7  1  2  1  1  3  1  9]\n",
      "5\n",
      "Model with the best 5 features\n",
      "[False False False False False False  True  True  True  True False  True\n",
      " False]\n",
      "[9 4 7 3 5 6 1 1 1 1 2 1 8]\n",
      "6\n",
      "Model with the best 6 features\n",
      "[False False False False False False  True  True  True  True  True  True\n",
      " False]\n",
      "[8 3 6 2 4 5 1 1 1 1 1 1 7]\n",
      "7\n",
      "Model with the best 7 features\n",
      "[False False False  True False False  True  True  True  True  True  True\n",
      " False]\n",
      "[7 2 5 1 3 4 1 1 1 1 1 1 6]\n",
      "8\n",
      "Model with the best 8 features\n",
      "[False  True False  True False False  True  True  True  True  True  True\n",
      " False]\n",
      "[6 1 4 1 2 3 1 1 1 1 1 1 5]\n",
      "9\n",
      "Model with the best 9 features\n",
      "[False  True False  True  True False  True  True  True  True  True  True\n",
      " False]\n",
      "[5 1 3 1 1 2 1 1 1 1 1 1 4]\n",
      "10\n",
      "Model with the best 10 features\n",
      "[False  True False  True  True  True  True  True  True  True  True  True\n",
      " False]\n",
      "[4 1 2 1 1 1 1 1 1 1 1 1 3]\n",
      "11\n",
      "Model with the best 11 features\n",
      "[False  True  True  True  True  True  True  True  True  True  True  True\n",
      " False]\n",
      "[3 1 1 1 1 1 1 1 1 1 1 1 2]\n",
      "12\n",
      "Model with the best 12 features\n",
      "[False  True  True  True  True  True  True  True  True  True  True  True\n",
      "  True]\n",
      "[2 1 1 1 1 1 1 1 1 1 1 1 1]\n",
      "13\n",
      "Model with the best 13 features\n",
      "[ True  True  True  True  True  True  True  True  True  True  True  True\n",
      "  True]\n",
      "[1 1 1 1 1 1 1 1 1 1 1 1 1]\n"
     ]
    }
   ],
   "source": [
    "\n",
    "\n",
    "\n",
    "for i in range(1, len(df[0])+1):\n",
    "    print(i)\n",
    "    # create a base classifier used to evaluate a subset of attributes\n",
    "    model = LogisticRegression()\n",
    "    # create the RFE model and select 3 attributes\n",
    "    rfe = RFE(model, i)\n",
    "    rfe = rfe.fit(df, y1)\n",
    "    # summarize the selection of the attributes\n",
    "    print('Model with the best', i, 'features')\n",
    "    print(rfe.support_)\n",
    "    print(rfe.ranking_)"
   ]
  },
  {
   "cell_type": "code",
   "execution_count": 42,
   "metadata": {},
   "outputs": [
    {
     "name": "stdout",
     "output_type": "stream",
     "text": [
      "1\n",
      "Model with the best 1 features\n",
      "[False False False False False False  True False False False False False\n",
      " False]\n",
      "[11  6  2 10 13  8  1  7  5  9 12  3  4]\n",
      "2\n",
      "Model with the best 2 features\n",
      "[False False  True False False False  True False False False False False\n",
      " False]\n",
      "[10  5  1  9 12  7  1  6  4  8 11  2  3]\n",
      "3\n",
      "Model with the best 3 features\n",
      "[False False  True False False False  True False False False False  True\n",
      " False]\n",
      "[ 9  4  1  8 11  6  1  5  3  7 10  1  2]\n",
      "4\n",
      "Model with the best 4 features\n",
      "[False False  True False False False  True False False False False  True\n",
      "  True]\n",
      "[ 8  3  1  7 10  5  1  4  2  6  9  1  1]\n",
      "5\n",
      "Model with the best 5 features\n",
      "[False False  True False False False  True False  True False False  True\n",
      "  True]\n",
      "[7 2 1 6 9 4 1 3 1 5 8 1 1]\n",
      "6\n",
      "Model with the best 6 features\n",
      "[False  True  True False False False  True False  True False False  True\n",
      "  True]\n",
      "[6 1 1 5 8 3 1 2 1 4 7 1 1]\n",
      "7\n",
      "Model with the best 7 features\n",
      "[False  True  True False False False  True  True  True False False  True\n",
      "  True]\n",
      "[5 1 1 4 7 2 1 1 1 3 6 1 1]\n",
      "8\n",
      "Model with the best 8 features\n",
      "[False  True  True False False  True  True  True  True False False  True\n",
      "  True]\n",
      "[4 1 1 3 6 1 1 1 1 2 5 1 1]\n",
      "9\n",
      "Model with the best 9 features\n",
      "[False  True  True False False  True  True  True  True  True False  True\n",
      "  True]\n",
      "[3 1 1 2 5 1 1 1 1 1 4 1 1]\n",
      "10\n",
      "Model with the best 10 features\n",
      "[False  True  True  True False  True  True  True  True  True False  True\n",
      "  True]\n",
      "[2 1 1 1 4 1 1 1 1 1 3 1 1]\n",
      "11\n",
      "Model with the best 11 features\n",
      "[ True  True  True  True False  True  True  True  True  True False  True\n",
      "  True]\n",
      "[1 1 1 1 3 1 1 1 1 1 2 1 1]\n",
      "12\n",
      "Model with the best 12 features\n",
      "[ True  True  True  True False  True  True  True  True  True  True  True\n",
      "  True]\n",
      "[1 1 1 1 2 1 1 1 1 1 1 1 1]\n",
      "13\n",
      "Model with the best 13 features\n",
      "[ True  True  True  True  True  True  True  True  True  True  True  True\n",
      "  True]\n",
      "[1 1 1 1 1 1 1 1 1 1 1 1 1]\n"
     ]
    }
   ],
   "source": [
    "\n",
    "\n",
    "\n",
    "for i in range(1, len(df[0])+1):\n",
    "    print(i)\n",
    "    # create a base classifier used to evaluate a subset of attributes\n",
    "    model = LogisticRegression()\n",
    "    # create the RFE model and select 3 attributes\n",
    "    rfe = RFE(model, i)\n",
    "    rfe = rfe.fit(df, y2)\n",
    "    # summarize the selection of the attributes\n",
    "    print('Model with the best', i, 'features')\n",
    "    print(rfe.support_)\n",
    "    print(rfe.ranking_)"
   ]
  },
  {
   "cell_type": "code",
   "execution_count": 48,
   "metadata": {},
   "outputs": [
    {
     "name": "stdout",
     "output_type": "stream",
     "text": [
      "[False False False False False False  True False False False False False\n",
      " False]\n"
     ]
    }
   ],
   "source": [
    "###extra trees classifier to report feature importance, \n",
    "###and use an abitrary 0.4 value to filter the features\n",
    "#The idea is whatever features passing the threshold would be selected\n",
    "\n",
    "# Feature Importance\n",
    "from sklearn import datasets\n",
    "from sklearn import metrics\n",
    "from sklearn.ensemble import ExtraTreesClassifier\n",
    "\n",
    "# fit an Extra Trees model to the data\n",
    "\n",
    "model = ExtraTreesClassifier()\n",
    "model.fit(df, y1)\n",
    "# display the relative importance of each attribute\n",
    "print(model.feature_importances_ > .5)\n"
   ]
  },
  {
   "cell_type": "code",
   "execution_count": 46,
   "metadata": {},
   "outputs": [
    {
     "name": "stdout",
     "output_type": "stream",
     "text": [
      "[False False False False False False False False False False False False\n",
      " False]\n"
     ]
    }
   ],
   "source": [
    "###extra trees classifier to report feature importance, \n",
    "###and use an abitrary 0.4 value to filter the features\n",
    "#The idea is whatever features passing the threshold would be selected\n",
    "\n",
    "# Feature Importance\n",
    "from sklearn import datasets\n",
    "from sklearn import metrics\n",
    "from sklearn.ensemble import ExtraTreesClassifier\n",
    "\n",
    "# fit an Extra Trees model to the data\n",
    "\n",
    "model = ExtraTreesClassifier()\n",
    "model.fit(df, y2)\n",
    "# display the relative importance of each attribute\n",
    "print(model.feature_importances_ > .5)"
   ]
  },
  {
   "cell_type": "code",
   "execution_count": null,
   "metadata": {},
   "outputs": [],
   "source": []
  },
  {
   "cell_type": "code",
   "execution_count": null,
   "metadata": {},
   "outputs": [],
   "source": []
  },
  {
   "cell_type": "code",
   "execution_count": null,
   "metadata": {},
   "outputs": [],
   "source": []
  },
  {
   "cell_type": "code",
   "execution_count": null,
   "metadata": {},
   "outputs": [],
   "source": [
    "\n"
   ]
  },
  {
   "cell_type": "code",
   "execution_count": null,
   "metadata": {},
   "outputs": [],
   "source": []
  },
  {
   "cell_type": "code",
   "execution_count": null,
   "metadata": {},
   "outputs": [],
   "source": []
  },
  {
   "cell_type": "code",
   "execution_count": null,
   "metadata": {},
   "outputs": [],
   "source": []
  },
  {
   "cell_type": "code",
   "execution_count": null,
   "metadata": {},
   "outputs": [],
   "source": []
  },
  {
   "cell_type": "code",
   "execution_count": null,
   "metadata": {},
   "outputs": [],
   "source": []
  },
  {
   "cell_type": "code",
   "execution_count": null,
   "metadata": {},
   "outputs": [],
   "source": []
  },
  {
   "cell_type": "code",
   "execution_count": null,
   "metadata": {},
   "outputs": [],
   "source": []
  }
 ],
 "metadata": {
  "kernelspec": {
   "display_name": "Python 3",
   "language": "python",
   "name": "python3"
  },
  "language_info": {
   "codemirror_mode": {
    "name": "ipython",
    "version": 3
   },
   "file_extension": ".py",
   "mimetype": "text/x-python",
   "name": "python",
   "nbconvert_exporter": "python",
   "pygments_lexer": "ipython3",
   "version": "3.6.5"
  }
 },
 "nbformat": 4,
 "nbformat_minor": 2
}
