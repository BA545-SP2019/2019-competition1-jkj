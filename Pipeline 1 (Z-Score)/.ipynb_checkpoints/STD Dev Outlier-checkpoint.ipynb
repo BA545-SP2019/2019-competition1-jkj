{
 "cells": [
  {
   "cell_type": "code",
   "execution_count": 1,
   "metadata": {},
   "outputs": [],
   "source": [
    "# Fixing Outliers using three Standard Deviation method "
   ]
  },
  {
   "cell_type": "code",
   "execution_count": 2,
   "metadata": {},
   "outputs": [],
   "source": [
    "import numpy as np \n",
    "import pandas as pd\n",
    "import matplotlib.pyplot as plt\n",
    "from sklearn import preprocessing\n",
    "import statistics\n",
    "%matplotlib inline\n",
    "plt.style.use('ggplot')"
   ]
  },
  {
   "cell_type": "code",
   "execution_count": 3,
   "metadata": {},
   "outputs": [
    {
     "data": {
      "text/html": [
       "<div>\n",
       "<style scoped>\n",
       "    .dataframe tbody tr th:only-of-type {\n",
       "        vertical-align: middle;\n",
       "    }\n",
       "\n",
       "    .dataframe tbody tr th {\n",
       "        vertical-align: top;\n",
       "    }\n",
       "\n",
       "    .dataframe thead th {\n",
       "        text-align: right;\n",
       "    }\n",
       "</style>\n",
       "<table border=\"1\" class=\"dataframe\">\n",
       "  <thead>\n",
       "    <tr style=\"text-align: right;\">\n",
       "      <th></th>\n",
       "      <th>C1</th>\n",
       "      <th>C2</th>\n",
       "      <th>C4</th>\n",
       "      <th>C7</th>\n",
       "      <th>T1</th>\n",
       "      <th>T2</th>\n",
       "      <th>T3</th>\n",
       "      <th>T4</th>\n",
       "      <th>T5</th>\n",
       "      <th>S1</th>\n",
       "      <th>S2</th>\n",
       "      <th>S3</th>\n",
       "      <th>C3'</th>\n",
       "      <th>C5'</th>\n",
       "      <th>C6'</th>\n",
       "    </tr>\n",
       "  </thead>\n",
       "  <tbody>\n",
       "    <tr>\n",
       "      <th>0</th>\n",
       "      <td>2.086360</td>\n",
       "      <td>1.0</td>\n",
       "      <td>0.029074</td>\n",
       "      <td>1.710498</td>\n",
       "      <td>7.774980</td>\n",
       "      <td>112.778544</td>\n",
       "      <td>107.517440</td>\n",
       "      <td>17.349352</td>\n",
       "      <td>2.838849</td>\n",
       "      <td>3.957892</td>\n",
       "      <td>2.068186</td>\n",
       "      <td>2.143015</td>\n",
       "      <td>1</td>\n",
       "      <td>0.587076</td>\n",
       "      <td>1.306758</td>\n",
       "    </tr>\n",
       "    <tr>\n",
       "      <th>1</th>\n",
       "      <td>2.413300</td>\n",
       "      <td>0.0</td>\n",
       "      <td>-0.013352</td>\n",
       "      <td>1.413903</td>\n",
       "      <td>9.248234</td>\n",
       "      <td>147.621137</td>\n",
       "      <td>139.946418</td>\n",
       "      <td>22.583180</td>\n",
       "      <td>3.049218</td>\n",
       "      <td>4.140818</td>\n",
       "      <td>2.383815</td>\n",
       "      <td>2.374748</td>\n",
       "      <td>0</td>\n",
       "      <td>1.080223</td>\n",
       "      <td>0.000000</td>\n",
       "    </tr>\n",
       "    <tr>\n",
       "      <th>2</th>\n",
       "      <td>1.954243</td>\n",
       "      <td>1.0</td>\n",
       "      <td>0.020715</td>\n",
       "      <td>0.867939</td>\n",
       "      <td>5.857766</td>\n",
       "      <td>72.539644</td>\n",
       "      <td>69.173694</td>\n",
       "      <td>11.313708</td>\n",
       "      <td>2.511883</td>\n",
       "      <td>3.936497</td>\n",
       "      <td>1.518514</td>\n",
       "      <td>1.778151</td>\n",
       "      <td>0</td>\n",
       "      <td>0.527518</td>\n",
       "      <td>0.000000</td>\n",
       "    </tr>\n",
       "  </tbody>\n",
       "</table>\n",
       "</div>"
      ],
      "text/plain": [
       "         C1   C2        C4        C7        T1          T2          T3  \\\n",
       "0  2.086360  1.0  0.029074  1.710498  7.774980  112.778544  107.517440   \n",
       "1  2.413300  0.0 -0.013352  1.413903  9.248234  147.621137  139.946418   \n",
       "2  1.954243  1.0  0.020715  0.867939  5.857766   72.539644   69.173694   \n",
       "\n",
       "          T4        T5        S1        S2        S3  C3'       C5'       C6'  \n",
       "0  17.349352  2.838849  3.957892  2.068186  2.143015    1  0.587076  1.306758  \n",
       "1  22.583180  3.049218  4.140818  2.383815  2.374748    0  1.080223  0.000000  \n",
       "2  11.313708  2.511883  3.936497  1.518514  1.778151    0  0.527518  0.000000  "
      ]
     },
     "execution_count": 3,
     "metadata": {},
     "output_type": "execute_result"
    }
   ],
   "source": [
    "# Uploading imputed data to df from CSV WorkingDataFrame\n",
    "df = pd.read_csv('SkewDF1', index_col=0)\n",
    "df.head(3)"
   ]
  },
  {
   "cell_type": "code",
   "execution_count": 4,
   "metadata": {},
   "outputs": [
    {
     "name": "stdout",
     "output_type": "stream",
     "text": [
      "[0, 0, 0, 0, 0, 0, 0, 0, 1, 0, 0, 0, 0, 0, 0]\n"
     ]
    }
   ],
   "source": [
    "# checking for null values \n",
    "print(df.isnull().sum(axis=0).tolist())\n",
    "# T5 has NULL value, fixing NULL"
   ]
  },
  {
   "cell_type": "code",
   "execution_count": 5,
   "metadata": {},
   "outputs": [],
   "source": [
    "df['T5'].fillna(df['T5'].median(), inplace=True)"
   ]
  },
  {
   "cell_type": "code",
   "execution_count": 6,
   "metadata": {},
   "outputs": [
    {
     "data": {
      "text/plain": [
       "C1       2.065060\n",
       "C2       0.863636\n",
       "C4       0.007342\n",
       "C7       1.989934\n",
       "T1       7.640326\n",
       "T2     110.501408\n",
       "T3     104.427620\n",
       "T4      16.802148\n",
       "T5       2.788125\n",
       "S1       3.963762\n",
       "S2       2.007838\n",
       "S3       2.122249\n",
       "C3'      0.529326\n",
       "C5'      0.578049\n",
       "C6'      0.489009\n",
       "dtype: float64"
      ]
     },
     "execution_count": 6,
     "metadata": {},
     "output_type": "execute_result"
    }
   ],
   "source": [
    "# Checking mean of columns BEFORE fixing outliers \n",
    "df.mean()"
   ]
  },
  {
   "cell_type": "code",
   "execution_count": 7,
   "metadata": {},
   "outputs": [
    {
     "data": {
      "text/plain": [
       "{'whiskers': [<matplotlib.lines.Line2D at 0x7f5c533eb208>,\n",
       "  <matplotlib.lines.Line2D at 0x7f5c533eb550>],\n",
       " 'caps': [<matplotlib.lines.Line2D at 0x7f5c533eb898>,\n",
       "  <matplotlib.lines.Line2D at 0x7f5c533ebbe0>],\n",
       " 'boxes': [<matplotlib.lines.Line2D at 0x7f5c533eb0b8>],\n",
       " 'medians': [<matplotlib.lines.Line2D at 0x7f5c533ebf28>],\n",
       " 'fliers': [<matplotlib.lines.Line2D at 0x7f5c5337c2b0>],\n",
       " 'means': []}"
      ]
     },
     "execution_count": 7,
     "metadata": {},
     "output_type": "execute_result"
    },
    {
     "data": {
      "image/png": "[encoded data removed]",
      "text/plain": [
       "<Figure size 432x288 with 1 Axes>"
      ]
     },
     "metadata": {},
     "output_type": "display_data"
    }
   ],
   "source": [
    "# Checking with Boxplot \n",
    "plt.boxplot(df['C1'])"
   ]
  },
  {
   "cell_type": "code",
   "execution_count": 8,
   "metadata": {},
   "outputs": [],
   "source": [
    "# Defining functin to replace outliers using IQR of each column\n",
    "def sd_outlier_replace(x): \n",
    "    if x > (mean + (3*SD)): \n",
    "        x = median\n",
    "    elif x < (mean - (3*SD)): \n",
    "        x = median\n",
    "    else: \n",
    "        pass\n",
    "    return(x)"
   ]
  },
  {
   "cell_type": "code",
   "execution_count": 9,
   "metadata": {},
   "outputs": [
    {
     "data": {
      "text/plain": [
       "{'whiskers': [<matplotlib.lines.Line2D at 0x7f5c53371908>,\n",
       "  <matplotlib.lines.Line2D at 0x7f5c53371c50>],\n",
       " 'caps': [<matplotlib.lines.Line2D at 0x7f5c53371f98>,\n",
       "  <matplotlib.lines.Line2D at 0x7f5c532fd320>],\n",
       " 'boxes': [<matplotlib.lines.Line2D at 0x7f5c533717b8>],\n",
       " 'medians': [<matplotlib.lines.Line2D at 0x7f5c532fd668>],\n",
       " 'fliers': [<matplotlib.lines.Line2D at 0x7f5c532fd9b0>],\n",
       " 'means': []}"
      ]
     },
     "execution_count": 9,
     "metadata": {},
     "output_type": "execute_result"
    },
    {
     "data": {
      "image/png": "[encoded data removed]",
      "text/plain": [
       "<Figure size 432x288 with 1 Axes>"
      ]
     },
     "metadata": {},
     "output_type": "display_data"
    }
   ],
   "source": [
    "# Applying function to columns with outliers \n",
    "mean = df['C1'].mean()\n",
    "SD = df['C1'].std()\n",
    "median = df['C1'].median()\n",
    "df['C1'] = df['C1'].apply(lambda x: sd_outlier_replace(x))\n",
    "\n",
    "# Checking with Boxplot \n",
    "plt.boxplot(df['C1'])"
   ]
  },
  {
   "cell_type": "code",
   "execution_count": 10,
   "metadata": {},
   "outputs": [
    {
     "data": {
      "text/plain": [
       "{'whiskers': [<matplotlib.lines.Line2D at 0x7f5c532dc7b8>,\n",
       "  <matplotlib.lines.Line2D at 0x7f5c532dcb00>],\n",
       " 'caps': [<matplotlib.lines.Line2D at 0x7f5c532dce48>,\n",
       "  <matplotlib.lines.Line2D at 0x7f5c532e91d0>],\n",
       " 'boxes': [<matplotlib.lines.Line2D at 0x7f5c532dc668>],\n",
       " 'medians': [<matplotlib.lines.Line2D at 0x7f5c532e9518>],\n",
       " 'fliers': [<matplotlib.lines.Line2D at 0x7f5c532e9860>],\n",
       " 'means': []}"
      ]
     },
     "execution_count": 10,
     "metadata": {},
     "output_type": "execute_result"
    },
    {
     "data": {
      "image/png": "[encoded data removed]",
      "text/plain": [
       "<Figure size 432x288 with 1 Axes>"
      ]
     },
     "metadata": {},
     "output_type": "display_data"
    }
   ],
   "source": [
    "# Applying function to columns with outliers \n",
    "mean = df[\"C4\"].mean()\n",
    "SD = df[\"C4\"].std()\n",
    "median = df[\"C4\"].median()\n",
    "df[\"C4\"] = df[\"C4\"].apply(lambda x: sd_outlier_replace(x))\n",
    "\n",
    "# Checking with Boxplot \n",
    "plt.boxplot(df[\"C4\"])"
   ]
  },
  {
   "cell_type": "code",
   "execution_count": 11,
   "metadata": {},
   "outputs": [
    {
     "data": {
      "text/plain": [
       "{'whiskers': [<matplotlib.lines.Line2D at 0x7f5c532486a0>,\n",
       "  <matplotlib.lines.Line2D at 0x7f5c532489e8>],\n",
       " 'caps': [<matplotlib.lines.Line2D at 0x7f5c53248d30>,\n",
       "  <matplotlib.lines.Line2D at 0x7f5c532500b8>],\n",
       " 'boxes': [<matplotlib.lines.Line2D at 0x7f5c53248550>],\n",
       " 'medians': [<matplotlib.lines.Line2D at 0x7f5c53250400>],\n",
       " 'fliers': [<matplotlib.lines.Line2D at 0x7f5c53250748>],\n",
       " 'means': []}"
      ]
     },
     "execution_count": 11,
     "metadata": {},
     "output_type": "execute_result"
    },
    {
     "data": {
      "image/png": "[encoded data removed]",
      "text/plain": [
       "<Figure size 432x288 with 1 Axes>"
      ]
     },
     "metadata": {},
     "output_type": "display_data"
    }
   ],
   "source": [
    "# Applying function to columns with outliers \n",
    "mean = df[\"C5'\"].mean()\n",
    "SD = df[\"C5'\"].std()\n",
    "median = df[\"C5'\"].median()\n",
    "df[\"C5'\"] = df[\"C5'\"].apply(lambda x: sd_outlier_replace(x))\n",
    "\n",
    "# Checking with Boxplot \n",
    "plt.boxplot(df[\"C5'\"])"
   ]
  },
  {
   "cell_type": "code",
   "execution_count": 12,
   "metadata": {},
   "outputs": [
    {
     "data": {
      "text/plain": [
       "{'whiskers': [<matplotlib.lines.Line2D at 0x7f5c53221a90>,\n",
       "  <matplotlib.lines.Line2D at 0x7f5c53221dd8>],\n",
       " 'caps': [<matplotlib.lines.Line2D at 0x7f5c5322e160>,\n",
       "  <matplotlib.lines.Line2D at 0x7f5c5322e4a8>],\n",
       " 'boxes': [<matplotlib.lines.Line2D at 0x7f5c53221940>],\n",
       " 'medians': [<matplotlib.lines.Line2D at 0x7f5c5322e7f0>],\n",
       " 'fliers': [<matplotlib.lines.Line2D at 0x7f5c5322eb38>],\n",
       " 'means': []}"
      ]
     },
     "execution_count": 12,
     "metadata": {},
     "output_type": "execute_result"
    },
    {
     "data": {
      "image/png": "[encoded data removed]",
      "text/plain": [
       "<Figure size 432x288 with 1 Axes>"
      ]
     },
     "metadata": {},
     "output_type": "display_data"
    }
   ],
   "source": [
    "# Applying function to columns with outliers \n",
    "mean = df[\"C6'\"].mean()\n",
    "SD = df[\"C6'\"].std()\n",
    "median = df[\"C6'\"].median()\n",
    "df[\"C6'\"] = df[\"C6'\"].apply(lambda x: sd_outlier_replace(x))\n",
    "\n",
    "# Checking with Boxplot \n",
    "plt.boxplot(df[\"C6'\"])"
   ]
  },
  {
   "cell_type": "code",
   "execution_count": 13,
   "metadata": {},
   "outputs": [
    {
     "data": {
      "text/plain": [
       "{'whiskers': [<matplotlib.lines.Line2D at 0x7f5c5318c518>,\n",
       "  <matplotlib.lines.Line2D at 0x7f5c5318c860>],\n",
       " 'caps': [<matplotlib.lines.Line2D at 0x7f5c5318cba8>,\n",
       "  <matplotlib.lines.Line2D at 0x7f5c5318cef0>],\n",
       " 'boxes': [<matplotlib.lines.Line2D at 0x7f5c5318c3c8>],\n",
       " 'medians': [<matplotlib.lines.Line2D at 0x7f5c53196278>],\n",
       " 'fliers': [<matplotlib.lines.Line2D at 0x7f5c531965c0>],\n",
       " 'means': []}"
      ]
     },
     "execution_count": 13,
     "metadata": {},
     "output_type": "execute_result"
    },
    {
     "data": {
      "image/png": "[encoded data removed]",
      "text/plain": [
       "<Figure size 432x288 with 1 Axes>"
      ]
     },
     "metadata": {},
     "output_type": "display_data"
    }
   ],
   "source": [
    "# Applying function to columns with outliers \n",
    "mean = df['T1'].mean()\n",
    "SD = df['T1'].std()\n",
    "median = df['T1'].median()\n",
    "df['T1'] = df['T1'].apply(lambda x: sd_outlier_replace(x))\n",
    "\n",
    "# Checking with Boxplot \n",
    "plt.boxplot(df['T1'])"
   ]
  },
  {
   "cell_type": "code",
   "execution_count": 14,
   "metadata": {},
   "outputs": [
    {
     "data": {
      "text/plain": [
       "{'whiskers': [<matplotlib.lines.Line2D at 0x7f5c53167390>,\n",
       "  <matplotlib.lines.Line2D at 0x7f5c531676d8>],\n",
       " 'caps': [<matplotlib.lines.Line2D at 0x7f5c53167a20>,\n",
       "  <matplotlib.lines.Line2D at 0x7f5c53167d68>],\n",
       " 'boxes': [<matplotlib.lines.Line2D at 0x7f5c53167240>],\n",
       " 'medians': [<matplotlib.lines.Line2D at 0x7f5c531720f0>],\n",
       " 'fliers': [<matplotlib.lines.Line2D at 0x7f5c53172438>],\n",
       " 'means': []}"
      ]
     },
     "execution_count": 14,
     "metadata": {},
     "output_type": "execute_result"
    },
    {
     "data": {
      "image/png": "[encoded data removed]",
      "text/plain": [
       "<Figure size 432x288 with 1 Axes>"
      ]
     },
     "metadata": {},
     "output_type": "display_data"
    }
   ],
   "source": [
    "# Applying function to columns with outliers \n",
    "mean = df['T2'].mean()\n",
    "SD = df['T2'].std()\n",
    "median = df['T2'].median()\n",
    "df['T2'] = df['T2'].apply(lambda x: sd_outlier_replace(x))\n",
    "\n",
    "# Checking with Boxplot \n",
    "plt.boxplot(df['T2'])"
   ]
  },
  {
   "cell_type": "code",
   "execution_count": 15,
   "metadata": {},
   "outputs": [
    {
     "data": {
      "text/plain": [
       "{'whiskers': [<matplotlib.lines.Line2D at 0x7f5c530c6240>,\n",
       "  <matplotlib.lines.Line2D at 0x7f5c530c6588>],\n",
       " 'caps': [<matplotlib.lines.Line2D at 0x7f5c530c68d0>,\n",
       "  <matplotlib.lines.Line2D at 0x7f5c530c6c18>],\n",
       " 'boxes': [<matplotlib.lines.Line2D at 0x7f5c530c60f0>],\n",
       " 'medians': [<matplotlib.lines.Line2D at 0x7f5c530c6f60>],\n",
       " 'fliers': [<matplotlib.lines.Line2D at 0x7f5c530d12e8>],\n",
       " 'means': []}"
      ]
     },
     "execution_count": 15,
     "metadata": {},
     "output_type": "execute_result"
    },
    {
     "data": {
      "image/png": "[encoded data removed]",
      "text/plain": [
       "<Figure size 432x288 with 1 Axes>"
      ]
     },
     "metadata": {},
     "output_type": "display_data"
    }
   ],
   "source": [
    "# Applying function to columns with outliers \n",
    "mean = df['T3'].mean()\n",
    "SD = df['T3'].std()\n",
    "median = df['T3'].median()\n",
    "df['T3'] = df['T3'].apply(lambda x: sd_outlier_replace(x))\n",
    "\n",
    "# Checking with Boxplot \n",
    "plt.boxplot(df['T3'])"
   ]
  },
  {
   "cell_type": "code",
   "execution_count": 16,
   "metadata": {},
   "outputs": [
    {
     "data": {
      "text/plain": [
       "{'whiskers': [<matplotlib.lines.Line2D at 0x7f5c530a12e8>,\n",
       "  <matplotlib.lines.Line2D at 0x7f5c530a1630>],\n",
       " 'caps': [<matplotlib.lines.Line2D at 0x7f5c530a1978>,\n",
       "  <matplotlib.lines.Line2D at 0x7f5c530a1cc0>],\n",
       " 'boxes': [<matplotlib.lines.Line2D at 0x7f5c530a1198>],\n",
       " 'medians': [<matplotlib.lines.Line2D at 0x7f5c530aa048>],\n",
       " 'fliers': [<matplotlib.lines.Line2D at 0x7f5c530aa390>],\n",
       " 'means': []}"
      ]
     },
     "execution_count": 16,
     "metadata": {},
     "output_type": "execute_result"
    },
    {
     "data": {
      "image/png": "[encoded data removed]",
      "text/plain": [
       "<Figure size 432x288 with 1 Axes>"
      ]
     },
     "metadata": {},
     "output_type": "display_data"
    }
   ],
   "source": [
    "# Applying function to columns with outliers \n",
    "mean = df['T4'].mean()\n",
    "SD = df['T4'].std()\n",
    "median = df['T4'].median()\n",
    "df['T4'] = df['T4'].apply(lambda x: sd_outlier_replace(x))\n",
    "\n",
    "# Checking with Boxplot \n",
    "plt.boxplot(df['T4'])"
   ]
  },
  {
   "cell_type": "code",
   "execution_count": 17,
   "metadata": {},
   "outputs": [
    {
     "data": {
      "text/plain": [
       "{'whiskers': [<matplotlib.lines.Line2D at 0x7f5c52ffdba8>,\n",
       "  <matplotlib.lines.Line2D at 0x7f5c52ffdef0>],\n",
       " 'caps': [<matplotlib.lines.Line2D at 0x7f5c53008278>,\n",
       "  <matplotlib.lines.Line2D at 0x7f5c530085c0>],\n",
       " 'boxes': [<matplotlib.lines.Line2D at 0x7f5c52ffda58>],\n",
       " 'medians': [<matplotlib.lines.Line2D at 0x7f5c53008908>],\n",
       " 'fliers': [<matplotlib.lines.Line2D at 0x7f5c53008c50>],\n",
       " 'means': []}"
      ]
     },
     "execution_count": 17,
     "metadata": {},
     "output_type": "execute_result"
    },
    {
     "data": {
      "image/png": "[encoded data removed]",
      "text/plain": [
       "<Figure size 432x288 with 1 Axes>"
      ]
     },
     "metadata": {},
     "output_type": "display_data"
    }
   ],
   "source": [
    "# Applying function to columns with outliers \n",
    "mean = df['T5'].mean()\n",
    "SD = df['T5'].std()\n",
    "median = df['T5'].median()\n",
    "df['T5'] = df['T5'].apply(lambda x: sd_outlier_replace(x))\n",
    "\n",
    "# Checking with Boxplot \n",
    "plt.boxplot(df['T5'])"
   ]
  },
  {
   "cell_type": "code",
   "execution_count": 18,
   "metadata": {},
   "outputs": [
    {
     "data": {
      "text/plain": [
       "{'whiskers': [<matplotlib.lines.Line2D at 0x7f5c52fd8630>,\n",
       "  <matplotlib.lines.Line2D at 0x7f5c52fd8978>],\n",
       " 'caps': [<matplotlib.lines.Line2D at 0x7f5c52fd8cc0>,\n",
       "  <matplotlib.lines.Line2D at 0x7f5c52fe2048>],\n",
       " 'boxes': [<matplotlib.lines.Line2D at 0x7f5c52fd84e0>],\n",
       " 'medians': [<matplotlib.lines.Line2D at 0x7f5c52fe2390>],\n",
       " 'fliers': [<matplotlib.lines.Line2D at 0x7f5c52fe26d8>],\n",
       " 'means': []}"
      ]
     },
     "execution_count": 18,
     "metadata": {},
     "output_type": "execute_result"
    },
    {
     "data": {
      "image/png": "[encoded data removed]",
      "text/plain": [
       "<Figure size 432x288 with 1 Axes>"
      ]
     },
     "metadata": {},
     "output_type": "display_data"
    }
   ],
   "source": [
    "# Applying function to columns with outliers \n",
    "mean = df['S1'].mean()\n",
    "SD = df['S1'].std()\n",
    "median = df['S1'].median()\n",
    "df['S1'] = df['S1'].apply(lambda x: sd_outlier_replace(x))\n",
    "\n",
    "# Checking with Boxplot \n",
    "plt.boxplot(df['S1'])"
   ]
  },
  {
   "cell_type": "code",
   "execution_count": 19,
   "metadata": {},
   "outputs": [
    {
     "data": {
      "text/plain": [
       "{'whiskers': [<matplotlib.lines.Line2D at 0x7f5c52f40588>,\n",
       "  <matplotlib.lines.Line2D at 0x7f5c52f408d0>],\n",
       " 'caps': [<matplotlib.lines.Line2D at 0x7f5c52f40c18>,\n",
       "  <matplotlib.lines.Line2D at 0x7f5c52f40f60>],\n",
       " 'boxes': [<matplotlib.lines.Line2D at 0x7f5c52f40438>],\n",
       " 'medians': [<matplotlib.lines.Line2D at 0x7f5c52f492e8>],\n",
       " 'fliers': [<matplotlib.lines.Line2D at 0x7f5c52f49630>],\n",
       " 'means': []}"
      ]
     },
     "execution_count": 19,
     "metadata": {},
     "output_type": "execute_result"
    },
    {
     "data": {
      "image/png": "[encoded data removed]",
      "text/plain": [
       "<Figure size 432x288 with 1 Axes>"
      ]
     },
     "metadata": {},
     "output_type": "display_data"
    }
   ],
   "source": [
    "# Applying function to columns with outliers \n",
    "mean = df['S2'].mean()\n",
    "SD = df['S2'].std()\n",
    "median = df['S2'].median()\n",
    "df['S2'] = df['S2'].apply(lambda x: sd_outlier_replace(x))\n",
    "\n",
    "# Checking with Boxplot \n",
    "plt.boxplot(df['S2'])"
   ]
  },
  {
   "cell_type": "code",
   "execution_count": 20,
   "metadata": {},
   "outputs": [
    {
     "data": {
      "text/plain": [
       "{'whiskers': [<matplotlib.lines.Line2D at 0x7f5c52f19a58>,\n",
       "  <matplotlib.lines.Line2D at 0x7f5c52f19da0>],\n",
       " 'caps': [<matplotlib.lines.Line2D at 0x7f5c52f25128>,\n",
       "  <matplotlib.lines.Line2D at 0x7f5c52f25470>],\n",
       " 'boxes': [<matplotlib.lines.Line2D at 0x7f5c52f19908>],\n",
       " 'medians': [<matplotlib.lines.Line2D at 0x7f5c52f257b8>],\n",
       " 'fliers': [<matplotlib.lines.Line2D at 0x7f5c52f25b00>],\n",
       " 'means': []}"
      ]
     },
     "execution_count": 20,
     "metadata": {},
     "output_type": "execute_result"
    },
    {
     "data": {
      "image/png": "[encoded data removed]",
      "text/plain": [
       "<Figure size 432x288 with 1 Axes>"
      ]
     },
     "metadata": {},
     "output_type": "display_data"
    }
   ],
   "source": [
    "# Applying function to columns with outliers \n",
    "mean = df['S3'].mean()\n",
    "SD = df['S3'].std()\n",
    "median = df['S3'].median()\n",
    "df['S3'] = df['S3'].apply(lambda x: sd_outlier_replace(x))\n",
    "\n",
    "# Checking with Boxplot \n",
    "plt.boxplot(df['S3'])"
   ]
  },
  {
   "cell_type": "code",
   "execution_count": 21,
   "metadata": {},
   "outputs": [
    {
     "data": {
      "text/plain": [
       "C1       2.070818\n",
       "C2       0.863636\n",
       "C4       0.007743\n",
       "C7       1.989934\n",
       "T1       7.613719\n",
       "T2     110.256313\n",
       "T3     104.232854\n",
       "T4      16.753072\n",
       "T5       2.785353\n",
       "S1       3.947119\n",
       "S2       2.000621\n",
       "S3       2.120893\n",
       "C3'      0.529326\n",
       "C5'      0.572997\n",
       "C6'      0.489009\n",
       "dtype: float64"
      ]
     },
     "execution_count": 21,
     "metadata": {},
     "output_type": "execute_result"
    }
   ],
   "source": [
    "df.mean()"
   ]
  },
  {
   "cell_type": "code",
   "execution_count": 22,
   "metadata": {},
   "outputs": [],
   "source": [
    "# Exporting DataFrame as CSV \n",
    "df.to_csv('OutlierFix1', ',')"
   ]
  }
 ],
 "metadata": {
  "kernelspec": {
   "display_name": "Python 3",
   "language": "python",
   "name": "python3"
  },
  "language_info": {
   "codemirror_mode": {
    "name": "ipython",
    "version": 3
   },
   "file_extension": ".py",
   "mimetype": "text/x-python",
   "name": "python",
   "nbconvert_exporter": "python",
   "pygments_lexer": "ipython3",
   "version": "3.6.5"
  }
 },
 "nbformat": 4,
 "nbformat_minor": 2
}
