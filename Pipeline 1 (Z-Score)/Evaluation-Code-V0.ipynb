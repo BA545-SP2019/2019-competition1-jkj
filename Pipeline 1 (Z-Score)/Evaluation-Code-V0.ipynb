{
 "cells": [
  {
   "cell_type": "raw",
   "metadata": {},
   "source": [
    "# Example Evaluation Code\n",
    "\n",
    "This notebook will be very __similar__ to the code I use to evaluate your results - it is provided for __your convenience__ so that you can use it to evaluate your preprocessing results at any time before your __final submission__.\n",
    "\n",
    "Please note that the results here will __NOT__ be the same as my evaluation results.\n",
    "\n",
    "Let's start with loading the required packages."
   ]
  },
  {
   "cell_type": "code",
   "execution_count": 2,
   "metadata": {
    "collapsed": false
   },
   "outputs": [],
   "source": [
    "# import required package for data handling\n",
    "import pandas as pd\n",
    "import numpy as np\n",
    "\n",
    "# import required packages for splitting data\n",
    "from sklearn import model_selection\n",
    "from sklearn.model_selection import cross_val_score\n",
    "from sklearn.model_selection import train_test_split\n",
    "\n",
    "# import required packages for evaluating models\n",
    "from sklearn import metrics\n",
    "from sklearn.metrics import confusion_matrix\n",
    "from sklearn.metrics import classification_report\n",
    "from sklearn.metrics import roc_auc_score\n",
    "from sklearn.metrics import accuracy_score\n",
    "from sklearn.metrics import precision_recall_fscore_support\n",
    "\n",
    "# import `logistic regression` model\n",
    "from sklearn.linear_model import LogisticRegression"
   ]
  },
  {
   "cell_type": "markdown",
   "metadata": {},
   "source": [
    "Next you should load __your__ data. In this case, I am using a sample dataset (`GroupX.csv`) which contains 6 predictors (`X1 - X6`) and two target variables (`Y1, Y2`).\n",
    "\n",
    "Please make sure you change the data to your __OWN__ dataset when using this code.\n",
    "\n",
    "__NOTE__:\n",
    "1. Your dataset maybe very different from the sample dataset.\n",
    "2. Please follow this structure when submitting your dataset."
   ]
  },
  {
   "cell_type": "code",
   "execution_count": 3,
   "metadata": {
    "collapsed": false
   },
   "outputs": [
    {
     "data": {
      "text/html": [
       "<div>\n",
       "<style scoped>\n",
       "    .dataframe tbody tr th:only-of-type {\n",
       "        vertical-align: middle;\n",
       "    }\n",
       "\n",
       "    .dataframe tbody tr th {\n",
       "        vertical-align: top;\n",
       "    }\n",
       "\n",
       "    .dataframe thead th {\n",
       "        text-align: right;\n",
       "    }\n",
       "</style>\n",
       "<table border=\"1\" class=\"dataframe\">\n",
       "  <thead>\n",
       "    <tr style=\"text-align: right;\">\n",
       "      <th></th>\n",
       "      <th>Y1</th>\n",
       "      <th>Y2</th>\n",
       "      <th>C1</th>\n",
       "      <th>C2</th>\n",
       "      <th>C4</th>\n",
       "      <th>C7</th>\n",
       "      <th>C3'</th>\n",
       "      <th>C5'</th>\n",
       "      <th>C6'</th>\n",
       "      <th>T4'</th>\n",
       "      <th>T3'</th>\n",
       "      <th>T5'</th>\n",
       "      <th>S1'</th>\n",
       "      <th>S2'</th>\n",
       "      <th>S3'</th>\n",
       "    </tr>\n",
       "  </thead>\n",
       "  <tbody>\n",
       "    <tr>\n",
       "      <th>0</th>\n",
       "      <td>0</td>\n",
       "      <td>1</td>\n",
       "      <td>2.086360</td>\n",
       "      <td>1.0</td>\n",
       "      <td>0.029074</td>\n",
       "      <td>1.710498</td>\n",
       "      <td>1</td>\n",
       "      <td>1.351792</td>\n",
       "      <td>1.306758</td>\n",
       "      <td>0.640426</td>\n",
       "      <td>0.979660</td>\n",
       "      <td>-1.241958</td>\n",
       "      <td>0.172661</td>\n",
       "      <td>-2.012621</td>\n",
       "      <td>-1.937792</td>\n",
       "    </tr>\n",
       "    <tr>\n",
       "      <th>1</th>\n",
       "      <td>1</td>\n",
       "      <td>0</td>\n",
       "      <td>2.413300</td>\n",
       "      <td>0.0</td>\n",
       "      <td>-0.013352</td>\n",
       "      <td>1.413903</td>\n",
       "      <td>0</td>\n",
       "      <td>2.487306</td>\n",
       "      <td>0.000000</td>\n",
       "      <td>0.644753</td>\n",
       "      <td>1.275142</td>\n",
       "      <td>-1.031589</td>\n",
       "      <td>0.180641</td>\n",
       "      <td>-1.696991</td>\n",
       "      <td>-1.706058</td>\n",
       "    </tr>\n",
       "    <tr>\n",
       "      <th>2</th>\n",
       "      <td>1</td>\n",
       "      <td>0</td>\n",
       "      <td>1.954243</td>\n",
       "      <td>1.0</td>\n",
       "      <td>0.020715</td>\n",
       "      <td>0.867939</td>\n",
       "      <td>0</td>\n",
       "      <td>1.214656</td>\n",
       "      <td>0.000000</td>\n",
       "      <td>0.636816</td>\n",
       "      <td>0.630286</td>\n",
       "      <td>-1.568923</td>\n",
       "      <td>0.171728</td>\n",
       "      <td>-2.562293</td>\n",
       "      <td>-2.302656</td>\n",
       "    </tr>\n",
       "    <tr>\n",
       "      <th>3</th>\n",
       "      <td>1</td>\n",
       "      <td>1</td>\n",
       "      <td>2.320146</td>\n",
       "      <td>1.0</td>\n",
       "      <td>0.020023</td>\n",
       "      <td>0.930745</td>\n",
       "      <td>0</td>\n",
       "      <td>1.193831</td>\n",
       "      <td>0.000000</td>\n",
       "      <td>0.539634</td>\n",
       "      <td>0.792975</td>\n",
       "      <td>-1.374089</td>\n",
       "      <td>0.187973</td>\n",
       "      <td>-2.309955</td>\n",
       "      <td>-2.039414</td>\n",
       "    </tr>\n",
       "    <tr>\n",
       "      <th>4</th>\n",
       "      <td>0</td>\n",
       "      <td>1</td>\n",
       "      <td>1.903090</td>\n",
       "      <td>1.0</td>\n",
       "      <td>-0.034895</td>\n",
       "      <td>2.800922</td>\n",
       "      <td>1</td>\n",
       "      <td>1.315407</td>\n",
       "      <td>1.195813</td>\n",
       "      <td>0.587413</td>\n",
       "      <td>1.045896</td>\n",
       "      <td>-1.223474</td>\n",
       "      <td>0.177183</td>\n",
       "      <td>-1.907621</td>\n",
       "      <td>-1.858090</td>\n",
       "    </tr>\n",
       "  </tbody>\n",
       "</table>\n",
       "</div>"
      ],
      "text/plain": [
       "   Y1  Y2        C1   C2        C4        C7  C3'       C5'       C6'  \\\n",
       "0   0   1  2.086360  1.0  0.029074  1.710498    1  1.351792  1.306758   \n",
       "1   1   0  2.413300  0.0 -0.013352  1.413903    0  2.487306  0.000000   \n",
       "2   1   0  1.954243  1.0  0.020715  0.867939    0  1.214656  0.000000   \n",
       "3   1   1  2.320146  1.0  0.020023  0.930745    0  1.193831  0.000000   \n",
       "4   0   1  1.903090  1.0 -0.034895  2.800922    1  1.315407  1.195813   \n",
       "\n",
       "        T4'       T3'       T5'       S1'       S2'       S3'  \n",
       "0  0.640426  0.979660 -1.241958  0.172661 -2.012621 -1.937792  \n",
       "1  0.644753  1.275142 -1.031589  0.180641 -1.696991 -1.706058  \n",
       "2  0.636816  0.630286 -1.568923  0.171728 -2.562293 -2.302656  \n",
       "3  0.539634  0.792975 -1.374089  0.187973 -2.309955 -2.039414  \n",
       "4  0.587413  1.045896 -1.223474  0.177183 -1.907621 -1.858090  "
      ]
     },
     "execution_count": 3,
     "metadata": {},
     "output_type": "execute_result"
    }
   ],
   "source": [
    "data = pd.read_csv('ReadyDF1', header=0, index_col=0)\n",
    "data.head()"
   ]
  },
  {
   "cell_type": "markdown",
   "metadata": {},
   "source": [
    "Checking your data types and make sure it follows the data dictionary would be an important step, you can do that using the `.dtypes` attribute.\n",
    "\n",
    "__NOTE__: all __continuous__ faetures will be in `float64` data type, and all __categorical__ features will be in `int64` data type (given you already coded (per __suggest task \\#6__ in the competition document) them)."
   ]
  },
  {
   "cell_type": "code",
   "execution_count": 4,
   "metadata": {
    "collapsed": false
   },
   "outputs": [
    {
     "data": {
      "text/plain": [
       "Y1       int64\n",
       "Y2       int64\n",
       "C1     float64\n",
       "C2     float64\n",
       "C4     float64\n",
       "C7     float64\n",
       "C3'      int64\n",
       "C5'    float64\n",
       "C6'    float64\n",
       "T4'    float64\n",
       "T3'    float64\n",
       "T5'    float64\n",
       "S1'    float64\n",
       "S2'    float64\n",
       "S3'    float64\n",
       "dtype: object"
      ]
     },
     "execution_count": 4,
     "metadata": {},
     "output_type": "execute_result"
    }
   ],
   "source": [
    "data.dtypes"
   ]
  },
  {
   "cell_type": "markdown",
   "metadata": {},
   "source": [
    "Now you need to specify your targets and predictors. __NOTE__ we have two targets here (`Y1, Y2`)."
   ]
  },
  {
   "cell_type": "code",
   "execution_count": 5,
   "metadata": {
    "collapsed": true
   },
   "outputs": [],
   "source": [
    "y1 = data.Y1\n",
    "y2 = data.Y2"
   ]
  },
  {
   "cell_type": "markdown",
   "metadata": {},
   "source": [
    "Check the shape of the data."
   ]
  },
  {
   "cell_type": "code",
   "execution_count": 6,
   "metadata": {
    "collapsed": false
   },
   "outputs": [
    {
     "data": {
      "text/plain": [
       "(682, 15)"
      ]
     },
     "execution_count": 6,
     "metadata": {},
     "output_type": "execute_result"
    }
   ],
   "source": [
    "data.shape"
   ]
  },
  {
   "cell_type": "markdown",
   "metadata": {},
   "source": [
    "It is very possible that you will use different sets of the predictors for `Y1` and `Y2`. Now let's define them.\n",
    "\n",
    "First, let's define predictors for `Y1` - which will be the first 5 features in `data`."
   ]
  },
  {
   "cell_type": "code",
   "execution_count": 7,
   "metadata": {
    "collapsed": false
   },
   "outputs": [
    {
     "data": {
      "text/plain": [
       "['C1',\n",
       " 'C2',\n",
       " 'C4',\n",
       " 'C7',\n",
       " \"C3'\",\n",
       " \"C5'\",\n",
       " \"C6'\",\n",
       " \"T4'\",\n",
       " \"T3'\",\n",
       " \"T5'\",\n",
       " \"S1'\",\n",
       " \"S2'\",\n",
       " \"S3'\"]"
      ]
     },
     "execution_count": 7,
     "metadata": {},
     "output_type": "execute_result"
    }
   ],
   "source": [
    "cols = list(data.columns)\n",
    "# first 5 features \n",
    "cols[2:]"
   ]
  },
  {
   "cell_type": "markdown",
   "metadata": {},
   "source": [
    "Use below code to select the first 5 features as predictors for `Y1`."
   ]
  },
  {
   "cell_type": "code",
   "execution_count": 8,
   "metadata": {
    "collapsed": false
   },
   "outputs": [
    {
     "data": {
      "text/html": [
       "<div>\n",
       "<style scoped>\n",
       "    .dataframe tbody tr th:only-of-type {\n",
       "        vertical-align: middle;\n",
       "    }\n",
       "\n",
       "    .dataframe tbody tr th {\n",
       "        vertical-align: top;\n",
       "    }\n",
       "\n",
       "    .dataframe thead th {\n",
       "        text-align: right;\n",
       "    }\n",
       "</style>\n",
       "<table border=\"1\" class=\"dataframe\">\n",
       "  <thead>\n",
       "    <tr style=\"text-align: right;\">\n",
       "      <th></th>\n",
       "      <th>C1</th>\n",
       "      <th>C2</th>\n",
       "      <th>C4</th>\n",
       "      <th>C7</th>\n",
       "      <th>C3'</th>\n",
       "      <th>C5'</th>\n",
       "      <th>C6'</th>\n",
       "      <th>T4'</th>\n",
       "      <th>T3'</th>\n",
       "      <th>T5'</th>\n",
       "      <th>S1'</th>\n",
       "      <th>S2'</th>\n",
       "      <th>S3'</th>\n",
       "    </tr>\n",
       "  </thead>\n",
       "  <tbody>\n",
       "    <tr>\n",
       "      <th>0</th>\n",
       "      <td>2.086360</td>\n",
       "      <td>1.0</td>\n",
       "      <td>0.029074</td>\n",
       "      <td>1.710498</td>\n",
       "      <td>1</td>\n",
       "      <td>1.351792</td>\n",
       "      <td>1.306758</td>\n",
       "      <td>0.640426</td>\n",
       "      <td>0.979660</td>\n",
       "      <td>-1.241958</td>\n",
       "      <td>0.172661</td>\n",
       "      <td>-2.012621</td>\n",
       "      <td>-1.937792</td>\n",
       "    </tr>\n",
       "    <tr>\n",
       "      <th>1</th>\n",
       "      <td>2.413300</td>\n",
       "      <td>0.0</td>\n",
       "      <td>-0.013352</td>\n",
       "      <td>1.413903</td>\n",
       "      <td>0</td>\n",
       "      <td>2.487306</td>\n",
       "      <td>0.000000</td>\n",
       "      <td>0.644753</td>\n",
       "      <td>1.275142</td>\n",
       "      <td>-1.031589</td>\n",
       "      <td>0.180641</td>\n",
       "      <td>-1.696991</td>\n",
       "      <td>-1.706058</td>\n",
       "    </tr>\n",
       "    <tr>\n",
       "      <th>2</th>\n",
       "      <td>1.954243</td>\n",
       "      <td>1.0</td>\n",
       "      <td>0.020715</td>\n",
       "      <td>0.867939</td>\n",
       "      <td>0</td>\n",
       "      <td>1.214656</td>\n",
       "      <td>0.000000</td>\n",
       "      <td>0.636816</td>\n",
       "      <td>0.630286</td>\n",
       "      <td>-1.568923</td>\n",
       "      <td>0.171728</td>\n",
       "      <td>-2.562293</td>\n",
       "      <td>-2.302656</td>\n",
       "    </tr>\n",
       "    <tr>\n",
       "      <th>3</th>\n",
       "      <td>2.320146</td>\n",
       "      <td>1.0</td>\n",
       "      <td>0.020023</td>\n",
       "      <td>0.930745</td>\n",
       "      <td>0</td>\n",
       "      <td>1.193831</td>\n",
       "      <td>0.000000</td>\n",
       "      <td>0.539634</td>\n",
       "      <td>0.792975</td>\n",
       "      <td>-1.374089</td>\n",
       "      <td>0.187973</td>\n",
       "      <td>-2.309955</td>\n",
       "      <td>-2.039414</td>\n",
       "    </tr>\n",
       "    <tr>\n",
       "      <th>4</th>\n",
       "      <td>1.903090</td>\n",
       "      <td>1.0</td>\n",
       "      <td>-0.034895</td>\n",
       "      <td>2.800922</td>\n",
       "      <td>1</td>\n",
       "      <td>1.315407</td>\n",
       "      <td>1.195813</td>\n",
       "      <td>0.587413</td>\n",
       "      <td>1.045896</td>\n",
       "      <td>-1.223474</td>\n",
       "      <td>0.177183</td>\n",
       "      <td>-1.907621</td>\n",
       "      <td>-1.858090</td>\n",
       "    </tr>\n",
       "  </tbody>\n",
       "</table>\n",
       "</div>"
      ],
      "text/plain": [
       "         C1   C2        C4        C7  C3'       C5'       C6'       T4'  \\\n",
       "0  2.086360  1.0  0.029074  1.710498    1  1.351792  1.306758  0.640426   \n",
       "1  2.413300  0.0 -0.013352  1.413903    0  2.487306  0.000000  0.644753   \n",
       "2  1.954243  1.0  0.020715  0.867939    0  1.214656  0.000000  0.636816   \n",
       "3  2.320146  1.0  0.020023  0.930745    0  1.193831  0.000000  0.539634   \n",
       "4  1.903090  1.0 -0.034895  2.800922    1  1.315407  1.195813  0.587413   \n",
       "\n",
       "        T3'       T5'       S1'       S2'       S3'  \n",
       "0  0.979660 -1.241958  0.172661 -2.012621 -1.937792  \n",
       "1  1.275142 -1.031589  0.180641 -1.696991 -1.706058  \n",
       "2  0.630286 -1.568923  0.171728 -2.562293 -2.302656  \n",
       "3  0.792975 -1.374089  0.187973 -2.309955 -2.039414  \n",
       "4  1.045896 -1.223474  0.177183 -1.907621 -1.858090  "
      ]
     },
     "execution_count": 8,
     "metadata": {},
     "output_type": "execute_result"
    }
   ],
   "source": [
    "predictors_y1 = data[cols[2:]]\n",
    "predictors_y1.head()"
   ]
  },
  {
   "cell_type": "markdown",
   "metadata": {},
   "source": [
    "Upon investigation of the data, we know we have __six__ features (`X1 - X6`) predicting `Y2`. Use similar code (as below) to select them."
   ]
  },
  {
   "cell_type": "code",
   "execution_count": 9,
   "metadata": {
    "collapsed": false
   },
   "outputs": [
    {
     "data": {
      "text/html": [
       "<div>\n",
       "<style scoped>\n",
       "    .dataframe tbody tr th:only-of-type {\n",
       "        vertical-align: middle;\n",
       "    }\n",
       "\n",
       "    .dataframe tbody tr th {\n",
       "        vertical-align: top;\n",
       "    }\n",
       "\n",
       "    .dataframe thead th {\n",
       "        text-align: right;\n",
       "    }\n",
       "</style>\n",
       "<table border=\"1\" class=\"dataframe\">\n",
       "  <thead>\n",
       "    <tr style=\"text-align: right;\">\n",
       "      <th></th>\n",
       "      <th>C1</th>\n",
       "      <th>C2</th>\n",
       "      <th>C4</th>\n",
       "      <th>C7</th>\n",
       "      <th>C3'</th>\n",
       "      <th>C5'</th>\n",
       "      <th>C6'</th>\n",
       "      <th>T4'</th>\n",
       "      <th>T3'</th>\n",
       "      <th>T5'</th>\n",
       "      <th>S1'</th>\n",
       "      <th>S2'</th>\n",
       "      <th>S3'</th>\n",
       "    </tr>\n",
       "  </thead>\n",
       "  <tbody>\n",
       "    <tr>\n",
       "      <th>0</th>\n",
       "      <td>2.086360</td>\n",
       "      <td>1.0</td>\n",
       "      <td>0.029074</td>\n",
       "      <td>1.710498</td>\n",
       "      <td>1</td>\n",
       "      <td>1.351792</td>\n",
       "      <td>1.306758</td>\n",
       "      <td>0.640426</td>\n",
       "      <td>0.979660</td>\n",
       "      <td>-1.241958</td>\n",
       "      <td>0.172661</td>\n",
       "      <td>-2.012621</td>\n",
       "      <td>-1.937792</td>\n",
       "    </tr>\n",
       "    <tr>\n",
       "      <th>1</th>\n",
       "      <td>2.413300</td>\n",
       "      <td>0.0</td>\n",
       "      <td>-0.013352</td>\n",
       "      <td>1.413903</td>\n",
       "      <td>0</td>\n",
       "      <td>2.487306</td>\n",
       "      <td>0.000000</td>\n",
       "      <td>0.644753</td>\n",
       "      <td>1.275142</td>\n",
       "      <td>-1.031589</td>\n",
       "      <td>0.180641</td>\n",
       "      <td>-1.696991</td>\n",
       "      <td>-1.706058</td>\n",
       "    </tr>\n",
       "    <tr>\n",
       "      <th>2</th>\n",
       "      <td>1.954243</td>\n",
       "      <td>1.0</td>\n",
       "      <td>0.020715</td>\n",
       "      <td>0.867939</td>\n",
       "      <td>0</td>\n",
       "      <td>1.214656</td>\n",
       "      <td>0.000000</td>\n",
       "      <td>0.636816</td>\n",
       "      <td>0.630286</td>\n",
       "      <td>-1.568923</td>\n",
       "      <td>0.171728</td>\n",
       "      <td>-2.562293</td>\n",
       "      <td>-2.302656</td>\n",
       "    </tr>\n",
       "    <tr>\n",
       "      <th>3</th>\n",
       "      <td>2.320146</td>\n",
       "      <td>1.0</td>\n",
       "      <td>0.020023</td>\n",
       "      <td>0.930745</td>\n",
       "      <td>0</td>\n",
       "      <td>1.193831</td>\n",
       "      <td>0.000000</td>\n",
       "      <td>0.539634</td>\n",
       "      <td>0.792975</td>\n",
       "      <td>-1.374089</td>\n",
       "      <td>0.187973</td>\n",
       "      <td>-2.309955</td>\n",
       "      <td>-2.039414</td>\n",
       "    </tr>\n",
       "    <tr>\n",
       "      <th>4</th>\n",
       "      <td>1.903090</td>\n",
       "      <td>1.0</td>\n",
       "      <td>-0.034895</td>\n",
       "      <td>2.800922</td>\n",
       "      <td>1</td>\n",
       "      <td>1.315407</td>\n",
       "      <td>1.195813</td>\n",
       "      <td>0.587413</td>\n",
       "      <td>1.045896</td>\n",
       "      <td>-1.223474</td>\n",
       "      <td>0.177183</td>\n",
       "      <td>-1.907621</td>\n",
       "      <td>-1.858090</td>\n",
       "    </tr>\n",
       "  </tbody>\n",
       "</table>\n",
       "</div>"
      ],
      "text/plain": [
       "         C1   C2        C4        C7  C3'       C5'       C6'       T4'  \\\n",
       "0  2.086360  1.0  0.029074  1.710498    1  1.351792  1.306758  0.640426   \n",
       "1  2.413300  0.0 -0.013352  1.413903    0  2.487306  0.000000  0.644753   \n",
       "2  1.954243  1.0  0.020715  0.867939    0  1.214656  0.000000  0.636816   \n",
       "3  2.320146  1.0  0.020023  0.930745    0  1.193831  0.000000  0.539634   \n",
       "4  1.903090  1.0 -0.034895  2.800922    1  1.315407  1.195813  0.587413   \n",
       "\n",
       "        T3'       T5'       S1'       S2'       S3'  \n",
       "0  0.979660 -1.241958  0.172661 -2.012621 -1.937792  \n",
       "1  1.275142 -1.031589  0.180641 -1.696991 -1.706058  \n",
       "2  0.630286 -1.568923  0.171728 -2.562293 -2.302656  \n",
       "3  0.792975 -1.374089  0.187973 -2.309955 -2.039414  \n",
       "4  1.045896 -1.223474  0.177183 -1.907621 -1.858090  "
      ]
     },
     "execution_count": 9,
     "metadata": {},
     "output_type": "execute_result"
    }
   ],
   "source": [
    "predictors_y2 = data[cols[2:]]\n",
    "predictors_y2.head()"
   ]
  },
  {
   "cell_type": "markdown",
   "metadata": {},
   "source": [
    "Below is the key part of this notebook - which generates a `logistic regression` model to predict `Y1`/`Y2`.\n",
    "\n",
    "The code works this way:\n",
    "\n",
    "1. We generate two lists `f1_score_lst` and `auc_lst` to store f1_score and AUC from each of the `10` runs of the model;\n",
    "2. Define model:\n",
    "    1. We define a `LogisticRegression()` model;\n",
    "    \n",
    "    2. We split predictors (`predictors_y1`) and target `y1` to training (80%) and testing (20%);\n",
    "    \n",
    "    3. We fit the model `clf` to the training data, then use it to predict on the testing data;\n",
    "    \n",
    "    4. We also defined a `10-fold cross validation` to make sure our model do not overfit - see [here](https://scikit-learn.org/stable/modules/cross_validation.html) for more info;\n",
    "    \n",
    "    5. We append the f1_score and AUC of current model to the lists (`f1_score_lst` and `auc_lst`) we defined earlier.\n",
    "  \n",
    "3. Print out average f1_score and AUC for all 10 runs;\n",
    "4. Print out average average accuracy from cross validation\n",
    "5. Print out confusion matrix and classification report for the __last__ model.\n",
    "\n",
    "__NOTE__: Step 3 provides the evaluation results we need; step 4 - 5 can be used to verify the results from step 3."
   ]
  },
  {
   "cell_type": "code",
   "execution_count": 11,
   "metadata": {
    "collapsed": false
   },
   "outputs": [
    {
     "name": "stdout",
     "output_type": "stream",
     "text": [
      "F1 0.8885; AUC 0.8846 \n",
      "Accuracy of classifier on test set: 0.89\n",
      "10-fold cross validation average accuracy of classifier: 0.886\n",
      "Confusion Matrix for Logistic Regression Classfier:\n",
      "[[50 15]\n",
      " [ 0 72]]\n",
      "Classification Report for Logistic Regression Classfier:\n",
      "             precision    recall  f1-score   support\n",
      "\n",
      "          0       1.00      0.77      0.87        65\n",
      "          1       0.83      1.00      0.91        72\n",
      "\n",
      "avg / total       0.91      0.89      0.89       137\n",
      "\n"
     ]
    }
   ],
   "source": [
    "# lists for f1-score and AUC\n",
    "f1_score_lst = []\n",
    "auc_lst = []\n",
    "\n",
    "\n",
    "#loop to calculate f1 and auc scores and present averages after 10 runs\n",
    "for count in range (1,10):\n",
    "    #Model building\n",
    "    clf = LogisticRegression()\n",
    "    X1_train, X1_test, y1_train, y1_test = train_test_split(predictors_y1, y1, test_size=0.2, random_state=123)\n",
    "    clf.fit(X1_train, y1_train)\n",
    "\n",
    "    y1_pred = clf.predict(X1_test)\n",
    "\n",
    "    \n",
    "    #10-fold cross validation\n",
    "    kfold = model_selection.KFold(n_splits=10, random_state=7)\n",
    "    scoring = 'accuracy'\n",
    "    results = model_selection.cross_val_score(clf, X1_train, y1_train, cv=kfold, scoring=scoring)\n",
    "\n",
    "    \n",
    "\n",
    "    \n",
    "    #calculate f1-score and AUC\n",
    "    \n",
    "    clf_roc_auc = roc_auc_score(y1_test, y1_pred)\n",
    "    f1_score_lst.append(precision_recall_fscore_support(y1_test, y1_pred, average='weighted')[2])\n",
    "    auc_lst.append(clf_roc_auc)\n",
    "\n",
    "\n",
    "print('F1 {:.4f}; AUC {:.4f} '.format(np.mean(f1_score_lst),np.mean(auc_lst)))\n",
    "\n",
    "#result=logit_model.fit()\n",
    "confusion_matrix_y1 = confusion_matrix(y1_test, y1_pred)\n",
    "\n",
    "\n",
    "#print(result.summary())\n",
    "print('Accuracy of classifier on test set: {:.2f}'.format(clf.score(X1_test, y1_test)))\n",
    "\n",
    "print(\"10-fold cross validation average accuracy of classifier: %.3f\" % (results.mean()))\n",
    "\n",
    "print('Confusion Matrix for Logistic Regression Classfier:')\n",
    "print(confusion_matrix_y1)\n",
    "\n",
    "print('Classification Report for Logistic Regression Classfier:')\n",
    "print(classification_report(y1_test, y1_pred))\n"
   ]
  },
  {
   "cell_type": "markdown",
   "metadata": {},
   "source": [
    "Below code are used to evaluate model toward `Y2`. It is very similar to the code above - key difference is that `Y2` is imbalanced - so I wrote some code (under `# Begin oversampling`) to deal with that."
   ]
  },
  {
   "cell_type": "code",
   "execution_count": 12,
   "metadata": {
    "collapsed": false
   },
   "outputs": [
    {
     "name": "stdout",
     "output_type": "stream",
     "text": [
      "F1 0.5982; AUC 0.6222 \n",
      "Accuracy of classifier on test set: 0.584\n",
      "10-fold cross validation average accuracy of clf1: 0.562\n",
      "Confusion Matrix for Classfier:\n",
      "[[34 10]\n",
      " [47 46]]\n",
      "Classification Report for Classfier:\n",
      "             precision    recall  f1-score   support\n",
      "\n",
      "          0       0.42      0.77      0.54        44\n",
      "          1       0.82      0.49      0.62        93\n",
      "\n",
      "avg / total       0.69      0.58      0.59       137\n",
      "\n"
     ]
    }
   ],
   "source": [
    "# lists for f1-score and AUC\n",
    "f1_score_lst = []\n",
    "auc_lst = []\n",
    "\n",
    "\n",
    "#loop to calculate f1 and auc scores and present averages after 10 runs\n",
    "for count in range (1,10):\n",
    "    #Model building\n",
    "    clf1 = LogisticRegression()\n",
    "\n",
    "    \n",
    "    # Splitting data into testing and training\n",
    "    X2_train, X2_test, y2_train, y2_test = train_test_split(predictors_y2, y2, test_size=0.2, random_state=123)\n",
    "    \n",
    "    # Begin oversampling\n",
    "    oversample = pd.concat([X2_train,y2_train],axis=1)\n",
    "    max_size = oversample['Y2'].value_counts().max()\n",
    "    lst = [oversample]\n",
    "    for class_index, group in oversample.groupby('Y2'):\n",
    "        lst.append(group.sample(max_size-len(group), replace=True))\n",
    "    X2_train = pd.concat(lst)\n",
    "    y2_train=pd.DataFrame.copy(X2_train['Y2'])\n",
    "    del X2_train['Y2']\n",
    "    \n",
    "    # fitting model on oversampled data\n",
    "    clf1.fit(X2_train, y2_train)\n",
    "    \n",
    "    y2_pred = clf1.predict(X2_test)\n",
    "    \n",
    "    \n",
    "    #10-fold cross validation\n",
    "    kfold = model_selection.KFold(n_splits=10, random_state=123)\n",
    "    scoring = 'accuracy'\n",
    "    results = model_selection.cross_val_score(clf1, X2_train, y2_train, cv=kfold, scoring=scoring)\n",
    "    \n",
    "    #calculate f1-score and AUC\n",
    "    \n",
    "    clf1_roc_auc = roc_auc_score(y2_test, y2_pred)\n",
    "    \n",
    "    \n",
    "    #calculate average f1-score and AUC\n",
    "    f1_score_lst.append(precision_recall_fscore_support(y2_test, y2_pred, average='weighted')[2])\n",
    "    auc_lst.append(clf1_roc_auc)\n",
    "    \n",
    "    \n",
    "print('F1 {:.4f}; AUC {:.4f} '.format(np.mean(f1_score_lst),np.mean(auc_lst)))\n",
    "\n",
    "confusion_matrix_y2 = confusion_matrix(y2_test, y2_pred)\n",
    "\n",
    "\n",
    "print('Accuracy of classifier on test set: {:.3f}'.format(clf1.score(X2_test, y2_test)))\n",
    "\n",
    "print(\"10-fold cross validation average accuracy of clf1: %.3f\" % (results.mean()))\n",
    "\n",
    "print('Confusion Matrix for Classfier:')\n",
    "print(confusion_matrix_y2)\n",
    "\n",
    "print('Classification Report for Classfier:')\n",
    "print(classification_report(y2_test, y2_pred))\n"
   ]
  },
  {
   "cell_type": "code",
   "execution_count": null,
   "metadata": {
    "collapsed": true
   },
   "outputs": [],
   "source": []
  }
 ],
 "metadata": {
  "kernelspec": {
   "display_name": "Python 3",
   "language": "python",
   "name": "python3"
  },
  "language_info": {
   "codemirror_mode": {
    "name": "ipython",
    "version": 3
   },
   "file_extension": ".py",
   "mimetype": "text/x-python",
   "name": "python",
   "nbconvert_exporter": "python",
   "pygments_lexer": "ipython3",
   "version": "3.6.5"
  }
 },
 "nbformat": 4,
 "nbformat_minor": 2
}
