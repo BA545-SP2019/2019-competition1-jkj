{
 "cells": [
  {
   "cell_type": "markdown",
   "metadata": {},
   "source": [
    "**Standardization**"
   ]
  },
  {
   "cell_type": "code",
   "execution_count": 1,
   "metadata": {},
   "outputs": [],
   "source": [
    "import numpy as np \n",
    "import pandas as pd\n",
    "import matplotlib.pyplot as plt\n",
    "from sklearn import preprocessing\n",
    "%matplotlib inline\n",
    "plt.style.use('ggplot')"
   ]
  },
  {
   "cell_type": "code",
   "execution_count": 2,
   "metadata": {},
   "outputs": [
    {
     "data": {
      "text/html": [
       "<div>\n",
       "<style scoped>\n",
       "    .dataframe tbody tr th:only-of-type {\n",
       "        vertical-align: middle;\n",
       "    }\n",
       "\n",
       "    .dataframe tbody tr th {\n",
       "        vertical-align: top;\n",
       "    }\n",
       "\n",
       "    .dataframe thead th {\n",
       "        text-align: right;\n",
       "    }\n",
       "</style>\n",
       "<table border=\"1\" class=\"dataframe\">\n",
       "  <thead>\n",
       "    <tr style=\"text-align: right;\">\n",
       "      <th></th>\n",
       "      <th>C1</th>\n",
       "      <th>C2</th>\n",
       "      <th>C4</th>\n",
       "      <th>C7</th>\n",
       "      <th>T1</th>\n",
       "      <th>T2</th>\n",
       "      <th>T3</th>\n",
       "      <th>T4</th>\n",
       "      <th>T5</th>\n",
       "      <th>S1</th>\n",
       "      <th>S2</th>\n",
       "      <th>S3</th>\n",
       "      <th>C3'</th>\n",
       "      <th>C5'</th>\n",
       "      <th>C6'</th>\n",
       "    </tr>\n",
       "  </thead>\n",
       "  <tbody>\n",
       "    <tr>\n",
       "      <th>0</th>\n",
       "      <td>2.08636</td>\n",
       "      <td>1.0</td>\n",
       "      <td>0.029074</td>\n",
       "      <td>1.710498</td>\n",
       "      <td>7.774980</td>\n",
       "      <td>112.778544</td>\n",
       "      <td>107.517440</td>\n",
       "      <td>17.349352</td>\n",
       "      <td>2.838849</td>\n",
       "      <td>3.957892</td>\n",
       "      <td>2.068186</td>\n",
       "      <td>2.143015</td>\n",
       "      <td>1</td>\n",
       "      <td>0.587076</td>\n",
       "      <td>1.306758</td>\n",
       "    </tr>\n",
       "    <tr>\n",
       "      <th>1</th>\n",
       "      <td>2.41330</td>\n",
       "      <td>0.0</td>\n",
       "      <td>-0.013352</td>\n",
       "      <td>1.413903</td>\n",
       "      <td>9.248234</td>\n",
       "      <td>147.621137</td>\n",
       "      <td>139.946418</td>\n",
       "      <td>22.583180</td>\n",
       "      <td>3.049218</td>\n",
       "      <td>4.140818</td>\n",
       "      <td>2.383815</td>\n",
       "      <td>2.374748</td>\n",
       "      <td>0</td>\n",
       "      <td>1.080223</td>\n",
       "      <td>0.000000</td>\n",
       "    </tr>\n",
       "  </tbody>\n",
       "</table>\n",
       "</div>"
      ],
      "text/plain": [
       "        C1   C2        C4        C7        T1          T2          T3  \\\n",
       "0  2.08636  1.0  0.029074  1.710498  7.774980  112.778544  107.517440   \n",
       "1  2.41330  0.0 -0.013352  1.413903  9.248234  147.621137  139.946418   \n",
       "\n",
       "          T4        T5        S1        S2        S3  C3'       C5'       C6'  \n",
       "0  17.349352  2.838849  3.957892  2.068186  2.143015    1  0.587076  1.306758  \n",
       "1  22.583180  3.049218  4.140818  2.383815  2.374748    0  1.080223  0.000000  "
      ]
     },
     "execution_count": 2,
     "metadata": {},
     "output_type": "execute_result"
    }
   ],
   "source": [
    "# Creating DataFrame norm_df from CSV NormDF\n",
    "df = pd.read_csv('OutlierFix1', index_col=0)\n",
    "\n",
    "# Displaying first five results \n",
    "df.head(2)"
   ]
  },
  {
   "cell_type": "code",
   "execution_count": 3,
   "metadata": {},
   "outputs": [
    {
     "name": "stdout",
     "output_type": "stream",
     "text": [
      "[0, 0, 0, 0, 0, 0, 0, 0, 0, 0, 0, 0, 0, 0, 0]\n"
     ]
    }
   ],
   "source": [
    "# checking for null values \n",
    "print(df.isnull().sum(axis=0).tolist())"
   ]
  },
  {
   "cell_type": "code",
   "execution_count": 4,
   "metadata": {},
   "outputs": [],
   "source": [
    "# Column Names \n",
    "norm_names = df.columns\n",
    "\n",
    "# Scaler function from Preprocessing \n",
    "scaler = preprocessing.StandardScaler()\n",
    "\n",
    "# Transforming norm_df\n",
    "stand_df = scaler.fit_transform(df)\n",
    "\n",
    "# Making DataFrame from Standardized data \n",
    "# Using column names defined earlier \n",
    "stand_df = pd.DataFrame(stand_df, columns=norm_names)"
   ]
  },
  {
   "cell_type": "code",
   "execution_count": 5,
   "metadata": {},
   "outputs": [
    {
     "name": "stdout",
     "output_type": "stream",
     "text": [
      "           C1        C2        C4        C7        T1        T2        T3  \\\n",
      "0    0.061864  0.397360  0.669354 -0.338864  0.186939  0.121056  0.167675   \n",
      "1    1.363203 -2.516611 -0.661906 -0.698536  1.894785  1.793348  1.823140   \n",
      "2   -0.464011  0.397360  0.407053 -1.360611 -2.035559 -1.810235 -1.789733   \n",
      "3    0.992418  0.397360  0.385343 -1.284447 -0.831500 -0.930024 -0.878252   \n",
      "4   -0.667616  0.397360 -1.337894  0.983461  0.796755  0.553014  0.538766   \n",
      "5   -0.388840  0.397360 -2.048972  0.370875  0.435699  1.147289  0.704961   \n",
      "6    0.144855  0.397360 -0.114127 -1.550356  0.343992  0.733112  0.709068   \n",
      "7   -0.444910 -2.516611  1.031641  0.032016 -0.783047 -0.206549 -0.201809   \n",
      "8   -0.281880  0.397360 -1.162840  0.553709  1.058728  0.549663  0.602240   \n",
      "9   -0.181153  0.397360 -1.025062  0.853477 -0.392902 -0.704785 -0.724587   \n",
      "10  -0.164921  0.397360  0.043364  0.032016 -0.799133 -1.125867 -1.127810   \n",
      "11  -0.299253  0.397360  0.243010 -3.013224 -1.494270 -1.640366 -1.639785   \n",
      "12   0.117632  0.397360  0.376179 -0.687226 -1.979714 -1.658073 -1.724652   \n",
      "13   0.299763  0.397360 -0.441126 -3.784383 -0.172374 -0.359234 -0.258373   \n",
      "14   2.458280  0.397360  0.487372  0.281960  1.079940  1.259714  1.230613   \n",
      "15   1.180330  0.397360 -2.924385  0.870454  0.874631  1.172818  1.092119   \n",
      "16   0.103857  0.397360 -0.234955  0.929934 -1.342861 -1.435409 -1.471264   \n",
      "17  -0.733687  0.397360 -0.441126  0.691863 -0.349319 -0.184852 -0.322089   \n",
      "18  -0.426017  0.397360  0.912742  0.292501  0.543404  0.288071  0.370694   \n",
      "19   0.975797  0.397360 -0.641219  0.160414  0.447790 -0.103851 -0.168067   \n",
      "20   0.675593  0.397360  1.177320  0.032016  0.206075  0.346593  0.386468   \n",
      "21  -0.711382  0.397360  1.452740  1.506674  0.902143  0.450631  0.367717   \n",
      "22  -0.948555  0.397360 -0.163074 -0.217870 -1.251258 -1.401805 -1.403490   \n",
      "23  -0.444910  0.397360  0.881267 -3.328078 -1.542891 -1.412479 -1.374329   \n",
      "24  -0.264679  0.397360 -0.297739 -1.699075 -1.398917 -0.840631 -0.852226   \n",
      "25  -0.756285  0.397360 -0.367144 -1.990755 -1.436763 -1.044818 -1.039860   \n",
      "26   2.458280  0.397360 -1.407579 -0.016256  0.368626  0.291785  0.404703   \n",
      "27  -1.865825  0.397360  0.565474  0.664895  0.537485  0.587594 -0.019501   \n",
      "28  -0.070608  0.397360  0.875451  0.778574  1.169094  1.233466  1.235584   \n",
      "29  -0.779181  0.397360 -0.743353 -0.872417 -0.263472 -0.012520  0.042321   \n",
      "..        ...       ...       ...       ...       ...       ...       ...   \n",
      "652 -0.181153 -2.516611 -0.137800 -0.220977 -0.029143 -0.689493 -0.690132   \n",
      "653  0.287371  0.397360  0.681732  1.248553  0.109571 -0.215844 -0.206647   \n",
      "654 -0.214081  0.397360  0.687697  0.875653  1.549460  1.547682  1.574033   \n",
      "655 -1.740808  0.397360 -1.542970  0.032016  0.129038  0.288896  0.320104   \n",
      "656 -0.117122  0.397360  0.950892 -0.102555 -0.035858 -0.371391 -0.304396   \n",
      "657 -0.214081 -2.516611  0.906501 -0.196644 -0.888782 -0.971414 -1.002285   \n",
      "658 -0.689361  0.397360 -1.302275  1.410677 -0.002384 -0.589719 -0.622533   \n",
      "659  0.004237  0.397360 -0.677733  0.106139 -0.473995 -0.918158 -0.915953   \n",
      "660  0.348460  0.397360 -0.199713  0.854057 -0.872331 -0.653844 -0.667116   \n",
      "661 -1.136344  0.397360  0.689803  1.874933  1.780627  2.058251  2.135140   \n",
      "662 -0.055378  0.397360  0.399925  1.870415  0.465868 -0.188687 -0.200028   \n",
      "663  0.103857  0.397360  1.124010 -0.376277  0.813548  0.071892  0.041592   \n",
      "664  0.089973 -2.516611 -0.191031 -0.941215 -1.398917 -1.377896 -1.366084   \n",
      "665 -0.164921  0.397360  0.290471  1.120789  0.325429  0.416431  0.361300   \n",
      "666  1.435104  0.397360 -0.983350  0.868927  0.380894 -0.161225 -0.143346   \n",
      "667  0.508847 -2.516611 -1.180583 -3.346346 -1.935684 -1.864583 -1.873378   \n",
      "668 -0.197538  0.397360 -1.827313 -0.833757 -0.009058 -0.615263 -0.561912   \n",
      "669 -0.646142  0.397360  1.569327  0.165178 -1.197343 -1.043733 -1.063667   \n",
      "670  2.066333  0.397360  0.311588  0.944126  0.549315  0.228719  0.267891   \n",
      "671  0.714883  0.397360 -0.216474  0.032016 -1.287632 -1.409808 -1.364108   \n",
      "672 -0.779181 -2.516611  2.401872  0.032016  0.694738  0.333914  0.333255   \n",
      "673 -0.407329  0.397360  0.760916 -0.613738 -0.221187  0.249128  0.042321   \n",
      "674  1.187733 -2.516611  0.643512  0.900748 -0.775028 -0.668768 -0.735941   \n",
      "675 -0.164921  0.397360  0.043364  0.032016  0.483875  0.947241  1.039074   \n",
      "676  0.018825  0.397360 -1.659841  0.856035 -0.049319 -0.432634 -0.454698   \n",
      "677  1.712517  0.397360 -0.096426  0.339323  0.596340  0.255568  0.341315   \n",
      "678 -0.316803  0.397360  1.598615 -0.708271  0.350163  0.348431  0.389892   \n",
      "679 -0.085974 -2.516611  0.711747 -0.298537 -0.775028 -0.721639 -0.736225   \n",
      "680 -0.711382  0.397360  0.770080  0.098737 -1.465404 -1.251341 -1.222729   \n",
      "681  1.504134  0.397360  0.531699  1.427625 -0.193226 -0.109182 -0.079068   \n",
      "\n",
      "           T4        T5        S1        S2        S3       C3'       C5'  \\\n",
      "0    0.189744  0.312555  0.016990  0.295829  0.130419  0.942972  0.073941   \n",
      "1    1.855214  1.541652  0.305474  1.677794  1.496631 -1.060477  2.663906   \n",
      "2   -1.730874 -1.597768 -0.016751 -2.110875 -2.020675 -1.060477 -0.238850   \n",
      "3   -1.097495 -0.459433  0.570501 -1.006028 -0.468705 -1.060477 -0.286349   \n",
      "4    0.501895  0.420545  0.180462  0.755567  0.600309  0.942972 -0.009048   \n",
      "5    0.432037  0.735023  0.016990 -0.080342  0.806433  0.942972  0.970198   \n",
      "6    0.863900  0.341805  0.626663  0.108082  0.055657 -1.060477 -0.176110   \n",
      "7   -0.044494  0.057441 -0.227358  0.343972 -0.203597 -1.060477 -0.992180   \n",
      "8    0.493208  1.034231 -0.120238  0.406323  1.464013 -1.060477  0.576359   \n",
      "9   -0.853390 -0.721795  0.598697 -0.203065  0.273698  0.942972 -0.460893   \n",
      "10  -1.194275 -2.134863 -0.376425 -0.821865 -1.483700  0.942972 -0.023104   \n",
      "11  -1.592887 -1.167887 -1.379610 -1.698120 -1.625983 -1.060477 -0.877182   \n",
      "12  -1.552473 -2.173751 -1.873848 -1.607554 -1.284085  0.942972  0.284082   \n",
      "13  -0.494626  0.441603  0.598697  0.312013  0.111932 -1.060477  0.075884   \n",
      "14   0.872067  1.011998  1.046088  1.784735  0.675844  0.942972 -0.063590   \n",
      "15   1.135806  0.157116  1.046088 -0.161271  0.409381  0.942972  2.002664   \n",
      "16  -1.565896 -1.513309 -1.017502 -2.110875 -1.189825  0.942972 -1.358578   \n",
      "17  -0.329935 -0.029422  0.335990  0.553802  0.017441  0.942972 -1.100896   \n",
      "18   0.387942 -0.390585 -0.263929 -0.549755 -0.310743  0.942972  1.627070   \n",
      "19  -0.131402 -0.893306 -0.338448 -0.475175 -0.954217  0.942972  0.041150   \n",
      "20   0.143698  0.584305  0.148435  0.581974  0.820540 -1.060477  0.540096   \n",
      "21   0.647633  0.256785 -0.155525 -0.601151 -1.040049  0.942972  0.386288   \n",
      "22  -1.446759 -1.734091 -1.379610 -0.140714 -0.790729 -1.060477 -0.523584   \n",
      "23  -1.433746 -1.174486 -0.120238 -1.793217 -0.712741 -1.060477  0.069404   \n",
      "24  -1.014593 -0.645558  0.050369 -1.283104 -0.898553 -1.060477 -0.503319   \n",
      "25  -1.356565 -0.755182 -1.017502 -0.311753 -0.267345 -1.060477  0.218685   \n",
      "26   0.510568  0.613868  0.868678 -0.245797  1.496631  0.942972  0.327247   \n",
      "27   0.484509  0.716274 -0.574159  1.125512  0.600309 -1.060477 -1.016778   \n",
      "28   1.313436  0.981105  1.660452  0.937962  0.848523  0.942972  0.493990   \n",
      "29   0.003177  0.065561  1.167698  0.034937  0.522479 -1.060477 -1.192521   \n",
      "..        ...       ...       ...       ...       ...       ...       ...   \n",
      "652 -0.774928 -0.959216 -0.227358  0.451780 -1.011118  0.942972 -1.907681   \n",
      "653 -0.170497  0.077692 -0.533506  0.071861  0.538235  0.942972  0.686495   \n",
      "654  1.763033  1.387540  0.868678  1.305792  1.374946 -1.060477 -0.120232   \n",
      "655  0.316675  0.427584 -0.155525 -0.680947 -0.060747  0.942972  1.443897   \n",
      "656 -0.391051 -0.076137 -0.969726 -0.357030 -0.080672  0.942972  0.935290   \n",
      "657 -0.741711 -1.214446 -2.169770 -0.942638 -1.381947 -1.060477 -1.095031   \n",
      "658 -0.654288 -0.576761  0.180462  0.212780 -0.637057  0.942972  0.827804   \n",
      "659 -0.876062 -1.128648  0.455304 -0.060637 -0.764468  0.942972 -2.501825   \n",
      "660 -0.536682 -0.794697 -1.166365 -0.002718  0.166997 -1.060477 -0.895432   \n",
      "661  2.152034  1.860573  1.488510  2.490250  1.518147 -1.060477  0.448337   \n",
      "662  0.069208 -0.221675 -0.533506 -0.357030 -0.515687  0.942972 -0.539530   \n",
      "663 -0.073304 -0.101985  1.070736 -0.182053 -0.982509 -1.060477 -1.415162   \n",
      "664 -1.243524 -1.135146 -1.217985 -0.792834 -1.449331 -1.060477 -0.420591   \n",
      "665  0.370209  0.459018  0.243572  0.793473  0.553896  0.942972  0.107223   \n",
      "666 -0.229703  0.085747  0.180462  0.246436  0.166997  0.942972  0.756659   \n",
      "667 -1.773314 -1.621299 -2.091769 -1.563839 -1.738136 -1.060477 -0.140756   \n",
      "668 -0.484169 -0.434629 -1.217985  0.553802 -0.224670 -1.060477 -0.155460   \n",
      "669 -1.038116 -1.102822 -2.250893 -1.479312 -0.926234 -1.060477 -0.709810   \n",
      "670  0.289717  0.527508  1.422013  1.093730  0.690687 -1.060477 -0.307191   \n",
      "671 -1.486061 -1.359480 -0.786795 -0.764239 -0.445534 -1.060477  0.592256   \n",
      "672  0.405621  0.820733  0.116083  0.623463  0.705445  0.942972  0.701474   \n",
      "673 -0.044494  0.367125  0.816325 -0.267529  0.660914 -1.060477 -0.700121   \n",
      "674 -0.579111 -1.109254 -0.922803 -0.974069 -2.063709 -1.060477 -0.849438   \n",
      "675  0.789903  0.655970  0.305474  0.716891  0.930683  0.942972 -1.014951   \n",
      "676 -0.350224 -0.561146 -0.155525 -0.334257 -0.422570  0.942972  1.427353   \n",
      "677  0.440815  0.260542  0.763183  0.108082  0.690687 -1.060477  0.131942   \n",
      "678  0.370209  0.636625  0.274670  0.436748  0.690687 -1.060477  0.510608   \n",
      "679 -0.643474 -0.858064 -0.922803 -0.380079 -0.982509  0.942972 -0.041551   \n",
      "680 -1.038116 -1.750622 -0.493425 -1.842610 -0.712741  0.942972  0.273504   \n",
      "681 -0.034925  0.105774  0.945787  0.053489  0.458465  0.942972 -0.327635   \n",
      "\n",
      "          C6'  \n",
      "0    1.286365  \n",
      "1   -0.769239  \n",
      "2   -0.769239  \n",
      "3   -0.769239  \n",
      "4    1.111842  \n",
      "5   -0.769239  \n",
      "6   -0.769239  \n",
      "7   -0.769239  \n",
      "8   -0.769239  \n",
      "9   -0.769239  \n",
      "10  -0.769239  \n",
      "11  -0.769239  \n",
      "12   1.172942  \n",
      "13   1.231135  \n",
      "14  -0.769239  \n",
      "15  -0.769239  \n",
      "16  -0.769239  \n",
      "17  -0.769239  \n",
      "18  -0.769239  \n",
      "19   1.313444  \n",
      "20  -0.769239  \n",
      "21   1.172942  \n",
      "22  -0.769239  \n",
      "23  -0.769239  \n",
      "24  -0.769239  \n",
      "25  -0.769239  \n",
      "26  -0.769239  \n",
      "27   1.122594  \n",
      "28  -0.769239  \n",
      "29  -0.769239  \n",
      "..        ...  \n",
      "652 -0.769239  \n",
      "653  1.328432  \n",
      "654 -0.769239  \n",
      "655  1.304018  \n",
      "656  1.057797  \n",
      "657 -0.769239  \n",
      "658 -0.769239  \n",
      "659  1.028977  \n",
      "660 -0.769239  \n",
      "661 -0.769239  \n",
      "662  1.159064  \n",
      "663  1.159064  \n",
      "664 -0.769239  \n",
      "665 -0.769239  \n",
      "666  1.227939  \n",
      "667 -0.769239  \n",
      "668 -0.769239  \n",
      "669  1.328432  \n",
      "670 -0.769239  \n",
      "671 -0.769239  \n",
      "672  1.292809  \n",
      "673  1.680359  \n",
      "674 -0.769239  \n",
      "675 -0.769239  \n",
      "676 -0.769239  \n",
      "677  1.425097  \n",
      "678 -0.769239  \n",
      "679 -0.769239  \n",
      "680  1.409418  \n",
      "681  1.172942  \n",
      "\n",
      "[682 rows x 15 columns]\n"
     ]
    }
   ],
   "source": [
    "# Printing new DataFrame to check the outcome \n",
    "print(stand_df)"
   ]
  },
  {
   "cell_type": "code",
   "execution_count": 6,
   "metadata": {},
   "outputs": [
    {
     "data": {
      "text/plain": [
       "C1    -1.513940e-16\n",
       "C2    -6.788314e-17\n",
       "C4     1.904635e-17\n",
       "C7    -6.511572e-18\n",
       "T1     2.772709e-16\n",
       "T2     7.510081e-16\n",
       "T3    -2.334195e-16\n",
       "T4    -7.927330e-16\n",
       "T5    -8.404812e-16\n",
       "S1     7.180636e-16\n",
       "S2    -4.147973e-16\n",
       "S3    -1.397546e-16\n",
       "C3'    2.086959e-16\n",
       "C5'    6.356922e-17\n",
       "C6'   -4.232522e-18\n",
       "dtype: float64"
      ]
     },
     "execution_count": 6,
     "metadata": {},
     "output_type": "execute_result"
    }
   ],
   "source": [
    "# Checking mean for standardized \n",
    "# Want to see mean very close to 0 \n",
    "stand_df.mean()"
   ]
  },
  {
   "cell_type": "code",
   "execution_count": 7,
   "metadata": {},
   "outputs": [
    {
     "data": {
      "text/plain": [
       "C1     1.000734\n",
       "C2     1.000734\n",
       "C4     1.000734\n",
       "C7     1.000734\n",
       "T1     1.000734\n",
       "T2     1.000734\n",
       "T3     1.000734\n",
       "T4     1.000734\n",
       "T5     1.000734\n",
       "S1     1.000734\n",
       "S2     1.000734\n",
       "S3     1.000734\n",
       "C3'    1.000734\n",
       "C5'    1.000734\n",
       "C6'    1.000734\n",
       "dtype: float64"
      ]
     },
     "execution_count": 7,
     "metadata": {},
     "output_type": "execute_result"
    }
   ],
   "source": [
    "# Checking standard deviation of standardized data\n",
    "# Want std dev of each column close to 1 \n",
    "stand_df.std()"
   ]
  },
  {
   "cell_type": "code",
   "execution_count": 8,
   "metadata": {},
   "outputs": [],
   "source": [
    "# Exporting DataFrame as CSV named StandDF\n",
    "stand_df.to_csv('StandDF', ',')"
   ]
  },
  {
   "cell_type": "code",
   "execution_count": 9,
   "metadata": {},
   "outputs": [
    {
     "data": {
      "text/plain": [
       "<matplotlib.axes._subplots.AxesSubplot at 0x7f63181dc0f0>"
      ]
     },
     "execution_count": 9,
     "metadata": {},
     "output_type": "execute_result"
    },
    {
     "data": {
      "image/png": "[encoded data removed]",
      "text/plain": [
       "<Figure size 432x288 with 1 Axes>"
      ]
     },
     "metadata": {},
     "output_type": "display_data"
    }
   ],
   "source": [
    "stand_df['C1'].hist(range=(-2,2))"
   ]
  },
  {
   "cell_type": "code",
   "execution_count": 10,
   "metadata": {},
   "outputs": [
    {
     "data": {
      "text/plain": [
       "<matplotlib.axes._subplots.AxesSubplot at 0x7f62d4e05198>"
      ]
     },
     "execution_count": 10,
     "metadata": {},
     "output_type": "execute_result"
    },
    {
     "data": {
      "image/png": "[encoded data removed]",
      "text/plain": [
       "<Figure size 432x288 with 1 Axes>"
      ]
     },
     "metadata": {},
     "output_type": "display_data"
    }
   ],
   "source": [
    "stand_df['C4'].hist(range=(-2,2))"
   ]
  },
  {
   "cell_type": "code",
   "execution_count": 11,
   "metadata": {},
   "outputs": [
    {
     "data": {
      "text/plain": [
       "<matplotlib.axes._subplots.AxesSubplot at 0x7f62d6f13b00>"
      ]
     },
     "execution_count": 11,
     "metadata": {},
     "output_type": "execute_result"
    },
    {
     "data": {
      "image/png": "[encoded data removed]",
      "text/plain": [
       "<Figure size 432x288 with 1 Axes>"
      ]
     },
     "metadata": {},
     "output_type": "display_data"
    }
   ],
   "source": [
    "stand_df['C7'].hist(range=(-2,2))"
   ]
  },
  {
   "cell_type": "code",
   "execution_count": 12,
   "metadata": {},
   "outputs": [
    {
     "data": {
      "text/plain": [
       "<matplotlib.axes._subplots.AxesSubplot at 0x7f62d4d170f0>"
      ]
     },
     "execution_count": 12,
     "metadata": {},
     "output_type": "execute_result"
    },
    {
     "data": {
      "image/png": "[encoded data removed]",
      "text/plain": [
       "<Figure size 432x288 with 1 Axes>"
      ]
     },
     "metadata": {},
     "output_type": "display_data"
    }
   ],
   "source": [
    "stand_df['T1'].hist(range=(-2,2))"
   ]
  },
  {
   "cell_type": "code",
   "execution_count": 13,
   "metadata": {},
   "outputs": [
    {
     "data": {
      "text/plain": [
       "<matplotlib.axes._subplots.AxesSubplot at 0x7f62d4c842b0>"
      ]
     },
     "execution_count": 13,
     "metadata": {},
     "output_type": "execute_result"
    },
    {
     "data": {
      "image/png": "[encoded data removed]",
      "text/plain": [
       "<Figure size 432x288 with 1 Axes>"
      ]
     },
     "metadata": {},
     "output_type": "display_data"
    }
   ],
   "source": [
    "stand_df['T2'].hist(range=(-2,2))"
   ]
  },
  {
   "cell_type": "code",
   "execution_count": 14,
   "metadata": {},
   "outputs": [
    {
     "data": {
      "text/plain": [
       "<matplotlib.axes._subplots.AxesSubplot at 0x7f62d4c407b8>"
      ]
     },
     "execution_count": 14,
     "metadata": {},
     "output_type": "execute_result"
    },
    {
     "data": {
      "image/png": "[encoded data removed]",
      "text/plain": [
       "<Figure size 432x288 with 1 Axes>"
      ]
     },
     "metadata": {},
     "output_type": "display_data"
    }
   ],
   "source": [
    "stand_df['T3'].hist(range=(-2,2))"
   ]
  },
  {
   "cell_type": "code",
   "execution_count": 15,
   "metadata": {},
   "outputs": [
    {
     "data": {
      "text/plain": [
       "<matplotlib.axes._subplots.AxesSubplot at 0x7f62d4c8fa58>"
      ]
     },
     "execution_count": 15,
     "metadata": {},
     "output_type": "execute_result"
    },
    {
     "data": {
      "image/png": "[encoded data removed]",
      "text/plain": [
       "<Figure size 432x288 with 1 Axes>"
      ]
     },
     "metadata": {},
     "output_type": "display_data"
    }
   ],
   "source": [
    "stand_df['T4'].hist(range=(-2,2))"
   ]
  },
  {
   "cell_type": "code",
   "execution_count": 16,
   "metadata": {},
   "outputs": [
    {
     "data": {
      "text/plain": [
       "<matplotlib.axes._subplots.AxesSubplot at 0x7f62d4b15710>"
      ]
     },
     "execution_count": 16,
     "metadata": {},
     "output_type": "execute_result"
    },
    {
     "data": {
      "image/png": "[encoded data removed]",
      "text/plain": [
       "<Figure size 432x288 with 1 Axes>"
      ]
     },
     "metadata": {},
     "output_type": "display_data"
    }
   ],
   "source": [
    "stand_df['T5'].hist(range=(-2,2))"
   ]
  },
  {
   "cell_type": "code",
   "execution_count": 17,
   "metadata": {},
   "outputs": [
    {
     "data": {
      "text/plain": [
       "<matplotlib.axes._subplots.AxesSubplot at 0x7f62d4bee240>"
      ]
     },
     "execution_count": 17,
     "metadata": {},
     "output_type": "execute_result"
    },
    {
     "data": {
      "image/png": "[encoded data removed]",
      "text/plain": [
       "<Figure size 432x288 with 1 Axes>"
      ]
     },
     "metadata": {},
     "output_type": "display_data"
    }
   ],
   "source": [
    "stand_df['S1'].hist(range=(-2,2))"
   ]
  },
  {
   "cell_type": "code",
   "execution_count": 18,
   "metadata": {},
   "outputs": [
    {
     "data": {
      "text/plain": [
       "<matplotlib.axes._subplots.AxesSubplot at 0x7f62d4bee0f0>"
      ]
     },
     "execution_count": 18,
     "metadata": {},
     "output_type": "execute_result"
    },
    {
     "data": {
      "image/png": "[encoded data removed]",
      "text/plain": [
       "<Figure size 432x288 with 1 Axes>"
      ]
     },
     "metadata": {},
     "output_type": "display_data"
    }
   ],
   "source": [
    "stand_df['S2'].hist(range=(-2,2))"
   ]
  },
  {
   "cell_type": "code",
   "execution_count": 19,
   "metadata": {},
   "outputs": [
    {
     "data": {
      "text/plain": [
       "<matplotlib.axes._subplots.AxesSubplot at 0x7f62d49cfda0>"
      ]
     },
     "execution_count": 19,
     "metadata": {},
     "output_type": "execute_result"
    },
    {
     "data": {
      "image/png": "[encoded data removed]",
      "text/plain": [
       "<Figure size 432x288 with 1 Axes>"
      ]
     },
     "metadata": {},
     "output_type": "display_data"
    }
   ],
   "source": [
    "stand_df['S3'].hist(range=(-2,2))"
   ]
  },
  {
   "cell_type": "code",
   "execution_count": 20,
   "metadata": {},
   "outputs": [
    {
     "data": {
      "text/plain": [
       "<matplotlib.axes._subplots.AxesSubplot at 0x7f62d490bb38>"
      ]
     },
     "execution_count": 20,
     "metadata": {},
     "output_type": "execute_result"
    },
    {
     "data": {
      "image/png": "[encoded data removed]",
      "text/plain": [
       "<Figure size 432x288 with 1 Axes>"
      ]
     },
     "metadata": {},
     "output_type": "display_data"
    }
   ],
   "source": [
    "stand_df[\"C5'\"].hist(range=(-2,2))"
   ]
  },
  {
   "cell_type": "code",
   "execution_count": 21,
   "metadata": {},
   "outputs": [
    {
     "data": {
      "text/plain": [
       "<matplotlib.axes._subplots.AxesSubplot at 0x7f62d491a9e8>"
      ]
     },
     "execution_count": 21,
     "metadata": {},
     "output_type": "execute_result"
    },
    {
     "data": {
      "image/png": "[encoded data removed]",
      "text/plain": [
       "<Figure size 432x288 with 1 Axes>"
      ]
     },
     "metadata": {},
     "output_type": "display_data"
    }
   ],
   "source": [
    "stand_df[\"C6'\"].hist(range=(-2,2))"
   ]
  },
  {
   "cell_type": "code",
   "execution_count": 22,
   "metadata": {},
   "outputs": [],
   "source": [
    "# Exporting DataFrame as CSV named StandDF\n",
    "df.to_csv('StandDF', ',')"
   ]
  },
  {
   "cell_type": "code",
   "execution_count": null,
   "metadata": {},
   "outputs": [],
   "source": []
  }
 ],
 "metadata": {
  "kernelspec": {
   "display_name": "Python 3",
   "language": "python",
   "name": "python3"
  },
  "language_info": {
   "codemirror_mode": {
    "name": "ipython",
    "version": 3
   },
   "file_extension": ".py",
   "mimetype": "text/x-python",
   "name": "python",
   "nbconvert_exporter": "python",
   "pygments_lexer": "ipython3",
   "version": "3.6.5"
  }
 },
 "nbformat": 4,
 "nbformat_minor": 2
}
