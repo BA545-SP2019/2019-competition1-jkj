{
 "cells": [
  {
   "cell_type": "code",
   "execution_count": 1,
   "metadata": {},
   "outputs": [],
   "source": [
    "# Fixing Outliers using three Standard Deviation method "
   ]
  },
  {
   "cell_type": "code",
   "execution_count": 2,
   "metadata": {},
   "outputs": [],
   "source": [
    "import numpy as np \n",
    "import pandas as pd\n",
    "import matplotlib.pyplot as plt\n",
    "from sklearn import preprocessing\n",
    "import statistics\n",
    "%matplotlib inline\n",
    "plt.style.use('ggplot')"
   ]
  },
  {
   "cell_type": "code",
   "execution_count": 3,
   "metadata": {},
   "outputs": [
    {
     "data": {
      "text/html": [
       "<div>\n",
       "<style scoped>\n",
       "    .dataframe tbody tr th:only-of-type {\n",
       "        vertical-align: middle;\n",
       "    }\n",
       "\n",
       "    .dataframe tbody tr th {\n",
       "        vertical-align: top;\n",
       "    }\n",
       "\n",
       "    .dataframe thead th {\n",
       "        text-align: right;\n",
       "    }\n",
       "</style>\n",
       "<table border=\"1\" class=\"dataframe\">\n",
       "  <thead>\n",
       "    <tr style=\"text-align: right;\">\n",
       "      <th></th>\n",
       "      <th>C1</th>\n",
       "      <th>C2</th>\n",
       "      <th>C4</th>\n",
       "      <th>C7</th>\n",
       "      <th>C3'</th>\n",
       "      <th>C5'</th>\n",
       "      <th>C6'</th>\n",
       "      <th>T4'</th>\n",
       "      <th>T3'</th>\n",
       "      <th>T5'</th>\n",
       "      <th>S1'</th>\n",
       "      <th>S2'</th>\n",
       "      <th>S3'</th>\n",
       "    </tr>\n",
       "  </thead>\n",
       "  <tbody>\n",
       "    <tr>\n",
       "      <th>0</th>\n",
       "      <td>2.086360</td>\n",
       "      <td>1.0</td>\n",
       "      <td>0.029074</td>\n",
       "      <td>1.710498</td>\n",
       "      <td>1</td>\n",
       "      <td>1.351792</td>\n",
       "      <td>1.306758</td>\n",
       "      <td>0.640426</td>\n",
       "      <td>0.979660</td>\n",
       "      <td>-1.241958</td>\n",
       "      <td>0.172661</td>\n",
       "      <td>-2.012621</td>\n",
       "      <td>-1.937792</td>\n",
       "    </tr>\n",
       "    <tr>\n",
       "      <th>1</th>\n",
       "      <td>2.413300</td>\n",
       "      <td>0.0</td>\n",
       "      <td>-0.013352</td>\n",
       "      <td>1.413903</td>\n",
       "      <td>0</td>\n",
       "      <td>2.487306</td>\n",
       "      <td>0.000000</td>\n",
       "      <td>0.644753</td>\n",
       "      <td>1.275142</td>\n",
       "      <td>-1.031589</td>\n",
       "      <td>0.180641</td>\n",
       "      <td>-1.696991</td>\n",
       "      <td>-1.706058</td>\n",
       "    </tr>\n",
       "    <tr>\n",
       "      <th>2</th>\n",
       "      <td>1.954243</td>\n",
       "      <td>1.0</td>\n",
       "      <td>0.020715</td>\n",
       "      <td>0.867939</td>\n",
       "      <td>0</td>\n",
       "      <td>1.214656</td>\n",
       "      <td>0.000000</td>\n",
       "      <td>0.636816</td>\n",
       "      <td>0.630286</td>\n",
       "      <td>-1.568923</td>\n",
       "      <td>0.171728</td>\n",
       "      <td>-2.562293</td>\n",
       "      <td>-2.302656</td>\n",
       "    </tr>\n",
       "  </tbody>\n",
       "</table>\n",
       "</div>"
      ],
      "text/plain": [
       "         C1   C2        C4        C7  C3'       C5'       C6'       T4'  \\\n",
       "0  2.086360  1.0  0.029074  1.710498    1  1.351792  1.306758  0.640426   \n",
       "1  2.413300  0.0 -0.013352  1.413903    0  2.487306  0.000000  0.644753   \n",
       "2  1.954243  1.0  0.020715  0.867939    0  1.214656  0.000000  0.636816   \n",
       "\n",
       "        T3'       T5'       S1'       S2'       S3'  \n",
       "0  0.979660 -1.241958  0.172661 -2.012621 -1.937792  \n",
       "1  1.275142 -1.031589  0.180641 -1.696991 -1.706058  \n",
       "2  0.630286 -1.568923  0.171728 -2.562293 -2.302656  "
      ]
     },
     "execution_count": 3,
     "metadata": {},
     "output_type": "execute_result"
    }
   ],
   "source": [
    "# Uploading imputed data to df from CSV WorkingDataFrame\n",
    "df = pd.read_csv('SkewDF1', index_col=0)\n",
    "df.head(3)"
   ]
  },
  {
   "cell_type": "code",
   "execution_count": 6,
   "metadata": {},
   "outputs": [
    {
     "data": {
      "text/plain": [
       "C1     2.065060\n",
       "C2     0.863636\n",
       "C4     0.007342\n",
       "C7     1.989934\n",
       "C3'    0.529326\n",
       "C5'    1.331007\n",
       "C6'    0.489009\n",
       "T4'    0.628061\n",
       "T3'    0.951507\n",
       "T5'   -1.292682\n",
       "S1'    0.173232\n",
       "S2'   -2.072968\n",
       "S3'   -1.958558\n",
       "dtype: float64"
      ]
     },
     "execution_count": 6,
     "metadata": {},
     "output_type": "execute_result"
    }
   ],
   "source": [
    "# Checking mean of columns BEFORE fixing outliers \n",
    "df.mean()"
   ]
  },
  {
   "cell_type": "code",
   "execution_count": 7,
   "metadata": {},
   "outputs": [
    {
     "data": {
      "text/plain": [
       "{'whiskers': [<matplotlib.lines.Line2D at 0x7fb2eb331978>,\n",
       "  <matplotlib.lines.Line2D at 0x7fb2eb331cc0>],\n",
       " 'caps': [<matplotlib.lines.Line2D at 0x7fb2eb345048>,\n",
       "  <matplotlib.lines.Line2D at 0x7fb2eb345390>],\n",
       " 'boxes': [<matplotlib.lines.Line2D at 0x7fb2eb331828>],\n",
       " 'medians': [<matplotlib.lines.Line2D at 0x7fb2eb3456d8>],\n",
       " 'fliers': [<matplotlib.lines.Line2D at 0x7fb2eb345a20>],\n",
       " 'means': []}"
      ]
     },
     "execution_count": 7,
     "metadata": {},
     "output_type": "execute_result"
    },
    {
     "data": {
      "image/png": "[encoded data removed]",
      "text/plain": [
       "<Figure size 432x288 with 1 Axes>"
      ]
     },
     "metadata": {},
     "output_type": "display_data"
    }
   ],
   "source": [
    "# Checking with Boxplot \n",
    "plt.boxplot(df['C1'])"
   ]
  },
  {
   "cell_type": "code",
   "execution_count": 8,
   "metadata": {},
   "outputs": [],
   "source": [
    "# Defining functin to replace outliers using IQR of each column\n",
    "def sd_outlier_replace(x): \n",
    "    if x > (mean + (3*SD)): \n",
    "        x = median\n",
    "    elif x < (mean - (3*SD)): \n",
    "        x = median\n",
    "    else: \n",
    "        pass\n",
    "    return(x)\n",
    "\n",
    "# Applying to all columns except C2 and C3' because they are binary"
   ]
  },
  {
   "cell_type": "code",
   "execution_count": 9,
   "metadata": {},
   "outputs": [
    {
     "data": {
      "text/plain": [
       "{'whiskers': [<matplotlib.lines.Line2D at 0x7fb2eb2bdf28>,\n",
       "  <matplotlib.lines.Line2D at 0x7fb2eb2c92b0>],\n",
       " 'caps': [<matplotlib.lines.Line2D at 0x7fb2eb2c95f8>,\n",
       "  <matplotlib.lines.Line2D at 0x7fb2eb2c9940>],\n",
       " 'boxes': [<matplotlib.lines.Line2D at 0x7fb2eb2bddd8>],\n",
       " 'medians': [<matplotlib.lines.Line2D at 0x7fb2eb2c9c88>],\n",
       " 'fliers': [<matplotlib.lines.Line2D at 0x7fb2eb2c9fd0>],\n",
       " 'means': []}"
      ]
     },
     "execution_count": 9,
     "metadata": {},
     "output_type": "execute_result"
    },
    {
     "data": {
      "image/png": "[encoded data removed]",
      "text/plain": [
       "<Figure size 432x288 with 1 Axes>"
      ]
     },
     "metadata": {},
     "output_type": "display_data"
    }
   ],
   "source": [
    "# Applying function to columns with outliers \n",
    "mean = df['C1'].mean()\n",
    "SD = df['C1'].std()\n",
    "median = df['C1'].median()\n",
    "df['C1'] = df['C1'].apply(lambda x: sd_outlier_replace(x))\n",
    "\n",
    "# Checking with Boxplot \n",
    "plt.boxplot(df['C1'])"
   ]
  },
  {
   "cell_type": "code",
   "execution_count": 10,
   "metadata": {},
   "outputs": [
    {
     "data": {
      "text/plain": [
       "{'whiskers': [<matplotlib.lines.Line2D at 0x7fb2eb225d30>,\n",
       "  <matplotlib.lines.Line2D at 0x7fb2eb2300b8>],\n",
       " 'caps': [<matplotlib.lines.Line2D at 0x7fb2eb230400>,\n",
       "  <matplotlib.lines.Line2D at 0x7fb2eb230748>],\n",
       " 'boxes': [<matplotlib.lines.Line2D at 0x7fb2eb225be0>],\n",
       " 'medians': [<matplotlib.lines.Line2D at 0x7fb2eb230a90>],\n",
       " 'fliers': [<matplotlib.lines.Line2D at 0x7fb2eb230dd8>],\n",
       " 'means': []}"
      ]
     },
     "execution_count": 10,
     "metadata": {},
     "output_type": "execute_result"
    },
    {
     "data": {
      "image/png": "[encoded data removed]",
      "text/plain": [
       "<Figure size 432x288 with 1 Axes>"
      ]
     },
     "metadata": {},
     "output_type": "display_data"
    }
   ],
   "source": [
    "# Applying function to columns with outliers \n",
    "mean = df[\"C4\"].mean()\n",
    "SD = df[\"C4\"].std()\n",
    "median = df[\"C4\"].median()\n",
    "df[\"C4\"] = df[\"C4\"].apply(lambda x: sd_outlier_replace(x))\n",
    "\n",
    "# Checking with Boxplot \n",
    "plt.boxplot(df[\"C4\"])"
   ]
  },
  {
   "cell_type": "code",
   "execution_count": 11,
   "metadata": {},
   "outputs": [
    {
     "data": {
      "text/plain": [
       "{'whiskers': [<matplotlib.lines.Line2D at 0x7fb2eb210ba8>,\n",
       "  <matplotlib.lines.Line2D at 0x7fb2eb210ef0>],\n",
       " 'caps': [<matplotlib.lines.Line2D at 0x7fb2eb19a278>,\n",
       "  <matplotlib.lines.Line2D at 0x7fb2eb19a5c0>],\n",
       " 'boxes': [<matplotlib.lines.Line2D at 0x7fb2eb210a58>],\n",
       " 'medians': [<matplotlib.lines.Line2D at 0x7fb2eb19a908>],\n",
       " 'fliers': [<matplotlib.lines.Line2D at 0x7fb2eb19ac50>],\n",
       " 'means': []}"
      ]
     },
     "execution_count": 11,
     "metadata": {},
     "output_type": "execute_result"
    },
    {
     "data": {
      "image/png": "[encoded data removed]",
      "text/plain": [
       "<Figure size 432x288 with 1 Axes>"
      ]
     },
     "metadata": {},
     "output_type": "display_data"
    }
   ],
   "source": [
    "# Applying function to columns with outliers \n",
    "mean = df[\"C5'\"].mean()\n",
    "SD = df[\"C5'\"].std()\n",
    "median = df[\"C5'\"].median()\n",
    "df[\"C5'\"] = df[\"C5'\"].apply(lambda x: sd_outlier_replace(x))\n",
    "\n",
    "# Checking with Boxplot \n",
    "plt.boxplot(df[\"C5'\"])"
   ]
  },
  {
   "cell_type": "code",
   "execution_count": 12,
   "metadata": {},
   "outputs": [
    {
     "data": {
      "text/plain": [
       "{'whiskers': [<matplotlib.lines.Line2D at 0x7fb2eb1760b8>,\n",
       "  <matplotlib.lines.Line2D at 0x7fb2eb176400>],\n",
       " 'caps': [<matplotlib.lines.Line2D at 0x7fb2eb176748>,\n",
       "  <matplotlib.lines.Line2D at 0x7fb2eb176a90>],\n",
       " 'boxes': [<matplotlib.lines.Line2D at 0x7fb2eb16cf28>],\n",
       " 'medians': [<matplotlib.lines.Line2D at 0x7fb2eb176dd8>],\n",
       " 'fliers': [<matplotlib.lines.Line2D at 0x7fb2eb17e160>],\n",
       " 'means': []}"
      ]
     },
     "execution_count": 12,
     "metadata": {},
     "output_type": "execute_result"
    },
    {
     "data": {
      "image/png": "[encoded data removed]",
      "text/plain": [
       "<Figure size 432x288 with 1 Axes>"
      ]
     },
     "metadata": {},
     "output_type": "display_data"
    }
   ],
   "source": [
    "# Applying function to columns with outliers \n",
    "mean = df[\"C6'\"].mean()\n",
    "SD = df[\"C6'\"].std()\n",
    "median = df[\"C6'\"].median()\n",
    "df[\"C6'\"] = df[\"C6'\"].apply(lambda x: sd_outlier_replace(x))\n",
    "\n",
    "# Checking with Boxplot \n",
    "plt.boxplot(df[\"C6'\"])"
   ]
  },
  {
   "cell_type": "code",
   "execution_count": 14,
   "metadata": {},
   "outputs": [
    {
     "data": {
      "text/plain": [
       "{'whiskers': [<matplotlib.lines.Line2D at 0x7fb2eb0de9b0>,\n",
       "  <matplotlib.lines.Line2D at 0x7fb2eb0decf8>],\n",
       " 'caps': [<matplotlib.lines.Line2D at 0x7fb2eb0ea080>,\n",
       "  <matplotlib.lines.Line2D at 0x7fb2eb0ea3c8>],\n",
       " 'boxes': [<matplotlib.lines.Line2D at 0x7fb2eb0de860>],\n",
       " 'medians': [<matplotlib.lines.Line2D at 0x7fb2eb0ea710>],\n",
       " 'fliers': [<matplotlib.lines.Line2D at 0x7fb2eb0eaa58>],\n",
       " 'means': []}"
      ]
     },
     "execution_count": 14,
     "metadata": {},
     "output_type": "execute_result"
    },
    {
     "data": {
      "image/png": "[encoded data removed]",
      "text/plain": [
       "<Figure size 432x288 with 1 Axes>"
      ]
     },
     "metadata": {},
     "output_type": "display_data"
    }
   ],
   "source": [
    "# Applying function to columns with outliers \n",
    "mean = df[\"T3'\"].mean()\n",
    "SD = df[\"T3'\"].std()\n",
    "median = df[\"T3'\"].median()\n",
    "df[\"T3'\"] = df[\"T3'\"].apply(lambda x: sd_outlier_replace(x))\n",
    "\n",
    "# Checking with Boxplot \n",
    "plt.boxplot(df[\"T3'\"])"
   ]
  },
  {
   "cell_type": "code",
   "execution_count": 15,
   "metadata": {},
   "outputs": [
    {
     "data": {
      "text/plain": [
       "{'whiskers': [<matplotlib.lines.Line2D at 0x7fb2eb0b9438>,\n",
       "  <matplotlib.lines.Line2D at 0x7fb2eb0b9780>],\n",
       " 'caps': [<matplotlib.lines.Line2D at 0x7fb2eb0b9ac8>,\n",
       "  <matplotlib.lines.Line2D at 0x7fb2eb0b9e10>],\n",
       " 'boxes': [<matplotlib.lines.Line2D at 0x7fb2eb0b92e8>],\n",
       " 'medians': [<matplotlib.lines.Line2D at 0x7fb2eb0c4198>],\n",
       " 'fliers': [<matplotlib.lines.Line2D at 0x7fb2eb0c44e0>],\n",
       " 'means': []}"
      ]
     },
     "execution_count": 15,
     "metadata": {},
     "output_type": "execute_result"
    },
    {
     "data": {
      "image/png": "[encoded data removed]",
      "text/plain": [
       "<Figure size 432x288 with 1 Axes>"
      ]
     },
     "metadata": {},
     "output_type": "display_data"
    }
   ],
   "source": [
    "# Applying function to columns with outliers \n",
    "mean = df[\"T4'\"].mean()\n",
    "SD = df[\"T4'\"].std()\n",
    "median = df[\"T4'\"].median()\n",
    "df[\"T4'\"] = df[\"T4'\"].apply(lambda x: sd_outlier_replace(x))\n",
    "\n",
    "# Checking with Boxplot \n",
    "plt.boxplot(df[\"T4'\"])"
   ]
  },
  {
   "cell_type": "code",
   "execution_count": 16,
   "metadata": {},
   "outputs": [
    {
     "data": {
      "text/plain": [
       "{'whiskers': [<matplotlib.lines.Line2D at 0x7fb2eb08dcf8>,\n",
       "  <matplotlib.lines.Line2D at 0x7fb2eb016080>],\n",
       " 'caps': [<matplotlib.lines.Line2D at 0x7fb2eb0163c8>,\n",
       "  <matplotlib.lines.Line2D at 0x7fb2eb016710>],\n",
       " 'boxes': [<matplotlib.lines.Line2D at 0x7fb2eb08dba8>],\n",
       " 'medians': [<matplotlib.lines.Line2D at 0x7fb2eb016a58>],\n",
       " 'fliers': [<matplotlib.lines.Line2D at 0x7fb2eb016da0>],\n",
       " 'means': []}"
      ]
     },
     "execution_count": 16,
     "metadata": {},
     "output_type": "execute_result"
    },
    {
     "data": {
      "image/png": "[encoded data removed]",
      "text/plain": [
       "<Figure size 432x288 with 1 Axes>"
      ]
     },
     "metadata": {},
     "output_type": "display_data"
    }
   ],
   "source": [
    "# Applying function to columns with outliers \n",
    "mean = df[\"T5'\"].mean()\n",
    "SD = df[\"T5'\"].std()\n",
    "median = df[\"T5'\"].median()\n",
    "df[\"T5'\"] = df[\"T5'\"].apply(lambda x: sd_outlier_replace(x))\n",
    "\n",
    "# Checking with Boxplot \n",
    "plt.boxplot(df[\"T5'\"])"
   ]
  },
  {
   "cell_type": "code",
   "execution_count": 17,
   "metadata": {},
   "outputs": [
    {
     "data": {
      "text/plain": [
       "{'whiskers': [<matplotlib.lines.Line2D at 0x7fb2eafeb898>,\n",
       "  <matplotlib.lines.Line2D at 0x7fb2eafebbe0>],\n",
       " 'caps': [<matplotlib.lines.Line2D at 0x7fb2eafebf28>,\n",
       "  <matplotlib.lines.Line2D at 0x7fb2eaff52b0>],\n",
       " 'boxes': [<matplotlib.lines.Line2D at 0x7fb2eafeb748>],\n",
       " 'medians': [<matplotlib.lines.Line2D at 0x7fb2eaff55f8>],\n",
       " 'fliers': [<matplotlib.lines.Line2D at 0x7fb2eaff5940>],\n",
       " 'means': []}"
      ]
     },
     "execution_count": 17,
     "metadata": {},
     "output_type": "execute_result"
    },
    {
     "data": {
      "image/png": "[encoded data removed]",
      "text/plain": [
       "<Figure size 432x288 with 1 Axes>"
      ]
     },
     "metadata": {},
     "output_type": "display_data"
    }
   ],
   "source": [
    "# Applying function to columns with outliers \n",
    "mean = df[\"S1'\"].mean()\n",
    "SD = df[\"S1'\"].std()\n",
    "median = df[\"S1'\"].median()\n",
    "df[\"S1'\"] = df[\"S1'\"].apply(lambda x: sd_outlier_replace(x))\n",
    "\n",
    "# Checking with Boxplot \n",
    "plt.boxplot(df[\"S1'\"])"
   ]
  },
  {
   "cell_type": "code",
   "execution_count": 19,
   "metadata": {},
   "outputs": [
    {
     "data": {
      "text/plain": [
       "{'whiskers': [<matplotlib.lines.Line2D at 0x7fb2eafcdd68>,\n",
       "  <matplotlib.lines.Line2D at 0x7fb2eaf580f0>],\n",
       " 'caps': [<matplotlib.lines.Line2D at 0x7fb2eaf58438>,\n",
       "  <matplotlib.lines.Line2D at 0x7fb2eaf58780>],\n",
       " 'boxes': [<matplotlib.lines.Line2D at 0x7fb2eafcdc18>],\n",
       " 'medians': [<matplotlib.lines.Line2D at 0x7fb2eaf58ac8>],\n",
       " 'fliers': [<matplotlib.lines.Line2D at 0x7fb2eaf58e10>],\n",
       " 'means': []}"
      ]
     },
     "execution_count": 19,
     "metadata": {},
     "output_type": "execute_result"
    },
    {
     "data": {
      "image/png": "[encoded data removed]",
      "text/plain": [
       "<Figure size 432x288 with 1 Axes>"
      ]
     },
     "metadata": {},
     "output_type": "display_data"
    }
   ],
   "source": [
    "# Applying function to columns with outliers \n",
    "mean = df[\"S2'\"].mean()\n",
    "SD = df[\"S2'\"].std()\n",
    "median = df[\"S2'\"].median()\n",
    "df[\"S2'\"] = df[\"S2'\"].apply(lambda x: sd_outlier_replace(x))\n",
    "\n",
    "# Checking with Boxplot \n",
    "plt.boxplot(df[\"S2'\"])"
   ]
  },
  {
   "cell_type": "code",
   "execution_count": 20,
   "metadata": {},
   "outputs": [
    {
     "data": {
      "text/plain": [
       "{'whiskers': [<matplotlib.lines.Line2D at 0x7fb2eaf33780>,\n",
       "  <matplotlib.lines.Line2D at 0x7fb2eaf33ac8>],\n",
       " 'caps': [<matplotlib.lines.Line2D at 0x7fb2eaf33e10>,\n",
       "  <matplotlib.lines.Line2D at 0x7fb2eaf3e198>],\n",
       " 'boxes': [<matplotlib.lines.Line2D at 0x7fb2eaf33630>],\n",
       " 'medians': [<matplotlib.lines.Line2D at 0x7fb2eaf3e4e0>],\n",
       " 'fliers': [<matplotlib.lines.Line2D at 0x7fb2eaf3e828>],\n",
       " 'means': []}"
      ]
     },
     "execution_count": 20,
     "metadata": {},
     "output_type": "execute_result"
    },
    {
     "data": {
      "image/png": "[encoded data removed]",
      "text/plain": [
       "<Figure size 432x288 with 1 Axes>"
      ]
     },
     "metadata": {},
     "output_type": "display_data"
    }
   ],
   "source": [
    "# Applying function to columns with outliers \n",
    "mean = df[\"S3'\"].mean()\n",
    "SD = df[\"S3'\"].std()\n",
    "median = df[\"S3'\"].median()\n",
    "df[\"S3'\"] = df[\"S3'\"].apply(lambda x: sd_outlier_replace(x))\n",
    "\n",
    "# Checking with Boxplot \n",
    "plt.boxplot(df[\"S3'\"])"
   ]
  },
  {
   "cell_type": "code",
   "execution_count": 21,
   "metadata": {},
   "outputs": [
    {
     "data": {
      "text/plain": [
       "C1     2.070818\n",
       "C2     0.863636\n",
       "C4     0.007743\n",
       "C7     1.989934\n",
       "C3'    0.529326\n",
       "C5'    1.319374\n",
       "C6'    0.489009\n",
       "T4'    0.628712\n",
       "T3'    0.949732\n",
       "T5'   -1.295454\n",
       "S1'    0.172191\n",
       "S2'   -2.079161\n",
       "S3'   -1.959913\n",
       "dtype: float64"
      ]
     },
     "execution_count": 21,
     "metadata": {},
     "output_type": "execute_result"
    }
   ],
   "source": [
    "df.mean()"
   ]
  },
  {
   "cell_type": "code",
   "execution_count": 22,
   "metadata": {},
   "outputs": [],
   "source": [
    "# Exporting DataFrame as CSV \n",
    "df.to_csv('OutlierFix1', ',')"
   ]
  },
  {
   "cell_type": "code",
   "execution_count": null,
   "metadata": {},
   "outputs": [],
   "source": []
  }
 ],
 "metadata": {
  "kernelspec": {
   "display_name": "Python 3",
   "language": "python",
   "name": "python3"
  },
  "language_info": {
   "codemirror_mode": {
    "name": "ipython",
    "version": 3
   },
   "file_extension": ".py",
   "mimetype": "text/x-python",
   "name": "python",
   "nbconvert_exporter": "python",
   "pygments_lexer": "ipython3",
   "version": "3.6.5"
  }
 },
 "nbformat": 4,
 "nbformat_minor": 2
}
