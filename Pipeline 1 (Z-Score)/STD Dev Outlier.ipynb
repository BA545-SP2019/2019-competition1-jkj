{
 "cells": [
  {
   "cell_type": "code",
   "execution_count": 34,
   "metadata": {},
   "outputs": [],
   "source": [
    "# Fixing Outliers using three Standard Deviation method "
   ]
  },
  {
   "cell_type": "code",
   "execution_count": 35,
   "metadata": {},
   "outputs": [],
   "source": [
    "import numpy as np \n",
    "import pandas as pd\n",
    "import matplotlib.pyplot as plt\n",
    "from sklearn import preprocessing\n",
    "import statistics\n",
    "%matplotlib inline\n",
    "plt.style.use('ggplot')"
   ]
  },
  {
   "cell_type": "code",
   "execution_count": 36,
   "metadata": {},
   "outputs": [],
   "source": [
    "# Uploading imputed data to df from CSV WorkingDataFrame\n",
    "df = pd.read_csv('SkewDF1', index_col=0)"
   ]
  },
  {
   "cell_type": "code",
   "execution_count": 37,
   "metadata": {},
   "outputs": [
    {
     "data": {
      "text/plain": [
       "I3        4871.668622\n",
       "P_IPO        1.106043\n",
       "P_H          2.459388\n",
       "P_L          1.104077\n",
       "P_1DAY       1.590629\n",
       "C1           2.065060\n",
       "C2           0.863636\n",
       "C3          -0.137817\n",
       "C4           0.007342\n",
       "C5           1.956399\n",
       "C6           1.904716\n",
       "C7           1.989934\n",
       "T1           7.640326\n",
       "T2         110.501408\n",
       "T3         104.427620\n",
       "T4          16.802148\n",
       "T5           2.788114\n",
       "S1           3.963762\n",
       "S2           2.007838\n",
       "S3           2.122249\n",
       "Y1           0.513196\n",
       "Y2           0.703812\n",
       "C3'          0.529326\n",
       "C5'          0.578049\n",
       "P(mid)      14.490814\n",
       "C6'          0.489009\n",
       "dtype: float64"
      ]
     },
     "execution_count": 37,
     "metadata": {},
     "output_type": "execute_result"
    }
   ],
   "source": [
    "# Checking mean of columns BEFORE fixing outliers \n",
    "df.mean()"
   ]
  },
  {
   "cell_type": "code",
   "execution_count": 38,
   "metadata": {},
   "outputs": [
    {
     "data": {
      "text/plain": [
       "{'whiskers': [<matplotlib.lines.Line2D at 0x7fe30a084160>,\n",
       "  <matplotlib.lines.Line2D at 0x7fe30a08ff28>],\n",
       " 'caps': [<matplotlib.lines.Line2D at 0x7fe30a084710>,\n",
       "  <matplotlib.lines.Line2D at 0x7fe30a084a58>],\n",
       " 'boxes': [<matplotlib.lines.Line2D at 0x7fe30a08ffd0>],\n",
       " 'medians': [<matplotlib.lines.Line2D at 0x7fe30a084da0>],\n",
       " 'fliers': [<matplotlib.lines.Line2D at 0x7fe30a077128>],\n",
       " 'means': []}"
      ]
     },
     "execution_count": 38,
     "metadata": {},
     "output_type": "execute_result"
    },
    {
     "data": {
      "image/png": "[encoded data removed]",
      "text/plain": [
       "<Figure size 432x288 with 1 Axes>"
      ]
     },
     "metadata": {},
     "output_type": "display_data"
    }
   ],
   "source": [
    "# Checking with Boxplot \n",
    "plt.boxplot(df['P_IPO'])"
   ]
  },
  {
   "cell_type": "code",
   "execution_count": 39,
   "metadata": {},
   "outputs": [],
   "source": [
    "# Defining functin to replace outliers using IQR of each column\n",
    "def sd_outlier_replace(x): \n",
    "    if x > (mean + (3*SD)): \n",
    "        x = median\n",
    "    elif x < (mean - (3*SD)): \n",
    "        x = median\n",
    "    else: \n",
    "        pass\n",
    "    return(x)"
   ]
  },
  {
   "cell_type": "code",
   "execution_count": 40,
   "metadata": {},
   "outputs": [
    {
     "data": {
      "text/plain": [
       "{'whiskers': [<matplotlib.lines.Line2D at 0x7fe309fef470>,\n",
       "  <matplotlib.lines.Line2D at 0x7fe309fef7b8>],\n",
       " 'caps': [<matplotlib.lines.Line2D at 0x7fe309fefb00>,\n",
       "  <matplotlib.lines.Line2D at 0x7fe309fefe48>],\n",
       " 'boxes': [<matplotlib.lines.Line2D at 0x7fe309fef320>],\n",
       " 'medians': [<matplotlib.lines.Line2D at 0x7fe309ff71d0>],\n",
       " 'fliers': [<matplotlib.lines.Line2D at 0x7fe309ff7518>],\n",
       " 'means': []}"
      ]
     },
     "execution_count": 40,
     "metadata": {},
     "output_type": "execute_result"
    },
    {
     "data": {
      "image/png": "[encoded data removed]",
      "text/plain": [
       "<Figure size 432x288 with 1 Axes>"
      ]
     },
     "metadata": {},
     "output_type": "display_data"
    }
   ],
   "source": [
    "# Applying function to columns with outliers \n",
    "mean = df['P_IPO'].mean()\n",
    "SD = df['P_IPO'].std()\n",
    "median = df['P_IPO'].median()\n",
    "df['P_IPO'] = df['P_IPO'].apply(lambda x: sd_outlier_replace(x))\n",
    "\n",
    "# Checking with Boxplot \n",
    "plt.boxplot(df['P_IPO'])"
   ]
  },
  {
   "cell_type": "code",
   "execution_count": 41,
   "metadata": {},
   "outputs": [
    {
     "data": {
      "text/plain": [
       "{'whiskers': [<matplotlib.lines.Line2D at 0x7fe309fc72b0>,\n",
       "  <matplotlib.lines.Line2D at 0x7fe309fc75f8>],\n",
       " 'caps': [<matplotlib.lines.Line2D at 0x7fe309fc7940>,\n",
       "  <matplotlib.lines.Line2D at 0x7fe309fc7c88>],\n",
       " 'boxes': [<matplotlib.lines.Line2D at 0x7fe309fc7160>],\n",
       " 'medians': [<matplotlib.lines.Line2D at 0x7fe309fc7fd0>],\n",
       " 'fliers': [<matplotlib.lines.Line2D at 0x7fe309fd0358>],\n",
       " 'means': []}"
      ]
     },
     "execution_count": 41,
     "metadata": {},
     "output_type": "execute_result"
    },
    {
     "data": {
      "image/png": "[encoded data removed]",
      "text/plain": [
       "<Figure size 432x288 with 1 Axes>"
      ]
     },
     "metadata": {},
     "output_type": "display_data"
    }
   ],
   "source": [
    "# Applying function to columns with outliers \n",
    "mean = df['P_H'].mean()\n",
    "SD = df['P_H'].std()\n",
    "median = df['P_H'].median()\n",
    "df['P_H'] = df['P_H'].apply(lambda x: sd_outlier_replace(x))\n",
    "\n",
    "# Checking with Boxplot \n",
    "plt.boxplot(df['P_H'])"
   ]
  },
  {
   "cell_type": "code",
   "execution_count": 42,
   "metadata": {},
   "outputs": [
    {
     "data": {
      "text/plain": [
       "{'whiskers': [<matplotlib.lines.Line2D at 0x7fe309f21828>,\n",
       "  <matplotlib.lines.Line2D at 0x7fe309f21b70>],\n",
       " 'caps': [<matplotlib.lines.Line2D at 0x7fe309f21eb8>,\n",
       "  <matplotlib.lines.Line2D at 0x7fe309f29240>],\n",
       " 'boxes': [<matplotlib.lines.Line2D at 0x7fe309f216d8>],\n",
       " 'medians': [<matplotlib.lines.Line2D at 0x7fe309f29588>],\n",
       " 'fliers': [<matplotlib.lines.Line2D at 0x7fe309f298d0>],\n",
       " 'means': []}"
      ]
     },
     "execution_count": 42,
     "metadata": {},
     "output_type": "execute_result"
    },
    {
     "data": {
      "image/png": "[encoded data removed]",
      "text/plain": [
       "<Figure size 432x288 with 1 Axes>"
      ]
     },
     "metadata": {},
     "output_type": "display_data"
    }
   ],
   "source": [
    "# Applying function to columns with outliers \n",
    "mean = df['P_L'].mean()\n",
    "SD = df['P_L'].std()\n",
    "median = df['P_L'].median()\n",
    "df['P_L'] = df['P_L'].apply(lambda x: sd_outlier_replace(x))\n",
    "\n",
    "# Checking with Boxplot \n",
    "plt.boxplot(df['P_L'])"
   ]
  },
  {
   "cell_type": "code",
   "execution_count": 43,
   "metadata": {},
   "outputs": [
    {
     "data": {
      "text/plain": [
       "{'whiskers': [<matplotlib.lines.Line2D at 0x7fe309ef79e8>,\n",
       "  <matplotlib.lines.Line2D at 0x7fe309ef7d30>],\n",
       " 'caps': [<matplotlib.lines.Line2D at 0x7fe309f000b8>,\n",
       "  <matplotlib.lines.Line2D at 0x7fe309f00400>],\n",
       " 'boxes': [<matplotlib.lines.Line2D at 0x7fe309ef7898>],\n",
       " 'medians': [<matplotlib.lines.Line2D at 0x7fe309f00748>],\n",
       " 'fliers': [<matplotlib.lines.Line2D at 0x7fe309f00a90>],\n",
       " 'means': []}"
      ]
     },
     "execution_count": 43,
     "metadata": {},
     "output_type": "execute_result"
    },
    {
     "data": {
      "image/png": "[encoded data removed]",
      "text/plain": [
       "<Figure size 432x288 with 1 Axes>"
      ]
     },
     "metadata": {},
     "output_type": "display_data"
    }
   ],
   "source": [
    "# Applying function to columns with outliers \n",
    "mean = df['P_1DAY'].mean()\n",
    "SD = df['P_1DAY'].std()\n",
    "median = df['P_1DAY'].median()\n",
    "df['P_1DAY'] = df['P_1DAY'].apply(lambda x: sd_outlier_replace(x))\n",
    "\n",
    "# Checking with Boxplot \n",
    "plt.boxplot(df['P_1DAY'])"
   ]
  },
  {
   "cell_type": "code",
   "execution_count": 44,
   "metadata": {},
   "outputs": [
    {
     "data": {
      "text/plain": [
       "{'whiskers': [<matplotlib.lines.Line2D at 0x7fe309ed2e48>,\n",
       "  <matplotlib.lines.Line2D at 0x7fe309e5b1d0>],\n",
       " 'caps': [<matplotlib.lines.Line2D at 0x7fe309e5b518>,\n",
       "  <matplotlib.lines.Line2D at 0x7fe309e5b860>],\n",
       " 'boxes': [<matplotlib.lines.Line2D at 0x7fe309ed2cf8>],\n",
       " 'medians': [<matplotlib.lines.Line2D at 0x7fe309e5bba8>],\n",
       " 'fliers': [<matplotlib.lines.Line2D at 0x7fe309e5bef0>],\n",
       " 'means': []}"
      ]
     },
     "execution_count": 44,
     "metadata": {},
     "output_type": "execute_result"
    },
    {
     "data": {
      "image/png": "[encoded data removed]",
      "text/plain": [
       "<Figure size 432x288 with 1 Axes>"
      ]
     },
     "metadata": {},
     "output_type": "display_data"
    }
   ],
   "source": [
    "# Applying function to columns with outliers \n",
    "mean = df['C1'].mean()\n",
    "SD = df['C1'].std()\n",
    "median = df['C1'].median()\n",
    "df['C1'] = df['C1'].apply(lambda x: sd_outlier_replace(x))\n",
    "\n",
    "# Checking with Boxplot \n",
    "plt.boxplot(df['C1'])"
   ]
  },
  {
   "cell_type": "code",
   "execution_count": 45,
   "metadata": {},
   "outputs": [
    {
     "data": {
      "text/plain": [
       "{'whiskers': [<matplotlib.lines.Line2D at 0x7fe309e39898>,\n",
       "  <matplotlib.lines.Line2D at 0x7fe309e39be0>],\n",
       " 'caps': [<matplotlib.lines.Line2D at 0x7fe309e39f28>,\n",
       "  <matplotlib.lines.Line2D at 0x7fe309e422b0>],\n",
       " 'boxes': [<matplotlib.lines.Line2D at 0x7fe309e39748>],\n",
       " 'medians': [<matplotlib.lines.Line2D at 0x7fe309e425f8>],\n",
       " 'fliers': [<matplotlib.lines.Line2D at 0x7fe309e42940>],\n",
       " 'means': []}"
      ]
     },
     "execution_count": 45,
     "metadata": {},
     "output_type": "execute_result"
    },
    {
     "data": {
      "image/png": "[encoded data removed]",
      "text/plain": [
       "<Figure size 432x288 with 1 Axes>"
      ]
     },
     "metadata": {},
     "output_type": "display_data"
    }
   ],
   "source": [
    "# Applying function to columns with outliers \n",
    "mean = df['C3'].mean()\n",
    "SD = df['C3'].std()\n",
    "median = df['C3'].median()\n",
    "df['C3'] = df['C3'].apply(lambda x: sd_outlier_replace(x))\n",
    "\n",
    "# Checking with Boxplot \n",
    "plt.boxplot(df['C3'])"
   ]
  },
  {
   "cell_type": "code",
   "execution_count": 46,
   "metadata": {},
   "outputs": [
    {
     "data": {
      "text/plain": [
       "{'whiskers': [<matplotlib.lines.Line2D at 0x7fe309e09fd0>,\n",
       "  <matplotlib.lines.Line2D at 0x7fe309e14358>],\n",
       " 'caps': [<matplotlib.lines.Line2D at 0x7fe309e146a0>,\n",
       "  <matplotlib.lines.Line2D at 0x7fe309e149e8>],\n",
       " 'boxes': [<matplotlib.lines.Line2D at 0x7fe309e09e80>],\n",
       " 'medians': [<matplotlib.lines.Line2D at 0x7fe309e14d30>],\n",
       " 'fliers': [<matplotlib.lines.Line2D at 0x7fe309d9e0b8>],\n",
       " 'means': []}"
      ]
     },
     "execution_count": 46,
     "metadata": {},
     "output_type": "execute_result"
    },
    {
     "data": {
      "image/png": "[encoded data removed]",
      "text/plain": [
       "<Figure size 432x288 with 1 Axes>"
      ]
     },
     "metadata": {},
     "output_type": "display_data"
    }
   ],
   "source": [
    "# Applying function to columns with outliers \n",
    "mean = df['T1'].mean()\n",
    "SD = df['T1'].std()\n",
    "median = df['T1'].median()\n",
    "df['T1'] = df['T1'].apply(lambda x: sd_outlier_replace(x))\n",
    "\n",
    "# Checking with Boxplot \n",
    "plt.boxplot(df['T1'])"
   ]
  },
  {
   "cell_type": "code",
   "execution_count": 47,
   "metadata": {},
   "outputs": [
    {
     "data": {
      "text/plain": [
       "{'whiskers': [<matplotlib.lines.Line2D at 0x7fe309d68c18>,\n",
       "  <matplotlib.lines.Line2D at 0x7fe309d68f60>],\n",
       " 'caps': [<matplotlib.lines.Line2D at 0x7fe309d712e8>,\n",
       "  <matplotlib.lines.Line2D at 0x7fe309d71630>],\n",
       " 'boxes': [<matplotlib.lines.Line2D at 0x7fe309d68ac8>],\n",
       " 'medians': [<matplotlib.lines.Line2D at 0x7fe309d71978>],\n",
       " 'fliers': [<matplotlib.lines.Line2D at 0x7fe309d71cc0>],\n",
       " 'means': []}"
      ]
     },
     "execution_count": 47,
     "metadata": {},
     "output_type": "execute_result"
    },
    {
     "data": {
      "image/png": "[encoded data removed]",
      "text/plain": [
       "<Figure size 432x288 with 1 Axes>"
      ]
     },
     "metadata": {},
     "output_type": "display_data"
    }
   ],
   "source": [
    "# Applying function to columns with outliers \n",
    "mean = df['T2'].mean()\n",
    "SD = df['T2'].std()\n",
    "median = df['T2'].median()\n",
    "df['T2'] = df['T2'].apply(lambda x: sd_outlier_replace(x))\n",
    "\n",
    "# Checking with Boxplot \n",
    "plt.boxplot(df['T2'])"
   ]
  },
  {
   "cell_type": "code",
   "execution_count": 48,
   "metadata": {},
   "outputs": [
    {
     "data": {
      "text/plain": [
       "{'whiskers': [<matplotlib.lines.Line2D at 0x7fe309d43c18>,\n",
       "  <matplotlib.lines.Line2D at 0x7fe309d43f60>],\n",
       " 'caps': [<matplotlib.lines.Line2D at 0x7fe309d4b2e8>,\n",
       "  <matplotlib.lines.Line2D at 0x7fe309d4b630>],\n",
       " 'boxes': [<matplotlib.lines.Line2D at 0x7fe309d43898>],\n",
       " 'medians': [<matplotlib.lines.Line2D at 0x7fe309d4b978>],\n",
       " 'fliers': [<matplotlib.lines.Line2D at 0x7fe309d4bcc0>],\n",
       " 'means': []}"
      ]
     },
     "execution_count": 48,
     "metadata": {},
     "output_type": "execute_result"
    },
    {
     "data": {
      "image/png": "[encoded data removed]",
      "text/plain": [
       "<Figure size 432x288 with 1 Axes>"
      ]
     },
     "metadata": {},
     "output_type": "display_data"
    }
   ],
   "source": [
    "# Applying function to columns with outliers \n",
    "mean = df['T3'].mean()\n",
    "SD = df['T3'].std()\n",
    "median = df['T3'].median()\n",
    "df['T3'] = df['T3'].apply(lambda x: sd_outlier_replace(x))\n",
    "\n",
    "# Checking with Boxplot \n",
    "plt.boxplot(df['T3'])"
   ]
  },
  {
   "cell_type": "code",
   "execution_count": 49,
   "metadata": {},
   "outputs": [
    {
     "data": {
      "text/plain": [
       "{'whiskers': [<matplotlib.lines.Line2D at 0x7fe309ca1ac8>,\n",
       "  <matplotlib.lines.Line2D at 0x7fe309ca1e10>],\n",
       " 'caps': [<matplotlib.lines.Line2D at 0x7fe309ca9198>,\n",
       "  <matplotlib.lines.Line2D at 0x7fe309ca94e0>],\n",
       " 'boxes': [<matplotlib.lines.Line2D at 0x7fe309ca1978>],\n",
       " 'medians': [<matplotlib.lines.Line2D at 0x7fe309ca9828>],\n",
       " 'fliers': [<matplotlib.lines.Line2D at 0x7fe309ca9b70>],\n",
       " 'means': []}"
      ]
     },
     "execution_count": 49,
     "metadata": {},
     "output_type": "execute_result"
    },
    {
     "data": {
      "image/png": "[encoded data removed]",
      "text/plain": [
       "<Figure size 432x288 with 1 Axes>"
      ]
     },
     "metadata": {},
     "output_type": "display_data"
    }
   ],
   "source": [
    "# Applying function to columns with outliers \n",
    "mean = df['T4'].mean()\n",
    "SD = df['T4'].std()\n",
    "median = df['T4'].median()\n",
    "df['T4'] = df['T4'].apply(lambda x: sd_outlier_replace(x))\n",
    "\n",
    "# Checking with Boxplot \n",
    "plt.boxplot(df['T4'])"
   ]
  },
  {
   "cell_type": "code",
   "execution_count": 50,
   "metadata": {},
   "outputs": [
    {
     "name": "stderr",
     "output_type": "stream",
     "text": [
      "/opt/tljh/user/lib/python3.6/site-packages/numpy/lib/function_base.py:4291: RuntimeWarning: Invalid value encountered in percentile\n",
      "  interpolation=interpolation)\n",
      "/opt/tljh/user/lib/python3.6/site-packages/matplotlib/cbook/__init__.py:1246: RuntimeWarning: invalid value encountered in less_equal\n",
      "  wiskhi = np.compress(x <= hival, x)\n",
      "/opt/tljh/user/lib/python3.6/site-packages/matplotlib/cbook/__init__.py:1253: RuntimeWarning: invalid value encountered in greater_equal\n",
      "  wisklo = np.compress(x >= loval, x)\n",
      "/opt/tljh/user/lib/python3.6/site-packages/matplotlib/cbook/__init__.py:1261: RuntimeWarning: invalid value encountered in less\n",
      "  np.compress(x < stats['whislo'], x),\n",
      "/opt/tljh/user/lib/python3.6/site-packages/matplotlib/cbook/__init__.py:1262: RuntimeWarning: invalid value encountered in greater\n",
      "  np.compress(x > stats['whishi'], x)\n"
     ]
    },
    {
     "data": {
      "text/plain": [
       "{'whiskers': [<matplotlib.lines.Line2D at 0x7fe309c84390>,\n",
       "  <matplotlib.lines.Line2D at 0x7fe309c846d8>],\n",
       " 'caps': [<matplotlib.lines.Line2D at 0x7fe309c84a20>,\n",
       "  <matplotlib.lines.Line2D at 0x7fe309c84d68>],\n",
       " 'boxes': [<matplotlib.lines.Line2D at 0x7fe309c84240>],\n",
       " 'medians': [<matplotlib.lines.Line2D at 0x7fe309c8f0f0>],\n",
       " 'fliers': [<matplotlib.lines.Line2D at 0x7fe309c8f438>],\n",
       " 'means': []}"
      ]
     },
     "execution_count": 50,
     "metadata": {},
     "output_type": "execute_result"
    },
    {
     "data": {
      "image/png": "[encoded data removed]",
      "text/plain": [
       "<Figure size 432x288 with 1 Axes>"
      ]
     },
     "metadata": {},
     "output_type": "display_data"
    }
   ],
   "source": [
    "# Applying function to columns with outliers \n",
    "mean = df['T5'].mean()\n",
    "SD = df['T5'].std()\n",
    "median = df['T5'].median()\n",
    "df['T5'] = df['T5'].apply(lambda x: sd_outlier_replace(x))\n",
    "\n",
    "# Checking with Boxplot \n",
    "plt.boxplot(df['T5'])"
   ]
  },
  {
   "cell_type": "code",
   "execution_count": 51,
   "metadata": {},
   "outputs": [
    {
     "data": {
      "text/plain": [
       "{'whiskers': [<matplotlib.lines.Line2D at 0x7fe309c57be0>,\n",
       "  <matplotlib.lines.Line2D at 0x7fe309c57f28>],\n",
       " 'caps': [<matplotlib.lines.Line2D at 0x7fe309be32b0>,\n",
       "  <matplotlib.lines.Line2D at 0x7fe309be35f8>],\n",
       " 'boxes': [<matplotlib.lines.Line2D at 0x7fe309c57a90>],\n",
       " 'medians': [<matplotlib.lines.Line2D at 0x7fe309be3940>],\n",
       " 'fliers': [<matplotlib.lines.Line2D at 0x7fe309be3c88>],\n",
       " 'means': []}"
      ]
     },
     "execution_count": 51,
     "metadata": {},
     "output_type": "execute_result"
    },
    {
     "data": {
      "image/png": "[encoded data removed]",
      "text/plain": [
       "<Figure size 432x288 with 1 Axes>"
      ]
     },
     "metadata": {},
     "output_type": "display_data"
    }
   ],
   "source": [
    "# Applying function to columns with outliers \n",
    "mean = df['S1'].mean()\n",
    "SD = df['S1'].std()\n",
    "median = df['S1'].median()\n",
    "df['S1'] = df['S1'].apply(lambda x: sd_outlier_replace(x))\n",
    "\n",
    "# Checking with Boxplot \n",
    "plt.boxplot(df['S1'])"
   ]
  },
  {
   "cell_type": "code",
   "execution_count": 52,
   "metadata": {},
   "outputs": [
    {
     "data": {
      "text/plain": [
       "{'whiskers': [<matplotlib.lines.Line2D at 0x7fe309bbbbe0>,\n",
       "  <matplotlib.lines.Line2D at 0x7fe309bbbf28>],\n",
       " 'caps': [<matplotlib.lines.Line2D at 0x7fe309bc32b0>,\n",
       "  <matplotlib.lines.Line2D at 0x7fe309bc35f8>],\n",
       " 'boxes': [<matplotlib.lines.Line2D at 0x7fe309bbba90>],\n",
       " 'medians': [<matplotlib.lines.Line2D at 0x7fe309bc3940>],\n",
       " 'fliers': [<matplotlib.lines.Line2D at 0x7fe309bc3c88>],\n",
       " 'means': []}"
      ]
     },
     "execution_count": 52,
     "metadata": {},
     "output_type": "execute_result"
    },
    {
     "data": {
      "image/png": "[encoded data removed]",
      "text/plain": [
       "<Figure size 432x288 with 1 Axes>"
      ]
     },
     "metadata": {},
     "output_type": "display_data"
    }
   ],
   "source": [
    "# Applying function to columns with outliers \n",
    "mean = df['S2'].mean()\n",
    "SD = df['S2'].std()\n",
    "median = df['S2'].median()\n",
    "df['S2'] = df['S2'].apply(lambda x: sd_outlier_replace(x))\n",
    "\n",
    "# Checking with Boxplot \n",
    "plt.boxplot(df['S2'])"
   ]
  },
  {
   "cell_type": "code",
   "execution_count": 53,
   "metadata": {},
   "outputs": [
    {
     "data": {
      "text/plain": [
       "{'whiskers': [<matplotlib.lines.Line2D at 0x7fe309b1f198>,\n",
       "  <matplotlib.lines.Line2D at 0x7fe309b1f4e0>],\n",
       " 'caps': [<matplotlib.lines.Line2D at 0x7fe309b1f828>,\n",
       "  <matplotlib.lines.Line2D at 0x7fe309b1fb70>],\n",
       " 'boxes': [<matplotlib.lines.Line2D at 0x7fe309b1f048>],\n",
       " 'medians': [<matplotlib.lines.Line2D at 0x7fe309b1feb8>],\n",
       " 'fliers': [<matplotlib.lines.Line2D at 0x7fe309b28240>],\n",
       " 'means': []}"
      ]
     },
     "execution_count": 53,
     "metadata": {},
     "output_type": "execute_result"
    },
    {
     "data": {
      "image/png": "[encoded data removed]",
      "text/plain": [
       "<Figure size 432x288 with 1 Axes>"
      ]
     },
     "metadata": {},
     "output_type": "display_data"
    }
   ],
   "source": [
    "# Applying function to columns with outliers \n",
    "mean = df['S3'].mean()\n",
    "SD = df['S3'].std()\n",
    "median = df['S3'].median()\n",
    "df['S3'] = df['S3'].apply(lambda x: sd_outlier_replace(x))\n",
    "\n",
    "# Checking with Boxplot \n",
    "plt.boxplot(df['S3'])"
   ]
  },
  {
   "cell_type": "code",
   "execution_count": 54,
   "metadata": {},
   "outputs": [
    {
     "data": {
      "text/plain": [
       "{'whiskers': [<matplotlib.lines.Line2D at 0x7fe309af1f28>,\n",
       "  <matplotlib.lines.Line2D at 0x7fe309afa2b0>],\n",
       " 'caps': [<matplotlib.lines.Line2D at 0x7fe309afa5f8>,\n",
       "  <matplotlib.lines.Line2D at 0x7fe309afa940>],\n",
       " 'boxes': [<matplotlib.lines.Line2D at 0x7fe309af1dd8>],\n",
       " 'medians': [<matplotlib.lines.Line2D at 0x7fe309afac88>],\n",
       " 'fliers': [<matplotlib.lines.Line2D at 0x7fe309afafd0>],\n",
       " 'means': []}"
      ]
     },
     "execution_count": 54,
     "metadata": {},
     "output_type": "execute_result"
    },
    {
     "data": {
      "image/png": "[encoded data removed]",
      "text/plain": [
       "<Figure size 432x288 with 1 Axes>"
      ]
     },
     "metadata": {},
     "output_type": "display_data"
    }
   ],
   "source": [
    "# Applying function to columns with outliers \n",
    "mean = df[\"C3'\"].mean()\n",
    "SD = df[\"C3'\"].std()\n",
    "median = df[\"C3'\"].median()\n",
    "df[\"C3'\"] = df[\"C3'\"].apply(lambda x: sd_outlier_replace(x))\n",
    "\n",
    "# Checking with Boxplot \n",
    "plt.boxplot(df[\"C3'\"])"
   ]
  },
  {
   "cell_type": "code",
   "execution_count": 55,
   "metadata": {},
   "outputs": [
    {
     "data": {
      "text/plain": [
       "{'whiskers': [<matplotlib.lines.Line2D at 0x7fe309aced68>,\n",
       "  <matplotlib.lines.Line2D at 0x7fe309ad60f0>],\n",
       " 'caps': [<matplotlib.lines.Line2D at 0x7fe309ad6438>,\n",
       "  <matplotlib.lines.Line2D at 0x7fe309ad6780>],\n",
       " 'boxes': [<matplotlib.lines.Line2D at 0x7fe309acec18>],\n",
       " 'medians': [<matplotlib.lines.Line2D at 0x7fe309ad6ac8>],\n",
       " 'fliers': [<matplotlib.lines.Line2D at 0x7fe309ad6e10>],\n",
       " 'means': []}"
      ]
     },
     "execution_count": 55,
     "metadata": {},
     "output_type": "execute_result"
    },
    {
     "data": {
      "image/png": "[encoded data removed]",
      "text/plain": [
       "<Figure size 432x288 with 1 Axes>"
      ]
     },
     "metadata": {},
     "output_type": "display_data"
    }
   ],
   "source": [
    "# Applying function to columns with outliers \n",
    "mean = df[\"C5'\"].mean()\n",
    "SD = df[\"C5'\"].std()\n",
    "median = df[\"C5'\"].median()\n",
    "df[\"C5'\"] = df[\"C5'\"].apply(lambda x: sd_outlier_replace(x))\n",
    "\n",
    "# Checking with Boxplot \n",
    "plt.boxplot(df[\"C5'\"])"
   ]
  },
  {
   "cell_type": "code",
   "execution_count": 56,
   "metadata": {},
   "outputs": [
    {
     "data": {
      "text/plain": [
       "{'whiskers': [<matplotlib.lines.Line2D at 0x7fe309a332e8>,\n",
       "  <matplotlib.lines.Line2D at 0x7fe309a33630>],\n",
       " 'caps': [<matplotlib.lines.Line2D at 0x7fe309a33978>,\n",
       "  <matplotlib.lines.Line2D at 0x7fe309a33cc0>],\n",
       " 'boxes': [<matplotlib.lines.Line2D at 0x7fe309a33198>],\n",
       " 'medians': [<matplotlib.lines.Line2D at 0x7fe309a3c048>],\n",
       " 'fliers': [<matplotlib.lines.Line2D at 0x7fe309a3c390>],\n",
       " 'means': []}"
      ]
     },
     "execution_count": 56,
     "metadata": {},
     "output_type": "execute_result"
    },
    {
     "data": {
      "image/png": "[encoded data removed]",
      "text/plain": [
       "<Figure size 432x288 with 1 Axes>"
      ]
     },
     "metadata": {},
     "output_type": "display_data"
    }
   ],
   "source": [
    "# Applying function to columns with outliers \n",
    "mean = df[\"C6'\"].mean()\n",
    "SD = df[\"C6'\"].std()\n",
    "median = df[\"C6'\"].median()\n",
    "df[\"C6'\"] = df[\"C6'\"].apply(lambda x: sd_outlier_replace(x))\n",
    "\n",
    "# Checking with Boxplot \n",
    "plt.boxplot(df[\"C6'\"])"
   ]
  },
  {
   "cell_type": "code",
   "execution_count": 57,
   "metadata": {},
   "outputs": [
    {
     "data": {
      "text/plain": [
       "I3        4871.668622\n",
       "P_IPO        1.107796\n",
       "P_H          2.454344\n",
       "P_L          1.104020\n",
       "P_1DAY       1.582010\n",
       "C1           2.070818\n",
       "C2           0.863636\n",
       "C3          -0.120334\n",
       "C4           0.007342\n",
       "C5           1.956399\n",
       "C6           1.904716\n",
       "C7           1.989934\n",
       "T1           7.613719\n",
       "T2         110.256313\n",
       "T3         104.232854\n",
       "T4          16.753072\n",
       "T5           2.785339\n",
       "S1           3.947119\n",
       "S2           2.000621\n",
       "S3           2.120893\n",
       "Y1           0.513196\n",
       "Y2           0.703812\n",
       "C3'          0.529326\n",
       "C5'          0.572997\n",
       "P(mid)      14.490814\n",
       "C6'          0.489009\n",
       "dtype: float64"
      ]
     },
     "execution_count": 57,
     "metadata": {},
     "output_type": "execute_result"
    }
   ],
   "source": [
    "df.mean()"
   ]
  },
  {
   "cell_type": "code",
   "execution_count": 58,
   "metadata": {},
   "outputs": [],
   "source": [
    "# Exporting DataFrame as CSV \n",
    "df.to_csv('OutlierFix1', ',')"
   ]
  },
  {
   "cell_type": "code",
   "execution_count": null,
   "metadata": {},
   "outputs": [],
   "source": []
  }
 ],
 "metadata": {
  "kernelspec": {
   "display_name": "Python 3",
   "language": "python",
   "name": "python3"
  },
  "language_info": {
   "codemirror_mode": {
    "name": "ipython",
    "version": 3
   },
   "file_extension": ".py",
   "mimetype": "text/x-python",
   "name": "python",
   "nbconvert_exporter": "python",
   "pygments_lexer": "ipython3",
   "version": "3.6.5"
  }
 },
 "nbformat": 4,
 "nbformat_minor": 2
}
