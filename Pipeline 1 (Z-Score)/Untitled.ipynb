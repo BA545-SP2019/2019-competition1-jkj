{
 "cells": [
  {
   "cell_type": "code",
   "execution_count": 1,
   "metadata": {},
   "outputs": [],
   "source": [
    "# Binning Predictor Values "
   ]
  },
  {
   "cell_type": "code",
   "execution_count": 11,
   "metadata": {},
   "outputs": [],
   "source": [
    "import numpy as np \n",
    "import pandas as pd\n",
    "import matplotlib.pyplot as plt\n",
    "from sklearn import preprocessing \n",
    "from sklearn.preprocessing import KBinsDiscretizer\n",
    "from sklearn.preprocessing import OneHotEncoder\n",
    "%matplotlib inline\n",
    "plt.style.use('ggplot')"
   ]
  },
  {
   "cell_type": "code",
   "execution_count": 3,
   "metadata": {},
   "outputs": [
    {
     "data": {
      "text/html": [
       "<div>\n",
       "<style scoped>\n",
       "    .dataframe tbody tr th:only-of-type {\n",
       "        vertical-align: middle;\n",
       "    }\n",
       "\n",
       "    .dataframe tbody tr th {\n",
       "        vertical-align: top;\n",
       "    }\n",
       "\n",
       "    .dataframe thead th {\n",
       "        text-align: right;\n",
       "    }\n",
       "</style>\n",
       "<table border=\"1\" class=\"dataframe\">\n",
       "  <thead>\n",
       "    <tr style=\"text-align: right;\">\n",
       "      <th></th>\n",
       "      <th>Y1</th>\n",
       "      <th>Y2</th>\n",
       "      <th>C1</th>\n",
       "      <th>C2</th>\n",
       "      <th>C4</th>\n",
       "      <th>C7</th>\n",
       "      <th>C3'</th>\n",
       "      <th>C5'</th>\n",
       "      <th>C6'</th>\n",
       "      <th>T4'</th>\n",
       "      <th>T3'</th>\n",
       "      <th>T5'</th>\n",
       "      <th>S1'</th>\n",
       "      <th>S2'</th>\n",
       "      <th>S3'</th>\n",
       "    </tr>\n",
       "  </thead>\n",
       "  <tbody>\n",
       "    <tr>\n",
       "      <th>0</th>\n",
       "      <td>0</td>\n",
       "      <td>1</td>\n",
       "      <td>2.08636</td>\n",
       "      <td>1.0</td>\n",
       "      <td>0.029074</td>\n",
       "      <td>1.710498</td>\n",
       "      <td>1</td>\n",
       "      <td>1.351792</td>\n",
       "      <td>1.306758</td>\n",
       "      <td>0.640426</td>\n",
       "      <td>0.979660</td>\n",
       "      <td>-1.241958</td>\n",
       "      <td>0.172661</td>\n",
       "      <td>-2.012621</td>\n",
       "      <td>-1.937792</td>\n",
       "    </tr>\n",
       "    <tr>\n",
       "      <th>1</th>\n",
       "      <td>1</td>\n",
       "      <td>0</td>\n",
       "      <td>2.41330</td>\n",
       "      <td>0.0</td>\n",
       "      <td>-0.013352</td>\n",
       "      <td>1.413903</td>\n",
       "      <td>0</td>\n",
       "      <td>2.487306</td>\n",
       "      <td>0.000000</td>\n",
       "      <td>0.644753</td>\n",
       "      <td>1.275142</td>\n",
       "      <td>-1.031589</td>\n",
       "      <td>0.180641</td>\n",
       "      <td>-1.696991</td>\n",
       "      <td>-1.706058</td>\n",
       "    </tr>\n",
       "  </tbody>\n",
       "</table>\n",
       "</div>"
      ],
      "text/plain": [
       "   Y1  Y2       C1   C2        C4        C7  C3'       C5'       C6'  \\\n",
       "0   0   1  2.08636  1.0  0.029074  1.710498    1  1.351792  1.306758   \n",
       "1   1   0  2.41330  0.0 -0.013352  1.413903    0  2.487306  0.000000   \n",
       "\n",
       "        T4'       T3'       T5'       S1'       S2'       S3'  \n",
       "0  0.640426  0.979660 -1.241958  0.172661 -2.012621 -1.937792  \n",
       "1  0.644753  1.275142 -1.031589  0.180641 -1.696991 -1.706058  "
      ]
     },
     "execution_count": 3,
     "metadata": {},
     "output_type": "execute_result"
    }
   ],
   "source": [
    "# Using Target table with \"Y\" values beacuse we are dealing with categorical data \n",
    "df = pd.read_csv('ReadyDF1', index_col=0)\n",
    "df.head(2)"
   ]
  },
  {
   "cell_type": "code",
   "execution_count": 5,
   "metadata": {},
   "outputs": [],
   "source": [
    "predictors = df.filter(['C4', \"C6'\", \"T4'\", \"S2'\"])"
   ]
  },
  {
   "cell_type": "code",
   "execution_count": 6,
   "metadata": {},
   "outputs": [],
   "source": [
    "# converting to an array \n",
    "dfarray = df.values \n",
    "X = dfarray[:, 0:4]"
   ]
  },
  {
   "cell_type": "code",
   "execution_count": 7,
   "metadata": {},
   "outputs": [
    {
     "data": {
      "text/plain": [
       "array([[0., 3., 2., 3.],\n",
       "       [3., 0., 2., 0.],\n",
       "       [3., 0., 1., 3.],\n",
       "       ...,\n",
       "       [0., 0., 1., 0.],\n",
       "       [0., 0., 1., 3.],\n",
       "       [0., 0., 2., 3.]])"
      ]
     },
     "execution_count": 7,
     "metadata": {},
     "output_type": "execute_result"
    }
   ],
   "source": [
    "OHE = KBinsDiscretizer(n_bins=4, encode='ordinal', strategy='uniform')\n",
    "OHE.fit(X)\n",
    "OHE_trans = OHE.transform(X)\n",
    "OHE_trans\n",
    "#my_C4 = OHE.transform(df.C4)\n",
    "#df[\"C4_BIN\"] = OHE.fit_transform(df[['C4']]) "
   ]
  },
  {
   "cell_type": "code",
   "execution_count": 9,
   "metadata": {},
   "outputs": [],
   "source": [
    "OHE_trans = OHE_trans.astype(dtype='int64')"
   ]
  },
  {
   "cell_type": "code",
   "execution_count": 10,
   "metadata": {},
   "outputs": [
    {
     "data": {
      "text/plain": [
       "dtype('int64')"
      ]
     },
     "execution_count": 10,
     "metadata": {},
     "output_type": "execute_result"
    }
   ],
   "source": [
    "OHE_trans.dtype"
   ]
  },
  {
   "cell_type": "code",
   "execution_count": 12,
   "metadata": {},
   "outputs": [
    {
     "data": {
      "text/plain": [
       "OneHotEncoder(categorical_features=None, categories=None,\n",
       "       dtype=<class 'numpy.float64'>, handle_unknown='ignore',\n",
       "       n_values=None, sparse=True)"
      ]
     },
     "execution_count": 12,
     "metadata": {},
     "output_type": "execute_result"
    }
   ],
   "source": [
    "ENC = OneHotEncoder(handle_unknown='ignore')\n",
    "features = OHE_trans \n",
    "ENC.fit(features)"
   ]
  },
  {
   "cell_type": "code",
   "execution_count": 14,
   "metadata": {},
   "outputs": [
    {
     "data": {
      "text/plain": [
       "array(['x0_0', 'x0_3', 'x1_0', 'x1_3', 'x2_0', 'x2_1', 'x2_2', 'x2_3',\n",
       "       'x3_0', 'x3_3'], dtype=object)"
      ]
     },
     "execution_count": 14,
     "metadata": {},
     "output_type": "execute_result"
    }
   ],
   "source": [
    "names = ENC.get_feature_names()\n",
    "names"
   ]
  },
  {
   "cell_type": "code",
   "execution_count": 17,
   "metadata": {},
   "outputs": [
    {
     "data": {
      "text/plain": [
       "(682, 10)"
      ]
     },
     "execution_count": 17,
     "metadata": {},
     "output_type": "execute_result"
    }
   ],
   "source": [
    "OHE_labels = ENC.transform(features).toarray()\n",
    "OHE_labels.shape"
   ]
  },
  {
   "cell_type": "code",
   "execution_count": 18,
   "metadata": {},
   "outputs": [
    {
     "data": {
      "text/plain": [
       "array([[1., 0., 0., ..., 0., 0., 1.],\n",
       "       [0., 1., 1., ..., 0., 1., 0.],\n",
       "       [0., 1., 1., ..., 0., 0., 1.],\n",
       "       ...,\n",
       "       [1., 0., 1., ..., 0., 1., 0.],\n",
       "       [1., 0., 1., ..., 0., 0., 1.],\n",
       "       [1., 0., 1., ..., 0., 0., 1.]])"
      ]
     },
     "execution_count": 18,
     "metadata": {},
     "output_type": "execute_result"
    }
   ],
   "source": [
    "OHE_labels"
   ]
  },
  {
   "cell_type": "code",
   "execution_count": 19,
   "metadata": {},
   "outputs": [
    {
     "data": {
      "text/html": [
       "<div>\n",
       "<style scoped>\n",
       "    .dataframe tbody tr th:only-of-type {\n",
       "        vertical-align: middle;\n",
       "    }\n",
       "\n",
       "    .dataframe tbody tr th {\n",
       "        vertical-align: top;\n",
       "    }\n",
       "\n",
       "    .dataframe thead th {\n",
       "        text-align: right;\n",
       "    }\n",
       "</style>\n",
       "<table border=\"1\" class=\"dataframe\">\n",
       "  <thead>\n",
       "    <tr style=\"text-align: right;\">\n",
       "      <th></th>\n",
       "      <th>x0_0</th>\n",
       "      <th>x0_3</th>\n",
       "      <th>x1_0</th>\n",
       "      <th>x1_3</th>\n",
       "      <th>x2_0</th>\n",
       "      <th>x2_1</th>\n",
       "      <th>x2_2</th>\n",
       "      <th>x2_3</th>\n",
       "      <th>x3_0</th>\n",
       "      <th>x3_3</th>\n",
       "    </tr>\n",
       "  </thead>\n",
       "  <tbody>\n",
       "    <tr>\n",
       "      <th>0</th>\n",
       "      <td>1.0</td>\n",
       "      <td>0.0</td>\n",
       "      <td>0.0</td>\n",
       "      <td>1.0</td>\n",
       "      <td>0.0</td>\n",
       "      <td>0.0</td>\n",
       "      <td>1.0</td>\n",
       "      <td>0.0</td>\n",
       "      <td>0.0</td>\n",
       "      <td>1.0</td>\n",
       "    </tr>\n",
       "    <tr>\n",
       "      <th>1</th>\n",
       "      <td>0.0</td>\n",
       "      <td>1.0</td>\n",
       "      <td>1.0</td>\n",
       "      <td>0.0</td>\n",
       "      <td>0.0</td>\n",
       "      <td>0.0</td>\n",
       "      <td>1.0</td>\n",
       "      <td>0.0</td>\n",
       "      <td>1.0</td>\n",
       "      <td>0.0</td>\n",
       "    </tr>\n",
       "    <tr>\n",
       "      <th>2</th>\n",
       "      <td>0.0</td>\n",
       "      <td>1.0</td>\n",
       "      <td>1.0</td>\n",
       "      <td>0.0</td>\n",
       "      <td>0.0</td>\n",
       "      <td>1.0</td>\n",
       "      <td>0.0</td>\n",
       "      <td>0.0</td>\n",
       "      <td>0.0</td>\n",
       "      <td>1.0</td>\n",
       "    </tr>\n",
       "    <tr>\n",
       "      <th>3</th>\n",
       "      <td>0.0</td>\n",
       "      <td>1.0</td>\n",
       "      <td>0.0</td>\n",
       "      <td>1.0</td>\n",
       "      <td>0.0</td>\n",
       "      <td>0.0</td>\n",
       "      <td>1.0</td>\n",
       "      <td>0.0</td>\n",
       "      <td>0.0</td>\n",
       "      <td>1.0</td>\n",
       "    </tr>\n",
       "    <tr>\n",
       "      <th>4</th>\n",
       "      <td>1.0</td>\n",
       "      <td>0.0</td>\n",
       "      <td>0.0</td>\n",
       "      <td>1.0</td>\n",
       "      <td>0.0</td>\n",
       "      <td>1.0</td>\n",
       "      <td>0.0</td>\n",
       "      <td>0.0</td>\n",
       "      <td>0.0</td>\n",
       "      <td>1.0</td>\n",
       "    </tr>\n",
       "  </tbody>\n",
       "</table>\n",
       "</div>"
      ],
      "text/plain": [
       "   x0_0  x0_3  x1_0  x1_3  x2_0  x2_1  x2_2  x2_3  x3_0  x3_3\n",
       "0   1.0   0.0   0.0   1.0   0.0   0.0   1.0   0.0   0.0   1.0\n",
       "1   0.0   1.0   1.0   0.0   0.0   0.0   1.0   0.0   1.0   0.0\n",
       "2   0.0   1.0   1.0   0.0   0.0   1.0   0.0   0.0   0.0   1.0\n",
       "3   0.0   1.0   0.0   1.0   0.0   0.0   1.0   0.0   0.0   1.0\n",
       "4   1.0   0.0   0.0   1.0   0.0   1.0   0.0   0.0   0.0   1.0"
      ]
     },
     "execution_count": 19,
     "metadata": {},
     "output_type": "execute_result"
    }
   ],
   "source": [
    "ENC_DF = pd.DataFrame(OHE_labels, columns=names)\n",
    "ENC_DF.head()"
   ]
  },
  {
   "cell_type": "code",
   "execution_count": null,
   "metadata": {},
   "outputs": [],
   "source": [
    "# Exporting DataFrame as CSV \n",
    "df.to_csv('BinDF1', ',')"
   ]
  },
  {
   "cell_type": "code",
   "execution_count": null,
   "metadata": {},
   "outputs": [],
   "source": []
  }
 ],
 "metadata": {
  "kernelspec": {
   "display_name": "Python 3",
   "language": "python",
   "name": "python3"
  },
  "language_info": {
   "codemirror_mode": {
    "name": "ipython",
    "version": 3
   },
   "file_extension": ".py",
   "mimetype": "text/x-python",
   "name": "python",
   "nbconvert_exporter": "python",
   "pygments_lexer": "ipython3",
   "version": "3.6.5"
  }
 },
 "nbformat": 4,
 "nbformat_minor": 2
}
