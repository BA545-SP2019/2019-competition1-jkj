{
 "cells": [
  {
   "cell_type": "markdown",
   "metadata": {},
   "source": [
    "# Final Notebook"
   ]
  },
  {
   "cell_type": "markdown",
   "metadata": {},
   "source": [
    "**Competition #1 - Juliana Hoffmann, Kendall Stopa & Jonathan Uy**"
   ]
  },
  {
   "cell_type": "markdown",
   "metadata": {},
   "source": [
    "# Descriptive Statistics - Part 1"
   ]
  },
  {
   "cell_type": "markdown",
   "metadata": {},
   "source": [
    "**Data Exploration in Excel**\n",
    "\n",
    "To handle our data in Jupyter Lab, we first wanted to explore the data in Excel. \n",
    "Here we discovered many missing values scattered across the Excel that we would handle within the notebook through imputation. \n",
    "The missing values we did handle were the 8 missing values in the the I3 columns. The numbers listed here are SIC codes which we looked up through SICCODE.com to fill in the blanks and manually type them in the speadsheet. Next, in the I3 column, we discovered a handful of NAICS codes which we translated to the SIC code equivalent. Lastly, for the values in the I3 column that had multiple SIC codes per row, we used SIC Code to determine the primary SIC Code and imputated those manually in Excel. \n",
    "\n",
    "Later on through our competition notebooks, we discovered that there were -1 values that could not be ignored to calculate the ratio values later on in the notebook. In T5 (Row 7) and S1 (Row 134) we manually imputed those in the Excel using Jupyter to calculate the median of each column which was used in place of the -1. \n",
    "\n",
    "Lastly, the names of the columns such as P(IPO) used parantheses in the title. We ran into issues creating new columns from these columns that containted parantheses in the title. To avoid such issues, we alter the names from P(IPO) to P_IPO, P(H) to P_H, P(L) to P_L and lastly P(1Day) to P_1DAY. \n",
    "\n",
    "These are the only changes that we manually made to the Excel file. These changes are reflected in the CSV: [Competition1_raw_data_fixed](https://ba-lab.fairfield.edu/user/jhoffmann/lab/tree/2019-competition1-jkj/Competition1_raw_data_fixed.xlsx)"
   ]
  },
  {
   "cell_type": "markdown",
   "metadata": {},
   "source": [
    "**Data Exploration in Jupyter Lab**"
   ]
  },
  {
   "cell_type": "markdown",
   "metadata": {},
   "source": [
    "Once we imported our CSV file as DataFrame, we began to explore the data within Jupyter Lab. Using .info() we found the the '-' used to identify a null value in the DataFrame was not being recognized as a null entry. To resolve this issue, we replaced the '-' with NaN. Once running the .info() again, the NaN entries were being identified as null values. \n",
    "\n",
    "Here is a breakdown of the values we were missing: \n",
    "* P_IPO - 5 missing \n",
    "* P_H - 10 missing\n"
   ]
  },
  {
   "cell_type": "code",
   "execution_count": null,
   "metadata": {},
   "outputs": [],
   "source": []
  }
 ],
 "metadata": {
  "kernelspec": {
   "display_name": "Python 3",
   "language": "python",
   "name": "python3"
  },
  "language_info": {
   "codemirror_mode": {
    "name": "ipython",
    "version": 3
   },
   "file_extension": ".py",
   "mimetype": "text/x-python",
   "name": "python",
   "nbconvert_exporter": "python",
   "pygments_lexer": "ipython3",
   "version": "3.6.5"
  }
 },
 "nbformat": 4,
 "nbformat_minor": 2
}
