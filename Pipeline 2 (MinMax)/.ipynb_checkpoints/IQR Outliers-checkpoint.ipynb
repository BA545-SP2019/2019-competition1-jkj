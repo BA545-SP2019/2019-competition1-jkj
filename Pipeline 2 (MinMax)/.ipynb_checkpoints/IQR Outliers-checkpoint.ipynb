{
 "cells": [
  {
   "cell_type": "code",
   "execution_count": 50,
   "metadata": {},
   "outputs": [],
   "source": [
    "# Fixing Outliers using IQR method "
   ]
  },
  {
   "cell_type": "code",
   "execution_count": 51,
   "metadata": {},
   "outputs": [],
   "source": [
    "import numpy as np \n",
    "import pandas as pd\n",
    "import matplotlib.pyplot as plt\n",
    "from sklearn import preprocessing\n",
    "from scipy.stats import iqr\n",
    "%matplotlib inline\n",
    "plt.style.use('ggplot')"
   ]
  },
  {
   "cell_type": "code",
   "execution_count": 52,
   "metadata": {},
   "outputs": [],
   "source": [
    "# Uploading imputed data to df from CSV WorkingDataFrame\n",
    "df = pd.read_csv('WorkingDataFrame', index_col=0)"
   ]
  },
  {
   "cell_type": "code",
   "execution_count": 53,
   "metadata": {},
   "outputs": [
    {
     "data": {
      "text/plain": [
       "I3        4.871669e+03\n",
       "P_IPO     1.383519e+01\n",
       "P_H       1.547413e+01\n",
       "P_L       1.350749e+01\n",
       "P_1DAY    2.557703e+01\n",
       "C1        1.483504e+02\n",
       "C2        8.636364e-01\n",
       "C3        1.695003e+00\n",
       "C4        7.341633e-03\n",
       "C5        4.916458e+07\n",
       "C6        1.237106e+07\n",
       "C7        4.585873e+02\n",
       "T1        4.656026e+02\n",
       "T2        1.275756e+04\n",
       "T3        1.139495e+04\n",
       "T4        2.943314e+02\n",
       "T5        6.791393e+02\n",
       "S1        6.840909e+01\n",
       "S2        1.200748e+02\n",
       "S3        1.447434e+02\n",
       "Y1        5.131965e-01\n",
       "Y2        7.038123e-01\n",
       "C3'       5.293255e-01\n",
       "C5'       4.625317e+00\n",
       "P(mid)    1.449081e+01\n",
       "C6'       5.282669e+00\n",
       "dtype: float64"
      ]
     },
     "execution_count": 53,
     "metadata": {},
     "output_type": "execute_result"
    }
   ],
   "source": [
    "# Checking mean of columns BEFORE fixing outliers \n",
    "df.mean()"
   ]
  },
  {
   "cell_type": "code",
   "execution_count": 54,
   "metadata": {},
   "outputs": [],
   "source": [
    "# Defining functin to replace outliers using IQR of each column\n",
    "def outlier_replace(x): \n",
    "    if x > (Q3 + (1.5*IQR)): \n",
    "        x = Q3\n",
    "    elif x < (Q1 - (1.5*IQR)): \n",
    "        x = Q1\n",
    "    else: \n",
    "        pass\n",
    "    return(x)"
   ]
  },
  {
   "cell_type": "code",
   "execution_count": 55,
   "metadata": {},
   "outputs": [
    {
     "data": {
      "text/plain": [
       "{'whiskers': [<matplotlib.lines.Line2D at 0x7f5d436aaa58>,\n",
       "  <matplotlib.lines.Line2D at 0x7f5d436aada0>],\n",
       " 'caps': [<matplotlib.lines.Line2D at 0x7f5d436b3128>,\n",
       "  <matplotlib.lines.Line2D at 0x7f5d436b3470>],\n",
       " 'boxes': [<matplotlib.lines.Line2D at 0x7f5d436aa908>],\n",
       " 'medians': [<matplotlib.lines.Line2D at 0x7f5d436b37b8>],\n",
       " 'fliers': [<matplotlib.lines.Line2D at 0x7f5d436b3b00>],\n",
       " 'means': []}"
      ]
     },
     "execution_count": 55,
     "metadata": {},
     "output_type": "execute_result"
    },
    {
     "data": {
      "image/png": "[encoded data removed]",
      "text/plain": [
       "<Figure size 432x288 with 1 Axes>"
      ]
     },
     "metadata": {},
     "output_type": "display_data"
    }
   ],
   "source": [
    "# Applying function to columns with outliers \n",
    "Q1 = df['P_IPO'].quantile(0.25)\n",
    "Q3 = df['P_IPO'].quantile(0.75)\n",
    "IQR = iqr(df['P_IPO'])\n",
    "df['P_IPO'] = df['P_IPO'].apply(lambda x: outlier_replace(x))\n",
    "\n",
    "# Checking Outliers Replacement with Boxplot \n",
    "plt.boxplot(df['P_IPO'])"
   ]
  },
  {
   "cell_type": "code",
   "execution_count": 56,
   "metadata": {},
   "outputs": [
    {
     "data": {
      "text/plain": [
       "{'whiskers': [<matplotlib.lines.Line2D at 0x7f5d436e9630>,\n",
       "  <matplotlib.lines.Line2D at 0x7f5d436e9978>],\n",
       " 'caps': [<matplotlib.lines.Line2D at 0x7f5d436e9cc0>,\n",
       "  <matplotlib.lines.Line2D at 0x7f5d436f4048>],\n",
       " 'boxes': [<matplotlib.lines.Line2D at 0x7f5d436e94e0>],\n",
       " 'medians': [<matplotlib.lines.Line2D at 0x7f5d436f4390>],\n",
       " 'fliers': [<matplotlib.lines.Line2D at 0x7f5d436f46d8>],\n",
       " 'means': []}"
      ]
     },
     "execution_count": 56,
     "metadata": {},
     "output_type": "execute_result"
    },
    {
     "data": {
      "image/png": "[encoded data removed]",
      "text/plain": [
       "<Figure size 432x288 with 1 Axes>"
      ]
     },
     "metadata": {},
     "output_type": "display_data"
    }
   ],
   "source": [
    "Q1 = df['P_H'].quantile(0.25)\n",
    "Q3 = df['P_H'].quantile(0.75)\n",
    "IQR = iqr(df['P_H'])\n",
    "df['P_H'] = df['P_H'].apply(lambda x: outlier_replace(x)) \n",
    "\n",
    "# Checking Outliers Replacement with Boxplot \n",
    "plt.boxplot(df['P_H'])"
   ]
  },
  {
   "cell_type": "code",
   "execution_count": 57,
   "metadata": {},
   "outputs": [
    {
     "data": {
      "text/plain": [
       "{'whiskers': [<matplotlib.lines.Line2D at 0x7f5d43625208>,\n",
       "  <matplotlib.lines.Line2D at 0x7f5d43625550>],\n",
       " 'caps': [<matplotlib.lines.Line2D at 0x7f5d43625898>,\n",
       "  <matplotlib.lines.Line2D at 0x7f5d43625be0>],\n",
       " 'boxes': [<matplotlib.lines.Line2D at 0x7f5d436250b8>],\n",
       " 'medians': [<matplotlib.lines.Line2D at 0x7f5d43625f28>],\n",
       " 'fliers': [<matplotlib.lines.Line2D at 0x7f5d436302b0>],\n",
       " 'means': []}"
      ]
     },
     "execution_count": 57,
     "metadata": {},
     "output_type": "execute_result"
    },
    {
     "data": {
      "image/png": "[encoded data removed]",
      "text/plain": [
       "<Figure size 432x288 with 1 Axes>"
      ]
     },
     "metadata": {},
     "output_type": "display_data"
    }
   ],
   "source": [
    "Q1 = df['P_L'].quantile(0.25)\n",
    "Q3 = df['P_L'].quantile(0.75)\n",
    "IQR = iqr(df['P_L'])\n",
    "df['P_L'] = df['P_L'].apply(lambda x: outlier_replace(x))\n",
    "\n",
    "# Checking Outliers Replacement with Boxplot \n",
    "plt.boxplot(df['P_L'])"
   ]
  },
  {
   "cell_type": "code",
   "execution_count": 58,
   "metadata": {},
   "outputs": [
    {
     "data": {
      "text/plain": [
       "{'whiskers': [<matplotlib.lines.Line2D at 0x7f5d435fdd68>,\n",
       "  <matplotlib.lines.Line2D at 0x7f5d436070f0>],\n",
       " 'caps': [<matplotlib.lines.Line2D at 0x7f5d43607438>,\n",
       "  <matplotlib.lines.Line2D at 0x7f5d43607780>],\n",
       " 'boxes': [<matplotlib.lines.Line2D at 0x7f5d435fdc18>],\n",
       " 'medians': [<matplotlib.lines.Line2D at 0x7f5d43607ac8>],\n",
       " 'fliers': [<matplotlib.lines.Line2D at 0x7f5d43607e10>],\n",
       " 'means': []}"
      ]
     },
     "execution_count": 58,
     "metadata": {},
     "output_type": "execute_result"
    },
    {
     "data": {
      "image/png": "[encoded data removed]",
      "text/plain": [
       "<Figure size 432x288 with 1 Axes>"
      ]
     },
     "metadata": {},
     "output_type": "display_data"
    }
   ],
   "source": [
    "Q1 = df['P_1DAY'].quantile(0.25)\n",
    "Q3 = df['P_1DAY'].quantile(0.75)\n",
    "IQR = iqr(df['P_1DAY'])\n",
    "df['P_1DAY'] = df['P_1DAY'].apply(lambda x: outlier_replace(x))\n",
    "\n",
    "# Checking Outliers Replacement with Boxplot \n",
    "plt.boxplot(df['P_1DAY'])"
   ]
  },
  {
   "cell_type": "code",
   "execution_count": 59,
   "metadata": {},
   "outputs": [
    {
     "data": {
      "text/plain": [
       "{'whiskers': [<matplotlib.lines.Line2D at 0x7f5d4355d3c8>,\n",
       "  <matplotlib.lines.Line2D at 0x7f5d4355d710>],\n",
       " 'caps': [<matplotlib.lines.Line2D at 0x7f5d4355da58>,\n",
       "  <matplotlib.lines.Line2D at 0x7f5d4355dda0>],\n",
       " 'boxes': [<matplotlib.lines.Line2D at 0x7f5d4355d278>],\n",
       " 'medians': [<matplotlib.lines.Line2D at 0x7f5d43568128>],\n",
       " 'fliers': [<matplotlib.lines.Line2D at 0x7f5d43568470>],\n",
       " 'means': []}"
      ]
     },
     "execution_count": 59,
     "metadata": {},
     "output_type": "execute_result"
    },
    {
     "data": {
      "image/png": "[encoded data removed]",
      "text/plain": [
       "<Figure size 432x288 with 1 Axes>"
      ]
     },
     "metadata": {},
     "output_type": "display_data"
    }
   ],
   "source": [
    "Q1 = df['C1'].quantile(0.25)\n",
    "Q3 = df['C1'].quantile(0.75)\n",
    "IQR = iqr(df['C1'])\n",
    "df['C1'] = df['C1'].apply(lambda x: outlier_replace(x)) \n",
    "\n",
    "# Checking Outliers Replacement with Boxplot \n",
    "plt.boxplot(df['C1'])"
   ]
  },
  {
   "cell_type": "code",
   "execution_count": 60,
   "metadata": {},
   "outputs": [
    {
     "data": {
      "text/plain": [
       "{'whiskers': [<matplotlib.lines.Line2D at 0x7f5d435364e0>,\n",
       "  <matplotlib.lines.Line2D at 0x7f5d43536828>],\n",
       " 'caps': [<matplotlib.lines.Line2D at 0x7f5d43536b70>,\n",
       "  <matplotlib.lines.Line2D at 0x7f5d43536eb8>],\n",
       " 'boxes': [<matplotlib.lines.Line2D at 0x7f5d43536390>],\n",
       " 'medians': [<matplotlib.lines.Line2D at 0x7f5d43540240>],\n",
       " 'fliers': [<matplotlib.lines.Line2D at 0x7f5d43540588>],\n",
       " 'means': []}"
      ]
     },
     "execution_count": 60,
     "metadata": {},
     "output_type": "execute_result"
    },
    {
     "data": {
      "image/png": "[encoded data removed]",
      "text/plain": [
       "<Figure size 432x288 with 1 Axes>"
      ]
     },
     "metadata": {},
     "output_type": "display_data"
    }
   ],
   "source": [
    "Q1 = df['C3'].quantile(0.25)\n",
    "Q3 = df['C3'].quantile(0.75)\n",
    "IQR = iqr(df['C3'])\n",
    "df['C3'] = df['C3'].apply(lambda x: outlier_replace(x))\n",
    "\n",
    "# Checking Outliers Replacement with Boxplot \n",
    "plt.boxplot(df['C3'])"
   ]
  },
  {
   "cell_type": "code",
   "execution_count": 61,
   "metadata": {},
   "outputs": [
    {
     "data": {
      "text/plain": [
       "{'whiskers': [<matplotlib.lines.Line2D at 0x7f5d43508f60>,\n",
       "  <matplotlib.lines.Line2D at 0x7f5d435132e8>],\n",
       " 'caps': [<matplotlib.lines.Line2D at 0x7f5d43513630>,\n",
       "  <matplotlib.lines.Line2D at 0x7f5d43513978>],\n",
       " 'boxes': [<matplotlib.lines.Line2D at 0x7f5d43508e10>],\n",
       " 'medians': [<matplotlib.lines.Line2D at 0x7f5d43513cc0>],\n",
       " 'fliers': [<matplotlib.lines.Line2D at 0x7f5d4349d048>],\n",
       " 'means': []}"
      ]
     },
     "execution_count": 61,
     "metadata": {},
     "output_type": "execute_result"
    },
    {
     "data": {
      "image/png": "[encoded data removed]",
      "text/plain": [
       "<Figure size 432x288 with 1 Axes>"
      ]
     },
     "metadata": {},
     "output_type": "display_data"
    }
   ],
   "source": [
    "Q1 = df['T1'].quantile(0.25)\n",
    "Q3 = df['T1'].quantile(0.75)\n",
    "IQR = iqr(df['T1'])\n",
    "df['T1'] = df['T1'].apply(lambda x: outlier_replace(x)) \n",
    "\n",
    "# Checking Outliers Replacement with Boxplot \n",
    "plt.boxplot(df['T1'])"
   ]
  },
  {
   "cell_type": "code",
   "execution_count": 62,
   "metadata": {},
   "outputs": [
    {
     "data": {
      "text/plain": [
       "{'whiskers': [<matplotlib.lines.Line2D at 0x7f5d4346cb70>,\n",
       "  <matplotlib.lines.Line2D at 0x7f5d4346ceb8>],\n",
       " 'caps': [<matplotlib.lines.Line2D at 0x7f5d43475240>,\n",
       "  <matplotlib.lines.Line2D at 0x7f5d43475588>],\n",
       " 'boxes': [<matplotlib.lines.Line2D at 0x7f5d4346ca20>],\n",
       " 'medians': [<matplotlib.lines.Line2D at 0x7f5d434758d0>],\n",
       " 'fliers': [<matplotlib.lines.Line2D at 0x7f5d43475c18>],\n",
       " 'means': []}"
      ]
     },
     "execution_count": 62,
     "metadata": {},
     "output_type": "execute_result"
    },
    {
     "data": {
      "image/png": "[encoded data removed]",
      "text/plain": [
       "<Figure size 432x288 with 1 Axes>"
      ]
     },
     "metadata": {},
     "output_type": "display_data"
    }
   ],
   "source": [
    "Q1 = df['T2'].quantile(0.25)\n",
    "Q3 = df['T2'].quantile(0.75)\n",
    "IQR = iqr(df['T2'])\n",
    "df['T2'] = df['T2'].apply(lambda x: outlier_replace(x))\n",
    "\n",
    "# Checking Outliers Replacement with Boxplot \n",
    "plt.boxplot(df['T2'])"
   ]
  },
  {
   "cell_type": "code",
   "execution_count": 63,
   "metadata": {},
   "outputs": [
    {
     "data": {
      "text/plain": [
       "{'whiskers': [<matplotlib.lines.Line2D at 0x7f5d43447c88>,\n",
       "  <matplotlib.lines.Line2D at 0x7f5d43447fd0>],\n",
       " 'caps': [<matplotlib.lines.Line2D at 0x7f5d43450358>,\n",
       "  <matplotlib.lines.Line2D at 0x7f5d434506a0>],\n",
       " 'boxes': [<matplotlib.lines.Line2D at 0x7f5d43447b38>],\n",
       " 'medians': [<matplotlib.lines.Line2D at 0x7f5d434509e8>],\n",
       " 'fliers': [<matplotlib.lines.Line2D at 0x7f5d43450d30>],\n",
       " 'means': []}"
      ]
     },
     "execution_count": 63,
     "metadata": {},
     "output_type": "execute_result"
    },
    {
     "data": {
      "image/png": "[encoded data removed]",
      "text/plain": [
       "<Figure size 432x288 with 1 Axes>"
      ]
     },
     "metadata": {},
     "output_type": "display_data"
    }
   ],
   "source": [
    "Q1 = df['T3'].quantile(0.25)\n",
    "Q3 = df['T3'].quantile(0.75)\n",
    "IQR = iqr(df['T3'])\n",
    "df['T3'] = df['T3'].apply(lambda x: outlier_replace(x))\n",
    "\n",
    "# Checking Outliers Replacement with Boxplot \n",
    "plt.boxplot(df['T3'])"
   ]
  },
  {
   "cell_type": "code",
   "execution_count": 64,
   "metadata": {},
   "outputs": [
    {
     "data": {
      "text/plain": [
       "{'whiskers': [<matplotlib.lines.Line2D at 0x7f5d433a1860>,\n",
       "  <matplotlib.lines.Line2D at 0x7f5d433a1ba8>],\n",
       " 'caps': [<matplotlib.lines.Line2D at 0x7f5d433a1ef0>,\n",
       "  <matplotlib.lines.Line2D at 0x7f5d433ac278>],\n",
       " 'boxes': [<matplotlib.lines.Line2D at 0x7f5d433a1710>],\n",
       " 'medians': [<matplotlib.lines.Line2D at 0x7f5d433ac5c0>],\n",
       " 'fliers': [<matplotlib.lines.Line2D at 0x7f5d433ac908>],\n",
       " 'means': []}"
      ]
     },
     "execution_count": 64,
     "metadata": {},
     "output_type": "execute_result"
    },
    {
     "data": {
      "image/png": "[encoded data removed]",
      "text/plain": [
       "<Figure size 432x288 with 1 Axes>"
      ]
     },
     "metadata": {},
     "output_type": "display_data"
    }
   ],
   "source": [
    "Q1 = df['T4'].quantile(0.25)\n",
    "Q3 = df['T4'].quantile(0.75)\n",
    "IQR = iqr(df['T4'])\n",
    "df['T4'] = df['T4'].apply(lambda x: outlier_replace(x))\n",
    "\n",
    "# Checking Outliers Replacement with Boxplot \n",
    "plt.boxplot(df['T4'])"
   ]
  },
  {
   "cell_type": "code",
   "execution_count": 65,
   "metadata": {},
   "outputs": [
    {
     "data": {
      "text/plain": [
       "{'whiskers': [<matplotlib.lines.Line2D at 0x7f5d4337d470>,\n",
       "  <matplotlib.lines.Line2D at 0x7f5d4337d7b8>],\n",
       " 'caps': [<matplotlib.lines.Line2D at 0x7f5d4337db00>,\n",
       "  <matplotlib.lines.Line2D at 0x7f5d4337de48>],\n",
       " 'boxes': [<matplotlib.lines.Line2D at 0x7f5d4337d320>],\n",
       " 'medians': [<matplotlib.lines.Line2D at 0x7f5d433871d0>],\n",
       " 'fliers': [<matplotlib.lines.Line2D at 0x7f5d43387518>],\n",
       " 'means': []}"
      ]
     },
     "execution_count": 65,
     "metadata": {},
     "output_type": "execute_result"
    },
    {
     "data": {
      "image/png": "[encoded data removed]",
      "text/plain": [
       "<Figure size 432x288 with 1 Axes>"
      ]
     },
     "metadata": {},
     "output_type": "display_data"
    }
   ],
   "source": [
    "Q1 = df['T5'].quantile(0.25)\n",
    "Q3 = df['T5'].quantile(0.75)\n",
    "IQR = iqr(df['T5'])\n",
    "df['T5'] = df['T5'].apply(lambda x: outlier_replace(x))\n",
    "\n",
    "# Checking Outliers Replacement with Boxplot \n",
    "plt.boxplot(df['T5'])"
   ]
  },
  {
   "cell_type": "code",
   "execution_count": 66,
   "metadata": {},
   "outputs": [
    {
     "data": {
      "text/plain": [
       "{'whiskers': [<matplotlib.lines.Line2D at 0x7f5d45f5b5f8>,\n",
       "  <matplotlib.lines.Line2D at 0x7f5d46017438>],\n",
       " 'caps': [<matplotlib.lines.Line2D at 0x7f5d45f45c18>,\n",
       "  <matplotlib.lines.Line2D at 0x7f5d45f36ba8>],\n",
       " 'boxes': [<matplotlib.lines.Line2D at 0x7f5d43325ef0>],\n",
       " 'medians': [<matplotlib.lines.Line2D at 0x7f5d46279160>],\n",
       " 'fliers': [<matplotlib.lines.Line2D at 0x7f5d45f4eb38>],\n",
       " 'means': []}"
      ]
     },
     "execution_count": 66,
     "metadata": {},
     "output_type": "execute_result"
    },
    {
     "data": {
      "image/png": "[encoded data removed]",
      "text/plain": [
       "<Figure size 432x288 with 1 Axes>"
      ]
     },
     "metadata": {},
     "output_type": "display_data"
    }
   ],
   "source": [
    "Q1 = df['S1'].quantile(0.25)\n",
    "Q3 = df['S1'].quantile(0.75)\n",
    "IQR = iqr(df['S1'])\n",
    "df['S1'] = df['S1'].apply(lambda x: outlier_replace(x)) \n",
    "\n",
    "# Checking Outliers Replacement with Boxplot \n",
    "plt.boxplot(df['S1'])"
   ]
  },
  {
   "cell_type": "code",
   "execution_count": 67,
   "metadata": {},
   "outputs": [
    {
     "data": {
      "text/plain": [
       "{'whiskers': [<matplotlib.lines.Line2D at 0x7f5d432a89b0>,\n",
       "  <matplotlib.lines.Line2D at 0x7f5d432a8cf8>],\n",
       " 'caps': [<matplotlib.lines.Line2D at 0x7f5d432b2080>,\n",
       "  <matplotlib.lines.Line2D at 0x7f5d432b23c8>],\n",
       " 'boxes': [<matplotlib.lines.Line2D at 0x7f5d432a8860>],\n",
       " 'medians': [<matplotlib.lines.Line2D at 0x7f5d432b2710>],\n",
       " 'fliers': [<matplotlib.lines.Line2D at 0x7f5d432b2a58>],\n",
       " 'means': []}"
      ]
     },
     "execution_count": 67,
     "metadata": {},
     "output_type": "execute_result"
    },
    {
     "data": {
      "image/png": "[encoded data removed]",
      "text/plain": [
       "<Figure size 432x288 with 1 Axes>"
      ]
     },
     "metadata": {},
     "output_type": "display_data"
    }
   ],
   "source": [
    "Q1 = df['S2'].quantile(0.25)\n",
    "Q3 = df['S2'].quantile(0.75)\n",
    "IQR = iqr(df['S2'])\n",
    "df['S2'] = df['S2'].apply(lambda x: outlier_replace(x))\n",
    "\n",
    "# Checking Outliers Replacement with Boxplot \n",
    "plt.boxplot(df['S2'])"
   ]
  },
  {
   "cell_type": "code",
   "execution_count": 68,
   "metadata": {},
   "outputs": [
    {
     "data": {
      "text/plain": [
       "{'whiskers': [<matplotlib.lines.Line2D at 0x7f5d432805c0>,\n",
       "  <matplotlib.lines.Line2D at 0x7f5d43280908>],\n",
       " 'caps': [<matplotlib.lines.Line2D at 0x7f5d43280c50>,\n",
       "  <matplotlib.lines.Line2D at 0x7f5d43280f98>],\n",
       " 'boxes': [<matplotlib.lines.Line2D at 0x7f5d43280470>],\n",
       " 'medians': [<matplotlib.lines.Line2D at 0x7f5d4328b320>],\n",
       " 'fliers': [<matplotlib.lines.Line2D at 0x7f5d4328b668>],\n",
       " 'means': []}"
      ]
     },
     "execution_count": 68,
     "metadata": {},
     "output_type": "execute_result"
    },
    {
     "data": {
      "image/png": "[encoded data removed]",
      "text/plain": [
       "<Figure size 432x288 with 1 Axes>"
      ]
     },
     "metadata": {},
     "output_type": "display_data"
    }
   ],
   "source": [
    "Q1 = df['S3'].quantile(0.25)\n",
    "Q3 = df['S3'].quantile(0.75)\n",
    "IQR = iqr(df['S3'])\n",
    "df['S3'] = df['S3'].apply(lambda x: outlier_replace(x))\n",
    "\n",
    "# Checking Outliers Replacement with Boxplot \n",
    "plt.boxplot(df['S3'])"
   ]
  },
  {
   "cell_type": "code",
   "execution_count": 69,
   "metadata": {},
   "outputs": [
    {
     "data": {
      "text/plain": [
       "{'whiskers': [<matplotlib.lines.Line2D at 0x7f5d431da1d0>,\n",
       "  <matplotlib.lines.Line2D at 0x7f5d431da518>],\n",
       " 'caps': [<matplotlib.lines.Line2D at 0x7f5d431da860>,\n",
       "  <matplotlib.lines.Line2D at 0x7f5d431daba8>],\n",
       " 'boxes': [<matplotlib.lines.Line2D at 0x7f5d431da080>],\n",
       " 'medians': [<matplotlib.lines.Line2D at 0x7f5d431daef0>],\n",
       " 'fliers': [<matplotlib.lines.Line2D at 0x7f5d431e4278>],\n",
       " 'means': []}"
      ]
     },
     "execution_count": 69,
     "metadata": {},
     "output_type": "execute_result"
    },
    {
     "data": {
      "image/png": "[encoded data removed]",
      "text/plain": [
       "<Figure size 432x288 with 1 Axes>"
      ]
     },
     "metadata": {},
     "output_type": "display_data"
    }
   ],
   "source": [
    "Q1 = df[\"C3'\"].quantile(0.25)\n",
    "Q3 = df[\"C3'\"].quantile(0.75)\n",
    "IQR = iqr(df[\"C3'\"])\n",
    "df[\"C3'\"] = df[\"C3'\"].apply(lambda x: outlier_replace(x)) \n",
    "\n",
    "# Checking Outliers Replacement with Boxplot \n",
    "plt.boxplot(df[\"C3'\"])"
   ]
  },
  {
   "cell_type": "code",
   "execution_count": 70,
   "metadata": {},
   "outputs": [
    {
     "data": {
      "text/plain": [
       "{'whiskers': [<matplotlib.lines.Line2D at 0x7f5d431b5320>,\n",
       "  <matplotlib.lines.Line2D at 0x7f5d431b5668>],\n",
       " 'caps': [<matplotlib.lines.Line2D at 0x7f5d431b59b0>,\n",
       "  <matplotlib.lines.Line2D at 0x7f5d431b5cf8>],\n",
       " 'boxes': [<matplotlib.lines.Line2D at 0x7f5d431b51d0>],\n",
       " 'medians': [<matplotlib.lines.Line2D at 0x7f5d431be080>],\n",
       " 'fliers': [<matplotlib.lines.Line2D at 0x7f5d431be3c8>],\n",
       " 'means': []}"
      ]
     },
     "execution_count": 70,
     "metadata": {},
     "output_type": "execute_result"
    },
    {
     "data": {
      "image/png": "[encoded data removed]",
      "text/plain": [
       "<Figure size 432x288 with 1 Axes>"
      ]
     },
     "metadata": {},
     "output_type": "display_data"
    }
   ],
   "source": [
    "Q1 = df[\"C5'\"].quantile(0.25)\n",
    "Q3 = df[\"C5'\"].quantile(0.75)\n",
    "IQR = iqr(df[\"C5'\"])\n",
    "df[\"C5'\"] = df[\"C5'\"].apply(lambda x: outlier_replace(x)) \n",
    "\n",
    "# Checking Outliers Replacement with Boxplot \n",
    "plt.boxplot(df[\"C5'\"])"
   ]
  },
  {
   "cell_type": "code",
   "execution_count": 71,
   "metadata": {},
   "outputs": [
    {
     "data": {
      "text/plain": [
       "{'whiskers': [<matplotlib.lines.Line2D at 0x7f5d43119240>,\n",
       "  <matplotlib.lines.Line2D at 0x7f5d43119588>],\n",
       " 'caps': [<matplotlib.lines.Line2D at 0x7f5d431198d0>,\n",
       "  <matplotlib.lines.Line2D at 0x7f5d43119c18>],\n",
       " 'boxes': [<matplotlib.lines.Line2D at 0x7f5d431190f0>],\n",
       " 'medians': [<matplotlib.lines.Line2D at 0x7f5d43119f60>],\n",
       " 'fliers': [<matplotlib.lines.Line2D at 0x7f5d431252e8>],\n",
       " 'means': []}"
      ]
     },
     "execution_count": 71,
     "metadata": {},
     "output_type": "execute_result"
    },
    {
     "data": {
      "image/png": "[encoded data removed]",
      "text/plain": [
       "<Figure size 432x288 with 1 Axes>"
      ]
     },
     "metadata": {},
     "output_type": "display_data"
    }
   ],
   "source": [
    "Q1 = df[\"C6'\"].quantile(0.25)\n",
    "Q3 = df[\"C6'\"].quantile(0.75)\n",
    "IQR = iqr(df[\"C6'\"])\n",
    "df[\"C6'\"] = df[\"C6'\"].apply(lambda x: outlier_replace(x)) \n",
    "\n",
    "# Checking Outliers Replacement with Boxplot \n",
    "plt.boxplot(df[\"C6'\"])"
   ]
  },
  {
   "cell_type": "code",
   "execution_count": 72,
   "metadata": {},
   "outputs": [
    {
     "data": {
      "text/plain": [
       "I3        4.871669e+03\n",
       "P_IPO     1.339091e+01\n",
       "P_H       1.497707e+01\n",
       "P_L       1.296900e+01\n",
       "P_1DAY    1.524347e+01\n",
       "C1        1.153633e+02\n",
       "C2        8.636364e-01\n",
       "C3       -9.747067e-02\n",
       "C4        7.341633e-03\n",
       "C5        4.916458e+07\n",
       "C6        1.237106e+07\n",
       "C7        4.585873e+02\n",
       "T1        4.530839e+02\n",
       "T2        1.232365e+04\n",
       "T3        1.102979e+04\n",
       "T4        2.863776e+02\n",
       "T5        6.385499e+02\n",
       "S1        6.426613e+01\n",
       "S2        1.068977e+02\n",
       "S3        1.375088e+02\n",
       "Y1        5.131965e-01\n",
       "Y2        7.038123e-01\n",
       "C3'       5.293255e-01\n",
       "C5'       3.853964e+00\n",
       "P(mid)    1.449081e+01\n",
       "C6'       3.328752e+00\n",
       "dtype: float64"
      ]
     },
     "execution_count": 72,
     "metadata": {},
     "output_type": "execute_result"
    }
   ],
   "source": [
    "df.mean()"
   ]
  }
 ],
 "metadata": {
  "kernelspec": {
   "display_name": "Python 3",
   "language": "python",
   "name": "python3"
  },
  "language_info": {
   "codemirror_mode": {
    "name": "ipython",
    "version": 3
   },
   "file_extension": ".py",
   "mimetype": "text/x-python",
   "name": "python",
   "nbconvert_exporter": "python",
   "pygments_lexer": "ipython3",
   "version": "3.6.5"
  }
 },
 "nbformat": 4,
 "nbformat_minor": 2
}
