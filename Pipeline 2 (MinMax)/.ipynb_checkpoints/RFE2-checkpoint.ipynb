{
 "cells": [
  {
   "cell_type": "code",
   "execution_count": 1,
   "metadata": {},
   "outputs": [],
   "source": [
    "import numpy as np \n",
    "import pandas as pd\n",
    "import matplotlib.pyplot as plt\n",
    "from sklearn import preprocessing\n",
    "import seaborn as sns\n",
    "%matplotlib inline\n",
    "plt.style.use('ggplot')"
   ]
  },
  {
   "cell_type": "code",
   "execution_count": 2,
   "metadata": {},
   "outputs": [
    {
     "data": {
      "text/html": [
       "<div>\n",
       "<style scoped>\n",
       "    .dataframe tbody tr th:only-of-type {\n",
       "        vertical-align: middle;\n",
       "    }\n",
       "\n",
       "    .dataframe tbody tr th {\n",
       "        vertical-align: top;\n",
       "    }\n",
       "\n",
       "    .dataframe thead th {\n",
       "        text-align: right;\n",
       "    }\n",
       "</style>\n",
       "<table border=\"1\" class=\"dataframe\">\n",
       "  <thead>\n",
       "    <tr style=\"text-align: right;\">\n",
       "      <th></th>\n",
       "      <th>Y1</th>\n",
       "      <th>Y2</th>\n",
       "      <th>C1</th>\n",
       "      <th>C2</th>\n",
       "      <th>C4</th>\n",
       "      <th>C7</th>\n",
       "      <th>C3'</th>\n",
       "      <th>C5'</th>\n",
       "      <th>C6'</th>\n",
       "      <th>T4'</th>\n",
       "      <th>T3'</th>\n",
       "      <th>T5'</th>\n",
       "      <th>S1'</th>\n",
       "      <th>S2'</th>\n",
       "      <th>S3'</th>\n",
       "    </tr>\n",
       "  </thead>\n",
       "  <tbody>\n",
       "    <tr>\n",
       "      <th>0</th>\n",
       "      <td>0</td>\n",
       "      <td>1</td>\n",
       "      <td>0.462810</td>\n",
       "      <td>1.0</td>\n",
       "      <td>0.749962</td>\n",
       "      <td>0.427561</td>\n",
       "      <td>1.0</td>\n",
       "      <td>0.476417</td>\n",
       "      <td>0.949896</td>\n",
       "      <td>0.534453</td>\n",
       "      <td>0.523574</td>\n",
       "      <td>0.466548</td>\n",
       "      <td>0.425373</td>\n",
       "      <td>0.436937</td>\n",
       "      <td>0.457490</td>\n",
       "    </tr>\n",
       "    <tr>\n",
       "      <th>1</th>\n",
       "      <td>1</td>\n",
       "      <td>0</td>\n",
       "      <td>0.589876</td>\n",
       "      <td>0.0</td>\n",
       "      <td>0.583748</td>\n",
       "      <td>0.340352</td>\n",
       "      <td>0.0</td>\n",
       "      <td>0.609551</td>\n",
       "      <td>0.000000</td>\n",
       "      <td>0.545989</td>\n",
       "      <td>0.887042</td>\n",
       "      <td>0.850134</td>\n",
       "      <td>0.492537</td>\n",
       "      <td>1.000000</td>\n",
       "      <td>0.854251</td>\n",
       "    </tr>\n",
       "    <tr>\n",
       "      <th>2</th>\n",
       "      <td>1</td>\n",
       "      <td>0</td>\n",
       "      <td>0.330579</td>\n",
       "      <td>1.0</td>\n",
       "      <td>0.717213</td>\n",
       "      <td>0.223303</td>\n",
       "      <td>0.0</td>\n",
       "      <td>0.410536</td>\n",
       "      <td>0.000000</td>\n",
       "      <td>0.524832</td>\n",
       "      <td>0.216722</td>\n",
       "      <td>0.140946</td>\n",
       "      <td>0.417910</td>\n",
       "      <td>0.058559</td>\n",
       "      <td>0.137652</td>\n",
       "    </tr>\n",
       "    <tr>\n",
       "      <th>3</th>\n",
       "      <td>1</td>\n",
       "      <td>1</td>\n",
       "      <td>0.822314</td>\n",
       "      <td>1.0</td>\n",
       "      <td>0.714502</td>\n",
       "      <td>0.234437</td>\n",
       "      <td>0.0</td>\n",
       "      <td>0.401299</td>\n",
       "      <td>0.000000</td>\n",
       "      <td>0.265799</td>\n",
       "      <td>0.343041</td>\n",
       "      <td>0.305085</td>\n",
       "      <td>0.559701</td>\n",
       "      <td>0.175676</td>\n",
       "      <td>0.340081</td>\n",
       "    </tr>\n",
       "    <tr>\n",
       "      <th>4</th>\n",
       "      <td>0</td>\n",
       "      <td>1</td>\n",
       "      <td>0.289256</td>\n",
       "      <td>1.0</td>\n",
       "      <td>0.499347</td>\n",
       "      <td>0.987789</td>\n",
       "      <td>1.0</td>\n",
       "      <td>0.458048</td>\n",
       "      <td>0.869249</td>\n",
       "      <td>0.393150</td>\n",
       "      <td>0.596766</td>\n",
       "      <td>0.493310</td>\n",
       "      <td>0.462687</td>\n",
       "      <td>0.581081</td>\n",
       "      <td>0.570850</td>\n",
       "    </tr>\n",
       "  </tbody>\n",
       "</table>\n",
       "</div>"
      ],
      "text/plain": [
       "   Y1  Y2        C1   C2        C4        C7  C3'       C5'       C6'  \\\n",
       "0   0   1  0.462810  1.0  0.749962  0.427561  1.0  0.476417  0.949896   \n",
       "1   1   0  0.589876  0.0  0.583748  0.340352  0.0  0.609551  0.000000   \n",
       "2   1   0  0.330579  1.0  0.717213  0.223303  0.0  0.410536  0.000000   \n",
       "3   1   1  0.822314  1.0  0.714502  0.234437  0.0  0.401299  0.000000   \n",
       "4   0   1  0.289256  1.0  0.499347  0.987789  1.0  0.458048  0.869249   \n",
       "\n",
       "        T4'       T3'       T5'       S1'       S2'       S3'  \n",
       "0  0.534453  0.523574  0.466548  0.425373  0.436937  0.457490  \n",
       "1  0.545989  0.887042  0.850134  0.492537  1.000000  0.854251  \n",
       "2  0.524832  0.216722  0.140946  0.417910  0.058559  0.137652  \n",
       "3  0.265799  0.343041  0.305085  0.559701  0.175676  0.340081  \n",
       "4  0.393150  0.596766  0.493310  0.462687  0.581081  0.570850  "
      ]
     },
     "execution_count": 2,
     "metadata": {},
     "output_type": "execute_result"
    }
   ],
   "source": [
    "# Creating DataFrame df from CSV StandDF\n",
    "df = pd.read_csv('ReadyDF2', index_col=0)\n",
    "\n",
    "# Displaying first five results \n",
    "df.head()"
   ]
  },
  {
   "cell_type": "code",
   "execution_count": 3,
   "metadata": {},
   "outputs": [],
   "source": [
    "## Separate target variables from Data Frame \n",
    "## Using .ravel() to create a contiguous flattened array to change the shape of (n_samples)\n",
    "\n",
    "####ERROR for.len()---vector y was passed when a 1d array was expected. \n",
    "####Please change the shape of y to (n_samples, ), for example using ravel().\n",
    "  ##y = column_or_1d(y, warn=True)\n",
    "    \n",
    "y1 =df.loc[:, ['Y1']].values.ravel()\n",
    "y2 =df.loc[:, ['Y2']].values.ravel()\n",
    "\n",
    "## Drop target variables from Data Frame \n",
    "df = df.drop(['Y1','Y2'], axis=1)\n",
    "\n",
    "## Drop C6' from DF1 \n",
    "df1 = df.drop([\"C6'\"], axis=1)"
   ]
  },
  {
   "cell_type": "code",
   "execution_count": null,
   "metadata": {},
   "outputs": [],
   "source": []
  },
  {
   "cell_type": "code",
   "execution_count": 4,
   "metadata": {},
   "outputs": [
    {
     "name": "stdout",
     "output_type": "stream",
     "text": [
      "[False False  True False False False False  True False False  True False]\n",
      "[ 5  7  1  3  8  4  6  1  9  2  1 10]\n"
     ]
    }
   ],
   "source": [
    "# Recursive Feature Elimination for Y1 target \n",
    "from sklearn import datasets\n",
    "from sklearn.feature_selection import RFE\n",
    "from sklearn.linear_model import LogisticRegression\n",
    "# create a base classifier used to evaluate a subset of attributes\n",
    "model = LogisticRegression()\n",
    "# create the RFE model and select 3 attributes\n",
    "rfe = RFE(model, 3)\n",
    "rfe = rfe.fit(df1, y1)\n",
    "# summarize the selection of the attributes\n",
    "print(rfe.support_)\n",
    "print(rfe.ranking_)"
   ]
  },
  {
   "cell_type": "code",
   "execution_count": 5,
   "metadata": {},
   "outputs": [
    {
     "name": "stdout",
     "output_type": "stream",
     "text": [
      "[False False  True False False False  True False False False False  True\n",
      " False]\n",
      "[10  3  1  4 11  2  1  5  6  7  8  1  9]\n"
     ]
    }
   ],
   "source": [
    "# Recursive Feature Elimination for Y2 target \n",
    "from sklearn import datasets\n",
    "from sklearn.feature_selection import RFE\n",
    "from sklearn.linear_model import LogisticRegression\n",
    "# create a base classifier used to evaluate a subset of attributes\n",
    "model = LogisticRegression()\n",
    "# create the RFE model and select 3 attributes\n",
    "rfe = RFE(model, 3)\n",
    "rfe = rfe.fit(df, y2)\n",
    "# summarize the selection of the attributes\n",
    "print(rfe.support_)\n",
    "print(rfe.ranking_)"
   ]
  },
  {
   "cell_type": "code",
   "execution_count": 6,
   "metadata": {},
   "outputs": [
    {
     "name": "stdout",
     "output_type": "stream",
     "text": [
      "13\n"
     ]
    }
   ],
   "source": [
    "\n",
    "# Checking how many features this dataset have\n",
    "\n",
    "print(df.shape[1])"
   ]
  },
  {
   "cell_type": "code",
   "execution_count": 7,
   "metadata": {},
   "outputs": [
    {
     "name": "stdout",
     "output_type": "stream",
     "text": [
      "1\n",
      "Model with the best 1 features\n",
      "[False False False False False False False False False False  True False]\n",
      "[ 7  9  2  5 10  6  8  3 11  4  1 12]\n",
      "2\n",
      "Model with the best 2 features\n",
      "[False False  True False False False False False False False  True False]\n",
      "[ 6  8  1  4  9  5  7  2 10  3  1 11]\n",
      "3\n",
      "Model with the best 3 features\n",
      "[False False  True False False False False  True False False  True False]\n",
      "[ 5  7  1  3  8  4  6  1  9  2  1 10]\n",
      "4\n",
      "Model with the best 4 features\n",
      "[False False  True False False False False  True False  True  True False]\n",
      "[4 6 1 2 7 3 5 1 8 1 1 9]\n",
      "5\n",
      "Model with the best 5 features\n",
      "[False False  True  True False False False  True False  True  True False]\n",
      "[3 5 1 1 6 2 4 1 7 1 1 8]\n",
      "6\n",
      "Model with the best 6 features\n",
      "[False False  True  True False  True False  True False  True  True False]\n",
      "[2 4 1 1 5 1 3 1 6 1 1 7]\n",
      "7\n",
      "Model with the best 7 features\n",
      "[ True False  True  True False  True False  True False  True  True False]\n",
      "[1 3 1 1 4 1 2 1 5 1 1 6]\n",
      "8\n",
      "Model with the best 8 features\n",
      "[ True False  True  True False  True  True  True False  True  True False]\n",
      "[1 2 1 1 3 1 1 1 4 1 1 5]\n",
      "9\n",
      "Model with the best 9 features\n",
      "[ True  True  True  True False  True  True  True False  True  True False]\n",
      "[1 1 1 1 2 1 1 1 3 1 1 4]\n",
      "10\n",
      "Model with the best 10 features\n",
      "[ True  True  True  True  True  True  True  True False  True  True False]\n",
      "[1 1 1 1 1 1 1 1 2 1 1 3]\n",
      "11\n",
      "Model with the best 11 features\n",
      "[ True  True  True  True  True  True  True  True  True  True  True False]\n",
      "[1 1 1 1 1 1 1 1 1 1 1 2]\n",
      "12\n",
      "Model with the best 12 features\n",
      "[ True  True  True  True  True  True  True  True  True  True  True  True]\n",
      "[1 1 1 1 1 1 1 1 1 1 1 1]\n",
      "13\n",
      "Model with the best 13 features\n",
      "[ True  True  True  True  True  True  True  True  True  True  True  True]\n",
      "[1 1 1 1 1 1 1 1 1 1 1 1]\n"
     ]
    }
   ],
   "source": [
    "for i in range(1, df.shape[1]+1):\n",
    "    print(i)\n",
    "    # create a base classifier used to evaluate a subset of attributes\n",
    "    model = LogisticRegression()\n",
    "    # create the RFE model and select 3 attributes; Target Variable Y1\n",
    "    rfe = RFE(model, i)\n",
    "    rfe = rfe.fit(df1, y1)\n",
    "    # summarize the selection of the attributes\n",
    "    print('Model with the best', i, 'features')\n",
    "    print(rfe.support_)\n",
    "    print(rfe.ranking_)"
   ]
  },
  {
   "cell_type": "code",
   "execution_count": 8,
   "metadata": {},
   "outputs": [
    {
     "name": "stdout",
     "output_type": "stream",
     "text": [
      "1\n",
      "Model with the best 1 features\n",
      "[False False False False False False  True False False False False False\n",
      " False]\n",
      "[12  5  3  6 13  4  1  7  8  9 10  2 11]\n",
      "2\n",
      "Model with the best 2 features\n",
      "[False False False False False False  True False False False False  True\n",
      " False]\n",
      "[11  4  2  5 12  3  1  6  7  8  9  1 10]\n",
      "3\n",
      "Model with the best 3 features\n",
      "[False False  True False False False  True False False False False  True\n",
      " False]\n",
      "[10  3  1  4 11  2  1  5  6  7  8  1  9]\n",
      "4\n",
      "Model with the best 4 features\n",
      "[False False  True False False  True  True False False False False  True\n",
      " False]\n",
      "[ 9  2  1  3 10  1  1  4  5  6  7  1  8]\n",
      "5\n",
      "Model with the best 5 features\n",
      "[False  True  True False False  True  True False False False False  True\n",
      " False]\n",
      "[8 1 1 2 9 1 1 3 4 5 6 1 7]\n",
      "6\n",
      "Model with the best 6 features\n",
      "[False  True  True  True False  True  True False False False False  True\n",
      " False]\n",
      "[7 1 1 1 8 1 1 2 3 4 5 1 6]\n",
      "7\n",
      "Model with the best 7 features\n",
      "[False  True  True  True False  True  True  True False False False  True\n",
      " False]\n",
      "[6 1 1 1 7 1 1 1 2 3 4 1 5]\n",
      "8\n",
      "Model with the best 8 features\n",
      "[False  True  True  True False  True  True  True  True False False  True\n",
      " False]\n",
      "[5 1 1 1 6 1 1 1 1 2 3 1 4]\n",
      "9\n",
      "Model with the best 9 features\n",
      "[False  True  True  True False  True  True  True  True  True False  True\n",
      " False]\n",
      "[4 1 1 1 5 1 1 1 1 1 2 1 3]\n",
      "10\n",
      "Model with the best 10 features\n",
      "[False  True  True  True False  True  True  True  True  True  True  True\n",
      " False]\n",
      "[3 1 1 1 4 1 1 1 1 1 1 1 2]\n",
      "11\n",
      "Model with the best 11 features\n",
      "[False  True  True  True False  True  True  True  True  True  True  True\n",
      "  True]\n",
      "[2 1 1 1 3 1 1 1 1 1 1 1 1]\n",
      "12\n",
      "Model with the best 12 features\n",
      "[ True  True  True  True False  True  True  True  True  True  True  True\n",
      "  True]\n",
      "[1 1 1 1 2 1 1 1 1 1 1 1 1]\n",
      "13\n",
      "Model with the best 13 features\n",
      "[ True  True  True  True  True  True  True  True  True  True  True  True\n",
      "  True]\n",
      "[1 1 1 1 1 1 1 1 1 1 1 1 1]\n"
     ]
    }
   ],
   "source": [
    "for i in range(1, df.shape[1]+1):\n",
    "    print(i)\n",
    "    # create a base classifier used to evaluate a subset of attributes\n",
    "    model = LogisticRegression()\n",
    "    # create the RFE model and select 3 attributes; Target Variable Y2\n",
    "    rfe = RFE(model, i)\n",
    "    rfe = rfe.fit(df, y2)\n",
    "    # summarize the selection of the attributes\n",
    "    print('Model with the best', i, 'features')\n",
    "    print(rfe.support_)\n",
    "    print(rfe.ranking_)"
   ]
  },
  {
   "cell_type": "code",
   "execution_count": 9,
   "metadata": {},
   "outputs": [
    {
     "name": "stdout",
     "output_type": "stream",
     "text": [
      "[False False False False False False False False False False False False]\n"
     ]
    }
   ],
   "source": [
    "###extra trees classifier to report feature importance, \n",
    "###and use an abitrary 0.4 value to filter the features\n",
    "#The idea is whatever features passing the threshold would be selected\n",
    "\n",
    "# Feature Importance\n",
    "from sklearn import datasets\n",
    "from sklearn import metrics\n",
    "from sklearn.ensemble import ExtraTreesClassifier\n",
    "\n",
    "# fit an Extra Trees model to the data; Target Variable Y1\n",
    "\n",
    "model = ExtraTreesClassifier()\n",
    "model.fit(df1, y1)\n",
    "# display the relative importance of each attribute\n",
    "print(model.feature_importances_ > .5)\n"
   ]
  },
  {
   "cell_type": "code",
   "execution_count": 10,
   "metadata": {},
   "outputs": [
    {
     "name": "stdout",
     "output_type": "stream",
     "text": [
      "[False False False False False False False False False False False False\n",
      " False]\n"
     ]
    }
   ],
   "source": [
    "###extra trees classifier to report feature importance, \n",
    "###and use an abitrary 0.4 value to filter the features\n",
    "#The idea is whatever features passing the threshold would be selected\n",
    "\n",
    "# Feature Importance\n",
    "from sklearn import datasets\n",
    "from sklearn import metrics\n",
    "from sklearn.ensemble import ExtraTreesClassifier\n",
    "\n",
    "# fit an Extra Trees model to the data; Target Variable \n",
    "\n",
    "model = ExtraTreesClassifier()\n",
    "model.fit(df, y2)\n",
    "# display the relative importance of each attribute\n",
    "print(model.feature_importances_ > .5)"
   ]
  },
  {
   "cell_type": "code",
   "execution_count": 13,
   "metadata": {},
   "outputs": [
    {
     "name": "stdout",
     "output_type": "stream",
     "text": [
      "Feature ranking:\n",
      "1. feature 10 (0.111138)\n",
      "2. feature 2 (0.107620)\n",
      "3. feature 3 (0.104233)\n",
      "4. feature 0 (0.094456)\n",
      "5. feature 6 (0.094036)\n",
      "6. feature 7 (0.092347)\n",
      "7. feature 5 (0.090262)\n",
      "8. feature 8 (0.089247)\n",
      "9. feature 9 (0.087161)\n",
      "10. feature 11 (0.082627)\n",
      "11. feature 4 (0.025502)\n",
      "12. feature 1 (0.021370)\n"
     ]
    },
    {
     "data": {
      "image/png": "[encoded data removed]",
      "text/plain": [
       "<Figure size 432x288 with 1 Axes>"
      ]
     },
     "metadata": {},
     "output_type": "display_data"
    },
    {
     "data": {
      "text/plain": [
       "<matplotlib.axes._subplots.AxesSubplot at 0x7ffa45b199e8>"
      ]
     },
     "execution_count": 13,
     "metadata": {},
     "output_type": "execute_result"
    },
    {
     "data": {
      "image/png": "[encoded data removed]",
      "text/plain": [
       "<Figure size 432x288 with 1 Axes>"
      ]
     },
     "metadata": {},
     "output_type": "display_data"
    }
   ],
   "source": [
    "# Build a forest and compute the feature importances\n",
    "model = ExtraTreesClassifier()\n",
    "model.fit(df1, y1)\n",
    "importances = model.feature_importances_\n",
    "std = np.std([tree.feature_importances_ for tree in model.estimators_],\n",
    "             axis=0)\n",
    "indices = np.argsort(importances)[::-1]\n",
    "\n",
    "# Print the feature ranking\n",
    "print(\"Feature ranking:\")\n",
    "\n",
    "for f in range(df1.shape[1]):\n",
    "    print(\"%d. feature %d (%f)\" % (f + 1 , indices[f], importances[indices[f]]))\n",
    "    \n",
    "\n",
    "# Plot the feature importances of the forest\n",
    "plt.figure()\n",
    "plt.title(\"Feature importances\")\n",
    "plt.bar(range(df1.shape[1]), importances[indices],\n",
    "       color=\"b\", yerr=std[indices], align=\"center\")\n",
    "plt.xticks(range(df1.shape[1]), df1.columns)\n",
    "plt.xlim([-1, df1.shape[1]])\n",
    "plt.show()\n",
    "\n",
    "\n",
    "feat_importances = pd.Series(model.feature_importances_, index=df1.columns)\n",
    "feat_importances.nlargest(6).plot(kind='barh')\n",
    "\n",
    "#The blue bars are the feature \n",
    "##importances of the forest, along with their inter-trees variability."
   ]
  },
  {
   "cell_type": "code",
   "execution_count": 14,
   "metadata": {},
   "outputs": [
    {
     "name": "stdout",
     "output_type": "stream",
     "text": [
      "Feature ranking:\n",
      "1. feature 2 (0.096990)\n",
      "2. feature 5 (0.094701)\n",
      "3. feature 0 (0.091852)\n",
      "4. feature 11 (0.091737)\n",
      "5. feature 10 (0.086417)\n",
      "6. feature 12 (0.083685)\n",
      "7. feature 7 (0.083040)\n",
      "8. feature 9 (0.082815)\n",
      "9. feature 8 (0.079457)\n",
      "10. feature 6 (0.078436)\n",
      "11. feature 3 (0.075311)\n",
      "12. feature 4 (0.034418)\n",
      "13. feature 1 (0.021141)\n"
     ]
    },
    {
     "data": {
      "image/png": "[encoded data removed]",
      "text/plain": [
       "<Figure size 432x288 with 1 Axes>"
      ]
     },
     "metadata": {},
     "output_type": "display_data"
    },
    {
     "data": {
      "text/plain": [
       "<matplotlib.axes._subplots.AxesSubplot at 0x7ffa45a5a208>"
      ]
     },
     "execution_count": 14,
     "metadata": {},
     "output_type": "execute_result"
    },
    {
     "data": {
      "image/png": "[encoded data removed]",
      "text/plain": [
       "<Figure size 432x288 with 1 Axes>"
      ]
     },
     "metadata": {},
     "output_type": "display_data"
    }
   ],
   "source": [
    "# Build a forest and compute the feature importances\n",
    "model = ExtraTreesClassifier()\n",
    "model.fit(df, y2)\n",
    "importances = model.feature_importances_\n",
    "std = np.std([tree.feature_importances_ for tree in model.estimators_],\n",
    "             axis=0)\n",
    "indices = np.argsort(importances)[::-1]\n",
    "\n",
    "# Print the feature ranking\n",
    "print(\"Feature ranking:\")\n",
    "\n",
    "for f in range(df.shape[1]):\n",
    "    print(\"%d. feature %d (%f)\" % (f + 1, indices[f], importances[indices[f]]))\n",
    "\n",
    "# Plot the feature importances of the forest\n",
    "plt.figure()\n",
    "plt.title(\"Feature importances\")\n",
    "plt.bar(range(df.shape[1]), importances[indices],\n",
    "       color=\"m\", yerr=std[indices], align=\"center\")\n",
    "plt.xticks(range(df.shape[1]), df.columns)\n",
    "plt.xlim([-1, df.shape[1]])\n",
    "plt.show()\n",
    "\n",
    "\n",
    "feat_importances = pd.Series(model.feature_importances_, index=df.columns)\n",
    "feat_importances.nlargest(6).plot(kind='barh')\n",
    "\n",
    "#The red bars are the feature \n",
    "##importances of the forest, along with their inter-trees variability."
   ]
  },
  {
   "cell_type": "code",
   "execution_count": null,
   "metadata": {},
   "outputs": [],
   "source": []
  },
  {
   "cell_type": "code",
   "execution_count": null,
   "metadata": {},
   "outputs": [],
   "source": [
    "\n"
   ]
  },
  {
   "cell_type": "code",
   "execution_count": null,
   "metadata": {},
   "outputs": [],
   "source": []
  },
  {
   "cell_type": "code",
   "execution_count": null,
   "metadata": {},
   "outputs": [],
   "source": []
  },
  {
   "cell_type": "code",
   "execution_count": null,
   "metadata": {},
   "outputs": [],
   "source": []
  },
  {
   "cell_type": "code",
   "execution_count": null,
   "metadata": {},
   "outputs": [],
   "source": []
  },
  {
   "cell_type": "code",
   "execution_count": null,
   "metadata": {},
   "outputs": [],
   "source": []
  },
  {
   "cell_type": "code",
   "execution_count": null,
   "metadata": {},
   "outputs": [],
   "source": []
  },
  {
   "cell_type": "code",
   "execution_count": null,
   "metadata": {},
   "outputs": [],
   "source": []
  }
 ],
 "metadata": {
  "kernelspec": {
   "display_name": "Python 3",
   "language": "python",
   "name": "python3"
  },
  "language_info": {
   "codemirror_mode": {
    "name": "ipython",
    "version": 3
   },
   "file_extension": ".py",
   "mimetype": "text/x-python",
   "name": "python",
   "nbconvert_exporter": "python",
   "pygments_lexer": "ipython3",
   "version": "3.6.5"
  }
 },
 "nbformat": 4,
 "nbformat_minor": 2
}
