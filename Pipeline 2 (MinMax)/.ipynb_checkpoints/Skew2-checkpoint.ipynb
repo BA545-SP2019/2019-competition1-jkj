{
 "cells": [
  {
   "cell_type": "code",
   "execution_count": 12,
   "metadata": {},
   "outputs": [],
   "source": [
    "# Fixing Skewness AFTER Outlier Handling "
   ]
  },
  {
   "cell_type": "code",
   "execution_count": 13,
   "metadata": {},
   "outputs": [],
   "source": [
    "import numpy as np \n",
    "import pandas as pd\n",
    "import matplotlib.pyplot as plt\n",
    "from sklearn import preprocessing\n",
    "import math\n",
    "%matplotlib inline\n",
    "plt.style.use('ggplot')"
   ]
  },
  {
   "cell_type": "code",
   "execution_count": 14,
   "metadata": {},
   "outputs": [],
   "source": [
    "# Uploading imputed data to df from CSV WorkingDataFrame\n",
    "df = pd.read_csv('MMNormDF', index_col=0)"
   ]
  },
  {
   "cell_type": "code",
   "execution_count": 15,
   "metadata": {},
   "outputs": [
    {
     "data": {
      "text/plain": [
       "I3         0.230978\n",
       "Y1        -0.052921\n",
       "Y2        -0.894757\n",
       "P_IPO      0.060532\n",
       "P_H       -0.089452\n",
       "P_L       -0.075694\n",
       "P_1DAY     0.199023\n",
       "C1         0.484764\n",
       "C2        -2.123926\n",
       "C3        -0.269698\n",
       "C4        -0.491134\n",
       "C5        13.659056\n",
       "C6        12.613291\n",
       "C7        12.348960\n",
       "T1         0.295909\n",
       "T2         0.333907\n",
       "T3         0.315780\n",
       "T4         0.368193\n",
       "T5         0.421298\n",
       "S1         0.468309\n",
       "S2         0.521067\n",
       "S3         0.350884\n",
       "C3'       -0.117764\n",
       "C5'        0.407167\n",
       "P(mid)     8.292727\n",
       "C6'        1.190803\n",
       "dtype: float64"
      ]
     },
     "execution_count": 15,
     "metadata": {},
     "output_type": "execute_result"
    }
   ],
   "source": [
    "# Checking Skew of DataFrame\n",
    "df.skew()\n",
    "\n",
    "# Ignoring I3, since it is a categorical variable, \n",
    "# Not going to skew C2 because it is a binary variable,\n",
    "# Y1, Y2 are target variables, \n",
    "# Ignoring P(mid) since it was only used for calculation purposes"
   ]
  },
  {
   "cell_type": "code",
   "execution_count": 16,
   "metadata": {},
   "outputs": [
    {
     "data": {
      "text/plain": [
       "(array([ 11.,  43., 169., 233., 135.,  58.,  21.,   9.,   2.,   1.]),\n",
       " array([1.87268453, 1.89593651, 1.9191885 , 1.94244049, 1.96569247,\n",
       "        1.98894446, 2.01219645, 2.03544844, 2.05870042, 2.08195241,\n",
       "        2.1052044 ]),\n",
       " <a list of 10 Patch objects>)"
      ]
     },
     "execution_count": 16,
     "metadata": {},
     "output_type": "execute_result"
    },
    {
     "data": {
      "image/png": "[encoded data removed]",
      "text/plain": [
       "<Figure size 432x288 with 1 Axes>"
      ]
     },
     "metadata": {},
     "output_type": "display_data"
    }
   ],
   "source": [
    "# Fixing Positive Skew of C5\n",
    "df['C5'] = np.cbrt(np.log10(df['C5']))\n",
    "# Leaving as Moderatly Skewed \n",
    "plt.hist(df['C5'])"
   ]
  },
  {
   "cell_type": "code",
   "execution_count": 17,
   "metadata": {},
   "outputs": [
    {
     "data": {
      "text/plain": [
       "(array([  5.,   5.,  37., 209., 253., 104.,  50.,  15.,   2.,   2.]),\n",
       " array([1.78841941, 1.81465198, 1.84088456, 1.86711713, 1.89334971,\n",
       "        1.91958228, 1.94581486, 1.97204743, 1.99828001, 2.02451259,\n",
       "        2.05074516]),\n",
       " <a list of 10 Patch objects>)"
      ]
     },
     "execution_count": 17,
     "metadata": {},
     "output_type": "execute_result"
    },
    {
     "data": {
      "image/png": "[encoded data removed]",
      "text/plain": [
       "<Figure size 432x288 with 1 Axes>"
      ]
     },
     "metadata": {},
     "output_type": "display_data"
    }
   ],
   "source": [
    "# Fixing Positive Skew of C6\n",
    "df['C6'] = np.cbrt(np.log10(df['C6']))\n",
    "plt.hist(df['C6'])"
   ]
  },
  {
   "cell_type": "code",
   "execution_count": 18,
   "metadata": {},
   "outputs": [
    {
     "data": {
      "text/plain": [
       "(array([  6.,  12.,  22.,  36., 111., 258., 144.,  65.,  24.,   4.]),\n",
       " array([-1.13076828, -0.56900167, -0.00723506,  0.55453155,  1.11629816,\n",
       "         1.67806477,  2.23983138,  2.80159799,  3.3633646 ,  3.92513121,\n",
       "         4.48689782]),\n",
       " <a list of 10 Patch objects>)"
      ]
     },
     "execution_count": 18,
     "metadata": {},
     "output_type": "execute_result"
    },
    {
     "data": {
      "image/png": "[encoded data removed]",
      "text/plain": [
       "<Figure size 432x288 with 1 Axes>"
      ]
     },
     "metadata": {},
     "output_type": "display_data"
    }
   ],
   "source": [
    "# Fixing Positive Skew of C7\n",
    "df['C7'] = np.log10(df['C7'])\n",
    "# Leaving as Moderatly Skewed \n",
    "plt.hist(df['C7'])"
   ]
  },
  {
   "cell_type": "code",
   "execution_count": 19,
   "metadata": {},
   "outputs": [
    {
     "data": {
      "text/plain": [
       "(array([  5.,   5.,  37., 209., 253., 104.,  50.,  15.,   2.,   2.]),\n",
       " array([1.78841941, 1.81465198, 1.84088456, 1.86711713, 1.89334971,\n",
       "        1.91958228, 1.94581486, 1.97204743, 1.99828001, 2.02451259,\n",
       "        2.05074516]),\n",
       " <a list of 10 Patch objects>)"
      ]
     },
     "execution_count": 19,
     "metadata": {},
     "output_type": "execute_result"
    },
    {
     "data": {
      "image/png": "[encoded data removed]",
      "text/plain": [
       "<Figure size 432x288 with 1 Axes>"
      ]
     },
     "metadata": {},
     "output_type": "display_data"
    }
   ],
   "source": [
    "# Fixing Positive Skew of S3\n",
    "df[\"C6'\"] = np.cbrt(np.cbrt(df[\"C6'\"]))\n",
    "plt.hist(df['C6'])"
   ]
  },
  {
   "cell_type": "code",
   "execution_count": 20,
   "metadata": {},
   "outputs": [
    {
     "data": {
      "text/plain": [
       "I3        0.230978\n",
       "Y1       -0.052921\n",
       "Y2       -0.894757\n",
       "P_IPO     0.060532\n",
       "P_H      -0.089452\n",
       "P_L      -0.075694\n",
       "P_1DAY    0.199023\n",
       "C1        0.484764\n",
       "C2       -2.123926\n",
       "C3       -0.269698\n",
       "C4       -0.491134\n",
       "C5        0.662765\n",
       "C6        0.483658\n",
       "C7       -0.640897\n",
       "T1        0.295909\n",
       "T2        0.333907\n",
       "T3        0.315780\n",
       "T4        0.368193\n",
       "T5        0.421298\n",
       "S1        0.468309\n",
       "S2        0.521067\n",
       "S3        0.350884\n",
       "C3'      -0.117764\n",
       "C5'       0.407167\n",
       "P(mid)    8.292727\n",
       "C6'       0.532571\n",
       "dtype: float64"
      ]
     },
     "execution_count": 20,
     "metadata": {},
     "output_type": "execute_result"
    }
   ],
   "source": [
    "# Checking Skew of DataFrame\n",
    "df.skew()"
   ]
  },
  {
   "cell_type": "code",
   "execution_count": 21,
   "metadata": {},
   "outputs": [],
   "source": [
    "# Exporting DataFrame as CSV \n",
    "df.to_csv('SkewDF2', ',')"
   ]
  },
  {
   "cell_type": "code",
   "execution_count": null,
   "metadata": {},
   "outputs": [],
   "source": []
  },
  {
   "cell_type": "code",
   "execution_count": null,
   "metadata": {},
   "outputs": [],
   "source": []
  }
 ],
 "metadata": {
  "kernelspec": {
   "display_name": "Python 3",
   "language": "python",
   "name": "python3"
  },
  "language_info": {
   "codemirror_mode": {
    "name": "ipython",
    "version": 3
   },
   "file_extension": ".py",
   "mimetype": "text/x-python",
   "name": "python",
   "nbconvert_exporter": "python",
   "pygments_lexer": "ipython3",
   "version": "3.6.5"
  }
 },
 "nbformat": 4,
 "nbformat_minor": 2
}
