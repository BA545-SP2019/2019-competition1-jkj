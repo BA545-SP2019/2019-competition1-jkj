{
 "cells": [
  {
   "cell_type": "code",
   "execution_count": 13,
   "metadata": {},
   "outputs": [],
   "source": [
    "# Fixing Skewness AFTER Outlier Handling "
   ]
  },
  {
   "cell_type": "code",
   "execution_count": 14,
   "metadata": {},
   "outputs": [],
   "source": [
    "import numpy as np \n",
    "import pandas as pd\n",
    "import matplotlib.pyplot as plt\n",
    "from sklearn import preprocessing\n",
    "import math\n",
    "%matplotlib inline\n",
    "plt.style.use('ggplot')"
   ]
  },
  {
   "cell_type": "code",
   "execution_count": 15,
   "metadata": {},
   "outputs": [],
   "source": [
    "# Uploading imputed data to df from CSV WorkingDataFrame\n",
    "df = pd.read_csv('MMNormDF', index_col=0)"
   ]
  },
  {
   "cell_type": "code",
   "execution_count": 16,
   "metadata": {},
   "outputs": [
    {
     "data": {
      "text/plain": [
       "C1     0.484764\n",
       "C2    -2.123926\n",
       "C4    -0.491134\n",
       "C7     1.215108\n",
       "C3'   -0.117764\n",
       "C5'    0.407167\n",
       "C6'    1.190803\n",
       "T4'   -0.028730\n",
       "T3'    0.315780\n",
       "T5'    0.449631\n",
       "S1'    0.484317\n",
       "S2'    0.521067\n",
       "S3'    0.350884\n",
       "dtype: float64"
      ]
     },
     "execution_count": 16,
     "metadata": {},
     "output_type": "execute_result"
    }
   ],
   "source": [
    "# Checking Skew of DataFrame\n",
    "df.skew()\n",
    "# Ignoring C2 and C3' because they are binary "
   ]
  },
  {
   "cell_type": "code",
   "execution_count": 17,
   "metadata": {},
   "outputs": [
    {
     "data": {
      "text/plain": [
       "Text(0.5, 1.0, 'Fixed Skew - C7')"
      ]
     },
     "execution_count": 17,
     "metadata": {},
     "output_type": "execute_result"
    },
    {
     "data": {
      "image/png": "[encoded data removed]",
      "text/plain": [
       "<Figure size 432x288 with 1 Axes>"
      ]
     },
     "metadata": {},
     "output_type": "display_data"
    }
   ],
   "source": [
    "# Fixing Positive Skew of C7\n",
    "df['C7'] = np.cbrt(df['C7'])\n",
    "plt.hist(df['C7'])\n",
    "plt.title(\"Fixed Skew - C7\", color='white')"
   ]
  },
  {
   "cell_type": "code",
   "execution_count": 18,
   "metadata": {},
   "outputs": [
    {
     "data": {
      "text/plain": [
       "Text(0.5, 1.0, \"Fixed Outliers - C6'\")"
      ]
     },
     "execution_count": 18,
     "metadata": {},
     "output_type": "execute_result"
    },
    {
     "data": {
      "image/png": "[encoded data removed]",
      "text/plain": [
       "<Figure size 432x288 with 1 Axes>"
      ]
     },
     "metadata": {},
     "output_type": "display_data"
    }
   ],
   "source": [
    "# Fixing Positive Skew of S3\n",
    "df[\"C6'\"] = np.cbrt(np.cbrt(df[\"C6'\"]))\n",
    "plt.hist(df[\"C6'\"])\n",
    "plt.title(\"Fixed Outliers - C6'\", color='white')"
   ]
  },
  {
   "cell_type": "code",
   "execution_count": 19,
   "metadata": {},
   "outputs": [
    {
     "data": {
      "text/plain": [
       "C1     0.484764\n",
       "C2    -2.123926\n",
       "C4    -0.491134\n",
       "C7    -0.188153\n",
       "C3'   -0.117764\n",
       "C5'    0.407167\n",
       "C6'    0.532571\n",
       "T4'   -0.028730\n",
       "T3'    0.315780\n",
       "T5'    0.449631\n",
       "S1'    0.484317\n",
       "S2'    0.521067\n",
       "S3'    0.350884\n",
       "dtype: float64"
      ]
     },
     "execution_count": 19,
     "metadata": {},
     "output_type": "execute_result"
    }
   ],
   "source": [
    "# Checking Skew of DataFrame\n",
    "df.skew()"
   ]
  },
  {
   "cell_type": "code",
   "execution_count": 20,
   "metadata": {},
   "outputs": [],
   "source": [
    "# Exporting DataFrame as CSV \n",
    "df.to_csv('CompDF2', ',')"
   ]
  },
  {
   "cell_type": "code",
   "execution_count": 21,
   "metadata": {},
   "outputs": [],
   "source": [
    "target = pd.read_csv('Targets2', index_col=0)"
   ]
  },
  {
   "cell_type": "code",
   "execution_count": 22,
   "metadata": {},
   "outputs": [
    {
     "data": {
      "text/html": [
       "<div>\n",
       "<style scoped>\n",
       "    .dataframe tbody tr th:only-of-type {\n",
       "        vertical-align: middle;\n",
       "    }\n",
       "\n",
       "    .dataframe tbody tr th {\n",
       "        vertical-align: top;\n",
       "    }\n",
       "\n",
       "    .dataframe thead th {\n",
       "        text-align: right;\n",
       "    }\n",
       "</style>\n",
       "<table border=\"1\" class=\"dataframe\">\n",
       "  <thead>\n",
       "    <tr style=\"text-align: right;\">\n",
       "      <th></th>\n",
       "      <th>Y1</th>\n",
       "      <th>Y2</th>\n",
       "    </tr>\n",
       "  </thead>\n",
       "  <tbody>\n",
       "    <tr>\n",
       "      <th>0</th>\n",
       "      <td>0</td>\n",
       "      <td>1</td>\n",
       "    </tr>\n",
       "    <tr>\n",
       "      <th>1</th>\n",
       "      <td>1</td>\n",
       "      <td>0</td>\n",
       "    </tr>\n",
       "    <tr>\n",
       "      <th>2</th>\n",
       "      <td>1</td>\n",
       "      <td>0</td>\n",
       "    </tr>\n",
       "    <tr>\n",
       "      <th>3</th>\n",
       "      <td>1</td>\n",
       "      <td>1</td>\n",
       "    </tr>\n",
       "    <tr>\n",
       "      <th>4</th>\n",
       "      <td>0</td>\n",
       "      <td>1</td>\n",
       "    </tr>\n",
       "  </tbody>\n",
       "</table>\n",
       "</div>"
      ],
      "text/plain": [
       "   Y1  Y2\n",
       "0   0   1\n",
       "1   1   0\n",
       "2   1   0\n",
       "3   1   1\n",
       "4   0   1"
      ]
     },
     "execution_count": 22,
     "metadata": {},
     "output_type": "execute_result"
    }
   ],
   "source": [
    "target = target.drop(['I1', 'I2', 'I3', 'P_IPO', 'P_H', 'P_L', \"P_1DAY\"], axis=1)\n",
    "target.head()"
   ]
  },
  {
   "cell_type": "code",
   "execution_count": 23,
   "metadata": {},
   "outputs": [
    {
     "data": {
      "text/html": [
       "<div>\n",
       "<style scoped>\n",
       "    .dataframe tbody tr th:only-of-type {\n",
       "        vertical-align: middle;\n",
       "    }\n",
       "\n",
       "    .dataframe tbody tr th {\n",
       "        vertical-align: top;\n",
       "    }\n",
       "\n",
       "    .dataframe thead th {\n",
       "        text-align: right;\n",
       "    }\n",
       "</style>\n",
       "<table border=\"1\" class=\"dataframe\">\n",
       "  <thead>\n",
       "    <tr style=\"text-align: right;\">\n",
       "      <th></th>\n",
       "      <th>Y1</th>\n",
       "      <th>Y2</th>\n",
       "      <th>C1</th>\n",
       "      <th>C2</th>\n",
       "      <th>C4</th>\n",
       "      <th>C7</th>\n",
       "      <th>C3'</th>\n",
       "      <th>C5'</th>\n",
       "      <th>C6'</th>\n",
       "      <th>T4'</th>\n",
       "      <th>T3'</th>\n",
       "      <th>T5'</th>\n",
       "      <th>S1'</th>\n",
       "      <th>S2'</th>\n",
       "      <th>S3'</th>\n",
       "    </tr>\n",
       "  </thead>\n",
       "  <tbody>\n",
       "    <tr>\n",
       "      <th>0</th>\n",
       "      <td>0</td>\n",
       "      <td>1</td>\n",
       "      <td>0.462810</td>\n",
       "      <td>1.0</td>\n",
       "      <td>0.749962</td>\n",
       "      <td>0.427561</td>\n",
       "      <td>1.0</td>\n",
       "      <td>0.476417</td>\n",
       "      <td>0.949896</td>\n",
       "      <td>0.534453</td>\n",
       "      <td>0.523574</td>\n",
       "      <td>0.466548</td>\n",
       "      <td>0.425373</td>\n",
       "      <td>0.436937</td>\n",
       "      <td>0.457490</td>\n",
       "    </tr>\n",
       "    <tr>\n",
       "      <th>1</th>\n",
       "      <td>1</td>\n",
       "      <td>0</td>\n",
       "      <td>0.589876</td>\n",
       "      <td>0.0</td>\n",
       "      <td>0.583748</td>\n",
       "      <td>0.340352</td>\n",
       "      <td>0.0</td>\n",
       "      <td>0.609551</td>\n",
       "      <td>0.000000</td>\n",
       "      <td>0.545989</td>\n",
       "      <td>0.887042</td>\n",
       "      <td>0.850134</td>\n",
       "      <td>0.492537</td>\n",
       "      <td>1.000000</td>\n",
       "      <td>0.854251</td>\n",
       "    </tr>\n",
       "    <tr>\n",
       "      <th>2</th>\n",
       "      <td>1</td>\n",
       "      <td>0</td>\n",
       "      <td>0.330579</td>\n",
       "      <td>1.0</td>\n",
       "      <td>0.717213</td>\n",
       "      <td>0.223303</td>\n",
       "      <td>0.0</td>\n",
       "      <td>0.410536</td>\n",
       "      <td>0.000000</td>\n",
       "      <td>0.524832</td>\n",
       "      <td>0.216722</td>\n",
       "      <td>0.140946</td>\n",
       "      <td>0.417910</td>\n",
       "      <td>0.058559</td>\n",
       "      <td>0.137652</td>\n",
       "    </tr>\n",
       "    <tr>\n",
       "      <th>3</th>\n",
       "      <td>1</td>\n",
       "      <td>1</td>\n",
       "      <td>0.822314</td>\n",
       "      <td>1.0</td>\n",
       "      <td>0.714502</td>\n",
       "      <td>0.234437</td>\n",
       "      <td>0.0</td>\n",
       "      <td>0.401299</td>\n",
       "      <td>0.000000</td>\n",
       "      <td>0.265799</td>\n",
       "      <td>0.343041</td>\n",
       "      <td>0.305085</td>\n",
       "      <td>0.559701</td>\n",
       "      <td>0.175676</td>\n",
       "      <td>0.340081</td>\n",
       "    </tr>\n",
       "    <tr>\n",
       "      <th>4</th>\n",
       "      <td>0</td>\n",
       "      <td>1</td>\n",
       "      <td>0.289256</td>\n",
       "      <td>1.0</td>\n",
       "      <td>0.499347</td>\n",
       "      <td>0.987789</td>\n",
       "      <td>1.0</td>\n",
       "      <td>0.458048</td>\n",
       "      <td>0.869249</td>\n",
       "      <td>0.393150</td>\n",
       "      <td>0.596766</td>\n",
       "      <td>0.493310</td>\n",
       "      <td>0.462687</td>\n",
       "      <td>0.581081</td>\n",
       "      <td>0.570850</td>\n",
       "    </tr>\n",
       "  </tbody>\n",
       "</table>\n",
       "</div>"
      ],
      "text/plain": [
       "   Y1  Y2        C1   C2        C4        C7  C3'       C5'       C6'  \\\n",
       "0   0   1  0.462810  1.0  0.749962  0.427561  1.0  0.476417  0.949896   \n",
       "1   1   0  0.589876  0.0  0.583748  0.340352  0.0  0.609551  0.000000   \n",
       "2   1   0  0.330579  1.0  0.717213  0.223303  0.0  0.410536  0.000000   \n",
       "3   1   1  0.822314  1.0  0.714502  0.234437  0.0  0.401299  0.000000   \n",
       "4   0   1  0.289256  1.0  0.499347  0.987789  1.0  0.458048  0.869249   \n",
       "\n",
       "        T4'       T3'       T5'       S1'       S2'       S3'  \n",
       "0  0.534453  0.523574  0.466548  0.425373  0.436937  0.457490  \n",
       "1  0.545989  0.887042  0.850134  0.492537  1.000000  0.854251  \n",
       "2  0.524832  0.216722  0.140946  0.417910  0.058559  0.137652  \n",
       "3  0.265799  0.343041  0.305085  0.559701  0.175676  0.340081  \n",
       "4  0.393150  0.596766  0.493310  0.462687  0.581081  0.570850  "
      ]
     },
     "execution_count": 23,
     "metadata": {},
     "output_type": "execute_result"
    }
   ],
   "source": [
    "ReadyDF2 = pd.concat([target,df], axis=1)\n",
    "ReadyDF2.head()"
   ]
  },
  {
   "cell_type": "code",
   "execution_count": 24,
   "metadata": {},
   "outputs": [],
   "source": [
    "# Exporting DataFrame as CSV \n",
    "ReadyDF2.to_csv('ReadyDF2', ',')"
   ]
  },
  {
   "cell_type": "code",
   "execution_count": null,
   "metadata": {},
   "outputs": [],
   "source": []
  }
 ],
 "metadata": {
  "kernelspec": {
   "display_name": "Python 3",
   "language": "python",
   "name": "python3"
  },
  "language_info": {
   "codemirror_mode": {
    "name": "ipython",
    "version": 3
   },
   "file_extension": ".py",
   "mimetype": "text/x-python",
   "name": "python",
   "nbconvert_exporter": "python",
   "pygments_lexer": "ipython3",
   "version": "3.6.5"
  }
 },
 "nbformat": 4,
 "nbformat_minor": 2
}
