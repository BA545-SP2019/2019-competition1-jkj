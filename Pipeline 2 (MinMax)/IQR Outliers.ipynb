{
 "cells": [
  {
   "cell_type": "code",
   "execution_count": 1,
   "metadata": {},
   "outputs": [],
   "source": [
    "# Fixing Outliers using IQR method "
   ]
  },
  {
   "cell_type": "code",
   "execution_count": 2,
   "metadata": {},
   "outputs": [],
   "source": [
    "import numpy as np \n",
    "import pandas as pd\n",
    "import matplotlib.pyplot as plt\n",
    "from sklearn import preprocessing\n",
    "from scipy.stats import iqr\n",
    "%matplotlib inline\n",
    "plt.style.use('ggplot')"
   ]
  },
  {
   "cell_type": "code",
   "execution_count": 3,
   "metadata": {},
   "outputs": [],
   "source": [
    "# Uploading imputed data to df from CSV WorkingDataFrame\n",
    "df = pd.read_csv('WorkingDataFrame2', index_col=0)"
   ]
  },
  {
   "cell_type": "code",
   "execution_count": 4,
   "metadata": {},
   "outputs": [
    {
     "data": {
      "text/html": [
       "<div>\n",
       "<style scoped>\n",
       "    .dataframe tbody tr th:only-of-type {\n",
       "        vertical-align: middle;\n",
       "    }\n",
       "\n",
       "    .dataframe tbody tr th {\n",
       "        vertical-align: top;\n",
       "    }\n",
       "\n",
       "    .dataframe thead th {\n",
       "        text-align: right;\n",
       "    }\n",
       "</style>\n",
       "<table border=\"1\" class=\"dataframe\">\n",
       "  <thead>\n",
       "    <tr style=\"text-align: right;\">\n",
       "      <th></th>\n",
       "      <th>C1</th>\n",
       "      <th>C2</th>\n",
       "      <th>C4</th>\n",
       "      <th>C7</th>\n",
       "      <th>C3'</th>\n",
       "      <th>C5'</th>\n",
       "      <th>C6'</th>\n",
       "      <th>T4'</th>\n",
       "      <th>T3'</th>\n",
       "      <th>T5'</th>\n",
       "      <th>S1'</th>\n",
       "      <th>S2'</th>\n",
       "      <th>S3'</th>\n",
       "    </tr>\n",
       "  </thead>\n",
       "  <tbody>\n",
       "    <tr>\n",
       "      <th>0</th>\n",
       "      <td>122.0</td>\n",
       "      <td>1.0</td>\n",
       "      <td>0.029074</td>\n",
       "      <td>51.345</td>\n",
       "      <td>1</td>\n",
       "      <td>3.864345</td>\n",
       "      <td>11.111111</td>\n",
       "      <td>0.640426</td>\n",
       "      <td>0.959734</td>\n",
       "      <td>0.057285</td>\n",
       "      <td>0.005147</td>\n",
       "      <td>0.009714</td>\n",
       "      <td>0.011540</td>\n",
       "    </tr>\n",
       "    <tr>\n",
       "      <th>1</th>\n",
       "      <td>259.0</td>\n",
       "      <td>0.0</td>\n",
       "      <td>-0.013352</td>\n",
       "      <td>25.936</td>\n",
       "      <td>0</td>\n",
       "      <td>12.028832</td>\n",
       "      <td>0.000000</td>\n",
       "      <td>0.644753</td>\n",
       "      <td>1.625986</td>\n",
       "      <td>0.092985</td>\n",
       "      <td>0.005895</td>\n",
       "      <td>0.020091</td>\n",
       "      <td>0.019676</td>\n",
       "    </tr>\n",
       "    <tr>\n",
       "      <th>2</th>\n",
       "      <td>90.0</td>\n",
       "      <td>1.0</td>\n",
       "      <td>0.020715</td>\n",
       "      <td>7.378</td>\n",
       "      <td>0</td>\n",
       "      <td>3.369134</td>\n",
       "      <td>0.000000</td>\n",
       "      <td>0.636816</td>\n",
       "      <td>0.397260</td>\n",
       "      <td>0.026982</td>\n",
       "      <td>0.005064</td>\n",
       "      <td>0.002740</td>\n",
       "      <td>0.004981</td>\n",
       "    </tr>\n",
       "    <tr>\n",
       "      <th>3</th>\n",
       "      <td>209.0</td>\n",
       "      <td>1.0</td>\n",
       "      <td>0.020023</td>\n",
       "      <td>8.526</td>\n",
       "      <td>0</td>\n",
       "      <td>3.299697</td>\n",
       "      <td>0.000000</td>\n",
       "      <td>0.539634</td>\n",
       "      <td>0.628809</td>\n",
       "      <td>0.042258</td>\n",
       "      <td>0.006642</td>\n",
       "      <td>0.004898</td>\n",
       "      <td>0.009132</td>\n",
       "    </tr>\n",
       "    <tr>\n",
       "      <th>4</th>\n",
       "      <td>80.0</td>\n",
       "      <td>1.0</td>\n",
       "      <td>-0.034895</td>\n",
       "      <td>632.298</td>\n",
       "      <td>1</td>\n",
       "      <td>3.726269</td>\n",
       "      <td>5.000000</td>\n",
       "      <td>0.587413</td>\n",
       "      <td>1.093898</td>\n",
       "      <td>0.059776</td>\n",
       "      <td>0.005562</td>\n",
       "      <td>0.012370</td>\n",
       "      <td>0.013865</td>\n",
       "    </tr>\n",
       "    <tr>\n",
       "      <th>5</th>\n",
       "      <td>94.0</td>\n",
       "      <td>1.0</td>\n",
       "      <td>-0.057556</td>\n",
       "      <td>197.591</td>\n",
       "      <td>1</td>\n",
       "      <td>5.724394</td>\n",
       "      <td>0.000000</td>\n",
       "      <td>0.643137</td>\n",
       "      <td>1.156829</td>\n",
       "      <td>0.067663</td>\n",
       "      <td>0.005147</td>\n",
       "      <td>0.007970</td>\n",
       "      <td>0.015027</td>\n",
       "    </tr>\n",
       "    <tr>\n",
       "      <th>6</th>\n",
       "      <td>128.0</td>\n",
       "      <td>1.0</td>\n",
       "      <td>0.004106</td>\n",
       "      <td>5.146</td>\n",
       "      <td>0</td>\n",
       "      <td>3.463095</td>\n",
       "      <td>0.000000</td>\n",
       "      <td>0.765657</td>\n",
       "      <td>1.158406</td>\n",
       "      <td>0.057949</td>\n",
       "      <td>0.006808</td>\n",
       "      <td>0.008800</td>\n",
       "      <td>0.011208</td>\n",
       "    </tr>\n",
       "    <tr>\n",
       "      <th>7</th>\n",
       "      <td>91.0</td>\n",
       "      <td>0.0</td>\n",
       "      <td>0.040620</td>\n",
       "      <td>103.833</td>\n",
       "      <td>0</td>\n",
       "      <td>2.421469</td>\n",
       "      <td>0.000000</td>\n",
       "      <td>0.826347</td>\n",
       "      <td>0.834869</td>\n",
       "      <td>0.051806</td>\n",
       "      <td>0.004566</td>\n",
       "      <td>0.009963</td>\n",
       "      <td>0.010129</td>\n",
       "    </tr>\n",
       "    <tr>\n",
       "      <th>8</th>\n",
       "      <td>100.0</td>\n",
       "      <td>1.0</td>\n",
       "      <td>-0.029316</td>\n",
       "      <td>279.600</td>\n",
       "      <td>0</td>\n",
       "      <td>4.816591</td>\n",
       "      <td>0.000000</td>\n",
       "      <td>0.540323</td>\n",
       "      <td>1.117725</td>\n",
       "      <td>0.076131</td>\n",
       "      <td>0.004815</td>\n",
       "      <td>0.010295</td>\n",
       "      <td>0.019427</td>\n",
       "    </tr>\n",
       "    <tr>\n",
       "      <th>9</th>\n",
       "      <td>106.0</td>\n",
       "      <td>1.0</td>\n",
       "      <td>-0.024925</td>\n",
       "      <td>494.008</td>\n",
       "      <td>1</td>\n",
       "      <td>3.056608</td>\n",
       "      <td>0.000000</td>\n",
       "      <td>0.514286</td>\n",
       "      <td>0.673059</td>\n",
       "      <td>0.038107</td>\n",
       "      <td>0.006725</td>\n",
       "      <td>0.007472</td>\n",
       "      <td>0.012204</td>\n",
       "    </tr>\n",
       "    <tr>\n",
       "      <th>10</th>\n",
       "      <td>107.0</td>\n",
       "      <td>1.0</td>\n",
       "      <td>0.009125</td>\n",
       "      <td>103.833</td>\n",
       "      <td>1</td>\n",
       "      <td>3.703376</td>\n",
       "      <td>0.000000</td>\n",
       "      <td>0.509036</td>\n",
       "      <td>0.560149</td>\n",
       "      <td>0.021835</td>\n",
       "      <td>0.004234</td>\n",
       "      <td>0.005396</td>\n",
       "      <td>0.006144</td>\n",
       "    </tr>\n",
       "    <tr>\n",
       "      <th>11</th>\n",
       "      <td>99.0</td>\n",
       "      <td>1.0</td>\n",
       "      <td>0.015487</td>\n",
       "      <td>0.320</td>\n",
       "      <td>0</td>\n",
       "      <td>2.546686</td>\n",
       "      <td>0.000000</td>\n",
       "      <td>0.545455</td>\n",
       "      <td>0.431714</td>\n",
       "      <td>0.031963</td>\n",
       "      <td>0.002408</td>\n",
       "      <td>0.003404</td>\n",
       "      <td>0.005812</td>\n",
       "    </tr>\n",
       "    <tr>\n",
       "      <th>12</th>\n",
       "      <td>126.0</td>\n",
       "      <td>1.0</td>\n",
       "      <td>0.019731</td>\n",
       "      <td>26.499</td>\n",
       "      <td>1</td>\n",
       "      <td>4.237291</td>\n",
       "      <td>6.666667</td>\n",
       "      <td>0.684466</td>\n",
       "      <td>0.412038</td>\n",
       "      <td>0.021503</td>\n",
       "      <td>0.001743</td>\n",
       "      <td>0.003570</td>\n",
       "      <td>0.006642</td>\n",
       "    </tr>\n",
       "    <tr>\n",
       "      <th>13</th>\n",
       "      <td>140.0</td>\n",
       "      <td>1.0</td>\n",
       "      <td>-0.006316</td>\n",
       "      <td>0.074</td>\n",
       "      <td>0</td>\n",
       "      <td>3.867637</td>\n",
       "      <td>8.695652</td>\n",
       "      <td>0.555288</td>\n",
       "      <td>0.816521</td>\n",
       "      <td>0.060274</td>\n",
       "      <td>0.006725</td>\n",
       "      <td>0.009797</td>\n",
       "      <td>0.011457</td>\n",
       "    </tr>\n",
       "    <tr>\n",
       "      <th>14</th>\n",
       "      <td>488.0</td>\n",
       "      <td>1.0</td>\n",
       "      <td>0.023275</td>\n",
       "      <td>166.896</td>\n",
       "      <td>1</td>\n",
       "      <td>3.638220</td>\n",
       "      <td>0.000000</td>\n",
       "      <td>0.608974</td>\n",
       "      <td>1.367455</td>\n",
       "      <td>0.075467</td>\n",
       "      <td>0.008136</td>\n",
       "      <td>0.021254</td>\n",
       "      <td>0.014280</td>\n",
       "    </tr>\n",
       "  </tbody>\n",
       "</table>\n",
       "</div>"
      ],
      "text/plain": [
       "       C1   C2        C4       C7  C3'        C5'        C6'       T4'  \\\n",
       "0   122.0  1.0  0.029074   51.345    1   3.864345  11.111111  0.640426   \n",
       "1   259.0  0.0 -0.013352   25.936    0  12.028832   0.000000  0.644753   \n",
       "2    90.0  1.0  0.020715    7.378    0   3.369134   0.000000  0.636816   \n",
       "3   209.0  1.0  0.020023    8.526    0   3.299697   0.000000  0.539634   \n",
       "4    80.0  1.0 -0.034895  632.298    1   3.726269   5.000000  0.587413   \n",
       "5    94.0  1.0 -0.057556  197.591    1   5.724394   0.000000  0.643137   \n",
       "6   128.0  1.0  0.004106    5.146    0   3.463095   0.000000  0.765657   \n",
       "7    91.0  0.0  0.040620  103.833    0   2.421469   0.000000  0.826347   \n",
       "8   100.0  1.0 -0.029316  279.600    0   4.816591   0.000000  0.540323   \n",
       "9   106.0  1.0 -0.024925  494.008    1   3.056608   0.000000  0.514286   \n",
       "10  107.0  1.0  0.009125  103.833    1   3.703376   0.000000  0.509036   \n",
       "11   99.0  1.0  0.015487    0.320    0   2.546686   0.000000  0.545455   \n",
       "12  126.0  1.0  0.019731   26.499    1   4.237291   6.666667  0.684466   \n",
       "13  140.0  1.0 -0.006316    0.074    0   3.867637   8.695652  0.555288   \n",
       "14  488.0  1.0  0.023275  166.896    1   3.638220   0.000000  0.608974   \n",
       "\n",
       "         T3'       T5'       S1'       S2'       S3'  \n",
       "0   0.959734  0.057285  0.005147  0.009714  0.011540  \n",
       "1   1.625986  0.092985  0.005895  0.020091  0.019676  \n",
       "2   0.397260  0.026982  0.005064  0.002740  0.004981  \n",
       "3   0.628809  0.042258  0.006642  0.004898  0.009132  \n",
       "4   1.093898  0.059776  0.005562  0.012370  0.013865  \n",
       "5   1.156829  0.067663  0.005147  0.007970  0.015027  \n",
       "6   1.158406  0.057949  0.006808  0.008800  0.011208  \n",
       "7   0.834869  0.051806  0.004566  0.009963  0.010129  \n",
       "8   1.117725  0.076131  0.004815  0.010295  0.019427  \n",
       "9   0.673059  0.038107  0.006725  0.007472  0.012204  \n",
       "10  0.560149  0.021835  0.004234  0.005396  0.006144  \n",
       "11  0.431714  0.031963  0.002408  0.003404  0.005812  \n",
       "12  0.412038  0.021503  0.001743  0.003570  0.006642  \n",
       "13  0.816521  0.060274  0.006725  0.009797  0.011457  \n",
       "14  1.367455  0.075467  0.008136  0.021254  0.014280  "
      ]
     },
     "execution_count": 4,
     "metadata": {},
     "output_type": "execute_result"
    }
   ],
   "source": [
    "target = df.iloc[:,:7]\n",
    "target2 = df.iloc[:,19:21]\n",
    "targets = pd.concat([target, target2], axis=1, join_axes=[df.index])\n",
    "df = df.drop(['I1','I2','I3','P_IPO','P_H','P_L','P_1DAY','Y1','Y2'], axis=1)\n",
    "df.head(15)"
   ]
  },
  {
   "cell_type": "code",
   "execution_count": 5,
   "metadata": {},
   "outputs": [
    {
     "data": {
      "text/plain": [
       "C1     148.350440\n",
       "C2       0.863636\n",
       "C4       0.007342\n",
       "C7     458.587321\n",
       "C3'      0.529326\n",
       "C5'      4.625317\n",
       "C6'      5.282669\n",
       "T4'      0.628061\n",
       "T3'      0.946031\n",
       "T5'      0.056460\n",
       "S1'      0.005687\n",
       "S2'      0.009969\n",
       "S3'      0.012017\n",
       "dtype: float64"
      ]
     },
     "execution_count": 5,
     "metadata": {},
     "output_type": "execute_result"
    }
   ],
   "source": [
    "# Checking mean of columns BEFORE fixing outliers \n",
    "df.mean()"
   ]
  },
  {
   "cell_type": "code",
   "execution_count": 6,
   "metadata": {},
   "outputs": [],
   "source": [
    "# Defining functin to replace outliers using IQR of each column\n",
    "def outlier_replace(x): \n",
    "    if x > (Q3 + (1.5*IQR)): \n",
    "        x = Q3\n",
    "    elif x < (Q1 - (1.5*IQR)): \n",
    "        x = Q1\n",
    "    else: \n",
    "        pass\n",
    "    return(x)"
   ]
  },
  {
   "cell_type": "code",
   "execution_count": 7,
   "metadata": {},
   "outputs": [
    {
     "data": {
      "text/plain": [
       "{'whiskers': [<matplotlib.lines.Line2D at 0x7f1d212ffa58>,\n",
       "  <matplotlib.lines.Line2D at 0x7f1d212ffda0>],\n",
       " 'caps': [<matplotlib.lines.Line2D at 0x7f1d21293128>,\n",
       "  <matplotlib.lines.Line2D at 0x7f1d21293470>],\n",
       " 'boxes': [<matplotlib.lines.Line2D at 0x7f1d212ff908>],\n",
       " 'medians': [<matplotlib.lines.Line2D at 0x7f1d212937b8>],\n",
       " 'fliers': [<matplotlib.lines.Line2D at 0x7f1d21293b00>],\n",
       " 'means': []}"
      ]
     },
     "execution_count": 7,
     "metadata": {},
     "output_type": "execute_result"
    },
    {
     "data": {
      "image/png": "[encoded data removed]",
      "text/plain": [
       "<Figure size 432x288 with 1 Axes>"
      ]
     },
     "metadata": {},
     "output_type": "display_data"
    }
   ],
   "source": [
    "Q1 = df['C1'].quantile(0.25)\n",
    "Q3 = df['C1'].quantile(0.75)\n",
    "IQR = iqr(df['C1'])\n",
    "df['C1'] = df['C1'].apply(lambda x: outlier_replace(x)) \n",
    "\n",
    "# Checking Outliers Replacement with Boxplot \n",
    "plt.boxplot(df['C1'])"
   ]
  },
  {
   "cell_type": "code",
   "execution_count": 17,
   "metadata": {},
   "outputs": [
    {
     "data": {
      "text/plain": [
       "{'whiskers': [<matplotlib.lines.Line2D at 0x7f1d20f1d128>,\n",
       "  <matplotlib.lines.Line2D at 0x7f1d20f1d470>],\n",
       " 'caps': [<matplotlib.lines.Line2D at 0x7f1d20f1d7b8>,\n",
       "  <matplotlib.lines.Line2D at 0x7f1d20f1db00>],\n",
       " 'boxes': [<matplotlib.lines.Line2D at 0x7f1d20f15f98>],\n",
       " 'medians': [<matplotlib.lines.Line2D at 0x7f1d20f1de48>],\n",
       " 'fliers': [<matplotlib.lines.Line2D at 0x7f1d20f261d0>],\n",
       " 'means': []}"
      ]
     },
     "execution_count": 17,
     "metadata": {},
     "output_type": "execute_result"
    },
    {
     "data": {
      "image/png": "[encoded data removed]",
      "text/plain": [
       "<Figure size 432x288 with 1 Axes>"
      ]
     },
     "metadata": {},
     "output_type": "display_data"
    }
   ],
   "source": [
    "Q1 = df['C7'].quantile(0.25)\n",
    "Q3 = df['C7'].quantile(0.75)\n",
    "IQR = iqr(df['C7'])\n",
    "df['C7'] = df['C7'].apply(lambda x: outlier_replace(x)) \n",
    "\n",
    "# Checking Outliers Replacement with Boxplot \n",
    "plt.boxplot(df['C7'])"
   ]
  },
  {
   "cell_type": "code",
   "execution_count": 18,
   "metadata": {},
   "outputs": [
    {
     "data": {
      "text/plain": [
       "{'whiskers': [<matplotlib.lines.Line2D at 0x7f1d20ef5780>,\n",
       "  <matplotlib.lines.Line2D at 0x7f1d20ef5ac8>],\n",
       " 'caps': [<matplotlib.lines.Line2D at 0x7f1d20ef5e10>,\n",
       "  <matplotlib.lines.Line2D at 0x7f1d20f00198>],\n",
       " 'boxes': [<matplotlib.lines.Line2D at 0x7f1d20ef5630>],\n",
       " 'medians': [<matplotlib.lines.Line2D at 0x7f1d20f004e0>],\n",
       " 'fliers': [<matplotlib.lines.Line2D at 0x7f1d20f00828>],\n",
       " 'means': []}"
      ]
     },
     "execution_count": 18,
     "metadata": {},
     "output_type": "execute_result"
    },
    {
     "data": {
      "image/png": "[encoded data removed]",
      "text/plain": [
       "<Figure size 432x288 with 1 Axes>"
      ]
     },
     "metadata": {},
     "output_type": "display_data"
    }
   ],
   "source": [
    "Q1 = df[\"T3'\"].quantile(0.25)\n",
    "Q3 = df[\"T3'\"].quantile(0.75)\n",
    "IQR = iqr(df[\"T3'\"])\n",
    "df[\"T3'\"] = df[\"T3'\"].apply(lambda x: outlier_replace(x))\n",
    "\n",
    "# Checking Outliers Replacement with Boxplot \n",
    "plt.boxplot(df[\"T3'\"])"
   ]
  },
  {
   "cell_type": "code",
   "execution_count": 19,
   "metadata": {},
   "outputs": [
    {
     "data": {
      "text/plain": [
       "{'whiskers': [<matplotlib.lines.Line2D at 0x7f1d20e5c390>,\n",
       "  <matplotlib.lines.Line2D at 0x7f1d20e5c6d8>],\n",
       " 'caps': [<matplotlib.lines.Line2D at 0x7f1d20e5ca20>,\n",
       "  <matplotlib.lines.Line2D at 0x7f1d20e5cd68>],\n",
       " 'boxes': [<matplotlib.lines.Line2D at 0x7f1d20e5c240>],\n",
       " 'medians': [<matplotlib.lines.Line2D at 0x7f1d20e660f0>],\n",
       " 'fliers': [<matplotlib.lines.Line2D at 0x7f1d20e66438>],\n",
       " 'means': []}"
      ]
     },
     "execution_count": 19,
     "metadata": {},
     "output_type": "execute_result"
    },
    {
     "data": {
      "image/png": "[encoded data removed]",
      "text/plain": [
       "<Figure size 432x288 with 1 Axes>"
      ]
     },
     "metadata": {},
     "output_type": "display_data"
    }
   ],
   "source": [
    "Q1 = df[\"T4'\"].quantile(0.25)\n",
    "Q3 = df[\"T4'\"].quantile(0.75)\n",
    "IQR = iqr(df[\"T4'\"])\n",
    "df[\"T4'\"] = df[\"T4'\"].apply(lambda x: outlier_replace(x))\n",
    "\n",
    "# Checking Outliers Replacement with Boxplot \n",
    "plt.boxplot(df[\"T4'\"])"
   ]
  },
  {
   "cell_type": "code",
   "execution_count": 20,
   "metadata": {},
   "outputs": [
    {
     "data": {
      "text/plain": [
       "{'whiskers': [<matplotlib.lines.Line2D at 0x7f1d20e26eb8>,\n",
       "  <matplotlib.lines.Line2D at 0x7f1d20e3c240>],\n",
       " 'caps': [<matplotlib.lines.Line2D at 0x7f1d20e3c588>,\n",
       "  <matplotlib.lines.Line2D at 0x7f1d20e3c8d0>],\n",
       " 'boxes': [<matplotlib.lines.Line2D at 0x7f1d20e26d68>],\n",
       " 'medians': [<matplotlib.lines.Line2D at 0x7f1d20e3cc18>],\n",
       " 'fliers': [<matplotlib.lines.Line2D at 0x7f1d20e3cf60>],\n",
       " 'means': []}"
      ]
     },
     "execution_count": 20,
     "metadata": {},
     "output_type": "execute_result"
    },
    {
     "data": {
      "image/png": "[encoded data removed]",
      "text/plain": [
       "<Figure size 432x288 with 1 Axes>"
      ]
     },
     "metadata": {},
     "output_type": "display_data"
    }
   ],
   "source": [
    "Q1 = df[\"T5'\"].quantile(0.25)\n",
    "Q3 = df[\"T5'\"].quantile(0.75)\n",
    "IQR = iqr(df[\"T5'\"])\n",
    "df[\"T5'\"] = df[\"T5'\"].apply(lambda x: outlier_replace(x))\n",
    "\n",
    "# Checking Outliers Replacement with Boxplot \n",
    "plt.boxplot(df[\"T5'\"])"
   ]
  },
  {
   "cell_type": "code",
   "execution_count": 21,
   "metadata": {},
   "outputs": [
    {
     "data": {
      "text/plain": [
       "{'whiskers': [<matplotlib.lines.Line2D at 0x7f1d20d8bd30>,\n",
       "  <matplotlib.lines.Line2D at 0x7f1d20d980b8>],\n",
       " 'caps': [<matplotlib.lines.Line2D at 0x7f1d20d98400>,\n",
       "  <matplotlib.lines.Line2D at 0x7f1d20d98748>],\n",
       " 'boxes': [<matplotlib.lines.Line2D at 0x7f1d20d8bbe0>],\n",
       " 'medians': [<matplotlib.lines.Line2D at 0x7f1d20d98a90>],\n",
       " 'fliers': [<matplotlib.lines.Line2D at 0x7f1d20d98dd8>],\n",
       " 'means': []}"
      ]
     },
     "execution_count": 21,
     "metadata": {},
     "output_type": "execute_result"
    },
    {
     "data": {
      "image/png": "[encoded data removed]",
      "text/plain": [
       "<Figure size 432x288 with 1 Axes>"
      ]
     },
     "metadata": {},
     "output_type": "display_data"
    }
   ],
   "source": [
    "Q1 = df[\"S1'\"].quantile(0.25)\n",
    "Q3 = df[\"S1'\"].quantile(0.75)\n",
    "IQR = iqr(df[\"S1'\"])\n",
    "df[\"S1'\"] = df[\"S1'\"].apply(lambda x: outlier_replace(x)) \n",
    "\n",
    "# Checking Outliers Replacement with Boxplot \n",
    "plt.boxplot(df[\"S1'\"])"
   ]
  },
  {
   "cell_type": "code",
   "execution_count": 22,
   "metadata": {},
   "outputs": [
    {
     "data": {
      "text/plain": [
       "{'whiskers': [<matplotlib.lines.Line2D at 0x7f1d20d70400>,\n",
       "  <matplotlib.lines.Line2D at 0x7f1d20d70748>],\n",
       " 'caps': [<matplotlib.lines.Line2D at 0x7f1d20d70a90>,\n",
       "  <matplotlib.lines.Line2D at 0x7f1d20d70dd8>],\n",
       " 'boxes': [<matplotlib.lines.Line2D at 0x7f1d20d702b0>],\n",
       " 'medians': [<matplotlib.lines.Line2D at 0x7f1d20d79160>],\n",
       " 'fliers': [<matplotlib.lines.Line2D at 0x7f1d20d794a8>],\n",
       " 'means': []}"
      ]
     },
     "execution_count": 22,
     "metadata": {},
     "output_type": "execute_result"
    },
    {
     "data": {
      "image/png": "[encoded data removed]",
      "text/plain": [
       "<Figure size 432x288 with 1 Axes>"
      ]
     },
     "metadata": {},
     "output_type": "display_data"
    }
   ],
   "source": [
    "Q1 = df[\"S2'\"].quantile(0.25)\n",
    "Q3 = df[\"S2'\"].quantile(0.75)\n",
    "IQR = iqr(df[\"S2'\"])\n",
    "df[\"S2'\"] = df[\"S2'\"].apply(lambda x: outlier_replace(x))\n",
    "\n",
    "# Checking Outliers Replacement with Boxplot \n",
    "plt.boxplot(df[\"S2'\"])"
   ]
  },
  {
   "cell_type": "code",
   "execution_count": 23,
   "metadata": {},
   "outputs": [
    {
     "data": {
      "text/plain": [
       "{'whiskers': [<matplotlib.lines.Line2D at 0x7f1d20cd4048>,\n",
       "  <matplotlib.lines.Line2D at 0x7f1d20cd4390>],\n",
       " 'caps': [<matplotlib.lines.Line2D at 0x7f1d20cd46d8>,\n",
       "  <matplotlib.lines.Line2D at 0x7f1d20cd4a20>],\n",
       " 'boxes': [<matplotlib.lines.Line2D at 0x7f1d20cc9eb8>],\n",
       " 'medians': [<matplotlib.lines.Line2D at 0x7f1d20cd4d68>],\n",
       " 'fliers': [<matplotlib.lines.Line2D at 0x7f1d20ce00f0>],\n",
       " 'means': []}"
      ]
     },
     "execution_count": 23,
     "metadata": {},
     "output_type": "execute_result"
    },
    {
     "data": {
      "image/png": "[encoded data removed]",
      "text/plain": [
       "<Figure size 432x288 with 1 Axes>"
      ]
     },
     "metadata": {},
     "output_type": "display_data"
    }
   ],
   "source": [
    "Q1 = df[\"S3'\"].quantile(0.25)\n",
    "Q3 = df[\"S3'\"].quantile(0.75)\n",
    "IQR = iqr(df[\"S3'\"])\n",
    "df[\"S3'\"] = df[\"S3'\"].apply(lambda x: outlier_replace(x))\n",
    "\n",
    "# Checking Outliers Replacement with Boxplot \n",
    "plt.boxplot(df[\"S3'\"])"
   ]
  },
  {
   "cell_type": "code",
   "execution_count": 24,
   "metadata": {},
   "outputs": [
    {
     "data": {
      "text/plain": [
       "{'whiskers': [<matplotlib.lines.Line2D at 0x7f1d20ca4710>,\n",
       "  <matplotlib.lines.Line2D at 0x7f1d20ca4a58>],\n",
       " 'caps': [<matplotlib.lines.Line2D at 0x7f1d20ca4da0>,\n",
       "  <matplotlib.lines.Line2D at 0x7f1d20caf128>],\n",
       " 'boxes': [<matplotlib.lines.Line2D at 0x7f1d20ca45c0>],\n",
       " 'medians': [<matplotlib.lines.Line2D at 0x7f1d20caf470>],\n",
       " 'fliers': [<matplotlib.lines.Line2D at 0x7f1d20caf7b8>],\n",
       " 'means': []}"
      ]
     },
     "execution_count": 24,
     "metadata": {},
     "output_type": "execute_result"
    },
    {
     "data": {
      "image/png": "[encoded data removed]",
      "text/plain": [
       "<Figure size 432x288 with 1 Axes>"
      ]
     },
     "metadata": {},
     "output_type": "display_data"
    }
   ],
   "source": [
    "Q1 = df[\"C5'\"].quantile(0.25)\n",
    "Q3 = df[\"C5'\"].quantile(0.75)\n",
    "IQR = iqr(df[\"C5'\"])\n",
    "df[\"C5'\"] = df[\"C5'\"].apply(lambda x: outlier_replace(x)) \n",
    "\n",
    "# Checking Outliers Replacement with Boxplot \n",
    "plt.boxplot(df[\"C5'\"])"
   ]
  },
  {
   "cell_type": "code",
   "execution_count": 25,
   "metadata": {},
   "outputs": [
    {
     "data": {
      "text/plain": [
       "{'whiskers': [<matplotlib.lines.Line2D at 0x7f1d20c0a630>,\n",
       "  <matplotlib.lines.Line2D at 0x7f1d20c0a978>],\n",
       " 'caps': [<matplotlib.lines.Line2D at 0x7f1d20c0acc0>,\n",
       "  <matplotlib.lines.Line2D at 0x7f1d20c12048>],\n",
       " 'boxes': [<matplotlib.lines.Line2D at 0x7f1d20c0a4e0>],\n",
       " 'medians': [<matplotlib.lines.Line2D at 0x7f1d20c12390>],\n",
       " 'fliers': [<matplotlib.lines.Line2D at 0x7f1d20c126d8>],\n",
       " 'means': []}"
      ]
     },
     "execution_count": 25,
     "metadata": {},
     "output_type": "execute_result"
    },
    {
     "data": {
      "image/png": "[encoded data removed]",
      "text/plain": [
       "<Figure size 432x288 with 1 Axes>"
      ]
     },
     "metadata": {},
     "output_type": "display_data"
    }
   ],
   "source": [
    "Q1 = df[\"C6'\"].quantile(0.25)\n",
    "Q3 = df[\"C6'\"].quantile(0.75)\n",
    "IQR = iqr(df[\"C6'\"])\n",
    "df[\"C6'\"] = df[\"C6'\"].apply(lambda x: outlier_replace(x)) \n",
    "\n",
    "# Checking Outliers Replacement with Boxplot \n",
    "plt.boxplot(df[\"C6'\"])"
   ]
  },
  {
   "cell_type": "code",
   "execution_count": 26,
   "metadata": {},
   "outputs": [
    {
     "data": {
      "text/plain": [
       "C1     115.363270\n",
       "C2       0.863636\n",
       "C4       0.007342\n",
       "C7     154.910100\n",
       "C3'      0.529326\n",
       "C5'      3.853964\n",
       "C6'      3.328752\n",
       "T4'      0.628948\n",
       "T3'      0.915715\n",
       "T5'      0.053090\n",
       "S1'      0.005343\n",
       "S2'      0.008875\n",
       "S3'      0.011416\n",
       "dtype: float64"
      ]
     },
     "execution_count": 26,
     "metadata": {},
     "output_type": "execute_result"
    }
   ],
   "source": [
    "df.mean()"
   ]
  },
  {
   "cell_type": "code",
   "execution_count": 27,
   "metadata": {},
   "outputs": [],
   "source": [
    "# Exporting DataFrame as CSV \n",
    "df.to_csv('OutlierFix2', ',')"
   ]
  },
  {
   "cell_type": "code",
   "execution_count": 28,
   "metadata": {},
   "outputs": [],
   "source": [
    "targets.to_csv('Targets2', ',')"
   ]
  }
 ],
 "metadata": {
  "kernelspec": {
   "display_name": "Python 3",
   "language": "python",
   "name": "python3"
  },
  "language_info": {
   "codemirror_mode": {
    "name": "ipython",
    "version": 3
   },
   "file_extension": ".py",
   "mimetype": "text/x-python",
   "name": "python",
   "nbconvert_exporter": "python",
   "pygments_lexer": "ipython3",
   "version": "3.6.5"
  }
 },
 "nbformat": 4,
 "nbformat_minor": 2
}
