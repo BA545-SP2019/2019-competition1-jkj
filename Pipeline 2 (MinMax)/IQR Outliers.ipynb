{
 "cells": [
  {
   "cell_type": "code",
   "execution_count": 1,
   "metadata": {},
   "outputs": [],
   "source": [
    "# Fixing Outliers using IQR method "
   ]
  },
  {
   "cell_type": "code",
   "execution_count": 2,
   "metadata": {},
   "outputs": [],
   "source": [
    "import numpy as np \n",
    "import pandas as pd\n",
    "import matplotlib.pyplot as plt\n",
    "from sklearn import preprocessing\n",
    "from scipy.stats import iqr\n",
    "%matplotlib inline\n",
    "plt.style.use('ggplot')"
   ]
  },
  {
   "cell_type": "code",
   "execution_count": 5,
   "metadata": {},
   "outputs": [],
   "source": [
    "# Uploading imputed data to df from CSV WorkingDataFrame\n",
    "df = pd.read_csv('WorkingDataFrame2', index_col=0)"
   ]
  },
  {
   "cell_type": "code",
   "execution_count": 6,
   "metadata": {},
   "outputs": [
    {
     "data": {
      "text/html": [
       "<div>\n",
       "<style scoped>\n",
       "    .dataframe tbody tr th:only-of-type {\n",
       "        vertical-align: middle;\n",
       "    }\n",
       "\n",
       "    .dataframe tbody tr th {\n",
       "        vertical-align: top;\n",
       "    }\n",
       "\n",
       "    .dataframe thead th {\n",
       "        text-align: right;\n",
       "    }\n",
       "</style>\n",
       "<table border=\"1\" class=\"dataframe\">\n",
       "  <thead>\n",
       "    <tr style=\"text-align: right;\">\n",
       "      <th></th>\n",
       "      <th>C1</th>\n",
       "      <th>C2</th>\n",
       "      <th>C4</th>\n",
       "      <th>C7</th>\n",
       "      <th>T1</th>\n",
       "      <th>T2</th>\n",
       "      <th>T3</th>\n",
       "      <th>T4</th>\n",
       "      <th>T5</th>\n",
       "      <th>S1</th>\n",
       "      <th>S2</th>\n",
       "      <th>S3</th>\n",
       "      <th>C3'</th>\n",
       "      <th>C5'</th>\n",
       "      <th>C6'</th>\n",
       "    </tr>\n",
       "  </thead>\n",
       "  <tbody>\n",
       "    <tr>\n",
       "      <th>0</th>\n",
       "      <td>122.0</td>\n",
       "      <td>1.0</td>\n",
       "      <td>0.029074</td>\n",
       "      <td>51.345</td>\n",
       "      <td>470.0</td>\n",
       "      <td>12719.0</td>\n",
       "      <td>11560.0</td>\n",
       "      <td>301.0</td>\n",
       "      <td>690.0</td>\n",
       "      <td>62.0</td>\n",
       "      <td>117.0</td>\n",
       "      <td>139.0</td>\n",
       "      <td>1</td>\n",
       "      <td>3.864345</td>\n",
       "      <td>11.111111</td>\n",
       "    </tr>\n",
       "    <tr>\n",
       "      <th>1</th>\n",
       "      <td>259.0</td>\n",
       "      <td>0.0</td>\n",
       "      <td>-0.013352</td>\n",
       "      <td>25.936</td>\n",
       "      <td>791.0</td>\n",
       "      <td>21792.0</td>\n",
       "      <td>19585.0</td>\n",
       "      <td>510.0</td>\n",
       "      <td>1120.0</td>\n",
       "      <td>71.0</td>\n",
       "      <td>242.0</td>\n",
       "      <td>237.0</td>\n",
       "      <td>0</td>\n",
       "      <td>12.028832</td>\n",
       "      <td>0.000000</td>\n",
       "    </tr>\n",
       "    <tr>\n",
       "      <th>2</th>\n",
       "      <td>90.0</td>\n",
       "      <td>1.0</td>\n",
       "      <td>0.020715</td>\n",
       "      <td>7.378</td>\n",
       "      <td>201.0</td>\n",
       "      <td>5262.0</td>\n",
       "      <td>4785.0</td>\n",
       "      <td>128.0</td>\n",
       "      <td>325.0</td>\n",
       "      <td>61.0</td>\n",
       "      <td>33.0</td>\n",
       "      <td>60.0</td>\n",
       "      <td>0</td>\n",
       "      <td>3.369134</td>\n",
       "      <td>0.000000</td>\n",
       "    </tr>\n",
       "    <tr>\n",
       "      <th>3</th>\n",
       "      <td>209.0</td>\n",
       "      <td>1.0</td>\n",
       "      <td>0.020023</td>\n",
       "      <td>8.526</td>\n",
       "      <td>328.0</td>\n",
       "      <td>8259.0</td>\n",
       "      <td>7574.0</td>\n",
       "      <td>177.0</td>\n",
       "      <td>509.0</td>\n",
       "      <td>80.0</td>\n",
       "      <td>59.0</td>\n",
       "      <td>110.0</td>\n",
       "      <td>0</td>\n",
       "      <td>3.299697</td>\n",
       "      <td>0.000000</td>\n",
       "    </tr>\n",
       "    <tr>\n",
       "      <th>4</th>\n",
       "      <td>80.0</td>\n",
       "      <td>1.0</td>\n",
       "      <td>-0.034895</td>\n",
       "      <td>632.298</td>\n",
       "      <td>572.0</td>\n",
       "      <td>14830.0</td>\n",
       "      <td>13176.0</td>\n",
       "      <td>336.0</td>\n",
       "      <td>720.0</td>\n",
       "      <td>67.0</td>\n",
       "      <td>149.0</td>\n",
       "      <td>167.0</td>\n",
       "      <td>1</td>\n",
       "      <td>3.726269</td>\n",
       "      <td>5.000000</td>\n",
       "    </tr>\n",
       "    <tr>\n",
       "      <th>5</th>\n",
       "      <td>94.0</td>\n",
       "      <td>1.0</td>\n",
       "      <td>-0.057556</td>\n",
       "      <td>197.591</td>\n",
       "      <td>510.0</td>\n",
       "      <td>17999.0</td>\n",
       "      <td>13934.0</td>\n",
       "      <td>328.0</td>\n",
       "      <td>815.0</td>\n",
       "      <td>62.0</td>\n",
       "      <td>96.0</td>\n",
       "      <td>181.0</td>\n",
       "      <td>1</td>\n",
       "      <td>5.724394</td>\n",
       "      <td>0.000000</td>\n",
       "    </tr>\n",
       "    <tr>\n",
       "      <th>6</th>\n",
       "      <td>128.0</td>\n",
       "      <td>1.0</td>\n",
       "      <td>0.004106</td>\n",
       "      <td>5.146</td>\n",
       "      <td>495.0</td>\n",
       "      <td>15758.0</td>\n",
       "      <td>13953.0</td>\n",
       "      <td>379.0</td>\n",
       "      <td>698.0</td>\n",
       "      <td>82.0</td>\n",
       "      <td>106.0</td>\n",
       "      <td>135.0</td>\n",
       "      <td>0</td>\n",
       "      <td>3.463095</td>\n",
       "      <td>0.000000</td>\n",
       "    </tr>\n",
       "    <tr>\n",
       "      <th>7</th>\n",
       "      <td>91.0</td>\n",
       "      <td>0.0</td>\n",
       "      <td>0.040620</td>\n",
       "      <td>103.833</td>\n",
       "      <td>334.0</td>\n",
       "      <td>11226.0</td>\n",
       "      <td>10056.0</td>\n",
       "      <td>276.0</td>\n",
       "      <td>-1.0</td>\n",
       "      <td>55.0</td>\n",
       "      <td>120.0</td>\n",
       "      <td>122.0</td>\n",
       "      <td>0</td>\n",
       "      <td>2.421469</td>\n",
       "      <td>0.000000</td>\n",
       "    </tr>\n",
       "    <tr>\n",
       "      <th>8</th>\n",
       "      <td>100.0</td>\n",
       "      <td>1.0</td>\n",
       "      <td>-0.029316</td>\n",
       "      <td>279.600</td>\n",
       "      <td>620.0</td>\n",
       "      <td>14813.0</td>\n",
       "      <td>13463.0</td>\n",
       "      <td>335.0</td>\n",
       "      <td>917.0</td>\n",
       "      <td>58.0</td>\n",
       "      <td>124.0</td>\n",
       "      <td>234.0</td>\n",
       "      <td>0</td>\n",
       "      <td>4.816591</td>\n",
       "      <td>0.000000</td>\n",
       "    </tr>\n",
       "    <tr>\n",
       "      <th>9</th>\n",
       "      <td>106.0</td>\n",
       "      <td>1.0</td>\n",
       "      <td>-0.024925</td>\n",
       "      <td>494.008</td>\n",
       "      <td>385.0</td>\n",
       "      <td>9134.0</td>\n",
       "      <td>8107.0</td>\n",
       "      <td>198.0</td>\n",
       "      <td>459.0</td>\n",
       "      <td>81.0</td>\n",
       "      <td>90.0</td>\n",
       "      <td>147.0</td>\n",
       "      <td>1</td>\n",
       "      <td>3.056608</td>\n",
       "      <td>0.000000</td>\n",
       "    </tr>\n",
       "    <tr>\n",
       "      <th>10</th>\n",
       "      <td>107.0</td>\n",
       "      <td>1.0</td>\n",
       "      <td>0.009125</td>\n",
       "      <td>103.833</td>\n",
       "      <td>332.0</td>\n",
       "      <td>7534.0</td>\n",
       "      <td>6747.0</td>\n",
       "      <td>169.0</td>\n",
       "      <td>263.0</td>\n",
       "      <td>51.0</td>\n",
       "      <td>65.0</td>\n",
       "      <td>74.0</td>\n",
       "      <td>1</td>\n",
       "      <td>3.703376</td>\n",
       "      <td>0.000000</td>\n",
       "    </tr>\n",
       "    <tr>\n",
       "      <th>11</th>\n",
       "      <td>99.0</td>\n",
       "      <td>1.0</td>\n",
       "      <td>0.015487</td>\n",
       "      <td>0.320</td>\n",
       "      <td>253.0</td>\n",
       "      <td>5788.0</td>\n",
       "      <td>5200.0</td>\n",
       "      <td>138.0</td>\n",
       "      <td>385.0</td>\n",
       "      <td>29.0</td>\n",
       "      <td>41.0</td>\n",
       "      <td>70.0</td>\n",
       "      <td>0</td>\n",
       "      <td>2.546686</td>\n",
       "      <td>0.000000</td>\n",
       "    </tr>\n",
       "    <tr>\n",
       "      <th>12</th>\n",
       "      <td>126.0</td>\n",
       "      <td>1.0</td>\n",
       "      <td>0.019731</td>\n",
       "      <td>26.499</td>\n",
       "      <td>206.0</td>\n",
       "      <td>5732.0</td>\n",
       "      <td>4963.0</td>\n",
       "      <td>141.0</td>\n",
       "      <td>259.0</td>\n",
       "      <td>21.0</td>\n",
       "      <td>43.0</td>\n",
       "      <td>80.0</td>\n",
       "      <td>1</td>\n",
       "      <td>4.237291</td>\n",
       "      <td>6.666667</td>\n",
       "    </tr>\n",
       "    <tr>\n",
       "      <th>13</th>\n",
       "      <td>140.0</td>\n",
       "      <td>1.0</td>\n",
       "      <td>-0.006316</td>\n",
       "      <td>0.074</td>\n",
       "      <td>416.0</td>\n",
       "      <td>10562.0</td>\n",
       "      <td>9835.0</td>\n",
       "      <td>231.0</td>\n",
       "      <td>726.0</td>\n",
       "      <td>81.0</td>\n",
       "      <td>118.0</td>\n",
       "      <td>138.0</td>\n",
       "      <td>0</td>\n",
       "      <td>3.867637</td>\n",
       "      <td>8.695652</td>\n",
       "    </tr>\n",
       "    <tr>\n",
       "      <th>14</th>\n",
       "      <td>488.0</td>\n",
       "      <td>1.0</td>\n",
       "      <td>0.023275</td>\n",
       "      <td>166.896</td>\n",
       "      <td>624.0</td>\n",
       "      <td>18633.0</td>\n",
       "      <td>16471.0</td>\n",
       "      <td>380.0</td>\n",
       "      <td>909.0</td>\n",
       "      <td>98.0</td>\n",
       "      <td>256.0</td>\n",
       "      <td>172.0</td>\n",
       "      <td>1</td>\n",
       "      <td>3.638220</td>\n",
       "      <td>0.000000</td>\n",
       "    </tr>\n",
       "  </tbody>\n",
       "</table>\n",
       "</div>"
      ],
      "text/plain": [
       "       C1   C2        C4       C7     T1       T2       T3     T4      T5  \\\n",
       "0   122.0  1.0  0.029074   51.345  470.0  12719.0  11560.0  301.0   690.0   \n",
       "1   259.0  0.0 -0.013352   25.936  791.0  21792.0  19585.0  510.0  1120.0   \n",
       "2    90.0  1.0  0.020715    7.378  201.0   5262.0   4785.0  128.0   325.0   \n",
       "3   209.0  1.0  0.020023    8.526  328.0   8259.0   7574.0  177.0   509.0   \n",
       "4    80.0  1.0 -0.034895  632.298  572.0  14830.0  13176.0  336.0   720.0   \n",
       "5    94.0  1.0 -0.057556  197.591  510.0  17999.0  13934.0  328.0   815.0   \n",
       "6   128.0  1.0  0.004106    5.146  495.0  15758.0  13953.0  379.0   698.0   \n",
       "7    91.0  0.0  0.040620  103.833  334.0  11226.0  10056.0  276.0    -1.0   \n",
       "8   100.0  1.0 -0.029316  279.600  620.0  14813.0  13463.0  335.0   917.0   \n",
       "9   106.0  1.0 -0.024925  494.008  385.0   9134.0   8107.0  198.0   459.0   \n",
       "10  107.0  1.0  0.009125  103.833  332.0   7534.0   6747.0  169.0   263.0   \n",
       "11   99.0  1.0  0.015487    0.320  253.0   5788.0   5200.0  138.0   385.0   \n",
       "12  126.0  1.0  0.019731   26.499  206.0   5732.0   4963.0  141.0   259.0   \n",
       "13  140.0  1.0 -0.006316    0.074  416.0  10562.0   9835.0  231.0   726.0   \n",
       "14  488.0  1.0  0.023275  166.896  624.0  18633.0  16471.0  380.0   909.0   \n",
       "\n",
       "      S1     S2     S3  C3'        C5'        C6'  \n",
       "0   62.0  117.0  139.0    1   3.864345  11.111111  \n",
       "1   71.0  242.0  237.0    0  12.028832   0.000000  \n",
       "2   61.0   33.0   60.0    0   3.369134   0.000000  \n",
       "3   80.0   59.0  110.0    0   3.299697   0.000000  \n",
       "4   67.0  149.0  167.0    1   3.726269   5.000000  \n",
       "5   62.0   96.0  181.0    1   5.724394   0.000000  \n",
       "6   82.0  106.0  135.0    0   3.463095   0.000000  \n",
       "7   55.0  120.0  122.0    0   2.421469   0.000000  \n",
       "8   58.0  124.0  234.0    0   4.816591   0.000000  \n",
       "9   81.0   90.0  147.0    1   3.056608   0.000000  \n",
       "10  51.0   65.0   74.0    1   3.703376   0.000000  \n",
       "11  29.0   41.0   70.0    0   2.546686   0.000000  \n",
       "12  21.0   43.0   80.0    1   4.237291   6.666667  \n",
       "13  81.0  118.0  138.0    0   3.867637   8.695652  \n",
       "14  98.0  256.0  172.0    1   3.638220   0.000000  "
      ]
     },
     "execution_count": 6,
     "metadata": {},
     "output_type": "execute_result"
    }
   ],
   "source": [
    "target = df.iloc[:,:7]\n",
    "target2 = df.iloc[:,19:21]\n",
    "targets = pd.concat([target, target2], axis=1, join_axes=[df.index])\n",
    "df = df.drop(['I1','I2','I3','P_IPO','P_H','P_L','P_1DAY','Y1','Y2'], axis=1)\n",
    "df.head(15)"
   ]
  },
  {
   "cell_type": "code",
   "execution_count": 7,
   "metadata": {},
   "outputs": [
    {
     "data": {
      "text/plain": [
       "C1       148.350440\n",
       "C2         0.863636\n",
       "C4         0.007342\n",
       "C7       458.587321\n",
       "T1       465.602639\n",
       "T2     12757.560117\n",
       "T3     11394.948680\n",
       "T4       294.331378\n",
       "T5       679.139296\n",
       "S1        68.409091\n",
       "S2       120.074780\n",
       "S3       144.743402\n",
       "C3'        0.529326\n",
       "C5'        4.625317\n",
       "C6'        5.282669\n",
       "dtype: float64"
      ]
     },
     "execution_count": 7,
     "metadata": {},
     "output_type": "execute_result"
    }
   ],
   "source": [
    "# Checking mean of columns BEFORE fixing outliers \n",
    "df.mean()"
   ]
  },
  {
   "cell_type": "code",
   "execution_count": 8,
   "metadata": {},
   "outputs": [],
   "source": [
    "# Defining functin to replace outliers using IQR of each column\n",
    "def outlier_replace(x): \n",
    "    if x > (Q3 + (1.5*IQR)): \n",
    "        x = Q3\n",
    "    elif x < (Q1 - (1.5*IQR)): \n",
    "        x = Q1\n",
    "    else: \n",
    "        pass\n",
    "    return(x)"
   ]
  },
  {
   "cell_type": "code",
   "execution_count": 9,
   "metadata": {},
   "outputs": [
    {
     "data": {
      "text/plain": [
       "{'whiskers': [<matplotlib.lines.Line2D at 0x7f0fa0efcc50>,\n",
       "  <matplotlib.lines.Line2D at 0x7f0fa0efcf98>],\n",
       " 'caps': [<matplotlib.lines.Line2D at 0x7f0fa0f12320>,\n",
       "  <matplotlib.lines.Line2D at 0x7f0fa0f12668>],\n",
       " 'boxes': [<matplotlib.lines.Line2D at 0x7f0fa0efcb00>],\n",
       " 'medians': [<matplotlib.lines.Line2D at 0x7f0fa0f129b0>],\n",
       " 'fliers': [<matplotlib.lines.Line2D at 0x7f0fa0f12cf8>],\n",
       " 'means': []}"
      ]
     },
     "execution_count": 9,
     "metadata": {},
     "output_type": "execute_result"
    },
    {
     "data": {
      "image/png": "[encoded data removed]",
      "text/plain": [
       "<Figure size 432x288 with 1 Axes>"
      ]
     },
     "metadata": {},
     "output_type": "display_data"
    }
   ],
   "source": [
    "Q1 = df['C1'].quantile(0.25)\n",
    "Q3 = df['C1'].quantile(0.75)\n",
    "IQR = iqr(df['C1'])\n",
    "df['C1'] = df['C1'].apply(lambda x: outlier_replace(x)) \n",
    "\n",
    "# Checking Outliers Replacement with Boxplot \n",
    "plt.boxplot(df['C1'])"
   ]
  },
  {
   "cell_type": "code",
   "execution_count": 10,
   "metadata": {},
   "outputs": [
    {
     "data": {
      "text/plain": [
       "{'whiskers': [<matplotlib.lines.Line2D at 0x7f0fa3043940>,\n",
       "  <matplotlib.lines.Line2D at 0x7f0fa3043c88>],\n",
       " 'caps': [<matplotlib.lines.Line2D at 0x7f0fa3043fd0>,\n",
       "  <matplotlib.lines.Line2D at 0x7f0fa0e7d358>],\n",
       " 'boxes': [<matplotlib.lines.Line2D at 0x7f0fa30437f0>],\n",
       " 'medians': [<matplotlib.lines.Line2D at 0x7f0fa0e7d6a0>],\n",
       " 'fliers': [<matplotlib.lines.Line2D at 0x7f0fa0e7d9e8>],\n",
       " 'means': []}"
      ]
     },
     "execution_count": 10,
     "metadata": {},
     "output_type": "execute_result"
    },
    {
     "data": {
      "image/png": "[encoded data removed]",
      "text/plain": [
       "<Figure size 432x288 with 1 Axes>"
      ]
     },
     "metadata": {},
     "output_type": "display_data"
    }
   ],
   "source": [
    "Q1 = df['T1'].quantile(0.25)\n",
    "Q3 = df['T1'].quantile(0.75)\n",
    "IQR = iqr(df['T1'])\n",
    "df['T1'] = df['T1'].apply(lambda x: outlier_replace(x)) \n",
    "\n",
    "# Checking Outliers Replacement with Boxplot \n",
    "plt.boxplot(df['T1'])"
   ]
  },
  {
   "cell_type": "code",
   "execution_count": 11,
   "metadata": {},
   "outputs": [
    {
     "data": {
      "text/plain": [
       "{'whiskers': [<matplotlib.lines.Line2D at 0x7f0fa0e58cc0>,\n",
       "  <matplotlib.lines.Line2D at 0x7f0fa0e63048>],\n",
       " 'caps': [<matplotlib.lines.Line2D at 0x7f0fa0e63390>,\n",
       "  <matplotlib.lines.Line2D at 0x7f0fa0e636d8>],\n",
       " 'boxes': [<matplotlib.lines.Line2D at 0x7f0fa0e58b70>],\n",
       " 'medians': [<matplotlib.lines.Line2D at 0x7f0fa0e63a20>],\n",
       " 'fliers': [<matplotlib.lines.Line2D at 0x7f0fa0e63d68>],\n",
       " 'means': []}"
      ]
     },
     "execution_count": 11,
     "metadata": {},
     "output_type": "execute_result"
    },
    {
     "data": {
      "image/png": "[encoded data removed]",
      "text/plain": [
       "<Figure size 432x288 with 1 Axes>"
      ]
     },
     "metadata": {},
     "output_type": "display_data"
    }
   ],
   "source": [
    "Q1 = df['T2'].quantile(0.25)\n",
    "Q3 = df['T2'].quantile(0.75)\n",
    "IQR = iqr(df['T2'])\n",
    "df['T2'] = df['T2'].apply(lambda x: outlier_replace(x))\n",
    "\n",
    "# Checking Outliers Replacement with Boxplot \n",
    "plt.boxplot(df['T2'])"
   ]
  },
  {
   "cell_type": "code",
   "execution_count": 12,
   "metadata": {},
   "outputs": [
    {
     "data": {
      "text/plain": [
       "{'whiskers': [<matplotlib.lines.Line2D at 0x7f0fa0dc0128>,\n",
       "  <matplotlib.lines.Line2D at 0x7f0fa0dc0470>],\n",
       " 'caps': [<matplotlib.lines.Line2D at 0x7f0fa0dc07b8>,\n",
       "  <matplotlib.lines.Line2D at 0x7f0fa0dc0b00>],\n",
       " 'boxes': [<matplotlib.lines.Line2D at 0x7f0fa0db5f98>],\n",
       " 'medians': [<matplotlib.lines.Line2D at 0x7f0fa0dc0e48>],\n",
       " 'fliers': [<matplotlib.lines.Line2D at 0x7f0fa0dcc1d0>],\n",
       " 'means': []}"
      ]
     },
     "execution_count": 12,
     "metadata": {},
     "output_type": "execute_result"
    },
    {
     "data": {
      "image/png": "[encoded data removed]",
      "text/plain": [
       "<Figure size 432x288 with 1 Axes>"
      ]
     },
     "metadata": {},
     "output_type": "display_data"
    }
   ],
   "source": [
    "Q1 = df['T3'].quantile(0.25)\n",
    "Q3 = df['T3'].quantile(0.75)\n",
    "IQR = iqr(df['T3'])\n",
    "df['T3'] = df['T3'].apply(lambda x: outlier_replace(x))\n",
    "\n",
    "# Checking Outliers Replacement with Boxplot \n",
    "plt.boxplot(df['T3'])"
   ]
  },
  {
   "cell_type": "code",
   "execution_count": 13,
   "metadata": {},
   "outputs": [
    {
     "data": {
      "text/plain": [
       "{'whiskers': [<matplotlib.lines.Line2D at 0x7f0fa0d91da0>,\n",
       "  <matplotlib.lines.Line2D at 0x7f0fa0d9e128>],\n",
       " 'caps': [<matplotlib.lines.Line2D at 0x7f0fa0d9e470>,\n",
       "  <matplotlib.lines.Line2D at 0x7f0fa0d9e7b8>],\n",
       " 'boxes': [<matplotlib.lines.Line2D at 0x7f0fa0d91c50>],\n",
       " 'medians': [<matplotlib.lines.Line2D at 0x7f0fa0d9eb00>],\n",
       " 'fliers': [<matplotlib.lines.Line2D at 0x7f0fa0d9ee48>],\n",
       " 'means': []}"
      ]
     },
     "execution_count": 13,
     "metadata": {},
     "output_type": "execute_result"
    },
    {
     "data": {
      "image/png": "[encoded data removed]",
      "text/plain": [
       "<Figure size 432x288 with 1 Axes>"
      ]
     },
     "metadata": {},
     "output_type": "display_data"
    }
   ],
   "source": [
    "Q1 = df['T4'].quantile(0.25)\n",
    "Q3 = df['T4'].quantile(0.75)\n",
    "IQR = iqr(df['T4'])\n",
    "df['T4'] = df['T4'].apply(lambda x: outlier_replace(x))\n",
    "\n",
    "# Checking Outliers Replacement with Boxplot \n",
    "plt.boxplot(df['T4'])"
   ]
  },
  {
   "cell_type": "code",
   "execution_count": 14,
   "metadata": {},
   "outputs": [
    {
     "data": {
      "text/plain": [
       "{'whiskers': [<matplotlib.lines.Line2D at 0x7f0fa0d709b0>,\n",
       "  <matplotlib.lines.Line2D at 0x7f0fa0d70cf8>],\n",
       " 'caps': [<matplotlib.lines.Line2D at 0x7f0fa0cf8080>,\n",
       "  <matplotlib.lines.Line2D at 0x7f0fa0cf83c8>],\n",
       " 'boxes': [<matplotlib.lines.Line2D at 0x7f0fa0d70860>],\n",
       " 'medians': [<matplotlib.lines.Line2D at 0x7f0fa0cf8710>],\n",
       " 'fliers': [<matplotlib.lines.Line2D at 0x7f0fa0cf8a58>],\n",
       " 'means': []}"
      ]
     },
     "execution_count": 14,
     "metadata": {},
     "output_type": "execute_result"
    },
    {
     "data": {
      "image/png": "[encoded data removed]",
      "text/plain": [
       "<Figure size 432x288 with 1 Axes>"
      ]
     },
     "metadata": {},
     "output_type": "display_data"
    }
   ],
   "source": [
    "Q1 = df['T5'].quantile(0.25)\n",
    "Q3 = df['T5'].quantile(0.75)\n",
    "IQR = iqr(df['T5'])\n",
    "df['T5'] = df['T5'].apply(lambda x: outlier_replace(x))\n",
    "\n",
    "# Checking Outliers Replacement with Boxplot \n",
    "plt.boxplot(df['T5'])"
   ]
  },
  {
   "cell_type": "code",
   "execution_count": 15,
   "metadata": {},
   "outputs": [
    {
     "data": {
      "text/plain": [
       "{'whiskers': [<matplotlib.lines.Line2D at 0x7f0fa0cd2048>,\n",
       "  <matplotlib.lines.Line2D at 0x7f0fa0cd2390>],\n",
       " 'caps': [<matplotlib.lines.Line2D at 0x7f0fa0cd26d8>,\n",
       "  <matplotlib.lines.Line2D at 0x7f0fa0cd2a20>],\n",
       " 'boxes': [<matplotlib.lines.Line2D at 0x7f0fa0ccaeb8>],\n",
       " 'medians': [<matplotlib.lines.Line2D at 0x7f0fa0cd2d68>],\n",
       " 'fliers': [<matplotlib.lines.Line2D at 0x7f0fa0cdd0f0>],\n",
       " 'means': []}"
      ]
     },
     "execution_count": 15,
     "metadata": {},
     "output_type": "execute_result"
    },
    {
     "data": {
      "image/png": "[encoded data removed]",
      "text/plain": [
       "<Figure size 432x288 with 1 Axes>"
      ]
     },
     "metadata": {},
     "output_type": "display_data"
    }
   ],
   "source": [
    "Q1 = df['S1'].quantile(0.25)\n",
    "Q3 = df['S1'].quantile(0.75)\n",
    "IQR = iqr(df['S1'])\n",
    "df['S1'] = df['S1'].apply(lambda x: outlier_replace(x)) \n",
    "\n",
    "# Checking Outliers Replacement with Boxplot \n",
    "plt.boxplot(df['S1'])"
   ]
  },
  {
   "cell_type": "code",
   "execution_count": 16,
   "metadata": {},
   "outputs": [
    {
     "data": {
      "text/plain": [
       "{'whiskers': [<matplotlib.lines.Line2D at 0x7f0fa0cb0be0>,\n",
       "  <matplotlib.lines.Line2D at 0x7f0fa0cb0f28>],\n",
       " 'caps': [<matplotlib.lines.Line2D at 0x7f0fa0c3a2b0>,\n",
       "  <matplotlib.lines.Line2D at 0x7f0fa0c3a5f8>],\n",
       " 'boxes': [<matplotlib.lines.Line2D at 0x7f0fa0cb0a90>],\n",
       " 'medians': [<matplotlib.lines.Line2D at 0x7f0fa0c3a940>],\n",
       " 'fliers': [<matplotlib.lines.Line2D at 0x7f0fa0c3ac88>],\n",
       " 'means': []}"
      ]
     },
     "execution_count": 16,
     "metadata": {},
     "output_type": "execute_result"
    },
    {
     "data": {
      "image/png": "[encoded data removed]",
      "text/plain": [
       "<Figure size 432x288 with 1 Axes>"
      ]
     },
     "metadata": {},
     "output_type": "display_data"
    }
   ],
   "source": [
    "Q1 = df['S2'].quantile(0.25)\n",
    "Q3 = df['S2'].quantile(0.75)\n",
    "IQR = iqr(df['S2'])\n",
    "df['S2'] = df['S2'].apply(lambda x: outlier_replace(x))\n",
    "\n",
    "# Checking Outliers Replacement with Boxplot \n",
    "plt.boxplot(df['S2'])"
   ]
  },
  {
   "cell_type": "code",
   "execution_count": 17,
   "metadata": {},
   "outputs": [
    {
     "data": {
      "text/plain": [
       "{'whiskers': [<matplotlib.lines.Line2D at 0x7f0fa0c087f0>,\n",
       "  <matplotlib.lines.Line2D at 0x7f0fa0c08b38>],\n",
       " 'caps': [<matplotlib.lines.Line2D at 0x7f0fa0c08e80>,\n",
       "  <matplotlib.lines.Line2D at 0x7f0fa0c13208>],\n",
       " 'boxes': [<matplotlib.lines.Line2D at 0x7f0fa0c086a0>],\n",
       " 'medians': [<matplotlib.lines.Line2D at 0x7f0fa0c13550>],\n",
       " 'fliers': [<matplotlib.lines.Line2D at 0x7f0fa0c13898>],\n",
       " 'means': []}"
      ]
     },
     "execution_count": 17,
     "metadata": {},
     "output_type": "execute_result"
    },
    {
     "data": {
      "image/png": "[encoded data removed]",
      "text/plain": [
       "<Figure size 432x288 with 1 Axes>"
      ]
     },
     "metadata": {},
     "output_type": "display_data"
    }
   ],
   "source": [
    "Q1 = df['S3'].quantile(0.25)\n",
    "Q3 = df['S3'].quantile(0.75)\n",
    "IQR = iqr(df['S3'])\n",
    "df['S3'] = df['S3'].apply(lambda x: outlier_replace(x))\n",
    "\n",
    "# Checking Outliers Replacement with Boxplot \n",
    "plt.boxplot(df['S3'])"
   ]
  },
  {
   "cell_type": "code",
   "execution_count": 18,
   "metadata": {},
   "outputs": [
    {
     "data": {
      "text/plain": [
       "{'whiskers': [<matplotlib.lines.Line2D at 0x7f0fa0be6400>,\n",
       "  <matplotlib.lines.Line2D at 0x7f0fa0be6748>],\n",
       " 'caps': [<matplotlib.lines.Line2D at 0x7f0fa0be6a90>,\n",
       "  <matplotlib.lines.Line2D at 0x7f0fa0be6dd8>],\n",
       " 'boxes': [<matplotlib.lines.Line2D at 0x7f0fa0be62b0>],\n",
       " 'medians': [<matplotlib.lines.Line2D at 0x7f0fa0bf0160>],\n",
       " 'fliers': [<matplotlib.lines.Line2D at 0x7f0fa0bf04a8>],\n",
       " 'means': []}"
      ]
     },
     "execution_count": 18,
     "metadata": {},
     "output_type": "execute_result"
    },
    {
     "data": {
      "image/png": "[encoded data removed]",
      "text/plain": [
       "<Figure size 432x288 with 1 Axes>"
      ]
     },
     "metadata": {},
     "output_type": "display_data"
    }
   ],
   "source": [
    "Q1 = df[\"C3'\"].quantile(0.25)\n",
    "Q3 = df[\"C3'\"].quantile(0.75)\n",
    "IQR = iqr(df[\"C3'\"])\n",
    "df[\"C3'\"] = df[\"C3'\"].apply(lambda x: outlier_replace(x)) \n",
    "\n",
    "# Checking Outliers Replacement with Boxplot \n",
    "plt.boxplot(df[\"C3'\"])"
   ]
  },
  {
   "cell_type": "code",
   "execution_count": 19,
   "metadata": {},
   "outputs": [
    {
     "data": {
      "text/plain": [
       "{'whiskers': [<matplotlib.lines.Line2D at 0x7f0fa0b40550>,\n",
       "  <matplotlib.lines.Line2D at 0x7f0fa0b40898>],\n",
       " 'caps': [<matplotlib.lines.Line2D at 0x7f0fa0b40be0>,\n",
       "  <matplotlib.lines.Line2D at 0x7f0fa0b40f28>],\n",
       " 'boxes': [<matplotlib.lines.Line2D at 0x7f0fa0b40400>],\n",
       " 'medians': [<matplotlib.lines.Line2D at 0x7f0fa0b482b0>],\n",
       " 'fliers': [<matplotlib.lines.Line2D at 0x7f0fa0b485f8>],\n",
       " 'means': []}"
      ]
     },
     "execution_count": 19,
     "metadata": {},
     "output_type": "execute_result"
    },
    {
     "data": {
      "image/png": "[encoded data removed]",
      "text/plain": [
       "<Figure size 432x288 with 1 Axes>"
      ]
     },
     "metadata": {},
     "output_type": "display_data"
    }
   ],
   "source": [
    "Q1 = df[\"C5'\"].quantile(0.25)\n",
    "Q3 = df[\"C5'\"].quantile(0.75)\n",
    "IQR = iqr(df[\"C5'\"])\n",
    "df[\"C5'\"] = df[\"C5'\"].apply(lambda x: outlier_replace(x)) \n",
    "\n",
    "# Checking Outliers Replacement with Boxplot \n",
    "plt.boxplot(df[\"C5'\"])"
   ]
  },
  {
   "cell_type": "code",
   "execution_count": 20,
   "metadata": {},
   "outputs": [
    {
     "data": {
      "text/plain": [
       "{'whiskers': [<matplotlib.lines.Line2D at 0x7f0fa0b26470>,\n",
       "  <matplotlib.lines.Line2D at 0x7f0fa0b267b8>],\n",
       " 'caps': [<matplotlib.lines.Line2D at 0x7f0fa0b26b00>,\n",
       "  <matplotlib.lines.Line2D at 0x7f0fa0b26e48>],\n",
       " 'boxes': [<matplotlib.lines.Line2D at 0x7f0fa0b26320>],\n",
       " 'medians': [<matplotlib.lines.Line2D at 0x7f0fa0ab11d0>],\n",
       " 'fliers': [<matplotlib.lines.Line2D at 0x7f0fa0ab1518>],\n",
       " 'means': []}"
      ]
     },
     "execution_count": 20,
     "metadata": {},
     "output_type": "execute_result"
    },
    {
     "data": {
      "image/png": "[encoded data removed]",
      "text/plain": [
       "<Figure size 432x288 with 1 Axes>"
      ]
     },
     "metadata": {},
     "output_type": "display_data"
    }
   ],
   "source": [
    "Q1 = df[\"C6'\"].quantile(0.25)\n",
    "Q3 = df[\"C6'\"].quantile(0.75)\n",
    "IQR = iqr(df[\"C6'\"])\n",
    "df[\"C6'\"] = df[\"C6'\"].apply(lambda x: outlier_replace(x)) \n",
    "\n",
    "# Checking Outliers Replacement with Boxplot \n",
    "plt.boxplot(df[\"C6'\"])"
   ]
  },
  {
   "cell_type": "code",
   "execution_count": 21,
   "metadata": {},
   "outputs": [
    {
     "data": {
      "text/plain": [
       "C1       115.363270\n",
       "C2         0.863636\n",
       "C4         0.007342\n",
       "C7       458.587321\n",
       "T1       453.083944\n",
       "T2     12323.651760\n",
       "T3     11029.791056\n",
       "T4       286.377566\n",
       "T5       638.549853\n",
       "S1        64.266129\n",
       "S2       106.897727\n",
       "S3       137.508798\n",
       "C3'        0.529326\n",
       "C5'        3.853964\n",
       "C6'        3.328752\n",
       "dtype: float64"
      ]
     },
     "execution_count": 21,
     "metadata": {},
     "output_type": "execute_result"
    }
   ],
   "source": [
    "df.mean()"
   ]
  },
  {
   "cell_type": "code",
   "execution_count": 22,
   "metadata": {},
   "outputs": [],
   "source": [
    "# Exporting DataFrame as CSV \n",
    "df.to_csv('OutlierFix2', ',')"
   ]
  },
  {
   "cell_type": "code",
   "execution_count": 23,
   "metadata": {},
   "outputs": [],
   "source": [
    "targets.to_csv('Targets2', ',')"
   ]
  }
 ],
 "metadata": {
  "kernelspec": {
   "display_name": "Python 3",
   "language": "python",
   "name": "python3"
  },
  "language_info": {
   "codemirror_mode": {
    "name": "ipython",
    "version": 3
   },
   "file_extension": ".py",
   "mimetype": "text/x-python",
   "name": "python",
   "nbconvert_exporter": "python",
   "pygments_lexer": "ipython3",
   "version": "3.6.5"
  }
 },
 "nbformat": 4,
 "nbformat_minor": 2
}
