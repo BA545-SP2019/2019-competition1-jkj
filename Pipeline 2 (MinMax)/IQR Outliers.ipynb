{
 "cells": [
  {
   "cell_type": "code",
   "execution_count": 1,
   "metadata": {},
   "outputs": [],
   "source": [
    "# Fixing Outliers using IQR method "
   ]
  },
  {
   "cell_type": "code",
   "execution_count": 2,
   "metadata": {},
   "outputs": [],
   "source": [
    "import numpy as np \n",
    "import pandas as pd\n",
    "import matplotlib.pyplot as plt\n",
    "from sklearn import preprocessing\n",
    "from scipy.stats import iqr\n",
    "%matplotlib inline\n",
    "plt.style.use('ggplot')"
   ]
  },
  {
   "cell_type": "code",
   "execution_count": 3,
   "metadata": {},
   "outputs": [],
   "source": [
    "# Uploading imputed data to df from CSV WorkingDataFrame\n",
    "df = pd.read_csv('WorkingDataFrame', index_col=0)"
   ]
  },
  {
   "cell_type": "code",
   "execution_count": 4,
   "metadata": {},
   "outputs": [
    {
     "data": {
      "text/plain": [
       "I3        4.871669e+03\n",
       "P_IPO     1.383519e+01\n",
       "P_H       1.547413e+01\n",
       "P_L       1.350749e+01\n",
       "P_1DAY    2.557703e+01\n",
       "C1        1.483504e+02\n",
       "C2        8.636364e-01\n",
       "C3        1.695003e+00\n",
       "C4        7.341633e-03\n",
       "C5        4.916458e+07\n",
       "C6        1.237106e+07\n",
       "C7        4.585873e+02\n",
       "T1        4.656026e+02\n",
       "T2        1.275756e+04\n",
       "T3        1.139495e+04\n",
       "T4        2.943314e+02\n",
       "T5        6.791393e+02\n",
       "S1        6.840909e+01\n",
       "S2        1.200748e+02\n",
       "S3        1.447434e+02\n",
       "Y1        5.131965e-01\n",
       "Y2        7.038123e-01\n",
       "C3'       5.293255e-01\n",
       "C5'       4.625317e+00\n",
       "P(mid)    1.449081e+01\n",
       "C6'       5.282669e+00\n",
       "dtype: float64"
      ]
     },
     "execution_count": 4,
     "metadata": {},
     "output_type": "execute_result"
    }
   ],
   "source": [
    "# Checking mean of columns BEFORE fixing outliers \n",
    "df.mean()"
   ]
  },
  {
   "cell_type": "code",
   "execution_count": 5,
   "metadata": {},
   "outputs": [],
   "source": [
    "# Defining functin to replace outliers using IQR of each column\n",
    "def outlier_replace(x): \n",
    "    if x > (Q3 + (1.5*IQR)): \n",
    "        x = Q3\n",
    "    elif x < (Q1 - (1.5*IQR)): \n",
    "        x = Q1\n",
    "    else: \n",
    "        pass\n",
    "    return(x)"
   ]
  },
  {
   "cell_type": "code",
   "execution_count": 6,
   "metadata": {},
   "outputs": [
    {
     "data": {
      "text/plain": [
       "{'whiskers': [<matplotlib.lines.Line2D at 0x7f4ee4e26cf8>,\n",
       "  <matplotlib.lines.Line2D at 0x7f4ee4e41080>],\n",
       " 'caps': [<matplotlib.lines.Line2D at 0x7f4ee4e413c8>,\n",
       "  <matplotlib.lines.Line2D at 0x7f4ee4e41710>],\n",
       " 'boxes': [<matplotlib.lines.Line2D at 0x7f4ee4e26ba8>],\n",
       " 'medians': [<matplotlib.lines.Line2D at 0x7f4ee4e41a58>],\n",
       " 'fliers': [<matplotlib.lines.Line2D at 0x7f4ee4e41da0>],\n",
       " 'means': []}"
      ]
     },
     "execution_count": 6,
     "metadata": {},
     "output_type": "execute_result"
    },
    {
     "data": {
      "image/png": "[encoded data removed]",
      "text/plain": [
       "<Figure size 432x288 with 1 Axes>"
      ]
     },
     "metadata": {},
     "output_type": "display_data"
    }
   ],
   "source": [
    "# Applying function to columns with outliers \n",
    "Q1 = df['P_IPO'].quantile(0.25)\n",
    "Q3 = df['P_IPO'].quantile(0.75)\n",
    "IQR = iqr(df['P_IPO'])\n",
    "df['P_IPO'] = df['P_IPO'].apply(lambda x: outlier_replace(x))\n",
    "\n",
    "# Checking Outliers Replacement with Boxplot \n",
    "plt.boxplot(df['P_IPO'])"
   ]
  },
  {
   "cell_type": "code",
   "execution_count": 7,
   "metadata": {},
   "outputs": [
    {
     "data": {
      "text/plain": [
       "{'whiskers': [<matplotlib.lines.Line2D at 0x7f4ee2d73be0>,\n",
       "  <matplotlib.lines.Line2D at 0x7f4ee2d73f28>],\n",
       " 'caps': [<matplotlib.lines.Line2D at 0x7f4ee2d7f2b0>,\n",
       "  <matplotlib.lines.Line2D at 0x7f4ee2d7f5f8>],\n",
       " 'boxes': [<matplotlib.lines.Line2D at 0x7f4ee2d73a90>],\n",
       " 'medians': [<matplotlib.lines.Line2D at 0x7f4ee2d7f940>],\n",
       " 'fliers': [<matplotlib.lines.Line2D at 0x7f4ee2d7fc88>],\n",
       " 'means': []}"
      ]
     },
     "execution_count": 7,
     "metadata": {},
     "output_type": "execute_result"
    },
    {
     "data": {
      "image/png": "[encoded data removed]",
      "text/plain": [
       "<Figure size 432x288 with 1 Axes>"
      ]
     },
     "metadata": {},
     "output_type": "display_data"
    }
   ],
   "source": [
    "Q1 = df['P_H'].quantile(0.25)\n",
    "Q3 = df['P_H'].quantile(0.75)\n",
    "IQR = iqr(df['P_H'])\n",
    "df['P_H'] = df['P_H'].apply(lambda x: outlier_replace(x)) \n",
    "\n",
    "# Checking Outliers Replacement with Boxplot \n",
    "plt.boxplot(df['P_H'])"
   ]
  },
  {
   "cell_type": "code",
   "execution_count": 8,
   "metadata": {},
   "outputs": [
    {
     "data": {
      "text/plain": [
       "{'whiskers': [<matplotlib.lines.Line2D at 0x7f4ee2cdbba8>,\n",
       "  <matplotlib.lines.Line2D at 0x7f4ee2cdbef0>],\n",
       " 'caps': [<matplotlib.lines.Line2D at 0x7f4ee2ce6278>,\n",
       "  <matplotlib.lines.Line2D at 0x7f4ee2ce65c0>],\n",
       " 'boxes': [<matplotlib.lines.Line2D at 0x7f4ee2cdba58>],\n",
       " 'medians': [<matplotlib.lines.Line2D at 0x7f4ee2ce6908>],\n",
       " 'fliers': [<matplotlib.lines.Line2D at 0x7f4ee2ce6c50>],\n",
       " 'means': []}"
      ]
     },
     "execution_count": 8,
     "metadata": {},
     "output_type": "execute_result"
    },
    {
     "data": {
      "image/png": "[encoded data removed]",
      "text/plain": [
       "<Figure size 432x288 with 1 Axes>"
      ]
     },
     "metadata": {},
     "output_type": "display_data"
    }
   ],
   "source": [
    "Q1 = df['P_L'].quantile(0.25)\n",
    "Q3 = df['P_L'].quantile(0.75)\n",
    "IQR = iqr(df['P_L'])\n",
    "df['P_L'] = df['P_L'].apply(lambda x: outlier_replace(x))\n",
    "\n",
    "# Checking Outliers Replacement with Boxplot \n",
    "plt.boxplot(df['P_L'])"
   ]
  },
  {
   "cell_type": "code",
   "execution_count": 9,
   "metadata": {},
   "outputs": [
    {
     "data": {
      "text/plain": [
       "{'whiskers': [<matplotlib.lines.Line2D at 0x7f4ee2c46b38>,\n",
       "  <matplotlib.lines.Line2D at 0x7f4ee2c46e80>],\n",
       " 'caps': [<matplotlib.lines.Line2D at 0x7f4ee2c50208>,\n",
       "  <matplotlib.lines.Line2D at 0x7f4ee2c50550>],\n",
       " 'boxes': [<matplotlib.lines.Line2D at 0x7f4ee2c469e8>],\n",
       " 'medians': [<matplotlib.lines.Line2D at 0x7f4ee2c50898>],\n",
       " 'fliers': [<matplotlib.lines.Line2D at 0x7f4ee2c50be0>],\n",
       " 'means': []}"
      ]
     },
     "execution_count": 9,
     "metadata": {},
     "output_type": "execute_result"
    },
    {
     "data": {
      "image/png": "[encoded data removed]",
      "text/plain": [
       "<Figure size 432x288 with 1 Axes>"
      ]
     },
     "metadata": {},
     "output_type": "display_data"
    }
   ],
   "source": [
    "Q1 = df['P_1DAY'].quantile(0.25)\n",
    "Q3 = df['P_1DAY'].quantile(0.75)\n",
    "IQR = iqr(df['P_1DAY'])\n",
    "df['P_1DAY'] = df['P_1DAY'].apply(lambda x: outlier_replace(x))\n",
    "\n",
    "# Checking Outliers Replacement with Boxplot \n",
    "plt.boxplot(df['P_1DAY'])"
   ]
  },
  {
   "cell_type": "code",
   "execution_count": 10,
   "metadata": {},
   "outputs": [
    {
     "data": {
      "text/plain": [
       "{'whiskers': [<matplotlib.lines.Line2D at 0x7f4ee2c2d208>,\n",
       "  <matplotlib.lines.Line2D at 0x7f4ee2c2d550>],\n",
       " 'caps': [<matplotlib.lines.Line2D at 0x7f4ee2c2d898>,\n",
       "  <matplotlib.lines.Line2D at 0x7f4ee2c2dbe0>],\n",
       " 'boxes': [<matplotlib.lines.Line2D at 0x7f4ee2c2d0b8>],\n",
       " 'medians': [<matplotlib.lines.Line2D at 0x7f4ee2c2df28>],\n",
       " 'fliers': [<matplotlib.lines.Line2D at 0x7f4ee2c382b0>],\n",
       " 'means': []}"
      ]
     },
     "execution_count": 10,
     "metadata": {},
     "output_type": "execute_result"
    },
    {
     "data": {
      "image/png": "[encoded data removed]",
      "text/plain": [
       "<Figure size 432x288 with 1 Axes>"
      ]
     },
     "metadata": {},
     "output_type": "display_data"
    }
   ],
   "source": [
    "Q1 = df['C1'].quantile(0.25)\n",
    "Q3 = df['C1'].quantile(0.75)\n",
    "IQR = iqr(df['C1'])\n",
    "df['C1'] = df['C1'].apply(lambda x: outlier_replace(x)) \n",
    "\n",
    "# Checking Outliers Replacement with Boxplot \n",
    "plt.boxplot(df['C1'])"
   ]
  },
  {
   "cell_type": "code",
   "execution_count": 11,
   "metadata": {},
   "outputs": [
    {
     "data": {
      "text/plain": [
       "{'whiskers': [<matplotlib.lines.Line2D at 0x7f4ee2b88320>,\n",
       "  <matplotlib.lines.Line2D at 0x7f4ee2b88668>],\n",
       " 'caps': [<matplotlib.lines.Line2D at 0x7f4ee2b889b0>,\n",
       "  <matplotlib.lines.Line2D at 0x7f4ee2b88cf8>],\n",
       " 'boxes': [<matplotlib.lines.Line2D at 0x7f4ee2b881d0>],\n",
       " 'medians': [<matplotlib.lines.Line2D at 0x7f4ee2b92080>],\n",
       " 'fliers': [<matplotlib.lines.Line2D at 0x7f4ee2b923c8>],\n",
       " 'means': []}"
      ]
     },
     "execution_count": 11,
     "metadata": {},
     "output_type": "execute_result"
    },
    {
     "data": {
      "image/png": "[encoded data removed]",
      "text/plain": [
       "<Figure size 432x288 with 1 Axes>"
      ]
     },
     "metadata": {},
     "output_type": "display_data"
    }
   ],
   "source": [
    "Q1 = df['C3'].quantile(0.25)\n",
    "Q3 = df['C3'].quantile(0.75)\n",
    "IQR = iqr(df['C3'])\n",
    "df['C3'] = df['C3'].apply(lambda x: outlier_replace(x))\n",
    "\n",
    "# Checking Outliers Replacement with Boxplot \n",
    "plt.boxplot(df['C3'])"
   ]
  },
  {
   "cell_type": "code",
   "execution_count": 12,
   "metadata": {},
   "outputs": [
    {
     "data": {
      "text/plain": [
       "{'whiskers': [<matplotlib.lines.Line2D at 0x7f4ee2b5ada0>,\n",
       "  <matplotlib.lines.Line2D at 0x7f4ee2b63128>],\n",
       " 'caps': [<matplotlib.lines.Line2D at 0x7f4ee2b63470>,\n",
       "  <matplotlib.lines.Line2D at 0x7f4ee2b637b8>],\n",
       " 'boxes': [<matplotlib.lines.Line2D at 0x7f4ee2b5ac50>],\n",
       " 'medians': [<matplotlib.lines.Line2D at 0x7f4ee2b63b00>],\n",
       " 'fliers': [<matplotlib.lines.Line2D at 0x7f4ee2b63e48>],\n",
       " 'means': []}"
      ]
     },
     "execution_count": 12,
     "metadata": {},
     "output_type": "execute_result"
    },
    {
     "data": {
      "image/png": "[encoded data removed]",
      "text/plain": [
       "<Figure size 432x288 with 1 Axes>"
      ]
     },
     "metadata": {},
     "output_type": "display_data"
    }
   ],
   "source": [
    "Q1 = df['T1'].quantile(0.25)\n",
    "Q3 = df['T1'].quantile(0.75)\n",
    "IQR = iqr(df['T1'])\n",
    "df['T1'] = df['T1'].apply(lambda x: outlier_replace(x)) \n",
    "\n",
    "# Checking Outliers Replacement with Boxplot \n",
    "plt.boxplot(df['T1'])"
   ]
  },
  {
   "cell_type": "code",
   "execution_count": 13,
   "metadata": {},
   "outputs": [
    {
     "data": {
      "text/plain": [
       "{'whiskers': [<matplotlib.lines.Line2D at 0x7f4ee2b409b0>,\n",
       "  <matplotlib.lines.Line2D at 0x7f4ee2b40cf8>],\n",
       " 'caps': [<matplotlib.lines.Line2D at 0x7f4ee2ac9080>,\n",
       "  <matplotlib.lines.Line2D at 0x7f4ee2ac93c8>],\n",
       " 'boxes': [<matplotlib.lines.Line2D at 0x7f4ee2b40860>],\n",
       " 'medians': [<matplotlib.lines.Line2D at 0x7f4ee2ac9710>],\n",
       " 'fliers': [<matplotlib.lines.Line2D at 0x7f4ee2ac9a58>],\n",
       " 'means': []}"
      ]
     },
     "execution_count": 13,
     "metadata": {},
     "output_type": "execute_result"
    },
    {
     "data": {
      "image/png": "[encoded data removed]",
      "text/plain": [
       "<Figure size 432x288 with 1 Axes>"
      ]
     },
     "metadata": {},
     "output_type": "display_data"
    }
   ],
   "source": [
    "Q1 = df['T2'].quantile(0.25)\n",
    "Q3 = df['T2'].quantile(0.75)\n",
    "IQR = iqr(df['T2'])\n",
    "df['T2'] = df['T2'].apply(lambda x: outlier_replace(x))\n",
    "\n",
    "# Checking Outliers Replacement with Boxplot \n",
    "plt.boxplot(df['T2'])"
   ]
  },
  {
   "cell_type": "code",
   "execution_count": 14,
   "metadata": {},
   "outputs": [
    {
     "data": {
      "text/plain": [
       "{'whiskers': [<matplotlib.lines.Line2D at 0x7f4ee2a99ac8>,\n",
       "  <matplotlib.lines.Line2D at 0x7f4ee2a99e10>],\n",
       " 'caps': [<matplotlib.lines.Line2D at 0x7f4ee2aa7198>,\n",
       "  <matplotlib.lines.Line2D at 0x7f4ee2aa74e0>],\n",
       " 'boxes': [<matplotlib.lines.Line2D at 0x7f4ee2a99978>],\n",
       " 'medians': [<matplotlib.lines.Line2D at 0x7f4ee2aa7828>],\n",
       " 'fliers': [<matplotlib.lines.Line2D at 0x7f4ee2aa7b70>],\n",
       " 'means': []}"
      ]
     },
     "execution_count": 14,
     "metadata": {},
     "output_type": "execute_result"
    },
    {
     "data": {
      "image/png": "[encoded data removed]",
      "text/plain": [
       "<Figure size 432x288 with 1 Axes>"
      ]
     },
     "metadata": {},
     "output_type": "display_data"
    }
   ],
   "source": [
    "Q1 = df['T3'].quantile(0.25)\n",
    "Q3 = df['T3'].quantile(0.75)\n",
    "IQR = iqr(df['T3'])\n",
    "df['T3'] = df['T3'].apply(lambda x: outlier_replace(x))\n",
    "\n",
    "# Checking Outliers Replacement with Boxplot \n",
    "plt.boxplot(df['T3'])"
   ]
  },
  {
   "cell_type": "code",
   "execution_count": 15,
   "metadata": {},
   "outputs": [
    {
     "data": {
      "text/plain": [
       "{'whiskers': [<matplotlib.lines.Line2D at 0x7f4ee2a786a0>,\n",
       "  <matplotlib.lines.Line2D at 0x7f4ee2a789e8>],\n",
       " 'caps': [<matplotlib.lines.Line2D at 0x7f4ee2a78d30>,\n",
       "  <matplotlib.lines.Line2D at 0x7f4ee2a030b8>],\n",
       " 'boxes': [<matplotlib.lines.Line2D at 0x7f4ee2a78550>],\n",
       " 'medians': [<matplotlib.lines.Line2D at 0x7f4ee2a03400>],\n",
       " 'fliers': [<matplotlib.lines.Line2D at 0x7f4ee2a03748>],\n",
       " 'means': []}"
      ]
     },
     "execution_count": 15,
     "metadata": {},
     "output_type": "execute_result"
    },
    {
     "data": {
      "image/png": "[encoded data removed]",
      "text/plain": [
       "<Figure size 432x288 with 1 Axes>"
      ]
     },
     "metadata": {},
     "output_type": "display_data"
    }
   ],
   "source": [
    "Q1 = df['T4'].quantile(0.25)\n",
    "Q3 = df['T4'].quantile(0.75)\n",
    "IQR = iqr(df['T4'])\n",
    "df['T4'] = df['T4'].apply(lambda x: outlier_replace(x))\n",
    "\n",
    "# Checking Outliers Replacement with Boxplot \n",
    "plt.boxplot(df['T4'])"
   ]
  },
  {
   "cell_type": "code",
   "execution_count": 16,
   "metadata": {},
   "outputs": [
    {
     "data": {
      "text/plain": [
       "{'whiskers': [<matplotlib.lines.Line2D at 0x7f4ee29d32b0>,\n",
       "  <matplotlib.lines.Line2D at 0x7f4ee29d35f8>],\n",
       " 'caps': [<matplotlib.lines.Line2D at 0x7f4ee29d3940>,\n",
       "  <matplotlib.lines.Line2D at 0x7f4ee29d3c88>],\n",
       " 'boxes': [<matplotlib.lines.Line2D at 0x7f4ee29d3160>],\n",
       " 'medians': [<matplotlib.lines.Line2D at 0x7f4ee29d3fd0>],\n",
       " 'fliers': [<matplotlib.lines.Line2D at 0x7f4ee29dd358>],\n",
       " 'means': []}"
      ]
     },
     "execution_count": 16,
     "metadata": {},
     "output_type": "execute_result"
    },
    {
     "data": {
      "image/png": "[encoded data removed]",
      "text/plain": [
       "<Figure size 432x288 with 1 Axes>"
      ]
     },
     "metadata": {},
     "output_type": "display_data"
    }
   ],
   "source": [
    "Q1 = df['T5'].quantile(0.25)\n",
    "Q3 = df['T5'].quantile(0.75)\n",
    "IQR = iqr(df['T5'])\n",
    "df['T5'] = df['T5'].apply(lambda x: outlier_replace(x))\n",
    "\n",
    "# Checking Outliers Replacement with Boxplot \n",
    "plt.boxplot(df['T5'])"
   ]
  },
  {
   "cell_type": "code",
   "execution_count": 17,
   "metadata": {},
   "outputs": [
    {
     "data": {
      "text/plain": [
       "{'whiskers': [<matplotlib.lines.Line2D at 0x7f4ee29ad908>,\n",
       "  <matplotlib.lines.Line2D at 0x7f4ee29adc50>],\n",
       " 'caps': [<matplotlib.lines.Line2D at 0x7f4ee29adf98>,\n",
       "  <matplotlib.lines.Line2D at 0x7f4ee29b7320>],\n",
       " 'boxes': [<matplotlib.lines.Line2D at 0x7f4ee29ad7b8>],\n",
       " 'medians': [<matplotlib.lines.Line2D at 0x7f4ee29b7668>],\n",
       " 'fliers': [<matplotlib.lines.Line2D at 0x7f4ee29b79b0>],\n",
       " 'means': []}"
      ]
     },
     "execution_count": 17,
     "metadata": {},
     "output_type": "execute_result"
    },
    {
     "data": {
      "image/png": "[encoded data removed]",
      "text/plain": [
       "<Figure size 432x288 with 1 Axes>"
      ]
     },
     "metadata": {},
     "output_type": "display_data"
    }
   ],
   "source": [
    "Q1 = df['S1'].quantile(0.25)\n",
    "Q3 = df['S1'].quantile(0.75)\n",
    "IQR = iqr(df['S1'])\n",
    "df['S1'] = df['S1'].apply(lambda x: outlier_replace(x)) \n",
    "\n",
    "# Checking Outliers Replacement with Boxplot \n",
    "plt.boxplot(df['S1'])"
   ]
  },
  {
   "cell_type": "code",
   "execution_count": 18,
   "metadata": {},
   "outputs": [
    {
     "data": {
      "text/plain": [
       "{'whiskers': [<matplotlib.lines.Line2D at 0x7f4ee29105c0>,\n",
       "  <matplotlib.lines.Line2D at 0x7f4ee2910908>],\n",
       " 'caps': [<matplotlib.lines.Line2D at 0x7f4ee2910c50>,\n",
       "  <matplotlib.lines.Line2D at 0x7f4ee2910f98>],\n",
       " 'boxes': [<matplotlib.lines.Line2D at 0x7f4ee2910470>],\n",
       " 'medians': [<matplotlib.lines.Line2D at 0x7f4ee2917320>],\n",
       " 'fliers': [<matplotlib.lines.Line2D at 0x7f4ee2917668>],\n",
       " 'means': []}"
      ]
     },
     "execution_count": 18,
     "metadata": {},
     "output_type": "execute_result"
    },
    {
     "data": {
      "image/png": "[encoded data removed]",
      "text/plain": [
       "<Figure size 432x288 with 1 Axes>"
      ]
     },
     "metadata": {},
     "output_type": "display_data"
    }
   ],
   "source": [
    "Q1 = df['S2'].quantile(0.25)\n",
    "Q3 = df['S2'].quantile(0.75)\n",
    "IQR = iqr(df['S2'])\n",
    "df['S2'] = df['S2'].apply(lambda x: outlier_replace(x))\n",
    "\n",
    "# Checking Outliers Replacement with Boxplot \n",
    "plt.boxplot(df['S2'])"
   ]
  },
  {
   "cell_type": "code",
   "execution_count": 19,
   "metadata": {},
   "outputs": [
    {
     "data": {
      "text/plain": [
       "{'whiskers': [<matplotlib.lines.Line2D at 0x7f4ee28ea550>,\n",
       "  <matplotlib.lines.Line2D at 0x7f4ee28ea898>],\n",
       " 'caps': [<matplotlib.lines.Line2D at 0x7f4ee28eabe0>,\n",
       "  <matplotlib.lines.Line2D at 0x7f4ee28eaf28>],\n",
       " 'boxes': [<matplotlib.lines.Line2D at 0x7f4ee28ea400>],\n",
       " 'medians': [<matplotlib.lines.Line2D at 0x7f4ee28f22b0>],\n",
       " 'fliers': [<matplotlib.lines.Line2D at 0x7f4ee28f25f8>],\n",
       " 'means': []}"
      ]
     },
     "execution_count": 19,
     "metadata": {},
     "output_type": "execute_result"
    },
    {
     "data": {
      "image/png": "[encoded data removed]",
      "text/plain": [
       "<Figure size 432x288 with 1 Axes>"
      ]
     },
     "metadata": {},
     "output_type": "display_data"
    }
   ],
   "source": [
    "Q1 = df['S3'].quantile(0.25)\n",
    "Q3 = df['S3'].quantile(0.75)\n",
    "IQR = iqr(df['S3'])\n",
    "df['S3'] = df['S3'].apply(lambda x: outlier_replace(x))\n",
    "\n",
    "# Checking Outliers Replacement with Boxplot \n",
    "plt.boxplot(df['S3'])"
   ]
  },
  {
   "cell_type": "code",
   "execution_count": 20,
   "metadata": {},
   "outputs": [
    {
     "data": {
      "text/plain": [
       "{'whiskers': [<matplotlib.lines.Line2D at 0x7f4ee2844160>,\n",
       "  <matplotlib.lines.Line2D at 0x7f4ee28444a8>],\n",
       " 'caps': [<matplotlib.lines.Line2D at 0x7f4ee28447f0>,\n",
       "  <matplotlib.lines.Line2D at 0x7f4ee2844b38>],\n",
       " 'boxes': [<matplotlib.lines.Line2D at 0x7f4ee28b8fd0>],\n",
       " 'medians': [<matplotlib.lines.Line2D at 0x7f4ee2844e80>],\n",
       " 'fliers': [<matplotlib.lines.Line2D at 0x7f4ee284d208>],\n",
       " 'means': []}"
      ]
     },
     "execution_count": 20,
     "metadata": {},
     "output_type": "execute_result"
    },
    {
     "data": {
      "image/png": "[encoded data removed]",
      "text/plain": [
       "<Figure size 432x288 with 1 Axes>"
      ]
     },
     "metadata": {},
     "output_type": "display_data"
    }
   ],
   "source": [
    "Q1 = df[\"C3'\"].quantile(0.25)\n",
    "Q3 = df[\"C3'\"].quantile(0.75)\n",
    "IQR = iqr(df[\"C3'\"])\n",
    "df[\"C3'\"] = df[\"C3'\"].apply(lambda x: outlier_replace(x)) \n",
    "\n",
    "# Checking Outliers Replacement with Boxplot \n",
    "plt.boxplot(df[\"C3'\"])"
   ]
  },
  {
   "cell_type": "code",
   "execution_count": 21,
   "metadata": {},
   "outputs": [
    {
     "data": {
      "text/plain": [
       "{'whiskers': [<matplotlib.lines.Line2D at 0x7f4ee281c2b0>,\n",
       "  <matplotlib.lines.Line2D at 0x7f4ee281c5f8>],\n",
       " 'caps': [<matplotlib.lines.Line2D at 0x7f4ee281c940>,\n",
       "  <matplotlib.lines.Line2D at 0x7f4ee281cc88>],\n",
       " 'boxes': [<matplotlib.lines.Line2D at 0x7f4ee281c160>],\n",
       " 'medians': [<matplotlib.lines.Line2D at 0x7f4ee281cfd0>],\n",
       " 'fliers': [<matplotlib.lines.Line2D at 0x7f4ee2828358>],\n",
       " 'means': []}"
      ]
     },
     "execution_count": 21,
     "metadata": {},
     "output_type": "execute_result"
    },
    {
     "data": {
      "image/png": "[encoded data removed]",
      "text/plain": [
       "<Figure size 432x288 with 1 Axes>"
      ]
     },
     "metadata": {},
     "output_type": "display_data"
    }
   ],
   "source": [
    "Q1 = df[\"C5'\"].quantile(0.25)\n",
    "Q3 = df[\"C5'\"].quantile(0.75)\n",
    "IQR = iqr(df[\"C5'\"])\n",
    "df[\"C5'\"] = df[\"C5'\"].apply(lambda x: outlier_replace(x)) \n",
    "\n",
    "# Checking Outliers Replacement with Boxplot \n",
    "plt.boxplot(df[\"C5'\"])"
   ]
  },
  {
   "cell_type": "code",
   "execution_count": 22,
   "metadata": {},
   "outputs": [
    {
     "data": {
      "text/plain": [
       "{'whiskers': [<matplotlib.lines.Line2D at 0x7f4ee27831d0>,\n",
       "  <matplotlib.lines.Line2D at 0x7f4ee2783518>],\n",
       " 'caps': [<matplotlib.lines.Line2D at 0x7f4ee2783860>,\n",
       "  <matplotlib.lines.Line2D at 0x7f4ee2783ba8>],\n",
       " 'boxes': [<matplotlib.lines.Line2D at 0x7f4ee2783080>],\n",
       " 'medians': [<matplotlib.lines.Line2D at 0x7f4ee2783ef0>],\n",
       " 'fliers': [<matplotlib.lines.Line2D at 0x7f4ee278d278>],\n",
       " 'means': []}"
      ]
     },
     "execution_count": 22,
     "metadata": {},
     "output_type": "execute_result"
    },
    {
     "data": {
      "image/png": "[encoded data removed]",
      "text/plain": [
       "<Figure size 432x288 with 1 Axes>"
      ]
     },
     "metadata": {},
     "output_type": "display_data"
    }
   ],
   "source": [
    "Q1 = df[\"C6'\"].quantile(0.25)\n",
    "Q3 = df[\"C6'\"].quantile(0.75)\n",
    "IQR = iqr(df[\"C6'\"])\n",
    "df[\"C6'\"] = df[\"C6'\"].apply(lambda x: outlier_replace(x)) \n",
    "\n",
    "# Checking Outliers Replacement with Boxplot \n",
    "plt.boxplot(df[\"C6'\"])"
   ]
  },
  {
   "cell_type": "code",
   "execution_count": 23,
   "metadata": {},
   "outputs": [
    {
     "data": {
      "text/plain": [
       "I3        4.871669e+03\n",
       "P_IPO     1.339091e+01\n",
       "P_H       1.497707e+01\n",
       "P_L       1.296900e+01\n",
       "P_1DAY    1.524347e+01\n",
       "C1        1.153633e+02\n",
       "C2        8.636364e-01\n",
       "C3       -9.747067e-02\n",
       "C4        7.341633e-03\n",
       "C5        4.916458e+07\n",
       "C6        1.237106e+07\n",
       "C7        4.585873e+02\n",
       "T1        4.530839e+02\n",
       "T2        1.232365e+04\n",
       "T3        1.102979e+04\n",
       "T4        2.863776e+02\n",
       "T5        6.385499e+02\n",
       "S1        6.426613e+01\n",
       "S2        1.068977e+02\n",
       "S3        1.375088e+02\n",
       "Y1        5.131965e-01\n",
       "Y2        7.038123e-01\n",
       "C3'       5.293255e-01\n",
       "C5'       3.853964e+00\n",
       "P(mid)    1.449081e+01\n",
       "C6'       3.328752e+00\n",
       "dtype: float64"
      ]
     },
     "execution_count": 23,
     "metadata": {},
     "output_type": "execute_result"
    }
   ],
   "source": [
    "df.mean()"
   ]
  },
  {
   "cell_type": "code",
   "execution_count": null,
   "metadata": {},
   "outputs": [],
   "source": []
  },
  {
   "cell_type": "code",
   "execution_count": 24,
   "metadata": {},
   "outputs": [],
   "source": [
    "# Exporting DataFrame as CSV \n",
    "df.to_csv('OutlierFix2', ',')"
   ]
  }
 ],
 "metadata": {
  "kernelspec": {
   "display_name": "Python 3",
   "language": "python",
   "name": "python3"
  },
  "language_info": {
   "codemirror_mode": {
    "name": "ipython",
    "version": 3
   },
   "file_extension": ".py",
   "mimetype": "text/x-python",
   "name": "python",
   "nbconvert_exporter": "python",
   "pygments_lexer": "ipython3",
   "version": "3.6.5"
  }
 },
 "nbformat": 4,
 "nbformat_minor": 2
}
