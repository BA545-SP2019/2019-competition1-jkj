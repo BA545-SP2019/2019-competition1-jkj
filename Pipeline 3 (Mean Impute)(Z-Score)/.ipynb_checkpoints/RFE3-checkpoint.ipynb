{
 "cells": [
  {
   "cell_type": "code",
   "execution_count": 2,
   "metadata": {},
   "outputs": [],
   "source": [
    "import numpy as np \n",
    "import pandas as pd\n",
    "import matplotlib.pyplot as plt\n",
    "from sklearn import preprocessing\n",
    "import seaborn as sns\n",
    "%matplotlib inline\n",
    "plt.style.use('ggplot')"
   ]
  },
  {
   "cell_type": "code",
   "execution_count": 3,
   "metadata": {},
   "outputs": [
    {
     "data": {
      "text/html": [
       "<div>\n",
       "<style scoped>\n",
       "    .dataframe tbody tr th:only-of-type {\n",
       "        vertical-align: middle;\n",
       "    }\n",
       "\n",
       "    .dataframe tbody tr th {\n",
       "        vertical-align: top;\n",
       "    }\n",
       "\n",
       "    .dataframe thead th {\n",
       "        text-align: right;\n",
       "    }\n",
       "</style>\n",
       "<table border=\"1\" class=\"dataframe\">\n",
       "  <thead>\n",
       "    <tr style=\"text-align: right;\">\n",
       "      <th></th>\n",
       "      <th>Y1</th>\n",
       "      <th>Y2</th>\n",
       "      <th>C1</th>\n",
       "      <th>C2</th>\n",
       "      <th>C4</th>\n",
       "      <th>C7</th>\n",
       "      <th>C3'</th>\n",
       "      <th>C5'</th>\n",
       "      <th>C6'</th>\n",
       "      <th>T4'</th>\n",
       "      <th>T3'</th>\n",
       "      <th>T5'</th>\n",
       "      <th>S1'</th>\n",
       "      <th>S2'</th>\n",
       "      <th>S3'</th>\n",
       "    </tr>\n",
       "  </thead>\n",
       "  <tbody>\n",
       "    <tr>\n",
       "      <th>0</th>\n",
       "      <td>0</td>\n",
       "      <td>1</td>\n",
       "      <td>2.086360</td>\n",
       "      <td>1.0</td>\n",
       "      <td>0.029074</td>\n",
       "      <td>1.710498</td>\n",
       "      <td>1</td>\n",
       "      <td>1.351792</td>\n",
       "      <td>1.306758</td>\n",
       "      <td>0.640426</td>\n",
       "      <td>0.979579</td>\n",
       "      <td>-1.242030</td>\n",
       "      <td>0.172652</td>\n",
       "      <td>-2.012693</td>\n",
       "      <td>-1.937864</td>\n",
       "    </tr>\n",
       "    <tr>\n",
       "      <th>1</th>\n",
       "      <td>1</td>\n",
       "      <td>0</td>\n",
       "      <td>2.413300</td>\n",
       "      <td>0.0</td>\n",
       "      <td>-0.013352</td>\n",
       "      <td>1.413903</td>\n",
       "      <td>0</td>\n",
       "      <td>2.487306</td>\n",
       "      <td>0.000000</td>\n",
       "      <td>0.644753</td>\n",
       "      <td>1.275036</td>\n",
       "      <td>-1.031661</td>\n",
       "      <td>0.180631</td>\n",
       "      <td>-1.697064</td>\n",
       "      <td>-1.706131</td>\n",
       "    </tr>\n",
       "    <tr>\n",
       "      <th>2</th>\n",
       "      <td>1</td>\n",
       "      <td>0</td>\n",
       "      <td>1.954243</td>\n",
       "      <td>1.0</td>\n",
       "      <td>0.020715</td>\n",
       "      <td>0.867939</td>\n",
       "      <td>0</td>\n",
       "      <td>1.214656</td>\n",
       "      <td>0.000000</td>\n",
       "      <td>0.636816</td>\n",
       "      <td>0.630234</td>\n",
       "      <td>-1.568996</td>\n",
       "      <td>0.171718</td>\n",
       "      <td>-2.562365</td>\n",
       "      <td>-2.302728</td>\n",
       "    </tr>\n",
       "    <tr>\n",
       "      <th>3</th>\n",
       "      <td>1</td>\n",
       "      <td>1</td>\n",
       "      <td>2.320146</td>\n",
       "      <td>1.0</td>\n",
       "      <td>0.020023</td>\n",
       "      <td>0.930745</td>\n",
       "      <td>0</td>\n",
       "      <td>1.193831</td>\n",
       "      <td>0.000000</td>\n",
       "      <td>0.539634</td>\n",
       "      <td>0.792909</td>\n",
       "      <td>-1.374161</td>\n",
       "      <td>0.187962</td>\n",
       "      <td>-2.310027</td>\n",
       "      <td>-2.039486</td>\n",
       "    </tr>\n",
       "    <tr>\n",
       "      <th>4</th>\n",
       "      <td>0</td>\n",
       "      <td>1</td>\n",
       "      <td>1.903090</td>\n",
       "      <td>1.0</td>\n",
       "      <td>-0.034895</td>\n",
       "      <td>2.800922</td>\n",
       "      <td>1</td>\n",
       "      <td>1.315407</td>\n",
       "      <td>1.195813</td>\n",
       "      <td>0.587413</td>\n",
       "      <td>1.045809</td>\n",
       "      <td>-1.223546</td>\n",
       "      <td>0.177173</td>\n",
       "      <td>-1.907693</td>\n",
       "      <td>-1.858162</td>\n",
       "    </tr>\n",
       "  </tbody>\n",
       "</table>\n",
       "</div>"
      ],
      "text/plain": [
       "   Y1  Y2        C1   C2        C4        C7  C3'       C5'       C6'  \\\n",
       "0   0   1  2.086360  1.0  0.029074  1.710498    1  1.351792  1.306758   \n",
       "1   1   0  2.413300  0.0 -0.013352  1.413903    0  2.487306  0.000000   \n",
       "2   1   0  1.954243  1.0  0.020715  0.867939    0  1.214656  0.000000   \n",
       "3   1   1  2.320146  1.0  0.020023  0.930745    0  1.193831  0.000000   \n",
       "4   0   1  1.903090  1.0 -0.034895  2.800922    1  1.315407  1.195813   \n",
       "\n",
       "        T4'       T3'       T5'       S1'       S2'       S3'  \n",
       "0  0.640426  0.979579 -1.242030  0.172652 -2.012693 -1.937864  \n",
       "1  0.644753  1.275036 -1.031661  0.180631 -1.697064 -1.706131  \n",
       "2  0.636816  0.630234 -1.568996  0.171718 -2.562365 -2.302728  \n",
       "3  0.539634  0.792909 -1.374161  0.187962 -2.310027 -2.039486  \n",
       "4  0.587413  1.045809 -1.223546  0.177173 -1.907693 -1.858162  "
      ]
     },
     "execution_count": 3,
     "metadata": {},
     "output_type": "execute_result"
    }
   ],
   "source": [
    "# Creating DataFrame df from CSV StandDF\n",
    "df = pd.read_csv('ReadyDF3', index_col=0)\n",
    "\n",
    "# Displaying first five results \n",
    "df.head()"
   ]
  },
  {
   "cell_type": "code",
   "execution_count": 4,
   "metadata": {},
   "outputs": [],
   "source": [
    "## Separate target variables from Data Frame \n",
    "## Using .ravel() to create a contiguous flattened array to change the shape of (n_samples)\n",
    "\n",
    "####ERROR for.len()---vector y was passed when a 1d array was expected. \n",
    "####Please change the shape of y to (n_samples, ), for example using ravel().\n",
    "  ##y = column_or_1d(y, warn=True)\n",
    "    \n",
    "y1 =df.loc[:, ['Y1']].values.ravel()\n",
    "y2 =df.loc[:, ['Y2']].values.ravel()\n",
    "\n",
    "## Drop target variables from Data Frame \n",
    "df = df.drop(['Y1','Y2'], axis=1)\n",
    "\n",
    "## Drop C6' from DF1 \n",
    "df1 = df.drop([\"C6'\"], axis=1)"
   ]
  },
  {
   "cell_type": "code",
   "execution_count": null,
   "metadata": {},
   "outputs": [],
   "source": []
  },
  {
   "cell_type": "code",
   "execution_count": 5,
   "metadata": {},
   "outputs": [
    {
     "name": "stdout",
     "output_type": "stream",
     "text": [
      "[False False  True False False False  True False False False  True False]\n",
      "[ 5  4  1  9  6  7  1  8  2  3  1 10]\n"
     ]
    }
   ],
   "source": [
    "# Recursive Feature Elimination for Y1 target \n",
    "from sklearn import datasets\n",
    "from sklearn.feature_selection import RFE\n",
    "from sklearn.linear_model import LogisticRegression\n",
    "# create a base classifier used to evaluate a subset of attributes\n",
    "model = LogisticRegression()\n",
    "# create the RFE model and select 3 attributes\n",
    "rfe = RFE(model, 3)\n",
    "rfe = rfe.fit(df1, y1)\n",
    "# summarize the selection of the attributes\n",
    "print(rfe.support_)\n",
    "print(rfe.ranking_)"
   ]
  },
  {
   "cell_type": "code",
   "execution_count": 6,
   "metadata": {},
   "outputs": [
    {
     "name": "stdout",
     "output_type": "stream",
     "text": [
      "[False False  True False False False  True False False False False  True\n",
      " False]\n",
      "[ 8  4  1 10 11  5  1  6  3  7  9  1  2]\n"
     ]
    }
   ],
   "source": [
    "# Recursive Feature Elimination for Y2 target \n",
    "from sklearn import datasets\n",
    "from sklearn.feature_selection import RFE\n",
    "from sklearn.linear_model import LogisticRegression\n",
    "# create a base classifier used to evaluate a subset of attributes\n",
    "model = LogisticRegression()\n",
    "# create the RFE model and select 3 attributes\n",
    "rfe = RFE(model, 3)\n",
    "rfe = rfe.fit(df, y2)\n",
    "# summarize the selection of the attributes\n",
    "print(rfe.support_)\n",
    "print(rfe.ranking_)"
   ]
  },
  {
   "cell_type": "code",
   "execution_count": 13,
   "metadata": {},
   "outputs": [
    {
     "name": "stdout",
     "output_type": "stream",
     "text": [
      "13\n"
     ]
    }
   ],
   "source": [
    "\n",
    "# Checking how many features this dataset have\n",
    "\n",
    "print(df.shape[1])"
   ]
  },
  {
   "cell_type": "code",
   "execution_count": 8,
   "metadata": {},
   "outputs": [
    {
     "name": "stdout",
     "output_type": "stream",
     "text": [
      "1\n",
      "Model with the best 1 features\n",
      "[False False False False False False  True False False False False False]\n",
      "[ 7  6  2 11  8  9  1 10  4  5  3 12]\n",
      "2\n",
      "Model with the best 2 features\n",
      "[False False  True False False False  True False False False False False]\n",
      "[ 6  5  1 10  7  8  1  9  3  4  2 11]\n",
      "3\n",
      "Model with the best 3 features\n",
      "[False False  True False False False  True False False False  True False]\n",
      "[ 5  4  1  9  6  7  1  8  2  3  1 10]\n",
      "4\n",
      "Model with the best 4 features\n",
      "[False False  True False False False  True False  True False  True False]\n",
      "[4 3 1 8 5 6 1 7 1 2 1 9]\n",
      "5\n",
      "Model with the best 5 features\n",
      "[False False  True False False False  True False  True  True  True False]\n",
      "[3 2 1 7 4 5 1 6 1 1 1 8]\n",
      "6\n",
      "Model with the best 6 features\n",
      "[False  True  True False False False  True False  True  True  True False]\n",
      "[2 1 1 6 3 4 1 5 1 1 1 7]\n",
      "7\n",
      "Model with the best 7 features\n",
      "[ True  True  True False False False  True False  True  True  True False]\n",
      "[1 1 1 5 2 3 1 4 1 1 1 6]\n",
      "8\n",
      "Model with the best 8 features\n",
      "[ True  True  True False  True False  True False  True  True  True False]\n",
      "[1 1 1 4 1 2 1 3 1 1 1 5]\n",
      "9\n",
      "Model with the best 9 features\n",
      "[ True  True  True False  True  True  True False  True  True  True False]\n",
      "[1 1 1 3 1 1 1 2 1 1 1 4]\n",
      "10\n",
      "Model with the best 10 features\n",
      "[ True  True  True False  True  True  True  True  True  True  True False]\n",
      "[1 1 1 2 1 1 1 1 1 1 1 3]\n",
      "11\n",
      "Model with the best 11 features\n",
      "[ True  True  True  True  True  True  True  True  True  True  True False]\n",
      "[1 1 1 1 1 1 1 1 1 1 1 2]\n",
      "12\n",
      "Model with the best 12 features\n",
      "[ True  True  True  True  True  True  True  True  True  True  True  True]\n",
      "[1 1 1 1 1 1 1 1 1 1 1 1]\n",
      "13\n",
      "Model with the best 13 features\n",
      "[ True  True  True  True  True  True  True  True  True  True  True  True]\n",
      "[1 1 1 1 1 1 1 1 1 1 1 1]\n"
     ]
    }
   ],
   "source": [
    "for i in range(1, df.shape[1]+1):\n",
    "    print(i)\n",
    "    # create a base classifier used to evaluate a subset of attributes\n",
    "    model = LogisticRegression()\n",
    "    # create the RFE model and select 3 attributes; Target Variable Y1\n",
    "    rfe = RFE(model, i)\n",
    "    rfe = rfe.fit(df1, y1)\n",
    "    # summarize the selection of the attributes\n",
    "    print('Model with the best', i, 'features')\n",
    "    print(rfe.support_)\n",
    "    print(rfe.ranking_)"
   ]
  },
  {
   "cell_type": "code",
   "execution_count": 9,
   "metadata": {},
   "outputs": [
    {
     "name": "stdout",
     "output_type": "stream",
     "text": [
      "1\n",
      "Model with the best 1 features\n",
      "[False False False False False False  True False False False False False\n",
      " False]\n",
      "[10  6  2 12 13  7  1  8  5  9 11  3  4]\n",
      "2\n",
      "Model with the best 2 features\n",
      "[False False  True False False False  True False False False False False\n",
      " False]\n",
      "[ 9  5  1 11 12  6  1  7  4  8 10  2  3]\n",
      "3\n",
      "Model with the best 3 features\n",
      "[False False  True False False False  True False False False False  True\n",
      " False]\n",
      "[ 8  4  1 10 11  5  1  6  3  7  9  1  2]\n",
      "4\n",
      "Model with the best 4 features\n",
      "[False False  True False False False  True False False False False  True\n",
      "  True]\n",
      "[ 7  3  1  9 10  4  1  5  2  6  8  1  1]\n",
      "5\n",
      "Model with the best 5 features\n",
      "[False False  True False False False  True False  True False False  True\n",
      "  True]\n",
      "[6 2 1 8 9 3 1 4 1 5 7 1 1]\n",
      "6\n",
      "Model with the best 6 features\n",
      "[False  True  True False False False  True False  True False False  True\n",
      "  True]\n",
      "[5 1 1 7 8 2 1 3 1 4 6 1 1]\n",
      "7\n",
      "Model with the best 7 features\n",
      "[False  True  True False False  True  True False  True False False  True\n",
      "  True]\n",
      "[4 1 1 6 7 1 1 2 1 3 5 1 1]\n",
      "8\n",
      "Model with the best 8 features\n",
      "[False  True  True False False  True  True  True  True False False  True\n",
      "  True]\n",
      "[3 1 1 5 6 1 1 1 1 2 4 1 1]\n",
      "9\n",
      "Model with the best 9 features\n",
      "[False  True  True False False  True  True  True  True  True False  True\n",
      "  True]\n",
      "[2 1 1 4 5 1 1 1 1 1 3 1 1]\n",
      "10\n",
      "Model with the best 10 features\n",
      "[ True  True  True False False  True  True  True  True  True False  True\n",
      "  True]\n",
      "[1 1 1 3 4 1 1 1 1 1 2 1 1]\n",
      "11\n",
      "Model with the best 11 features\n",
      "[ True  True  True False False  True  True  True  True  True  True  True\n",
      "  True]\n",
      "[1 1 1 2 3 1 1 1 1 1 1 1 1]\n",
      "12\n",
      "Model with the best 12 features\n",
      "[ True  True  True  True False  True  True  True  True  True  True  True\n",
      "  True]\n",
      "[1 1 1 1 2 1 1 1 1 1 1 1 1]\n",
      "13\n",
      "Model with the best 13 features\n",
      "[ True  True  True  True  True  True  True  True  True  True  True  True\n",
      "  True]\n",
      "[1 1 1 1 1 1 1 1 1 1 1 1 1]\n"
     ]
    }
   ],
   "source": [
    "for i in range(1, df.shape[1]+1):\n",
    "    print(i)\n",
    "    # create a base classifier used to evaluate a subset of attributes\n",
    "    model = LogisticRegression()\n",
    "    # create the RFE model and select 3 attributes; Target Variable Y2\n",
    "    rfe = RFE(model, i)\n",
    "    rfe = rfe.fit(df, y2)\n",
    "    # summarize the selection of the attributes\n",
    "    print('Model with the best', i, 'features')\n",
    "    print(rfe.support_)\n",
    "    print(rfe.ranking_)"
   ]
  },
  {
   "cell_type": "code",
   "execution_count": 10,
   "metadata": {},
   "outputs": [
    {
     "name": "stdout",
     "output_type": "stream",
     "text": [
      "[False False False False False False False False False False False False]\n"
     ]
    }
   ],
   "source": [
    "###extra trees classifier to report feature importance, \n",
    "###and use an abitrary 0.4 value to filter the features\n",
    "#The idea is whatever features passing the threshold would be selected\n",
    "\n",
    "# Feature Importance\n",
    "from sklearn import datasets\n",
    "from sklearn import metrics\n",
    "from sklearn.ensemble import ExtraTreesClassifier\n",
    "\n",
    "# fit an Extra Trees model to the data; Target Variable Y1\n",
    "\n",
    "model = ExtraTreesClassifier()\n",
    "model.fit(df1, y1)\n",
    "# display the relative importance of each attribute\n",
    "print(model.feature_importances_ > .5)\n"
   ]
  },
  {
   "cell_type": "code",
   "execution_count": 11,
   "metadata": {},
   "outputs": [
    {
     "name": "stdout",
     "output_type": "stream",
     "text": [
      "[False False False False False False False False False False False False\n",
      " False]\n"
     ]
    }
   ],
   "source": [
    "###extra trees classifier to report feature importance, \n",
    "###and use an abitrary 0.4 value to filter the features\n",
    "#The idea is whatever features passing the threshold would be selected\n",
    "\n",
    "# Feature Importance\n",
    "from sklearn import datasets\n",
    "from sklearn import metrics\n",
    "from sklearn.ensemble import ExtraTreesClassifier\n",
    "\n",
    "# fit an Extra Trees model to the data; Target Variable \n",
    "\n",
    "model = ExtraTreesClassifier()\n",
    "model.fit(df, y2)\n",
    "# display the relative importance of each attribute\n",
    "print(model.feature_importances_ > .5)"
   ]
  },
  {
   "cell_type": "code",
   "execution_count": null,
   "metadata": {},
   "outputs": [],
   "source": []
  },
  {
   "cell_type": "code",
   "execution_count": null,
   "metadata": {},
   "outputs": [],
   "source": []
  },
  {
   "cell_type": "code",
   "execution_count": null,
   "metadata": {},
   "outputs": [],
   "source": []
  },
  {
   "cell_type": "code",
   "execution_count": null,
   "metadata": {},
   "outputs": [],
   "source": [
    "\n"
   ]
  },
  {
   "cell_type": "code",
   "execution_count": null,
   "metadata": {},
   "outputs": [],
   "source": []
  },
  {
   "cell_type": "code",
   "execution_count": null,
   "metadata": {},
   "outputs": [],
   "source": []
  },
  {
   "cell_type": "code",
   "execution_count": null,
   "metadata": {},
   "outputs": [],
   "source": []
  },
  {
   "cell_type": "code",
   "execution_count": null,
   "metadata": {},
   "outputs": [],
   "source": []
  },
  {
   "cell_type": "code",
   "execution_count": null,
   "metadata": {},
   "outputs": [],
   "source": []
  },
  {
   "cell_type": "code",
   "execution_count": null,
   "metadata": {},
   "outputs": [],
   "source": []
  },
  {
   "cell_type": "code",
   "execution_count": null,
   "metadata": {},
   "outputs": [],
   "source": []
  }
 ],
 "metadata": {
  "kernelspec": {
   "display_name": "Python 3",
   "language": "python",
   "name": "python3"
  },
  "language_info": {
   "codemirror_mode": {
    "name": "ipython",
    "version": 3
   },
   "file_extension": ".py",
   "mimetype": "text/x-python",
   "name": "python",
   "nbconvert_exporter": "python",
   "pygments_lexer": "ipython3",
   "version": "3.6.5"
  }
 },
 "nbformat": 4,
 "nbformat_minor": 2
}
