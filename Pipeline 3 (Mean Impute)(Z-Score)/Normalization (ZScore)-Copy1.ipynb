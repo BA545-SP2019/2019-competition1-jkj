{
 "cells": [
  {
   "cell_type": "markdown",
   "metadata": {},
   "source": [
    "# Normalization using Z-Score"
   ]
  },
  {
   "cell_type": "code",
   "execution_count": 1,
   "metadata": {},
   "outputs": [],
   "source": [
    "import numpy as np \n",
    "import pandas as pd\n",
    "import matplotlib.pyplot as plt\n",
    "from sklearn import preprocessing\n",
    "%matplotlib inline\n",
    "plt.style.use('ggplot')"
   ]
  },
  {
   "cell_type": "code",
   "execution_count": 3,
   "metadata": {},
   "outputs": [
    {
     "data": {
      "text/html": [
       "<div>\n",
       "<style scoped>\n",
       "    .dataframe tbody tr th:only-of-type {\n",
       "        vertical-align: middle;\n",
       "    }\n",
       "\n",
       "    .dataframe tbody tr th {\n",
       "        vertical-align: top;\n",
       "    }\n",
       "\n",
       "    .dataframe thead th {\n",
       "        text-align: right;\n",
       "    }\n",
       "</style>\n",
       "<table border=\"1\" class=\"dataframe\">\n",
       "  <thead>\n",
       "    <tr style=\"text-align: right;\">\n",
       "      <th></th>\n",
       "      <th>C1</th>\n",
       "      <th>C2</th>\n",
       "      <th>C4</th>\n",
       "      <th>C7</th>\n",
       "      <th>C3'</th>\n",
       "      <th>C5'</th>\n",
       "      <th>C6'</th>\n",
       "      <th>T4'</th>\n",
       "      <th>T3'</th>\n",
       "      <th>T5'</th>\n",
       "      <th>S1'</th>\n",
       "      <th>S2'</th>\n",
       "      <th>S3'</th>\n",
       "    </tr>\n",
       "  </thead>\n",
       "  <tbody>\n",
       "    <tr>\n",
       "      <th>0</th>\n",
       "      <td>2.08636</td>\n",
       "      <td>1.0</td>\n",
       "      <td>0.029074</td>\n",
       "      <td>1.710498</td>\n",
       "      <td>1</td>\n",
       "      <td>1.351792</td>\n",
       "      <td>1.306758</td>\n",
       "      <td>0.640426</td>\n",
       "      <td>0.979579</td>\n",
       "      <td>-1.242030</td>\n",
       "      <td>0.172652</td>\n",
       "      <td>-2.012693</td>\n",
       "      <td>-1.937864</td>\n",
       "    </tr>\n",
       "    <tr>\n",
       "      <th>1</th>\n",
       "      <td>2.41330</td>\n",
       "      <td>0.0</td>\n",
       "      <td>-0.013352</td>\n",
       "      <td>1.413903</td>\n",
       "      <td>0</td>\n",
       "      <td>2.487306</td>\n",
       "      <td>0.000000</td>\n",
       "      <td>0.644753</td>\n",
       "      <td>1.275036</td>\n",
       "      <td>-1.031661</td>\n",
       "      <td>0.180631</td>\n",
       "      <td>-1.697064</td>\n",
       "      <td>-1.706131</td>\n",
       "    </tr>\n",
       "  </tbody>\n",
       "</table>\n",
       "</div>"
      ],
      "text/plain": [
       "        C1   C2        C4        C7  C3'       C5'       C6'       T4'  \\\n",
       "0  2.08636  1.0  0.029074  1.710498    1  1.351792  1.306758  0.640426   \n",
       "1  2.41330  0.0 -0.013352  1.413903    0  2.487306  0.000000  0.644753   \n",
       "\n",
       "        T3'       T5'       S1'       S2'       S3'  \n",
       "0  0.979579 -1.242030  0.172652 -2.012693 -1.937864  \n",
       "1  1.275036 -1.031661  0.180631 -1.697064 -1.706131  "
      ]
     },
     "execution_count": 3,
     "metadata": {},
     "output_type": "execute_result"
    }
   ],
   "source": [
    "# Creating DataFrame norm_df from CSV NormDF\n",
    "df = pd.read_csv('OutlierFix3', index_col=0)\n",
    "\n",
    "# Displaying first five results \n",
    "df.head(2)"
   ]
  },
  {
   "cell_type": "code",
   "execution_count": 4,
   "metadata": {},
   "outputs": [
    {
     "name": "stdout",
     "output_type": "stream",
     "text": [
      "[0, 0, 0, 0, 0, 0, 0, 0, 0, 0, 0, 0, 0]\n"
     ]
    }
   ],
   "source": [
    "# checking for null values \n",
    "print(df.isnull().sum(axis=0).tolist())"
   ]
  },
  {
   "cell_type": "code",
   "execution_count": 5,
   "metadata": {},
   "outputs": [],
   "source": [
    "# Column Names \n",
    "norm_names = df.columns\n",
    "\n",
    "# Scaler function from Preprocessing \n",
    "scaler = preprocessing.StandardScaler()\n",
    "\n",
    "# Transforming norm_df\n",
    "norm_df = scaler.fit_transform(df)\n",
    "\n",
    "# Making DataFrame from Standardized data \n",
    "# Using column names defined earlier \n",
    "norm_df = pd.DataFrame(norm_df, columns=norm_names)"
   ]
  },
  {
   "cell_type": "code",
   "execution_count": 6,
   "metadata": {},
   "outputs": [
    {
     "name": "stdout",
     "output_type": "stream",
     "text": [
      "           C1        C2        C4        C7       C3'       C5'       C6'  \\\n",
      "0    0.042131  0.397360  0.671410 -0.412054  0.942972  0.072164  1.287086   \n",
      "1    1.340837 -2.516611 -0.659892 -0.759700 -1.060477  2.661915 -0.769217   \n",
      "2   -0.482679  0.397360  0.409100 -1.399638 -1.060477 -0.240601 -0.769217   \n",
      "3    0.970803  0.397360  0.387390 -1.326020 -1.060477 -0.288097 -0.769217   \n",
      "4   -0.685873  0.397360 -1.335901  0.866057  0.942972 -0.010818  1.112503   \n",
      "5   -0.407661  0.397360 -2.047002  0.273953  0.942972  0.968347 -0.769217   \n",
      "6    0.124954  0.397360 -0.112096 -1.583038 -1.060477 -0.177867 -0.769217   \n",
      "7   -0.463617 -2.516611  1.033708  0.747025 -1.060477 -0.993869 -0.769217   \n",
      "8   -0.300917  0.397360 -1.160842  0.450674 -1.060477  0.574540 -0.769217   \n",
      "9   -0.200394  0.397360 -1.023060  0.740419  0.942972 -0.462626 -0.769217   \n",
      "10   0.395450  0.397360 -0.012414  0.747025  0.942972  0.136894 -0.769217   \n",
      "11  -0.318255  0.397360  0.245052 -2.996994 -1.060477 -0.878880 -0.769217   \n",
      "12   0.097786  0.397360  0.378225 -0.748768  0.942972  0.282288  1.173624   \n",
      "13   0.279549  0.397360 -0.439105 -3.742368 -1.060477  0.074106  1.231836   \n",
      "14   2.433698  0.397360  0.489422  0.188012  0.942972 -0.065356 -0.769217   \n",
      "15   1.158334  0.397360 -2.922442  0.756829  0.942972  2.000727 -0.769217   \n",
      "16   0.084040  0.397360 -0.232928  0.814320  0.942972 -1.360236 -0.769217   \n",
      "17  -0.751810  0.397360 -0.439105  0.584209  0.942972 -1.102576 -0.769217   \n",
      "18  -0.444763  0.397360  0.914805  0.198200  0.942972  1.625164 -0.769217   \n",
      "19   0.954215  0.397360 -0.639205  0.070530  0.942972  0.039376  1.314173   \n",
      "20   0.654619  0.397360  1.179392  0.747025 -1.060477  0.538280 -0.769217   \n",
      "21  -0.729550  0.397360  1.454820  1.371775  0.942972  0.384485  1.173624   \n",
      "22  -0.966243  0.397360 -0.161044 -0.295106 -1.060477 -0.525312 -0.769217   \n",
      "23  -0.463617  0.397360  0.883329 -3.301321 -1.060477  0.067628 -0.769217   \n",
      "24  -0.283751  0.397360 -0.295714 -1.726785 -1.060477 -0.505049 -0.769217   \n",
      "25  -0.774362  0.397360 -0.365121 -2.008712 -1.060477  0.216896 -0.769217   \n",
      "26   2.433698  0.397360 -1.405589 -0.100233  0.942972  0.325449 -0.769217   \n",
      "27  -1.881657  0.397360  0.567526  0.558143 -1.060477 -1.018465  1.123258   \n",
      "28  -0.090073  0.397360  0.877513  0.668021  0.942972  0.492178 -0.769217   \n",
      "29  -0.797212  0.397360 -0.741342 -0.927768 -1.060477 -1.194193 -0.769217   \n",
      "..        ...       ...       ...       ...       ...       ...       ...   \n",
      "652 -0.200394 -2.516611 -0.135769 -0.298109  0.942972 -1.909294 -0.769217   \n",
      "653  0.267182  0.397360  0.683788  1.122286  0.942972  0.684667  1.329167   \n",
      "654 -0.233255  0.397360  0.689753  0.761853 -1.060477 -0.121993 -0.769217   \n",
      "655 -1.756893  0.397360 -1.540984  0.747025  0.942972  1.442006  1.304745   \n",
      "656 -0.136492  0.397360  0.952956 -0.183647  0.942972  0.933442  1.058440   \n",
      "657 -0.233255 -2.516611  0.908564 -0.274590 -1.060477 -1.096712 -0.769217   \n",
      "658 -0.707573  0.397360 -1.300282  1.278988  0.942972  0.825964 -0.769217   \n",
      "659 -0.015379  0.397360 -0.675720  0.018069  0.942972 -2.503389  1.029610   \n",
      "660  0.328148  0.397360 -0.197685  0.740980 -1.060477 -0.897129 -0.769217   \n",
      "661 -1.153653  0.397360  0.691860  1.727721 -1.060477  0.446529 -0.769217   \n",
      "662 -0.074873  0.397360  0.401972  1.723355  0.942972 -0.541256  1.159742   \n",
      "663  0.084040  0.397360  1.126080 -0.448217 -1.060477 -1.416816  1.159742   \n",
      "664  0.070183 -2.516611 -0.189002 -0.994265 -1.060477 -0.422327 -0.769217   \n",
      "665 -0.136492  0.397360  0.292515  0.998793  0.942972  0.105443 -0.769217   \n",
      "666  1.412593  0.397360 -0.981346  0.755353  0.942972  0.754826  1.228640   \n",
      "667  0.488210 -2.516611 -1.178586 -3.318977 -1.060477 -0.142515 -0.769217   \n",
      "668 -0.216746  0.397360 -1.825336 -0.890400 -1.060477 -0.157219 -0.769217   \n",
      "669 -0.664442  0.397360  1.571411  0.075135 -1.060477 -0.711522  1.329167   \n",
      "670  2.042544  0.397360  0.313632  0.828038 -1.060477 -0.308937 -0.769217   \n",
      "671  0.693828  0.397360 -0.214447  0.747025 -1.060477  0.590436 -0.769217   \n",
      "672 -0.797212 -2.516611  2.403982  0.747025  0.942972  0.699645  1.293532   \n",
      "673 -0.426112  0.397360  0.762974 -0.677737 -1.060477 -0.701835  1.681213   \n",
      "674  1.165722 -2.516611  0.645566  0.786109 -1.060477 -0.851139 -0.769217   \n",
      "675  0.395450  0.397360 -0.012414  0.747025  0.942972 -1.016638 -0.769217   \n",
      "676 -0.000821  0.397360 -1.657859  0.742892  0.942972  1.425464 -0.769217   \n",
      "677  1.689445  0.397360 -0.094395  0.243456 -1.060477  0.130160  1.425864   \n",
      "678 -0.335769  0.397360  1.600699 -0.769109 -1.060477  0.508795 -0.769217   \n",
      "679 -0.105408 -2.516611  0.713804 -0.373076  0.942972 -0.043319 -0.769217   \n",
      "680 -0.729550  0.397360  0.772138  0.010915  0.942972  0.271710  1.410180   \n",
      "681  1.481483  0.397360  0.533750  1.295370  0.942972 -0.329379  1.173624   \n",
      "\n",
      "          T4'       T3'       T5'       S1'       S2'       S3'  \n",
      "0    0.168352  0.167444  0.312199  0.016580  0.295210  0.130124  \n",
      "1    0.230586  1.822890  1.541230  0.305054  1.677053  1.496282  \n",
      "2    0.116447 -1.789941 -1.598020 -0.017159 -2.111284 -2.020886  \n",
      "3   -1.281001 -0.878471 -0.459746  0.570071 -1.006534 -0.468977  \n",
      "4   -0.593960  0.538531  0.420184  0.180046  0.754907  0.599996  \n",
      "5    0.207346  0.704724  0.734645  0.016580 -0.080929  0.806111  \n",
      "6    1.969140  0.708831  0.341448  0.626231  0.107479  0.055365  \n",
      "7    2.841857 -0.202035  0.057100 -0.227759  0.343348 -0.203878  \n",
      "8   -1.271102  0.602005  1.033837 -0.120643  0.405693  1.463666  \n",
      "9   -1.645505 -0.724808 -0.722094  0.598267 -0.203641  0.273397  \n",
      "10  -1.720992 -1.128026 -2.135085 -0.376821 -0.822387 -1.483932  \n",
      "11  -1.197305 -1.639995 -1.168162 -1.379969 -1.698565 -1.626209  \n",
      "12   0.801642 -1.724861 -2.173971 -1.874189 -1.608007 -1.284324  \n",
      "13  -1.055896 -0.258599  0.441240  0.598267  0.311391  0.111638  \n",
      "14  -0.283908  1.230370  1.011604  1.045641  1.783985  0.675527  \n",
      "15   1.093725  1.091878  0.156769  1.045641 -0.161851  0.409075  \n",
      "16  -1.556920 -1.471475 -1.513565 -1.017874 -2.111284 -1.190068  \n",
      "17   0.043076 -0.322314 -0.029759  0.335569  0.553160  0.017150  \n",
      "18  -0.244104  0.370461 -0.390902 -0.264328 -0.550301 -0.311021  \n",
      "19  -1.541990 -0.168294 -0.893595 -0.338845 -0.475728 -0.954469  \n",
      "20  -0.042063  0.386235  0.583935  0.148020  0.581329  0.820217  \n",
      "21  -0.451886  0.367484  0.256433 -0.155929 -0.601692 -1.040299  \n",
      "22  -1.361297 -1.403703 -1.734335 -1.379969 -0.141295 -0.790988  \n",
      "23  -0.343377 -1.374542 -1.174761 -0.120643 -1.793653 -0.713003  \n",
      "24   1.019549 -0.852445 -0.645861  0.049958 -1.283586 -0.898808  \n",
      "25  -0.379644 -1.040077 -0.755479 -1.017874 -0.312320 -0.267624  \n",
      "26   0.670566  0.404470  0.613496  0.868237 -0.246370  1.496282  \n",
      "27   0.072735 -0.018746  0.715896 -0.574548  1.124819  0.599996  \n",
      "28   0.740114  1.235341  0.980713  1.659982  0.937286  0.848200  \n",
      "29   0.985767  0.042092  0.065219  1.167246  0.034340  0.522168  \n",
      "..        ...       ...       ...       ...       ...       ...  \n",
      "652 -2.295154 -0.690352 -0.959502 -0.227759  0.451147 -1.011368  \n",
      "653 -0.783439 -0.206874  0.077349 -0.533896  0.071261  0.537924  \n",
      "654  0.926745  1.573786  1.387126  0.868237  1.305083  1.374602  \n",
      "655  0.784835  0.319872  0.427222 -0.155929 -0.681481 -0.061034  \n",
      "656 -1.092366 -0.304621 -0.076471 -0.970100 -0.357592 -0.080959  \n",
      "657  0.276912 -1.002502 -1.214718 -2.170101 -0.943150 -1.382183  \n",
      "658 -1.997661 -0.622754 -0.577068  0.180046  0.212167 -0.637322  \n",
      "659 -1.504893 -0.916171 -1.128925  0.454878 -0.061226 -0.764728  \n",
      "660  1.065084 -0.667337 -0.794992 -1.166732 -0.003312  0.166701  \n",
      "661  1.340394  2.134887  1.860133  1.488047  2.489438  1.517797  \n",
      "662 -0.999314 -0.200254 -0.222001 -0.533896 -0.357592 -0.515957  \n",
      "663 -2.213549  0.041363 -0.102318  1.070288 -0.182631 -0.982761  \n",
      "664 -0.019291 -1.366297 -1.135422 -1.218350 -0.793358 -1.449564  \n",
      "665  0.341103  0.361067  0.458655  0.243154  0.792809  0.553584  \n",
      "666 -1.664366 -0.143573  0.085404  0.180046  0.245821  0.166701  \n",
      "667 -0.481431 -1.873585 -1.621550 -2.092103 -1.564296 -1.738358  \n",
      "668 -1.458755 -0.562134 -0.434944 -1.218350  0.553160 -0.224951  \n",
      "669  0.142051 -1.063883 -1.103100 -2.251221 -1.479777 -0.926487  \n",
      "670 -0.559744  0.267660  0.527141  1.421552  1.093041  0.690370  \n",
      "671 -1.406465 -1.364320 -1.359744 -0.787175 -0.764766 -0.445806  \n",
      "672 -0.605032  0.333023  0.820350  0.115669  0.622815  0.705127  \n",
      "673  0.662886  0.042092  0.366766  0.815887 -0.268100  0.660598  \n",
      "674  0.531384 -0.736161 -1.109532 -0.923179 -0.974578 -2.063918  \n",
      "675  1.230441  1.038833  0.655596  0.305054  0.716234  0.930356  \n",
      "676 -0.923205 -0.454921 -0.561454 -0.155929 -0.334821 -0.422844  \n",
      "677 -0.230867  0.341082  0.260189  0.762746  0.107479  0.690370  \n",
      "678  0.265442  0.389659  0.636252  0.274251  0.436116  0.690370  \n",
      "679  0.273837 -0.736445 -0.858355 -0.923179 -0.380640 -0.982761  \n",
      "680  1.182295 -1.222944 -1.750865 -0.493816 -1.843042 -0.713003  \n",
      "681  0.603722 -0.079296  0.105430  0.945344  0.052890  0.458157  \n",
      "\n",
      "[682 rows x 13 columns]\n"
     ]
    }
   ],
   "source": [
    "# Printing new DataFrame to check the outcome \n",
    "print(norm_df)"
   ]
  },
  {
   "cell_type": "code",
   "execution_count": 7,
   "metadata": {},
   "outputs": [
    {
     "data": {
      "text/plain": [
       "C1    -2.029006e-15\n",
       "C2    -6.788314e-17\n",
       "C4     2.897650e-17\n",
       "C7    -9.441779e-18\n",
       "C3'    2.086959e-16\n",
       "C5'   -2.941603e-16\n",
       "C6'    2.542769e-16\n",
       "T4'   -4.142988e-16\n",
       "T3'    3.261891e-17\n",
       "T5'    1.058863e-15\n",
       "S1'   -4.460427e-17\n",
       "S2'    6.694710e-16\n",
       "S3'   -1.701311e-15\n",
       "dtype: float64"
      ]
     },
     "execution_count": 7,
     "metadata": {},
     "output_type": "execute_result"
    }
   ],
   "source": [
    "# Checking mean for standardized \n",
    "# Want to see mean very close to 0 \n",
    "norm_df.mean()"
   ]
  },
  {
   "cell_type": "code",
   "execution_count": 8,
   "metadata": {},
   "outputs": [
    {
     "data": {
      "text/plain": [
       "C1     1.000734\n",
       "C2     1.000734\n",
       "C4     1.000734\n",
       "C7     1.000734\n",
       "C3'    1.000734\n",
       "C5'    1.000734\n",
       "C6'    1.000734\n",
       "T4'    1.000734\n",
       "T3'    1.000734\n",
       "T5'    1.000734\n",
       "S1'    1.000734\n",
       "S2'    1.000734\n",
       "S3'    1.000734\n",
       "dtype: float64"
      ]
     },
     "execution_count": 8,
     "metadata": {},
     "output_type": "execute_result"
    }
   ],
   "source": [
    "# Checking standard deviation of standardized data\n",
    "# Want std dev of each column close to 1 \n",
    "norm_df.std()"
   ]
  },
  {
   "cell_type": "code",
   "execution_count": 9,
   "metadata": {},
   "outputs": [],
   "source": [
    "# Exporting DataFrame as CSV named StandDF\n",
    "norm_df.to_csv('StandDF', ',')"
   ]
  },
  {
   "cell_type": "markdown",
   "metadata": {},
   "source": [
    "# Visual Exploration of Normalized Data "
   ]
  },
  {
   "cell_type": "code",
   "execution_count": 10,
   "metadata": {},
   "outputs": [
    {
     "data": {
      "text/plain": [
       "Text(0.5, 1.0, 'Normalized C1')"
      ]
     },
     "execution_count": 10,
     "metadata": {},
     "output_type": "execute_result"
    },
    {
     "data": {
      "image/png": "[encoded data removed]",
      "text/plain": [
       "<Figure size 432x288 with 1 Axes>"
      ]
     },
     "metadata": {},
     "output_type": "display_data"
    }
   ],
   "source": [
    "norm_df['C1'].hist(range=(-2,2))\n",
    "plt.title(\"Normalized C1\", color='white')"
   ]
  },
  {
   "cell_type": "code",
   "execution_count": 11,
   "metadata": {},
   "outputs": [
    {
     "data": {
      "text/plain": [
       "Text(0.5, 1.0, 'Normalized C4')"
      ]
     },
     "execution_count": 11,
     "metadata": {},
     "output_type": "execute_result"
    },
    {
     "data": {
      "image/png": "[encoded data removed]",
      "text/plain": [
       "<Figure size 432x288 with 1 Axes>"
      ]
     },
     "metadata": {},
     "output_type": "display_data"
    }
   ],
   "source": [
    "norm_df['C4'].hist(range=(-2,2))\n",
    "plt.title(\"Normalized C4\", color='white')"
   ]
  },
  {
   "cell_type": "code",
   "execution_count": 12,
   "metadata": {},
   "outputs": [
    {
     "data": {
      "text/plain": [
       "Text(0.5, 1.0, \"Normalized C5'\")"
      ]
     },
     "execution_count": 12,
     "metadata": {},
     "output_type": "execute_result"
    },
    {
     "data": {
      "image/png": "[encoded data removed]",
      "text/plain": [
       "<Figure size 432x288 with 1 Axes>"
      ]
     },
     "metadata": {},
     "output_type": "display_data"
    }
   ],
   "source": [
    "norm_df[\"C5'\"].hist(range=(-2,2))\n",
    "plt.title(\"Normalized C5'\", color='white')"
   ]
  },
  {
   "cell_type": "code",
   "execution_count": 13,
   "metadata": {},
   "outputs": [
    {
     "data": {
      "text/plain": [
       "Text(0.5, 1.0, \"Normalized C6'\")"
      ]
     },
     "execution_count": 13,
     "metadata": {},
     "output_type": "execute_result"
    },
    {
     "data": {
      "image/png": "[encoded data removed]",
      "text/plain": [
       "<Figure size 432x288 with 1 Axes>"
      ]
     },
     "metadata": {},
     "output_type": "display_data"
    }
   ],
   "source": [
    "norm_df[\"C6'\"].hist(range=(-2,2))\n",
    "plt.title(\"Normalized C6'\", color='white')"
   ]
  },
  {
   "cell_type": "code",
   "execution_count": 14,
   "metadata": {},
   "outputs": [
    {
     "data": {
      "text/plain": [
       "Text(0.5, 1.0, \"Normalized C7'\")"
      ]
     },
     "execution_count": 14,
     "metadata": {},
     "output_type": "execute_result"
    },
    {
     "data": {
      "image/png": "[encoded data removed]",
      "text/plain": [
       "<Figure size 432x288 with 1 Axes>"
      ]
     },
     "metadata": {},
     "output_type": "display_data"
    }
   ],
   "source": [
    "norm_df['C7'].hist(range=(-2,2))\n",
    "plt.title(\"Normalized C7'\", color='white')"
   ]
  },
  {
   "cell_type": "code",
   "execution_count": 15,
   "metadata": {},
   "outputs": [
    {
     "data": {
      "text/plain": [
       "Text(0.5, 1.0, \"Normalized T3'\")"
      ]
     },
     "execution_count": 15,
     "metadata": {},
     "output_type": "execute_result"
    },
    {
     "data": {
      "image/png": "[encoded data removed]",
      "text/plain": [
       "<Figure size 432x288 with 1 Axes>"
      ]
     },
     "metadata": {},
     "output_type": "display_data"
    }
   ],
   "source": [
    "norm_df[\"T3'\"].hist(range=(-2,2))\n",
    "plt.title(\"Normalized T3'\", color='white')"
   ]
  },
  {
   "cell_type": "code",
   "execution_count": 16,
   "metadata": {},
   "outputs": [
    {
     "data": {
      "text/plain": [
       "Text(0.5, 1.0, \"Normalized T4'\")"
      ]
     },
     "execution_count": 16,
     "metadata": {},
     "output_type": "execute_result"
    },
    {
     "data": {
      "image/png": "[encoded data removed]",
      "text/plain": [
       "<Figure size 432x288 with 1 Axes>"
      ]
     },
     "metadata": {},
     "output_type": "display_data"
    }
   ],
   "source": [
    "norm_df[\"T4'\"].hist(range=(-2,2))\n",
    "plt.title(\"Normalized T4'\", color='white')"
   ]
  },
  {
   "cell_type": "code",
   "execution_count": 17,
   "metadata": {},
   "outputs": [
    {
     "data": {
      "text/plain": [
       "Text(0.5, 1.0, \"Normalized T5'\")"
      ]
     },
     "execution_count": 17,
     "metadata": {},
     "output_type": "execute_result"
    },
    {
     "data": {
      "image/png": "[encoded data removed]",
      "text/plain": [
       "<Figure size 432x288 with 1 Axes>"
      ]
     },
     "metadata": {},
     "output_type": "display_data"
    }
   ],
   "source": [
    "norm_df[\"T5'\"].hist(range=(-2,2))\n",
    "plt.title(\"Normalized T5'\", color='white')"
   ]
  },
  {
   "cell_type": "code",
   "execution_count": 20,
   "metadata": {},
   "outputs": [
    {
     "data": {
      "text/plain": [
       "Text(0.5, 1.0, \"Normalized S1'\")"
      ]
     },
     "execution_count": 20,
     "metadata": {},
     "output_type": "execute_result"
    },
    {
     "data": {
      "image/png": "[encoded data removed]",
      "text/plain": [
       "<Figure size 432x288 with 1 Axes>"
      ]
     },
     "metadata": {},
     "output_type": "display_data"
    }
   ],
   "source": [
    "norm_df[\"S1'\"].hist(range=(-2,2))\n",
    "plt.title(\"Normalized S1'\", color='white')"
   ]
  },
  {
   "cell_type": "code",
   "execution_count": 21,
   "metadata": {},
   "outputs": [
    {
     "data": {
      "text/plain": [
       "Text(0.5, 1.0, \"Normalized S2'\")"
      ]
     },
     "execution_count": 21,
     "metadata": {},
     "output_type": "execute_result"
    },
    {
     "data": {
      "image/png": "[encoded data removed]",
      "text/plain": [
       "<Figure size 432x288 with 1 Axes>"
      ]
     },
     "metadata": {},
     "output_type": "display_data"
    }
   ],
   "source": [
    "norm_df[\"S2'\"].hist(range=(-2,2))\n",
    "plt.title(\"Normalized S2'\", color='white')"
   ]
  },
  {
   "cell_type": "code",
   "execution_count": 22,
   "metadata": {},
   "outputs": [
    {
     "data": {
      "text/plain": [
       "Text(0.5, 1.0, \"Normalized S3'\")"
      ]
     },
     "execution_count": 22,
     "metadata": {},
     "output_type": "execute_result"
    },
    {
     "data": {
      "image/png": "[encoded data removed]",
      "text/plain": [
       "<Figure size 432x288 with 1 Axes>"
      ]
     },
     "metadata": {},
     "output_type": "display_data"
    }
   ],
   "source": [
    "norm_df[\"S3'\"].hist(range=(-2,2))\n",
    "plt.title(\"Normalized S3'\", color='white')"
   ]
  },
  {
   "cell_type": "code",
   "execution_count": 24,
   "metadata": {},
   "outputs": [],
   "source": [
    "# Exporting DataFrame as CSV named CompDF1\n",
    "df.to_csv('CompDF3', ',')"
   ]
  },
  {
   "cell_type": "code",
   "execution_count": 25,
   "metadata": {},
   "outputs": [
    {
     "data": {
      "text/html": [
       "<div>\n",
       "<style scoped>\n",
       "    .dataframe tbody tr th:only-of-type {\n",
       "        vertical-align: middle;\n",
       "    }\n",
       "\n",
       "    .dataframe tbody tr th {\n",
       "        vertical-align: top;\n",
       "    }\n",
       "\n",
       "    .dataframe thead th {\n",
       "        text-align: right;\n",
       "    }\n",
       "</style>\n",
       "<table border=\"1\" class=\"dataframe\">\n",
       "  <thead>\n",
       "    <tr style=\"text-align: right;\">\n",
       "      <th></th>\n",
       "      <th>I1</th>\n",
       "      <th>I2</th>\n",
       "      <th>I3</th>\n",
       "      <th>P_IPO</th>\n",
       "      <th>P_H</th>\n",
       "      <th>P_L</th>\n",
       "      <th>P_1DAY</th>\n",
       "      <th>Y1</th>\n",
       "      <th>Y2</th>\n",
       "    </tr>\n",
       "  </thead>\n",
       "  <tbody>\n",
       "    <tr>\n",
       "      <th>0</th>\n",
       "      <td>AATI</td>\n",
       "      <td>ADVANCED ANALOGIC TECHNOLOGIES INC</td>\n",
       "      <td>3674.0</td>\n",
       "      <td>10.0</td>\n",
       "      <td>9.5</td>\n",
       "      <td>8.5</td>\n",
       "      <td>11.870000</td>\n",
       "      <td>0</td>\n",
       "      <td>1</td>\n",
       "    </tr>\n",
       "    <tr>\n",
       "      <th>1</th>\n",
       "      <td>ABPI</td>\n",
       "      <td>ACCENTIA BIOPHARMACEUTICALS INC</td>\n",
       "      <td>2834.0</td>\n",
       "      <td>8.0</td>\n",
       "      <td>10.0</td>\n",
       "      <td>8.0</td>\n",
       "      <td>7.250000</td>\n",
       "      <td>1</td>\n",
       "      <td>0</td>\n",
       "    </tr>\n",
       "    <tr>\n",
       "      <th>2</th>\n",
       "      <td>ACAD</td>\n",
       "      <td>ACADIA PHARMACEUTICALS INC</td>\n",
       "      <td>2834.0</td>\n",
       "      <td>7.0</td>\n",
       "      <td>14.0</td>\n",
       "      <td>12.0</td>\n",
       "      <td>6.700000</td>\n",
       "      <td>1</td>\n",
       "      <td>0</td>\n",
       "    </tr>\n",
       "    <tr>\n",
       "      <th>3</th>\n",
       "      <td>ACHN</td>\n",
       "      <td>ACHILLION PHARMACEUTICALS INC</td>\n",
       "      <td>2834.0</td>\n",
       "      <td>11.5</td>\n",
       "      <td>16.0</td>\n",
       "      <td>14.0</td>\n",
       "      <td>12.390000</td>\n",
       "      <td>1</td>\n",
       "      <td>1</td>\n",
       "    </tr>\n",
       "    <tr>\n",
       "      <th>4</th>\n",
       "      <td>ACLI</td>\n",
       "      <td>AMERICAN COMMERCIAL LINES INC.</td>\n",
       "      <td>4492.0</td>\n",
       "      <td>21.0</td>\n",
       "      <td>21.0</td>\n",
       "      <td>19.0</td>\n",
       "      <td>56.599998</td>\n",
       "      <td>0</td>\n",
       "      <td>1</td>\n",
       "    </tr>\n",
       "  </tbody>\n",
       "</table>\n",
       "</div>"
      ],
      "text/plain": [
       "     I1                                  I2      I3  P_IPO   P_H   P_L  \\\n",
       "0  AATI  ADVANCED ANALOGIC TECHNOLOGIES INC  3674.0   10.0   9.5   8.5   \n",
       "1  ABPI     ACCENTIA BIOPHARMACEUTICALS INC  2834.0    8.0  10.0   8.0   \n",
       "2  ACAD          ACADIA PHARMACEUTICALS INC  2834.0    7.0  14.0  12.0   \n",
       "3  ACHN       ACHILLION PHARMACEUTICALS INC  2834.0   11.5  16.0  14.0   \n",
       "4  ACLI     AMERICAN COMMERCIAL LINES INC.   4492.0   21.0  21.0  19.0   \n",
       "\n",
       "      P_1DAY  Y1  Y2  \n",
       "0  11.870000   0   1  \n",
       "1   7.250000   1   0  \n",
       "2   6.700000   1   0  \n",
       "3  12.390000   1   1  \n",
       "4  56.599998   0   1  "
      ]
     },
     "execution_count": 25,
     "metadata": {},
     "output_type": "execute_result"
    }
   ],
   "source": [
    "# Bringing back the \"Y\" values that we took out earlier to not interfere with analysis \n",
    "target = pd.read_csv('Targets', index_col=0)\n",
    "target.head()"
   ]
  },
  {
   "cell_type": "code",
   "execution_count": 26,
   "metadata": {},
   "outputs": [
    {
     "data": {
      "text/html": [
       "<div>\n",
       "<style scoped>\n",
       "    .dataframe tbody tr th:only-of-type {\n",
       "        vertical-align: middle;\n",
       "    }\n",
       "\n",
       "    .dataframe tbody tr th {\n",
       "        vertical-align: top;\n",
       "    }\n",
       "\n",
       "    .dataframe thead th {\n",
       "        text-align: right;\n",
       "    }\n",
       "</style>\n",
       "<table border=\"1\" class=\"dataframe\">\n",
       "  <thead>\n",
       "    <tr style=\"text-align: right;\">\n",
       "      <th></th>\n",
       "      <th>Y1</th>\n",
       "      <th>Y2</th>\n",
       "    </tr>\n",
       "  </thead>\n",
       "  <tbody>\n",
       "    <tr>\n",
       "      <th>0</th>\n",
       "      <td>0</td>\n",
       "      <td>1</td>\n",
       "    </tr>\n",
       "    <tr>\n",
       "      <th>1</th>\n",
       "      <td>1</td>\n",
       "      <td>0</td>\n",
       "    </tr>\n",
       "    <tr>\n",
       "      <th>2</th>\n",
       "      <td>1</td>\n",
       "      <td>0</td>\n",
       "    </tr>\n",
       "    <tr>\n",
       "      <th>3</th>\n",
       "      <td>1</td>\n",
       "      <td>1</td>\n",
       "    </tr>\n",
       "    <tr>\n",
       "      <th>4</th>\n",
       "      <td>0</td>\n",
       "      <td>1</td>\n",
       "    </tr>\n",
       "  </tbody>\n",
       "</table>\n",
       "</div>"
      ],
      "text/plain": [
       "   Y1  Y2\n",
       "0   0   1\n",
       "1   1   0\n",
       "2   1   0\n",
       "3   1   1\n",
       "4   0   1"
      ]
     },
     "execution_count": 26,
     "metadata": {},
     "output_type": "execute_result"
    }
   ],
   "source": [
    "# Getting Target values alone\n",
    "target = target.drop(['I1', 'I2', 'I3', 'P_IPO', 'P_H', 'P_L', \"P_1DAY\"], axis=1)\n",
    "target.head()"
   ]
  },
  {
   "cell_type": "code",
   "execution_count": 27,
   "metadata": {},
   "outputs": [
    {
     "data": {
      "text/html": [
       "<div>\n",
       "<style scoped>\n",
       "    .dataframe tbody tr th:only-of-type {\n",
       "        vertical-align: middle;\n",
       "    }\n",
       "\n",
       "    .dataframe tbody tr th {\n",
       "        vertical-align: top;\n",
       "    }\n",
       "\n",
       "    .dataframe thead th {\n",
       "        text-align: right;\n",
       "    }\n",
       "</style>\n",
       "<table border=\"1\" class=\"dataframe\">\n",
       "  <thead>\n",
       "    <tr style=\"text-align: right;\">\n",
       "      <th></th>\n",
       "      <th>Y1</th>\n",
       "      <th>Y2</th>\n",
       "      <th>C1</th>\n",
       "      <th>C2</th>\n",
       "      <th>C4</th>\n",
       "      <th>C7</th>\n",
       "      <th>C3'</th>\n",
       "      <th>C5'</th>\n",
       "      <th>C6'</th>\n",
       "      <th>T4'</th>\n",
       "      <th>T3'</th>\n",
       "      <th>T5'</th>\n",
       "      <th>S1'</th>\n",
       "      <th>S2'</th>\n",
       "      <th>S3'</th>\n",
       "    </tr>\n",
       "  </thead>\n",
       "  <tbody>\n",
       "    <tr>\n",
       "      <th>0</th>\n",
       "      <td>0</td>\n",
       "      <td>1</td>\n",
       "      <td>2.086360</td>\n",
       "      <td>1.0</td>\n",
       "      <td>0.029074</td>\n",
       "      <td>1.710498</td>\n",
       "      <td>1</td>\n",
       "      <td>1.351792</td>\n",
       "      <td>1.306758</td>\n",
       "      <td>0.640426</td>\n",
       "      <td>0.979579</td>\n",
       "      <td>-1.242030</td>\n",
       "      <td>0.172652</td>\n",
       "      <td>-2.012693</td>\n",
       "      <td>-1.937864</td>\n",
       "    </tr>\n",
       "    <tr>\n",
       "      <th>1</th>\n",
       "      <td>1</td>\n",
       "      <td>0</td>\n",
       "      <td>2.413300</td>\n",
       "      <td>0.0</td>\n",
       "      <td>-0.013352</td>\n",
       "      <td>1.413903</td>\n",
       "      <td>0</td>\n",
       "      <td>2.487306</td>\n",
       "      <td>0.000000</td>\n",
       "      <td>0.644753</td>\n",
       "      <td>1.275036</td>\n",
       "      <td>-1.031661</td>\n",
       "      <td>0.180631</td>\n",
       "      <td>-1.697064</td>\n",
       "      <td>-1.706131</td>\n",
       "    </tr>\n",
       "    <tr>\n",
       "      <th>2</th>\n",
       "      <td>1</td>\n",
       "      <td>0</td>\n",
       "      <td>1.954243</td>\n",
       "      <td>1.0</td>\n",
       "      <td>0.020715</td>\n",
       "      <td>0.867939</td>\n",
       "      <td>0</td>\n",
       "      <td>1.214656</td>\n",
       "      <td>0.000000</td>\n",
       "      <td>0.636816</td>\n",
       "      <td>0.630234</td>\n",
       "      <td>-1.568996</td>\n",
       "      <td>0.171718</td>\n",
       "      <td>-2.562365</td>\n",
       "      <td>-2.302728</td>\n",
       "    </tr>\n",
       "    <tr>\n",
       "      <th>3</th>\n",
       "      <td>1</td>\n",
       "      <td>1</td>\n",
       "      <td>2.320146</td>\n",
       "      <td>1.0</td>\n",
       "      <td>0.020023</td>\n",
       "      <td>0.930745</td>\n",
       "      <td>0</td>\n",
       "      <td>1.193831</td>\n",
       "      <td>0.000000</td>\n",
       "      <td>0.539634</td>\n",
       "      <td>0.792909</td>\n",
       "      <td>-1.374161</td>\n",
       "      <td>0.187962</td>\n",
       "      <td>-2.310027</td>\n",
       "      <td>-2.039486</td>\n",
       "    </tr>\n",
       "    <tr>\n",
       "      <th>4</th>\n",
       "      <td>0</td>\n",
       "      <td>1</td>\n",
       "      <td>1.903090</td>\n",
       "      <td>1.0</td>\n",
       "      <td>-0.034895</td>\n",
       "      <td>2.800922</td>\n",
       "      <td>1</td>\n",
       "      <td>1.315407</td>\n",
       "      <td>1.195813</td>\n",
       "      <td>0.587413</td>\n",
       "      <td>1.045809</td>\n",
       "      <td>-1.223546</td>\n",
       "      <td>0.177173</td>\n",
       "      <td>-1.907693</td>\n",
       "      <td>-1.858162</td>\n",
       "    </tr>\n",
       "  </tbody>\n",
       "</table>\n",
       "</div>"
      ],
      "text/plain": [
       "   Y1  Y2        C1   C2        C4        C7  C3'       C5'       C6'  \\\n",
       "0   0   1  2.086360  1.0  0.029074  1.710498    1  1.351792  1.306758   \n",
       "1   1   0  2.413300  0.0 -0.013352  1.413903    0  2.487306  0.000000   \n",
       "2   1   0  1.954243  1.0  0.020715  0.867939    0  1.214656  0.000000   \n",
       "3   1   1  2.320146  1.0  0.020023  0.930745    0  1.193831  0.000000   \n",
       "4   0   1  1.903090  1.0 -0.034895  2.800922    1  1.315407  1.195813   \n",
       "\n",
       "        T4'       T3'       T5'       S1'       S2'       S3'  \n",
       "0  0.640426  0.979579 -1.242030  0.172652 -2.012693 -1.937864  \n",
       "1  0.644753  1.275036 -1.031661  0.180631 -1.697064 -1.706131  \n",
       "2  0.636816  0.630234 -1.568996  0.171718 -2.562365 -2.302728  \n",
       "3  0.539634  0.792909 -1.374161  0.187962 -2.310027 -2.039486  \n",
       "4  0.587413  1.045809 -1.223546  0.177173 -1.907693 -1.858162  "
      ]
     },
     "execution_count": 27,
     "metadata": {},
     "output_type": "execute_result"
    }
   ],
   "source": [
    "# Creating new DataFrame that combines two target variables and all the predictors\n",
    "# This is ready for feature selection and binning processes  \n",
    "ReadyDF1 = pd.concat([target,df], axis=1)\n",
    "ReadyDF1.head()"
   ]
  },
  {
   "cell_type": "code",
   "execution_count": 28,
   "metadata": {},
   "outputs": [],
   "source": [
    "# Importing to CSV \n",
    "ReadyDF1.to_csv('ReadyDF3', ',')"
   ]
  },
  {
   "cell_type": "code",
   "execution_count": 29,
   "metadata": {},
   "outputs": [
    {
     "data": {
      "text/html": [
       "<div>\n",
       "<style scoped>\n",
       "    .dataframe tbody tr th:only-of-type {\n",
       "        vertical-align: middle;\n",
       "    }\n",
       "\n",
       "    .dataframe tbody tr th {\n",
       "        vertical-align: top;\n",
       "    }\n",
       "\n",
       "    .dataframe thead th {\n",
       "        text-align: right;\n",
       "    }\n",
       "</style>\n",
       "<table border=\"1\" class=\"dataframe\">\n",
       "  <thead>\n",
       "    <tr style=\"text-align: right;\">\n",
       "      <th></th>\n",
       "      <th>Y1</th>\n",
       "      <th>Y2</th>\n",
       "      <th>C1</th>\n",
       "      <th>C2</th>\n",
       "      <th>C4</th>\n",
       "      <th>C7</th>\n",
       "      <th>C3'</th>\n",
       "      <th>C5'</th>\n",
       "      <th>C6'</th>\n",
       "      <th>T4'</th>\n",
       "      <th>T3'</th>\n",
       "      <th>T5'</th>\n",
       "      <th>S1'</th>\n",
       "      <th>S2'</th>\n",
       "      <th>S3'</th>\n",
       "    </tr>\n",
       "  </thead>\n",
       "  <tbody>\n",
       "    <tr>\n",
       "      <th>0</th>\n",
       "      <td>0</td>\n",
       "      <td>1</td>\n",
       "      <td>2.086360</td>\n",
       "      <td>1.0</td>\n",
       "      <td>0.029074</td>\n",
       "      <td>1.710498</td>\n",
       "      <td>1</td>\n",
       "      <td>1.351792</td>\n",
       "      <td>1.306758</td>\n",
       "      <td>0.640426</td>\n",
       "      <td>0.979579</td>\n",
       "      <td>-1.242030</td>\n",
       "      <td>0.172652</td>\n",
       "      <td>-2.012693</td>\n",
       "      <td>-1.937864</td>\n",
       "    </tr>\n",
       "    <tr>\n",
       "      <th>1</th>\n",
       "      <td>1</td>\n",
       "      <td>0</td>\n",
       "      <td>2.413300</td>\n",
       "      <td>0.0</td>\n",
       "      <td>-0.013352</td>\n",
       "      <td>1.413903</td>\n",
       "      <td>0</td>\n",
       "      <td>2.487306</td>\n",
       "      <td>0.000000</td>\n",
       "      <td>0.644753</td>\n",
       "      <td>1.275036</td>\n",
       "      <td>-1.031661</td>\n",
       "      <td>0.180631</td>\n",
       "      <td>-1.697064</td>\n",
       "      <td>-1.706131</td>\n",
       "    </tr>\n",
       "    <tr>\n",
       "      <th>2</th>\n",
       "      <td>1</td>\n",
       "      <td>0</td>\n",
       "      <td>1.954243</td>\n",
       "      <td>1.0</td>\n",
       "      <td>0.020715</td>\n",
       "      <td>0.867939</td>\n",
       "      <td>0</td>\n",
       "      <td>1.214656</td>\n",
       "      <td>0.000000</td>\n",
       "      <td>0.636816</td>\n",
       "      <td>0.630234</td>\n",
       "      <td>-1.568996</td>\n",
       "      <td>0.171718</td>\n",
       "      <td>-2.562365</td>\n",
       "      <td>-2.302728</td>\n",
       "    </tr>\n",
       "    <tr>\n",
       "      <th>3</th>\n",
       "      <td>1</td>\n",
       "      <td>1</td>\n",
       "      <td>2.320146</td>\n",
       "      <td>1.0</td>\n",
       "      <td>0.020023</td>\n",
       "      <td>0.930745</td>\n",
       "      <td>0</td>\n",
       "      <td>1.193831</td>\n",
       "      <td>0.000000</td>\n",
       "      <td>0.539634</td>\n",
       "      <td>0.792909</td>\n",
       "      <td>-1.374161</td>\n",
       "      <td>0.187962</td>\n",
       "      <td>-2.310027</td>\n",
       "      <td>-2.039486</td>\n",
       "    </tr>\n",
       "    <tr>\n",
       "      <th>4</th>\n",
       "      <td>0</td>\n",
       "      <td>1</td>\n",
       "      <td>1.903090</td>\n",
       "      <td>1.0</td>\n",
       "      <td>-0.034895</td>\n",
       "      <td>2.800922</td>\n",
       "      <td>1</td>\n",
       "      <td>1.315407</td>\n",
       "      <td>1.195813</td>\n",
       "      <td>0.587413</td>\n",
       "      <td>1.045809</td>\n",
       "      <td>-1.223546</td>\n",
       "      <td>0.177173</td>\n",
       "      <td>-1.907693</td>\n",
       "      <td>-1.858162</td>\n",
       "    </tr>\n",
       "  </tbody>\n",
       "</table>\n",
       "</div>"
      ],
      "text/plain": [
       "   Y1  Y2        C1   C2        C4        C7  C3'       C5'       C6'  \\\n",
       "0   0   1  2.086360  1.0  0.029074  1.710498    1  1.351792  1.306758   \n",
       "1   1   0  2.413300  0.0 -0.013352  1.413903    0  2.487306  0.000000   \n",
       "2   1   0  1.954243  1.0  0.020715  0.867939    0  1.214656  0.000000   \n",
       "3   1   1  2.320146  1.0  0.020023  0.930745    0  1.193831  0.000000   \n",
       "4   0   1  1.903090  1.0 -0.034895  2.800922    1  1.315407  1.195813   \n",
       "\n",
       "        T4'       T3'       T5'       S1'       S2'       S3'  \n",
       "0  0.640426  0.979579 -1.242030  0.172652 -2.012693 -1.937864  \n",
       "1  0.644753  1.275036 -1.031661  0.180631 -1.697064 -1.706131  \n",
       "2  0.636816  0.630234 -1.568996  0.171718 -2.562365 -2.302728  \n",
       "3  0.539634  0.792909 -1.374161  0.187962 -2.310027 -2.039486  \n",
       "4  0.587413  1.045809 -1.223546  0.177173 -1.907693 -1.858162  "
      ]
     },
     "execution_count": 29,
     "metadata": {},
     "output_type": "execute_result"
    }
   ],
   "source": [
    "# Double Checking Columns \n",
    "ReadyDF1.head()"
   ]
  },
  {
   "cell_type": "code",
   "execution_count": null,
   "metadata": {},
   "outputs": [],
   "source": []
  }
 ],
 "metadata": {
  "kernelspec": {
   "display_name": "Python 3",
   "language": "python",
   "name": "python3"
  },
  "language_info": {
   "codemirror_mode": {
    "name": "ipython",
    "version": 3
   },
   "file_extension": ".py",
   "mimetype": "text/x-python",
   "name": "python",
   "nbconvert_exporter": "python",
   "pygments_lexer": "ipython3",
   "version": "3.6.5"
  }
 },
 "nbformat": 4,
 "nbformat_minor": 2
}
