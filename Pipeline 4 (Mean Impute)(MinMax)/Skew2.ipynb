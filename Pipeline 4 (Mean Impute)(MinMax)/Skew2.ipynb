{
 "cells": [
  {
   "cell_type": "code",
   "execution_count": 1,
   "metadata": {},
   "outputs": [],
   "source": [
    "# Fixing Skewness AFTER Outlier Handling "
   ]
  },
  {
   "cell_type": "code",
   "execution_count": 2,
   "metadata": {},
   "outputs": [],
   "source": [
    "import numpy as np \n",
    "import pandas as pd\n",
    "import matplotlib.pyplot as plt\n",
    "from sklearn import preprocessing\n",
    "import math\n",
    "%matplotlib inline\n",
    "plt.style.use('ggplot')"
   ]
  },
  {
   "cell_type": "code",
   "execution_count": 3,
   "metadata": {},
   "outputs": [],
   "source": [
    "# Uploading imputed data to df from CSV WorkingDataFrame\n",
    "df = pd.read_csv('MMNormDF4', index_col=0)"
   ]
  },
  {
   "cell_type": "code",
   "execution_count": 4,
   "metadata": {},
   "outputs": [
    {
     "data": {
      "text/plain": [
       "C1     0.397173\n",
       "C2    -2.123926\n",
       "C4    -0.485756\n",
       "C7     1.083739\n",
       "C3'   -0.117764\n",
       "C5'    0.402034\n",
       "C6'    1.195068\n",
       "T4'   -0.028974\n",
       "T3'    0.315086\n",
       "T5'    0.448520\n",
       "S1'    0.482959\n",
       "S2'    0.519102\n",
       "S3'    0.349871\n",
       "dtype: float64"
      ]
     },
     "execution_count": 4,
     "metadata": {},
     "output_type": "execute_result"
    }
   ],
   "source": [
    "# Checking Skew of DataFrame\n",
    "df.skew()\n",
    "# Ignoring C2 and C3' because they are binary "
   ]
  },
  {
   "cell_type": "code",
   "execution_count": 5,
   "metadata": {},
   "outputs": [
    {
     "data": {
      "text/plain": [
       "Text(0.5, 1.0, 'Fixed Skew - C7')"
      ]
     },
     "execution_count": 5,
     "metadata": {},
     "output_type": "execute_result"
    },
    {
     "data": {
      "image/png": "[encoded data removed]",
      "text/plain": [
       "<Figure size 432x288 with 1 Axes>"
      ]
     },
     "metadata": {},
     "output_type": "display_data"
    }
   ],
   "source": [
    "# Fixing Positive Skew of C7\n",
    "df['C7'] = np.cbrt(df['C7'])\n",
    "plt.hist(df['C7'])\n",
    "plt.title(\"Fixed Skew - C7\", color='white')"
   ]
  },
  {
   "cell_type": "code",
   "execution_count": 6,
   "metadata": {},
   "outputs": [
    {
     "data": {
      "text/plain": [
       "C1     0.397173\n",
       "C2    -2.123926\n",
       "C4    -0.485756\n",
       "C7    -0.053332\n",
       "C3'   -0.117764\n",
       "C5'    0.402034\n",
       "C6'    1.195068\n",
       "T4'   -0.028974\n",
       "T3'    0.315086\n",
       "T5'    0.448520\n",
       "S1'    0.482959\n",
       "S2'    0.519102\n",
       "S3'    0.349871\n",
       "dtype: float64"
      ]
     },
     "execution_count": 6,
     "metadata": {},
     "output_type": "execute_result"
    }
   ],
   "source": [
    "# Checking Skew of DataFrame\n",
    "df.skew()"
   ]
  },
  {
   "cell_type": "code",
   "execution_count": 8,
   "metadata": {},
   "outputs": [
    {
     "data": {
      "text/html": [
       "<div>\n",
       "<style scoped>\n",
       "    .dataframe tbody tr th:only-of-type {\n",
       "        vertical-align: middle;\n",
       "    }\n",
       "\n",
       "    .dataframe tbody tr th {\n",
       "        vertical-align: top;\n",
       "    }\n",
       "\n",
       "    .dataframe thead th {\n",
       "        text-align: right;\n",
       "    }\n",
       "</style>\n",
       "<table border=\"1\" class=\"dataframe\">\n",
       "  <thead>\n",
       "    <tr style=\"text-align: right;\">\n",
       "      <th></th>\n",
       "      <th>I1</th>\n",
       "      <th>I2</th>\n",
       "      <th>I3</th>\n",
       "      <th>P_IPO</th>\n",
       "      <th>P_H</th>\n",
       "      <th>P_L</th>\n",
       "      <th>P_1DAY</th>\n",
       "      <th>Y1</th>\n",
       "      <th>Y2</th>\n",
       "    </tr>\n",
       "  </thead>\n",
       "  <tbody>\n",
       "    <tr>\n",
       "      <th>0</th>\n",
       "      <td>AATI</td>\n",
       "      <td>ADVANCED ANALOGIC TECHNOLOGIES INC</td>\n",
       "      <td>3674.0</td>\n",
       "      <td>10.0</td>\n",
       "      <td>9.5</td>\n",
       "      <td>8.5</td>\n",
       "      <td>11.870000</td>\n",
       "      <td>0</td>\n",
       "      <td>1</td>\n",
       "    </tr>\n",
       "    <tr>\n",
       "      <th>1</th>\n",
       "      <td>ABPI</td>\n",
       "      <td>ACCENTIA BIOPHARMACEUTICALS INC</td>\n",
       "      <td>2834.0</td>\n",
       "      <td>8.0</td>\n",
       "      <td>10.0</td>\n",
       "      <td>8.0</td>\n",
       "      <td>7.250000</td>\n",
       "      <td>1</td>\n",
       "      <td>0</td>\n",
       "    </tr>\n",
       "    <tr>\n",
       "      <th>2</th>\n",
       "      <td>ACAD</td>\n",
       "      <td>ACADIA PHARMACEUTICALS INC</td>\n",
       "      <td>2834.0</td>\n",
       "      <td>7.0</td>\n",
       "      <td>14.0</td>\n",
       "      <td>12.0</td>\n",
       "      <td>6.700000</td>\n",
       "      <td>1</td>\n",
       "      <td>0</td>\n",
       "    </tr>\n",
       "    <tr>\n",
       "      <th>3</th>\n",
       "      <td>ACHN</td>\n",
       "      <td>ACHILLION PHARMACEUTICALS INC</td>\n",
       "      <td>2834.0</td>\n",
       "      <td>11.5</td>\n",
       "      <td>16.0</td>\n",
       "      <td>14.0</td>\n",
       "      <td>12.390000</td>\n",
       "      <td>1</td>\n",
       "      <td>1</td>\n",
       "    </tr>\n",
       "    <tr>\n",
       "      <th>4</th>\n",
       "      <td>ACLI</td>\n",
       "      <td>AMERICAN COMMERCIAL LINES INC.</td>\n",
       "      <td>4492.0</td>\n",
       "      <td>21.0</td>\n",
       "      <td>21.0</td>\n",
       "      <td>19.0</td>\n",
       "      <td>56.599998</td>\n",
       "      <td>0</td>\n",
       "      <td>1</td>\n",
       "    </tr>\n",
       "  </tbody>\n",
       "</table>\n",
       "</div>"
      ],
      "text/plain": [
       "     I1                                  I2      I3  P_IPO   P_H   P_L  \\\n",
       "0  AATI  ADVANCED ANALOGIC TECHNOLOGIES INC  3674.0   10.0   9.5   8.5   \n",
       "1  ABPI     ACCENTIA BIOPHARMACEUTICALS INC  2834.0    8.0  10.0   8.0   \n",
       "2  ACAD          ACADIA PHARMACEUTICALS INC  2834.0    7.0  14.0  12.0   \n",
       "3  ACHN       ACHILLION PHARMACEUTICALS INC  2834.0   11.5  16.0  14.0   \n",
       "4  ACLI     AMERICAN COMMERCIAL LINES INC.   4492.0   21.0  21.0  19.0   \n",
       "\n",
       "      P_1DAY  Y1  Y2  \n",
       "0  11.870000   0   1  \n",
       "1   7.250000   1   0  \n",
       "2   6.700000   1   0  \n",
       "3  12.390000   1   1  \n",
       "4  56.599998   0   1  "
      ]
     },
     "execution_count": 8,
     "metadata": {},
     "output_type": "execute_result"
    }
   ],
   "source": [
    "# Bringing back the \"Y\" values that we took out earlier to not interfere with analysis \n",
    "target = pd.read_csv('Targets4', index_col=0)\n",
    "target.head()"
   ]
  },
  {
   "cell_type": "code",
   "execution_count": 9,
   "metadata": {},
   "outputs": [
    {
     "data": {
      "text/html": [
       "<div>\n",
       "<style scoped>\n",
       "    .dataframe tbody tr th:only-of-type {\n",
       "        vertical-align: middle;\n",
       "    }\n",
       "\n",
       "    .dataframe tbody tr th {\n",
       "        vertical-align: top;\n",
       "    }\n",
       "\n",
       "    .dataframe thead th {\n",
       "        text-align: right;\n",
       "    }\n",
       "</style>\n",
       "<table border=\"1\" class=\"dataframe\">\n",
       "  <thead>\n",
       "    <tr style=\"text-align: right;\">\n",
       "      <th></th>\n",
       "      <th>Y1</th>\n",
       "      <th>Y2</th>\n",
       "    </tr>\n",
       "  </thead>\n",
       "  <tbody>\n",
       "    <tr>\n",
       "      <th>0</th>\n",
       "      <td>0</td>\n",
       "      <td>1</td>\n",
       "    </tr>\n",
       "    <tr>\n",
       "      <th>1</th>\n",
       "      <td>1</td>\n",
       "      <td>0</td>\n",
       "    </tr>\n",
       "    <tr>\n",
       "      <th>2</th>\n",
       "      <td>1</td>\n",
       "      <td>0</td>\n",
       "    </tr>\n",
       "    <tr>\n",
       "      <th>3</th>\n",
       "      <td>1</td>\n",
       "      <td>1</td>\n",
       "    </tr>\n",
       "    <tr>\n",
       "      <th>4</th>\n",
       "      <td>0</td>\n",
       "      <td>1</td>\n",
       "    </tr>\n",
       "  </tbody>\n",
       "</table>\n",
       "</div>"
      ],
      "text/plain": [
       "   Y1  Y2\n",
       "0   0   1\n",
       "1   1   0\n",
       "2   1   0\n",
       "3   1   1\n",
       "4   0   1"
      ]
     },
     "execution_count": 9,
     "metadata": {},
     "output_type": "execute_result"
    }
   ],
   "source": [
    "# Getting Target values alone\n",
    "target = target.drop(['I1', 'I2', 'I3', 'P_IPO', 'P_H', 'P_L', \"P_1DAY\"], axis=1)\n",
    "target.head()"
   ]
  },
  {
   "cell_type": "code",
   "execution_count": 10,
   "metadata": {},
   "outputs": [
    {
     "data": {
      "text/html": [
       "<div>\n",
       "<style scoped>\n",
       "    .dataframe tbody tr th:only-of-type {\n",
       "        vertical-align: middle;\n",
       "    }\n",
       "\n",
       "    .dataframe tbody tr th {\n",
       "        vertical-align: top;\n",
       "    }\n",
       "\n",
       "    .dataframe thead th {\n",
       "        text-align: right;\n",
       "    }\n",
       "</style>\n",
       "<table border=\"1\" class=\"dataframe\">\n",
       "  <thead>\n",
       "    <tr style=\"text-align: right;\">\n",
       "      <th></th>\n",
       "      <th>Y1</th>\n",
       "      <th>Y2</th>\n",
       "      <th>C1</th>\n",
       "      <th>C2</th>\n",
       "      <th>C4</th>\n",
       "      <th>C7</th>\n",
       "      <th>C3'</th>\n",
       "      <th>C5'</th>\n",
       "      <th>C6'</th>\n",
       "      <th>T4'</th>\n",
       "      <th>T3'</th>\n",
       "      <th>T5'</th>\n",
       "      <th>S1'</th>\n",
       "      <th>S2'</th>\n",
       "      <th>S3'</th>\n",
       "    </tr>\n",
       "  </thead>\n",
       "  <tbody>\n",
       "    <tr>\n",
       "      <th>0</th>\n",
       "      <td>0</td>\n",
       "      <td>1</td>\n",
       "      <td>0.462810</td>\n",
       "      <td>1.0</td>\n",
       "      <td>0.749962</td>\n",
       "      <td>0.353538</td>\n",
       "      <td>1.0</td>\n",
       "      <td>0.476417</td>\n",
       "      <td>0.629630</td>\n",
       "      <td>0.534453</td>\n",
       "      <td>0.523574</td>\n",
       "      <td>0.466548</td>\n",
       "      <td>0.425373</td>\n",
       "      <td>0.436937</td>\n",
       "      <td>0.457490</td>\n",
       "    </tr>\n",
       "    <tr>\n",
       "      <th>1</th>\n",
       "      <td>1</td>\n",
       "      <td>0</td>\n",
       "      <td>0.589876</td>\n",
       "      <td>0.0</td>\n",
       "      <td>0.583748</td>\n",
       "      <td>0.281428</td>\n",
       "      <td>0.0</td>\n",
       "      <td>0.609551</td>\n",
       "      <td>0.000000</td>\n",
       "      <td>0.545989</td>\n",
       "      <td>0.887042</td>\n",
       "      <td>0.850134</td>\n",
       "      <td>0.492537</td>\n",
       "      <td>1.000000</td>\n",
       "      <td>0.854251</td>\n",
       "    </tr>\n",
       "    <tr>\n",
       "      <th>2</th>\n",
       "      <td>1</td>\n",
       "      <td>0</td>\n",
       "      <td>0.330579</td>\n",
       "      <td>1.0</td>\n",
       "      <td>0.717213</td>\n",
       "      <td>0.184643</td>\n",
       "      <td>0.0</td>\n",
       "      <td>0.410536</td>\n",
       "      <td>0.000000</td>\n",
       "      <td>0.524832</td>\n",
       "      <td>0.216722</td>\n",
       "      <td>0.140946</td>\n",
       "      <td>0.417910</td>\n",
       "      <td>0.058559</td>\n",
       "      <td>0.137652</td>\n",
       "    </tr>\n",
       "    <tr>\n",
       "      <th>3</th>\n",
       "      <td>1</td>\n",
       "      <td>1</td>\n",
       "      <td>0.822314</td>\n",
       "      <td>1.0</td>\n",
       "      <td>0.714502</td>\n",
       "      <td>0.193850</td>\n",
       "      <td>0.0</td>\n",
       "      <td>0.401299</td>\n",
       "      <td>0.000000</td>\n",
       "      <td>0.265799</td>\n",
       "      <td>0.343041</td>\n",
       "      <td>0.305085</td>\n",
       "      <td>0.559701</td>\n",
       "      <td>0.175676</td>\n",
       "      <td>0.340081</td>\n",
       "    </tr>\n",
       "    <tr>\n",
       "      <th>4</th>\n",
       "      <td>0</td>\n",
       "      <td>1</td>\n",
       "      <td>0.289256</td>\n",
       "      <td>1.0</td>\n",
       "      <td>0.499347</td>\n",
       "      <td>0.816776</td>\n",
       "      <td>1.0</td>\n",
       "      <td>0.458048</td>\n",
       "      <td>0.283333</td>\n",
       "      <td>0.393150</td>\n",
       "      <td>0.596766</td>\n",
       "      <td>0.493310</td>\n",
       "      <td>0.462687</td>\n",
       "      <td>0.581081</td>\n",
       "      <td>0.570850</td>\n",
       "    </tr>\n",
       "  </tbody>\n",
       "</table>\n",
       "</div>"
      ],
      "text/plain": [
       "   Y1  Y2        C1   C2        C4        C7  C3'       C5'       C6'  \\\n",
       "0   0   1  0.462810  1.0  0.749962  0.353538  1.0  0.476417  0.629630   \n",
       "1   1   0  0.589876  0.0  0.583748  0.281428  0.0  0.609551  0.000000   \n",
       "2   1   0  0.330579  1.0  0.717213  0.184643  0.0  0.410536  0.000000   \n",
       "3   1   1  0.822314  1.0  0.714502  0.193850  0.0  0.401299  0.000000   \n",
       "4   0   1  0.289256  1.0  0.499347  0.816776  1.0  0.458048  0.283333   \n",
       "\n",
       "        T4'       T3'       T5'       S1'       S2'       S3'  \n",
       "0  0.534453  0.523574  0.466548  0.425373  0.436937  0.457490  \n",
       "1  0.545989  0.887042  0.850134  0.492537  1.000000  0.854251  \n",
       "2  0.524832  0.216722  0.140946  0.417910  0.058559  0.137652  \n",
       "3  0.265799  0.343041  0.305085  0.559701  0.175676  0.340081  \n",
       "4  0.393150  0.596766  0.493310  0.462687  0.581081  0.570850  "
      ]
     },
     "execution_count": 10,
     "metadata": {},
     "output_type": "execute_result"
    }
   ],
   "source": [
    "# Creating new DataFrame that combines two target variables and all the predictors\n",
    "# This is ready for feature selection and binning processes  \n",
    "ReadyDF4 = pd.concat([target,df], axis=1)\n",
    "ReadyDF4.head()"
   ]
  },
  {
   "cell_type": "code",
   "execution_count": 11,
   "metadata": {},
   "outputs": [],
   "source": [
    "# Exporting DataFrame as CSV \n",
    "ReadyDF4.to_csv('ReadyDF4', ',')"
   ]
  },
  {
   "cell_type": "code",
   "execution_count": null,
   "metadata": {},
   "outputs": [],
   "source": []
  }
 ],
 "metadata": {
  "kernelspec": {
   "display_name": "Python 3",
   "language": "python",
   "name": "python3"
  },
  "language_info": {
   "codemirror_mode": {
    "name": "ipython",
    "version": 3
   },
   "file_extension": ".py",
   "mimetype": "text/x-python",
   "name": "python",
   "nbconvert_exporter": "python",
   "pygments_lexer": "ipython3",
   "version": "3.6.5"
  }
 },
 "nbformat": 4,
 "nbformat_minor": 2
}
