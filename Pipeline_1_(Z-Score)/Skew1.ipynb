{
 "cells": [
  {
   "cell_type": "markdown",
   "metadata": {},
   "source": [
    "# Skew\n",
    "**Here, we are assuming the data is not normally distributed therefore \n",
    "fixing the skew is the next step after imputating our data**"
   ]
  },
  {
   "cell_type": "code",
   "execution_count": 1,
   "metadata": {},
   "outputs": [],
   "source": [
    "import numpy as np \n",
    "import pandas as pd\n",
    "import matplotlib.pyplot as plt\n",
    "from sklearn import preprocessing\n",
    "import math\n",
    "%matplotlib inline\n",
    "plt.style.use('ggplot')"
   ]
  },
  {
   "cell_type": "code",
   "execution_count": 2,
   "metadata": {},
   "outputs": [
    {
     "data": {
      "text/html": [
       "<div>\n",
       "<style scoped>\n",
       "    .dataframe tbody tr th:only-of-type {\n",
       "        vertical-align: middle;\n",
       "    }\n",
       "\n",
       "    .dataframe tbody tr th {\n",
       "        vertical-align: top;\n",
       "    }\n",
       "\n",
       "    .dataframe thead th {\n",
       "        text-align: right;\n",
       "    }\n",
       "</style>\n",
       "<table border=\"1\" class=\"dataframe\">\n",
       "  <thead>\n",
       "    <tr style=\"text-align: right;\">\n",
       "      <th></th>\n",
       "      <th>I1</th>\n",
       "      <th>I2</th>\n",
       "      <th>I3</th>\n",
       "      <th>P_IPO</th>\n",
       "      <th>P_H</th>\n",
       "      <th>P_L</th>\n",
       "      <th>P_1DAY</th>\n",
       "      <th>C1</th>\n",
       "      <th>C2</th>\n",
       "      <th>C4</th>\n",
       "      <th>...</th>\n",
       "      <th>Y2</th>\n",
       "      <th>C3'</th>\n",
       "      <th>C5'</th>\n",
       "      <th>C6'</th>\n",
       "      <th>T4'</th>\n",
       "      <th>T3'</th>\n",
       "      <th>T5'</th>\n",
       "      <th>S1'</th>\n",
       "      <th>S2'</th>\n",
       "      <th>S3'</th>\n",
       "    </tr>\n",
       "  </thead>\n",
       "  <tbody>\n",
       "    <tr>\n",
       "      <th>0</th>\n",
       "      <td>AATI</td>\n",
       "      <td>ADVANCED ANALOGIC TECHNOLOGIES INC</td>\n",
       "      <td>3674.0</td>\n",
       "      <td>10.0</td>\n",
       "      <td>9.5</td>\n",
       "      <td>8.5</td>\n",
       "      <td>11.870000</td>\n",
       "      <td>122.0</td>\n",
       "      <td>1.0</td>\n",
       "      <td>0.029074</td>\n",
       "      <td>...</td>\n",
       "      <td>1</td>\n",
       "      <td>1</td>\n",
       "      <td>3.864345</td>\n",
       "      <td>11.111111</td>\n",
       "      <td>0.640426</td>\n",
       "      <td>0.959734</td>\n",
       "      <td>0.057285</td>\n",
       "      <td>0.005147</td>\n",
       "      <td>0.009714</td>\n",
       "      <td>0.011540</td>\n",
       "    </tr>\n",
       "    <tr>\n",
       "      <th>1</th>\n",
       "      <td>ABPI</td>\n",
       "      <td>ACCENTIA BIOPHARMACEUTICALS INC</td>\n",
       "      <td>2834.0</td>\n",
       "      <td>8.0</td>\n",
       "      <td>10.0</td>\n",
       "      <td>8.0</td>\n",
       "      <td>7.250000</td>\n",
       "      <td>259.0</td>\n",
       "      <td>0.0</td>\n",
       "      <td>-0.013352</td>\n",
       "      <td>...</td>\n",
       "      <td>0</td>\n",
       "      <td>0</td>\n",
       "      <td>12.028832</td>\n",
       "      <td>0.000000</td>\n",
       "      <td>0.644753</td>\n",
       "      <td>1.625986</td>\n",
       "      <td>0.092985</td>\n",
       "      <td>0.005895</td>\n",
       "      <td>0.020091</td>\n",
       "      <td>0.019676</td>\n",
       "    </tr>\n",
       "    <tr>\n",
       "      <th>2</th>\n",
       "      <td>ACAD</td>\n",
       "      <td>ACADIA PHARMACEUTICALS INC</td>\n",
       "      <td>2834.0</td>\n",
       "      <td>7.0</td>\n",
       "      <td>14.0</td>\n",
       "      <td>12.0</td>\n",
       "      <td>6.700000</td>\n",
       "      <td>90.0</td>\n",
       "      <td>1.0</td>\n",
       "      <td>0.020715</td>\n",
       "      <td>...</td>\n",
       "      <td>0</td>\n",
       "      <td>0</td>\n",
       "      <td>3.369134</td>\n",
       "      <td>0.000000</td>\n",
       "      <td>0.636816</td>\n",
       "      <td>0.397260</td>\n",
       "      <td>0.026982</td>\n",
       "      <td>0.005064</td>\n",
       "      <td>0.002740</td>\n",
       "      <td>0.004981</td>\n",
       "    </tr>\n",
       "    <tr>\n",
       "      <th>3</th>\n",
       "      <td>ACHN</td>\n",
       "      <td>ACHILLION PHARMACEUTICALS INC</td>\n",
       "      <td>2834.0</td>\n",
       "      <td>11.5</td>\n",
       "      <td>16.0</td>\n",
       "      <td>14.0</td>\n",
       "      <td>12.390000</td>\n",
       "      <td>209.0</td>\n",
       "      <td>1.0</td>\n",
       "      <td>0.020023</td>\n",
       "      <td>...</td>\n",
       "      <td>1</td>\n",
       "      <td>0</td>\n",
       "      <td>3.299697</td>\n",
       "      <td>0.000000</td>\n",
       "      <td>0.539634</td>\n",
       "      <td>0.628809</td>\n",
       "      <td>0.042258</td>\n",
       "      <td>0.006642</td>\n",
       "      <td>0.004898</td>\n",
       "      <td>0.009132</td>\n",
       "    </tr>\n",
       "    <tr>\n",
       "      <th>4</th>\n",
       "      <td>ACLI</td>\n",
       "      <td>AMERICAN COMMERCIAL LINES INC.</td>\n",
       "      <td>4492.0</td>\n",
       "      <td>21.0</td>\n",
       "      <td>21.0</td>\n",
       "      <td>19.0</td>\n",
       "      <td>56.599998</td>\n",
       "      <td>80.0</td>\n",
       "      <td>1.0</td>\n",
       "      <td>-0.034895</td>\n",
       "      <td>...</td>\n",
       "      <td>1</td>\n",
       "      <td>1</td>\n",
       "      <td>3.726269</td>\n",
       "      <td>5.000000</td>\n",
       "      <td>0.587413</td>\n",
       "      <td>1.093898</td>\n",
       "      <td>0.059776</td>\n",
       "      <td>0.005562</td>\n",
       "      <td>0.012370</td>\n",
       "      <td>0.013865</td>\n",
       "    </tr>\n",
       "  </tbody>\n",
       "</table>\n",
       "<p>5 rows × 22 columns</p>\n",
       "</div>"
      ],
      "text/plain": [
       "     I1                                  I2      I3  P_IPO   P_H   P_L  \\\n",
       "0  AATI  ADVANCED ANALOGIC TECHNOLOGIES INC  3674.0   10.0   9.5   8.5   \n",
       "1  ABPI     ACCENTIA BIOPHARMACEUTICALS INC  2834.0    8.0  10.0   8.0   \n",
       "2  ACAD          ACADIA PHARMACEUTICALS INC  2834.0    7.0  14.0  12.0   \n",
       "3  ACHN       ACHILLION PHARMACEUTICALS INC  2834.0   11.5  16.0  14.0   \n",
       "4  ACLI     AMERICAN COMMERCIAL LINES INC.   4492.0   21.0  21.0  19.0   \n",
       "\n",
       "      P_1DAY     C1   C2        C4    ...     Y2  C3'        C5'        C6'  \\\n",
       "0  11.870000  122.0  1.0  0.029074    ...      1    1   3.864345  11.111111   \n",
       "1   7.250000  259.0  0.0 -0.013352    ...      0    0  12.028832   0.000000   \n",
       "2   6.700000   90.0  1.0  0.020715    ...      0    0   3.369134   0.000000   \n",
       "3  12.390000  209.0  1.0  0.020023    ...      1    0   3.299697   0.000000   \n",
       "4  56.599998   80.0  1.0 -0.034895    ...      1    1   3.726269   5.000000   \n",
       "\n",
       "        T4'       T3'       T5'       S1'       S2'       S3'  \n",
       "0  0.640426  0.959734  0.057285  0.005147  0.009714  0.011540  \n",
       "1  0.644753  1.625986  0.092985  0.005895  0.020091  0.019676  \n",
       "2  0.636816  0.397260  0.026982  0.005064  0.002740  0.004981  \n",
       "3  0.539634  0.628809  0.042258  0.006642  0.004898  0.009132  \n",
       "4  0.587413  1.093898  0.059776  0.005562  0.012370  0.013865  \n",
       "\n",
       "[5 rows x 22 columns]"
      ]
     },
     "execution_count": 2,
     "metadata": {},
     "output_type": "execute_result"
    }
   ],
   "source": [
    "# Uploading imputed data to df from CSV WorkingDataFrame\n",
    "df = pd.read_csv('WorkingDataFrame', index_col=0)\n",
    "df.head()"
   ]
  },
  {
   "cell_type": "code",
   "execution_count": 3,
   "metadata": {},
   "outputs": [
    {
     "data": {
      "text/html": [
       "<div>\n",
       "<style scoped>\n",
       "    .dataframe tbody tr th:only-of-type {\n",
       "        vertical-align: middle;\n",
       "    }\n",
       "\n",
       "    .dataframe tbody tr th {\n",
       "        vertical-align: top;\n",
       "    }\n",
       "\n",
       "    .dataframe thead th {\n",
       "        text-align: right;\n",
       "    }\n",
       "</style>\n",
       "<table border=\"1\" class=\"dataframe\">\n",
       "  <thead>\n",
       "    <tr style=\"text-align: right;\">\n",
       "      <th></th>\n",
       "      <th>C1</th>\n",
       "      <th>C2</th>\n",
       "      <th>C4</th>\n",
       "      <th>C7</th>\n",
       "      <th>C3'</th>\n",
       "      <th>C5'</th>\n",
       "      <th>C6'</th>\n",
       "      <th>T4'</th>\n",
       "      <th>T3'</th>\n",
       "      <th>T5'</th>\n",
       "      <th>S1'</th>\n",
       "      <th>S2'</th>\n",
       "      <th>S3'</th>\n",
       "    </tr>\n",
       "  </thead>\n",
       "  <tbody>\n",
       "    <tr>\n",
       "      <th>0</th>\n",
       "      <td>122.0</td>\n",
       "      <td>1.0</td>\n",
       "      <td>0.029074</td>\n",
       "      <td>51.345</td>\n",
       "      <td>1</td>\n",
       "      <td>3.864345</td>\n",
       "      <td>11.111111</td>\n",
       "      <td>0.640426</td>\n",
       "      <td>0.959734</td>\n",
       "      <td>0.057285</td>\n",
       "      <td>0.005147</td>\n",
       "      <td>0.009714</td>\n",
       "      <td>0.011540</td>\n",
       "    </tr>\n",
       "    <tr>\n",
       "      <th>1</th>\n",
       "      <td>259.0</td>\n",
       "      <td>0.0</td>\n",
       "      <td>-0.013352</td>\n",
       "      <td>25.936</td>\n",
       "      <td>0</td>\n",
       "      <td>12.028832</td>\n",
       "      <td>0.000000</td>\n",
       "      <td>0.644753</td>\n",
       "      <td>1.625986</td>\n",
       "      <td>0.092985</td>\n",
       "      <td>0.005895</td>\n",
       "      <td>0.020091</td>\n",
       "      <td>0.019676</td>\n",
       "    </tr>\n",
       "    <tr>\n",
       "      <th>2</th>\n",
       "      <td>90.0</td>\n",
       "      <td>1.0</td>\n",
       "      <td>0.020715</td>\n",
       "      <td>7.378</td>\n",
       "      <td>0</td>\n",
       "      <td>3.369134</td>\n",
       "      <td>0.000000</td>\n",
       "      <td>0.636816</td>\n",
       "      <td>0.397260</td>\n",
       "      <td>0.026982</td>\n",
       "      <td>0.005064</td>\n",
       "      <td>0.002740</td>\n",
       "      <td>0.004981</td>\n",
       "    </tr>\n",
       "    <tr>\n",
       "      <th>3</th>\n",
       "      <td>209.0</td>\n",
       "      <td>1.0</td>\n",
       "      <td>0.020023</td>\n",
       "      <td>8.526</td>\n",
       "      <td>0</td>\n",
       "      <td>3.299697</td>\n",
       "      <td>0.000000</td>\n",
       "      <td>0.539634</td>\n",
       "      <td>0.628809</td>\n",
       "      <td>0.042258</td>\n",
       "      <td>0.006642</td>\n",
       "      <td>0.004898</td>\n",
       "      <td>0.009132</td>\n",
       "    </tr>\n",
       "    <tr>\n",
       "      <th>4</th>\n",
       "      <td>80.0</td>\n",
       "      <td>1.0</td>\n",
       "      <td>-0.034895</td>\n",
       "      <td>632.298</td>\n",
       "      <td>1</td>\n",
       "      <td>3.726269</td>\n",
       "      <td>5.000000</td>\n",
       "      <td>0.587413</td>\n",
       "      <td>1.093898</td>\n",
       "      <td>0.059776</td>\n",
       "      <td>0.005562</td>\n",
       "      <td>0.012370</td>\n",
       "      <td>0.013865</td>\n",
       "    </tr>\n",
       "    <tr>\n",
       "      <th>5</th>\n",
       "      <td>94.0</td>\n",
       "      <td>1.0</td>\n",
       "      <td>-0.057556</td>\n",
       "      <td>197.591</td>\n",
       "      <td>1</td>\n",
       "      <td>5.724394</td>\n",
       "      <td>0.000000</td>\n",
       "      <td>0.643137</td>\n",
       "      <td>1.156829</td>\n",
       "      <td>0.067663</td>\n",
       "      <td>0.005147</td>\n",
       "      <td>0.007970</td>\n",
       "      <td>0.015027</td>\n",
       "    </tr>\n",
       "    <tr>\n",
       "      <th>6</th>\n",
       "      <td>128.0</td>\n",
       "      <td>1.0</td>\n",
       "      <td>0.004106</td>\n",
       "      <td>5.146</td>\n",
       "      <td>0</td>\n",
       "      <td>3.463095</td>\n",
       "      <td>0.000000</td>\n",
       "      <td>0.765657</td>\n",
       "      <td>1.158406</td>\n",
       "      <td>0.057949</td>\n",
       "      <td>0.006808</td>\n",
       "      <td>0.008800</td>\n",
       "      <td>0.011208</td>\n",
       "    </tr>\n",
       "    <tr>\n",
       "      <th>7</th>\n",
       "      <td>91.0</td>\n",
       "      <td>0.0</td>\n",
       "      <td>0.040620</td>\n",
       "      <td>103.833</td>\n",
       "      <td>0</td>\n",
       "      <td>2.421469</td>\n",
       "      <td>0.000000</td>\n",
       "      <td>0.826347</td>\n",
       "      <td>0.834869</td>\n",
       "      <td>0.051806</td>\n",
       "      <td>0.004566</td>\n",
       "      <td>0.009963</td>\n",
       "      <td>0.010129</td>\n",
       "    </tr>\n",
       "    <tr>\n",
       "      <th>8</th>\n",
       "      <td>100.0</td>\n",
       "      <td>1.0</td>\n",
       "      <td>-0.029316</td>\n",
       "      <td>279.600</td>\n",
       "      <td>0</td>\n",
       "      <td>4.816591</td>\n",
       "      <td>0.000000</td>\n",
       "      <td>0.540323</td>\n",
       "      <td>1.117725</td>\n",
       "      <td>0.076131</td>\n",
       "      <td>0.004815</td>\n",
       "      <td>0.010295</td>\n",
       "      <td>0.019427</td>\n",
       "    </tr>\n",
       "    <tr>\n",
       "      <th>9</th>\n",
       "      <td>106.0</td>\n",
       "      <td>1.0</td>\n",
       "      <td>-0.024925</td>\n",
       "      <td>494.008</td>\n",
       "      <td>1</td>\n",
       "      <td>3.056608</td>\n",
       "      <td>0.000000</td>\n",
       "      <td>0.514286</td>\n",
       "      <td>0.673059</td>\n",
       "      <td>0.038107</td>\n",
       "      <td>0.006725</td>\n",
       "      <td>0.007472</td>\n",
       "      <td>0.012204</td>\n",
       "    </tr>\n",
       "    <tr>\n",
       "      <th>10</th>\n",
       "      <td>107.0</td>\n",
       "      <td>1.0</td>\n",
       "      <td>0.009125</td>\n",
       "      <td>103.833</td>\n",
       "      <td>1</td>\n",
       "      <td>3.703376</td>\n",
       "      <td>0.000000</td>\n",
       "      <td>0.509036</td>\n",
       "      <td>0.560149</td>\n",
       "      <td>0.021835</td>\n",
       "      <td>0.004234</td>\n",
       "      <td>0.005396</td>\n",
       "      <td>0.006144</td>\n",
       "    </tr>\n",
       "    <tr>\n",
       "      <th>11</th>\n",
       "      <td>99.0</td>\n",
       "      <td>1.0</td>\n",
       "      <td>0.015487</td>\n",
       "      <td>0.320</td>\n",
       "      <td>0</td>\n",
       "      <td>2.546686</td>\n",
       "      <td>0.000000</td>\n",
       "      <td>0.545455</td>\n",
       "      <td>0.431714</td>\n",
       "      <td>0.031963</td>\n",
       "      <td>0.002408</td>\n",
       "      <td>0.003404</td>\n",
       "      <td>0.005812</td>\n",
       "    </tr>\n",
       "    <tr>\n",
       "      <th>12</th>\n",
       "      <td>126.0</td>\n",
       "      <td>1.0</td>\n",
       "      <td>0.019731</td>\n",
       "      <td>26.499</td>\n",
       "      <td>1</td>\n",
       "      <td>4.237291</td>\n",
       "      <td>6.666667</td>\n",
       "      <td>0.684466</td>\n",
       "      <td>0.412038</td>\n",
       "      <td>0.021503</td>\n",
       "      <td>0.001743</td>\n",
       "      <td>0.003570</td>\n",
       "      <td>0.006642</td>\n",
       "    </tr>\n",
       "    <tr>\n",
       "      <th>13</th>\n",
       "      <td>140.0</td>\n",
       "      <td>1.0</td>\n",
       "      <td>-0.006316</td>\n",
       "      <td>0.074</td>\n",
       "      <td>0</td>\n",
       "      <td>3.867637</td>\n",
       "      <td>8.695652</td>\n",
       "      <td>0.555288</td>\n",
       "      <td>0.816521</td>\n",
       "      <td>0.060274</td>\n",
       "      <td>0.006725</td>\n",
       "      <td>0.009797</td>\n",
       "      <td>0.011457</td>\n",
       "    </tr>\n",
       "    <tr>\n",
       "      <th>14</th>\n",
       "      <td>488.0</td>\n",
       "      <td>1.0</td>\n",
       "      <td>0.023275</td>\n",
       "      <td>166.896</td>\n",
       "      <td>1</td>\n",
       "      <td>3.638220</td>\n",
       "      <td>0.000000</td>\n",
       "      <td>0.608974</td>\n",
       "      <td>1.367455</td>\n",
       "      <td>0.075467</td>\n",
       "      <td>0.008136</td>\n",
       "      <td>0.021254</td>\n",
       "      <td>0.014280</td>\n",
       "    </tr>\n",
       "  </tbody>\n",
       "</table>\n",
       "</div>"
      ],
      "text/plain": [
       "       C1   C2        C4       C7  C3'        C5'        C6'       T4'  \\\n",
       "0   122.0  1.0  0.029074   51.345    1   3.864345  11.111111  0.640426   \n",
       "1   259.0  0.0 -0.013352   25.936    0  12.028832   0.000000  0.644753   \n",
       "2    90.0  1.0  0.020715    7.378    0   3.369134   0.000000  0.636816   \n",
       "3   209.0  1.0  0.020023    8.526    0   3.299697   0.000000  0.539634   \n",
       "4    80.0  1.0 -0.034895  632.298    1   3.726269   5.000000  0.587413   \n",
       "5    94.0  1.0 -0.057556  197.591    1   5.724394   0.000000  0.643137   \n",
       "6   128.0  1.0  0.004106    5.146    0   3.463095   0.000000  0.765657   \n",
       "7    91.0  0.0  0.040620  103.833    0   2.421469   0.000000  0.826347   \n",
       "8   100.0  1.0 -0.029316  279.600    0   4.816591   0.000000  0.540323   \n",
       "9   106.0  1.0 -0.024925  494.008    1   3.056608   0.000000  0.514286   \n",
       "10  107.0  1.0  0.009125  103.833    1   3.703376   0.000000  0.509036   \n",
       "11   99.0  1.0  0.015487    0.320    0   2.546686   0.000000  0.545455   \n",
       "12  126.0  1.0  0.019731   26.499    1   4.237291   6.666667  0.684466   \n",
       "13  140.0  1.0 -0.006316    0.074    0   3.867637   8.695652  0.555288   \n",
       "14  488.0  1.0  0.023275  166.896    1   3.638220   0.000000  0.608974   \n",
       "\n",
       "         T3'       T5'       S1'       S2'       S3'  \n",
       "0   0.959734  0.057285  0.005147  0.009714  0.011540  \n",
       "1   1.625986  0.092985  0.005895  0.020091  0.019676  \n",
       "2   0.397260  0.026982  0.005064  0.002740  0.004981  \n",
       "3   0.628809  0.042258  0.006642  0.004898  0.009132  \n",
       "4   1.093898  0.059776  0.005562  0.012370  0.013865  \n",
       "5   1.156829  0.067663  0.005147  0.007970  0.015027  \n",
       "6   1.158406  0.057949  0.006808  0.008800  0.011208  \n",
       "7   0.834869  0.051806  0.004566  0.009963  0.010129  \n",
       "8   1.117725  0.076131  0.004815  0.010295  0.019427  \n",
       "9   0.673059  0.038107  0.006725  0.007472  0.012204  \n",
       "10  0.560149  0.021835  0.004234  0.005396  0.006144  \n",
       "11  0.431714  0.031963  0.002408  0.003404  0.005812  \n",
       "12  0.412038  0.021503  0.001743  0.003570  0.006642  \n",
       "13  0.816521  0.060274  0.006725  0.009797  0.011457  \n",
       "14  1.367455  0.075467  0.008136  0.021254  0.014280  "
      ]
     },
     "execution_count": 3,
     "metadata": {},
     "output_type": "execute_result"
    }
   ],
   "source": [
    "# Removing \"Y\" values from the DataFrame temporarily \n",
    "target = df.iloc[:,:7]\n",
    "target2 = df.iloc[:,11:13]\n",
    "targets = pd.concat([target, target2], axis=1, join_axes=[df.index])\n",
    "df = df.drop(['I1','I2','I3','P_IPO','P_H','P_L','P_1DAY','Y1','Y2'], axis=1)\n",
    "df.head(15)"
   ]
  },
  {
   "cell_type": "code",
   "execution_count": 4,
   "metadata": {},
   "outputs": [
    {
     "data": {
      "text/html": [
       "<div>\n",
       "<style scoped>\n",
       "    .dataframe tbody tr th:only-of-type {\n",
       "        vertical-align: middle;\n",
       "    }\n",
       "\n",
       "    .dataframe tbody tr th {\n",
       "        vertical-align: top;\n",
       "    }\n",
       "\n",
       "    .dataframe thead th {\n",
       "        text-align: right;\n",
       "    }\n",
       "</style>\n",
       "<table border=\"1\" class=\"dataframe\">\n",
       "  <thead>\n",
       "    <tr style=\"text-align: right;\">\n",
       "      <th></th>\n",
       "      <th>I1</th>\n",
       "      <th>I2</th>\n",
       "      <th>I3</th>\n",
       "      <th>P_IPO</th>\n",
       "      <th>P_H</th>\n",
       "      <th>P_L</th>\n",
       "      <th>P_1DAY</th>\n",
       "      <th>Y1</th>\n",
       "      <th>Y2</th>\n",
       "    </tr>\n",
       "  </thead>\n",
       "  <tbody>\n",
       "    <tr>\n",
       "      <th>0</th>\n",
       "      <td>AATI</td>\n",
       "      <td>ADVANCED ANALOGIC TECHNOLOGIES INC</td>\n",
       "      <td>3674.0</td>\n",
       "      <td>10.0</td>\n",
       "      <td>9.5</td>\n",
       "      <td>8.5</td>\n",
       "      <td>11.87</td>\n",
       "      <td>0</td>\n",
       "      <td>1</td>\n",
       "    </tr>\n",
       "    <tr>\n",
       "      <th>1</th>\n",
       "      <td>ABPI</td>\n",
       "      <td>ACCENTIA BIOPHARMACEUTICALS INC</td>\n",
       "      <td>2834.0</td>\n",
       "      <td>8.0</td>\n",
       "      <td>10.0</td>\n",
       "      <td>8.0</td>\n",
       "      <td>7.25</td>\n",
       "      <td>1</td>\n",
       "      <td>0</td>\n",
       "    </tr>\n",
       "  </tbody>\n",
       "</table>\n",
       "</div>"
      ],
      "text/plain": [
       "     I1                                  I2      I3  P_IPO   P_H  P_L  P_1DAY  \\\n",
       "0  AATI  ADVANCED ANALOGIC TECHNOLOGIES INC  3674.0   10.0   9.5  8.5   11.87   \n",
       "1  ABPI     ACCENTIA BIOPHARMACEUTICALS INC  2834.0    8.0  10.0  8.0    7.25   \n",
       "\n",
       "   Y1  Y2  \n",
       "0   0   1  \n",
       "1   1   0  "
      ]
     },
     "execution_count": 4,
     "metadata": {},
     "output_type": "execute_result"
    }
   ],
   "source": [
    "# Checking new DataFrame containing only Target and Y values\n",
    "targets.head(2)"
   ]
  },
  {
   "cell_type": "code",
   "execution_count": 5,
   "metadata": {},
   "outputs": [],
   "source": [
    "# Exporting DataFrame as CSV \n",
    "targets.to_csv('Targets', ',')"
   ]
  },
  {
   "cell_type": "code",
   "execution_count": 6,
   "metadata": {},
   "outputs": [
    {
     "data": {
      "text/plain": [
       "C1      5.747573\n",
       "C2     -2.123926\n",
       "C4     -0.491134\n",
       "C7     12.348960\n",
       "C3'    -0.117764\n",
       "C5'    10.648354\n",
       "C6'     4.396060\n",
       "T4'     0.080198\n",
       "T3'     1.617719\n",
       "T5'    12.829137\n",
       "S1'     2.330122\n",
       "S2'     3.737864\n",
       "S3'     3.440281\n",
       "dtype: float64"
      ]
     },
     "execution_count": 6,
     "metadata": {},
     "output_type": "execute_result"
    }
   ],
   "source": [
    "# Checking Skew of DataFrame\n",
    "df.skew() \n",
    "# Skipping C2 and C3' because they are binary \n",
    "# Skipping C4 amd T4' because already skewed properly\n",
    "# Our goal is to get the skewnesss between [-0.5, 0.5]\n",
    "# Otherwise, we want to get the skewness as close to that range as possible [-1, 1]"
   ]
  },
  {
   "cell_type": "code",
   "execution_count": 7,
   "metadata": {},
   "outputs": [
    {
     "data": {
      "text/plain": [
       "Text(0.5, 1.0, 'Fixed Shew - C1')"
      ]
     },
     "execution_count": 7,
     "metadata": {},
     "output_type": "execute_result"
    },
    {
     "data": {
      "image/png": "[encoded data removed]",
      "text/plain": [
       "<Figure size 432x288 with 1 Axes>"
      ]
     },
     "metadata": {},
     "output_type": "display_data"
    }
   ],
   "source": [
    "# Fixing Positive Skew of C1\n",
    "df['C1'] = np.log10(df['C1'])\n",
    "plt.hist(df['C1'])\n",
    "plt.title(\"Fixed Shew - C1\", color='white')"
   ]
  },
  {
   "cell_type": "code",
   "execution_count": 8,
   "metadata": {},
   "outputs": [
    {
     "data": {
      "text/plain": [
       "Text(0.5, 1.0, 'Fixed Shew - C7')"
      ]
     },
     "execution_count": 8,
     "metadata": {},
     "output_type": "execute_result"
    },
    {
     "data": {
      "image/png": "[encoded data removed]",
      "text/plain": [
       "<Figure size 432x288 with 1 Axes>"
      ]
     },
     "metadata": {},
     "output_type": "display_data"
    }
   ],
   "source": [
    "# Fixing Positive Skew of C7\n",
    "df['C7'] = np.log10(df['C7'])\n",
    "# Leaving as Moderatly Skewed \n",
    "plt.hist(df['C7'])\n",
    "plt.title(\"Fixed Shew - C7\", color='white')"
   ]
  },
  {
   "cell_type": "code",
   "execution_count": 9,
   "metadata": {},
   "outputs": [
    {
     "data": {
      "text/plain": [
       "Text(0.5, 1.0, \"Fixed Shew - C5'\")"
      ]
     },
     "execution_count": 9,
     "metadata": {},
     "output_type": "execute_result"
    },
    {
     "data": {
      "image/png": "[encoded data removed]",
      "text/plain": [
       "<Figure size 432x288 with 1 Axes>"
      ]
     },
     "metadata": {},
     "output_type": "display_data"
    }
   ],
   "source": [
    "# Fixing Positive Skew of C5'\n",
    "df[\"C5'\"] = np.log(df[\"C5'\"])\n",
    "plt.hist(df[\"C5'\"])\n",
    "# Leaving moderately skewed to avoid runtime warnings\n",
    "plt.title(\"Fixed Shew - C5'\", color='white')"
   ]
  },
  {
   "cell_type": "code",
   "execution_count": 10,
   "metadata": {},
   "outputs": [
    {
     "data": {
      "text/plain": [
       "Text(0.5, 1.0, \"Fixed Shew - C6'\")"
      ]
     },
     "execution_count": 10,
     "metadata": {},
     "output_type": "execute_result"
    },
    {
     "data": {
      "image/png": "[encoded data removed]",
      "text/plain": [
       "<Figure size 432x288 with 1 Axes>"
      ]
     },
     "metadata": {},
     "output_type": "display_data"
    }
   ],
   "source": [
    "# Fixing Positive Skew of C6'\n",
    "df[\"C6'\"] = np.cbrt(np.cbrt(df[\"C6'\"]))\n",
    "plt.hist(df[\"C6'\"])\n",
    "plt.title(\"Fixed Shew - C6'\", color='white')"
   ]
  },
  {
   "cell_type": "code",
   "execution_count": 11,
   "metadata": {},
   "outputs": [
    {
     "data": {
      "text/plain": [
       "Text(0.5, 1.0, \"Fixed Shew - T3'\")"
      ]
     },
     "execution_count": 11,
     "metadata": {},
     "output_type": "execute_result"
    },
    {
     "data": {
      "image/png": "[encoded data removed]",
      "text/plain": [
       "<Figure size 432x288 with 1 Axes>"
      ]
     },
     "metadata": {},
     "output_type": "display_data"
    }
   ],
   "source": [
    "# Fixing Positive Skew of C6'\n",
    "df[\"T3'\"] = np.sqrt(df[\"T3'\"])\n",
    "plt.hist(df[\"T3'\"])\n",
    "plt.title(\"Fixed Shew - T3'\", color='white')"
   ]
  },
  {
   "cell_type": "code",
   "execution_count": 12,
   "metadata": {},
   "outputs": [
    {
     "data": {
      "text/plain": [
       "Text(0.5, 1.0, \"Fixed Shew - T5'\")"
      ]
     },
     "execution_count": 12,
     "metadata": {},
     "output_type": "execute_result"
    },
    {
     "data": {
      "image/png": "[encoded data removed]",
      "text/plain": [
       "<Figure size 432x288 with 1 Axes>"
      ]
     },
     "metadata": {},
     "output_type": "display_data"
    }
   ],
   "source": [
    "# Fixing Positive Skew of C6'\n",
    "df[\"T5'\"] = np.log10(df[\"T5'\"])\n",
    "plt.hist(df[\"T5'\"])\n",
    "plt.title(\"Fixed Shew - T5'\", color='white')"
   ]
  },
  {
   "cell_type": "code",
   "execution_count": 13,
   "metadata": {},
   "outputs": [
    {
     "data": {
      "text/plain": [
       "Text(0.5, 1.0, \"Fixed Shew - S1'\")"
      ]
     },
     "execution_count": 13,
     "metadata": {},
     "output_type": "execute_result"
    },
    {
     "data": {
      "image/png": "[encoded data removed]",
      "text/plain": [
       "<Figure size 432x288 with 1 Axes>"
      ]
     },
     "metadata": {},
     "output_type": "display_data"
    }
   ],
   "source": [
    "# Fixing Positive Skew of S1'\n",
    "df[\"S1'\"] = np.cbrt(df[\"S1'\"])\n",
    "plt.hist(df[\"S1'\"])\n",
    "plt.title(\"Fixed Shew - S1'\", color='white')"
   ]
  },
  {
   "cell_type": "code",
   "execution_count": 14,
   "metadata": {},
   "outputs": [
    {
     "data": {
      "text/plain": [
       "Text(0.5, 1.0, \"Fixed Shew - S2'\")"
      ]
     },
     "execution_count": 14,
     "metadata": {},
     "output_type": "execute_result"
    },
    {
     "data": {
      "image/png": "[encoded data removed]",
      "text/plain": [
       "<Figure size 432x288 with 1 Axes>"
      ]
     },
     "metadata": {},
     "output_type": "display_data"
    }
   ],
   "source": [
    "# Fixing Positive Skew of S2\n",
    "df[\"S2'\"] = np.log10(df[\"S2'\"])\n",
    "plt.hist(df[\"S2'\"])\n",
    "plt.title(\"Fixed Shew - S2'\", color='white')"
   ]
  },
  {
   "cell_type": "code",
   "execution_count": 15,
   "metadata": {},
   "outputs": [
    {
     "data": {
      "text/plain": [
       "Text(0.5, 1.0, \"Fixed Shew - S3'\")"
      ]
     },
     "execution_count": 15,
     "metadata": {},
     "output_type": "execute_result"
    },
    {
     "data": {
      "image/png": "[encoded data removed]",
      "text/plain": [
       "<Figure size 432x288 with 1 Axes>"
      ]
     },
     "metadata": {},
     "output_type": "display_data"
    }
   ],
   "source": [
    "# Fixing Positive Skew of S3'\n",
    "df[\"S3'\"] = np.log10(df[\"S3'\"])\n",
    "plt.hist(df[\"S3'\"])\n",
    "plt.title(\"Fixed Shew - S3'\", color='white')"
   ]
  },
  {
   "cell_type": "code",
   "execution_count": 16,
   "metadata": {},
   "outputs": [
    {
     "data": {
      "text/plain": [
       "C1     0.146560\n",
       "C2    -2.123926\n",
       "C4    -0.491134\n",
       "C7    -0.640897\n",
       "C3'   -0.117764\n",
       "C5'    0.825354\n",
       "C6'    0.551889\n",
       "T4'    0.080198\n",
       "T3'    0.170438\n",
       "T5'    0.424292\n",
       "S1'    0.539980\n",
       "S2'    0.257575\n",
       "S3'    0.092696\n",
       "dtype: float64"
      ]
     },
     "execution_count": 16,
     "metadata": {},
     "output_type": "execute_result"
    }
   ],
   "source": [
    "# Checking updated skew of DataFrame\n",
    "df.skew()"
   ]
  },
  {
   "cell_type": "code",
   "execution_count": 17,
   "metadata": {},
   "outputs": [],
   "source": [
    "# Exporting DataFrame as CSV \n",
    "df.to_csv('SkewDF1', ',')"
   ]
  },
  {
   "cell_type": "code",
   "execution_count": null,
   "metadata": {},
   "outputs": [],
   "source": []
  }
 ],
 "metadata": {
  "kernelspec": {
   "display_name": "Python 3",
   "language": "python",
   "name": "python3"
  },
  "language_info": {
   "codemirror_mode": {
    "name": "ipython",
    "version": 3
   },
   "file_extension": ".py",
   "mimetype": "text/x-python",
   "name": "python",
   "nbconvert_exporter": "python",
   "pygments_lexer": "ipython3",
   "version": "3.6.5"
  }
 },
 "nbformat": 4,
 "nbformat_minor": 2
}
